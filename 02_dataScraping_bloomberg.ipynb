{
 "cells": [
  {
   "cell_type": "markdown",
   "metadata": {},
   "source": [
    "### 국가별 백신 접종률 정보 가져오기"
   ]
  },
  {
   "cell_type": "markdown",
   "metadata": {},
   "source": [
    "### 정보 수집 사이트 \n",
    "* bloomberg.com\n",
    "  * https://www.bloomberg.com/graphics/covid-vaccine-tracker-global-distribution/\n",
    "\n",
    "### 기타 참고 통계 사이트\n",
    "* our world in data\n",
    "  * https://ourworldindata.org/covid-vaccinations\n"
   ]
  },
  {
   "cell_type": "code",
   "execution_count": 1,
   "metadata": {},
   "outputs": [],
   "source": [
    "from IPython.display import display, Image\n",
    "import os, warnings\n",
    "import re\n",
    "warnings.filterwarnings(action='ignore')"
   ]
  },
  {
   "cell_type": "markdown",
   "metadata": {},
   "source": [
    "### 01 웹 브라우저 띄우기\n",
    " *  만약 chrome 브라우저와 chromedirver의 버전이 안 맞을 경우, 버전을 맞는 것으로 변경해야 함.(가끔 이 부분에서 에러 발생)\n",
    "   * 'chrome driver download'로 검색 후, 사이트에 접근 후, 다운로드 가능(window, linux, mac 버전 있음)"
   ]
  },
  {
   "cell_type": "code",
   "execution_count": 2,
   "metadata": {},
   "outputs": [],
   "source": [
    "from selenium import webdriver\n",
    "from bs4 import BeautifulSoup\n",
    "\n",
    "driver = webdriver.Chrome('./chromedriver_91')\n",
    "\n",
    "url = 'https://www.bloomberg.com/graphics/covid-vaccine-tracker-global-distribution/'\n",
    "driver.get(url)"
   ]
  },
  {
   "cell_type": "code",
   "execution_count": 3,
   "metadata": {},
   "outputs": [],
   "source": [
    "import time\n",
    "time.sleep(3)  # 홈페이지 로딩 시간 3초"
   ]
  },
  {
   "cell_type": "markdown",
   "metadata": {},
   "source": [
    "### 전체 데이터 보기\n",
    " * 나라가 여러나라가 있어, 더 보기 버튼을 2번 정도 눌러준다."
   ]
  },
  {
   "cell_type": "code",
   "execution_count": 4,
   "metadata": {},
   "outputs": [],
   "source": [
    "# //*[@id=\"dvz-table-global-vaccination\"]/div[2]/div[2]/button\n",
    "# //*[@id=\"dvz-table-global-vaccination\"]/div[2]/div[2]/button\n",
    "xpath = '//*[@id=\"dvz-table-global-vaccination\"]/div[2]/div[2]/button'\n",
    "sel_more1 = driver.find_element_by_xpath(xpath)\n",
    "sel_more1.click()\n",
    "time.sleep(1)"
   ]
  },
  {
   "cell_type": "code",
   "execution_count": 5,
   "metadata": {},
   "outputs": [],
   "source": [
    "# //*[@id=\"dvz-table-usa-vaccination\"]/div[2]/div[2]/button\n",
    "xpath = '//*[@id=\"dvz-table-global-vaccination\"]/div[2]/div[2]/button'\n",
    "sel_more2 = driver.find_element_by_xpath(xpath)\n",
    "sel_more2.click()"
   ]
  },
  {
   "cell_type": "markdown",
   "metadata": {},
   "source": [
    "### TABLE 선택 후, 데이터 가져오기"
   ]
  },
  {
   "cell_type": "markdown",
   "metadata": {},
   "source": [
    "#### Countries and regions \n",
    " * //*[@id=\"dvz-table-global-vaccination\"]/div[2]/div[1]/table/tbody/tr[1]/td[1]\n",
    " * ..\n",
    " * //*[@id=\"dvz-table-global-vaccination\"]/div[2]/div[1]/table/tbody/tr[3]/td[1]\n",
    " \n",
    "#### Doses administered\n",
    " * //*[@id=\"dvz-table-global-vaccination\"]/div[2]/div[1]/table/tbody/tr[1]/td[2]\n",
    " \n",
    "#### Enough for % of people\n",
    " * //*[@id=\"dvz-table-global-vaccination\"]/div[2]/div[1]/table/tbody/tr[1]/td[3]\n",
    " \n",
    "#### given 1+ dose\n",
    " * //*[@id=\"dvz-table-global-vaccination\"]/div[2]/div[1]/table/tbody/tr[1]/td[4]\n",
    " \n",
    "#### fully vaccinated\n",
    " * //*[@id=\"dvz-table-global-vaccination\"]/div[2]/div[1]/table/tbody/tr[1]/td[5]\n",
    " \n",
    "#### Daily rate of doses administered\n",
    " * //*[@id=\"dvz-table-global-vaccination\"]/div[2]/div[1]/table/tbody/tr[1]/td[6]\n",
    " "
   ]
  },
  {
   "cell_type": "markdown",
   "metadata": {},
   "source": [
    "### 전체 데이터 가져오기"
   ]
  },
  {
   "cell_type": "code",
   "execution_count": 6,
   "metadata": {},
   "outputs": [
    {
     "name": "stdout",
     "output_type": "stream",
     "text": [
      "['Global Total', 'Mainland China', 'India', 'EU', 'U.S.', 'Brazil', 'Indonesia', 'Japan', 'Mexico', 'Russia', 'Pakistan', 'Germany', 'Turkey', 'U.K.', '', '', '', '', '', 'Vietnam', 'France', 'Iran', 'Italy', 'Bangladesh', 'Thailand', 'South Korea', 'Philippines', 'Spain', 'Argentina', 'Canada', '', '', '', '', '', '', '', '', '', '', '', '', '', 'Colombia', 'Malaysia', 'Morocco', 'Saudi Arabia', 'Poland', 'Peru', 'Chile', 'Australia', 'Egypt', 'Uzbekistan', 'Taiwan', 'Sri Lanka', 'Cambodia', 'Cuba', 'Myanmar', 'South Africa', 'Ecuador', 'Netherlands', 'Ukraine', 'Venezuela', 'UAE', 'Belgium', 'Nepal', 'Kazakhstan', 'Portugal', 'Israel', 'Sweden', 'Romania', 'Greece', 'Dominican Republic', 'Hungary', 'Austria', 'Czech Republic', 'Algeria', 'Iraq', 'Switzerland', '', 'Tunisia', 'Azerbaijan', 'Singapore', 'Guatemala', 'Mozambique', 'Denmark', 'Nigeria', 'Hong Kong', 'El Salvador', 'Angola', 'Rwanda', 'Norway', 'Finland', 'Bolivia', 'Ireland', 'Ethiopia', 'Honduras', 'Jordan', 'Serbia', 'Turkmenistan', 'New Zealand', 'Costa Rica', 'Kenya', 'Uruguay', 'Zimbabwe', 'Nicaragua', 'Belarus', 'Panama', 'Oman', 'Paraguay', 'Laos', 'Tajikistan', 'Slovakia', 'Afghanistan', 'Mongolia', 'Qatar', 'Uganda', 'Croatia', 'Lebanon', 'Ivory Coast', 'Lithuania', 'Ghana', 'Bulgaria', 'Bahrain', 'Sudan', 'Kuwait', 'Slovenia', 'Guinea', 'Libya', 'Latvia', 'Georgia', 'Albania', 'Kyrgyzstan', 'Senegal', 'Mauritius', 'Mauritania', 'North Macedonia', 'Estonia', 'Kosovo', 'Moldova', 'Bosnia and Herzegovina', 'Togo', 'Syria', 'Malawi', 'Botswana', 'Tanzania', 'Cyprus', 'Trinidad and Tobago', 'Fiji', 'Bhutan', 'Somalia', 'Armenia', 'Jamaica', 'Timor-Leste', 'Zambia', 'Niger', 'Malta', 'Cameroon', 'Macau', 'Luxembourg', 'Maldives', 'Yemen', 'Sierra Leone', 'Brunei', 'Mali', 'Guyana', 'Burkina Faso', 'Namibia', 'Republic of the Congo', 'Iceland', 'Madagascar', 'Lesotho', 'Liberia', 'Cape Verde', 'Montenegro', 'Comoros', 'Suriname', 'Equatorial Guinea', 'Papua New Guinea', 'Central African Republic', 'Belize', 'Benin', 'Guinea-Bissau', 'Eswatini', 'Barbados', 'Gabon', 'Bahamas', 'Gambia', 'Chad', 'Samoa', 'South Sudan', 'Solomon Islands', 'Curaçao', 'DR Congo', 'Haiti', 'Jersey', 'Seychelles', 'Aruba', 'Isle of Man', 'Cayman Islands', 'Tonga', 'Antigua and Barbuda', 'Sao Tome and Principe', 'Andorra', 'Guernsey', 'Greenland', 'Bermuda', 'St. Lucia', 'Djibouti', 'Gibraltar', 'Micronesia', 'Faroe Islands', 'Grenada', 'Turks & Caicos', 'Dominica', 'St. Vincent and the Grenadines', 'Sint Maarten', 'Saint Kitts and Nevis', 'San Marino', 'Monaco', 'Anguilla', 'Nauru', 'St. Helena', 'Falkland Islands', 'Montserrat', 'Eritrea']\n",
      "['7,901,419,499', '2,472,847,000', '1,222,098,443', '634,449,654', '454,447,737', '297,960,460', '232,869,968', '196,576,395', '132,097,392', '125,544,767', '122,319,215', '121,165,530', '120,058,425', '114,304,726', '', '', '', '', '', '112,944,634', '103,994,535', '102,145,229', '95,412,569', '93,786,656', '91,658,056', '84,150,239', '78,528,357', '76,026,523', '67,104,574', '60,351,981', '', '', '', '', '', '', '', '', '', '', '', '', '', '55,791,642', '53,185,334', '48,719,196', '47,304,262', '41,398,989', '40,591,157', '40,421,676', '39,073,842', '36,906,765', '32,803,308', '30,648,405', '29,650,997', '28,564,675', '27,961,410', '25,869,175', '25,274,889', '24,512,438', '24,487,879', '24,194,260', '23,156,914', '21,817,895', '18,447,990', '17,196,377', '16,766,179', '16,339,507', '16,148,161', '15,644,748', '14,783,340', '14,132,796', '13,772,879', '13,598,032', '13,412,688', '13,358,175', '12,032,500', '11,715,365', '11,667,889', '', '11,393,466', '10,426,930', '10,083,329', '9,880,710', '9,843,638', '9,681,985', '9,640,048', '9,394,395', '9,121,715', '9,026,310', '8,748,557', '8,563,552', '8,554,604', '8,517,323', '8,067,138', '8,005,606', '7,916,340', '7,912,083', '7,779,147', '7,580,976', '7,462,890', '7,034,279', '6,915,627', '6,781,682', '6,544,331', '6,033,123', '5,975,709', '5,944,438', '5,934,585', '5,921,882', '5,830,021', '5,291,837', '5,240,923', '5,116,767', '4,959,860', '4,957,916', '4,835,777', '4,073,744', '3,858,764', '3,845,788', '3,670,008', '3,493,688', '3,290,556', '2,899,607', '2,698,219', '2,668,082', '2,642,406', '2,558,579', '2,291,638', '2,177,752', '2,133,935', '2,081,782', '1,986,976', '1,908,088', '1,875,132', '1,734,046', '1,675,793', '1,656,161', '1,609,325', '1,607,196', '1,553,874', '1,507,722', '1,414,665', '1,390,496', '1,352,557', '1,337,045', '1,298,388', '1,281,756', '1,213,236', '1,153,283', '1,139,332', '1,110,891', '1,095,662', '1,068,010', '1,057,879', '963,041', '945,882', '923,643', '906,441', '895,374', '766,159', '759,220', '744,826', '744,337', '734,759', '668,046', '661,796', '649,840', '644,918', '637,380', '625,884', '617,671', '589,628', '539,908', '528,111', '476,350', '473,832', '444,989', '435,991', '422,496', '403,528', '383,501', '365,089', '293,353', '288,982', '277,979', '274,502', '268,008', '249,651', '239,883', '218,154', '208,046', '197,381', '186,749', '184,769', '183,066', '178,093', '161,593', '152,245', '121,080', '118,185', '117,072', '114,251', '104,534', '104,131', '102,357', '101,341', '100,165', '99,679', '96,771', '79,401', '78,347', '73,320', '56,343', '55,134', '52,736', '51,432', '51,414', '50,850', '49,980', '19,066', '14,863', '7,892', '4,407', '2,949', '–']\n",
      "['–', '176.6', '89.4', '142.8', '136.9', '141.8', '87.2', '155.8', '103.5', '85.6', '59.7', '145.8', '144.4', '171.1', '', '', '', '', '', '117.1', '160.4', '122.7', '158.1', '56.3', '131.6', '162.7', '73.2', '163.5', '149.3', '160.8', '', '', '', '', '', '', '', '', '', '', '', '', '', '110.8', '163.2', '136.9', '138.8', '109.0', '122.4', '211.6', '153.1', '37.2', '98.6', '129.8', '136.0', '173.2', '246.7', '49.0', '43.0', '142.0', '142.1', '58.0', '83.2', '203.0', '161.0', '60.4', '90.0', '159.0', '178.4', '151.5', '76.2', '131.8', '133.0', '139.1', '151.4', '125.4', '27.7', '30.0', '136.5', '', '96.7', '104.5', '176.8', '56.1', '31.6', '166.8', '4.8', '124.9', '141.3', '30.0', '70.6', '159.9', '155.0', '73.7', '163.0', '8.3', '81.0', '78.6', '111.7', '129.5', '151.5', '138.6', '14.5', '192.7', '43.9', '92.4', '63.1', '140.9', '141.5', '82.8', '81.4', '57.0', '96.2', '13.8', '150.4', '177.4', '12.1', '100.1', '56.3', '14.6', '131.9', '11.6', '47.3', '195.4', '6.2', '56.2', '127.8', '18.8', '34.8', '113.4', '57.3', '72.5', '31.1', '11.7', '148.0', '42.7', '80.6', '125.0', '89.4', '59.9', '47.1', '18.7', '–', '6.9', '56.9', '2.4', '148.2', '91.9', '135.6', '154.8', '7.6', '37.4', '40.2', '82.6', '5.8', '4.1', '191.5', '3.6', '133.3', '145.8', '206.0', '2.4', '9.5', '161.8', '3.8', '85.1', '3.3', '26.4', '14.1', '178.5', '2.3', '30.2', '12.9', '98.2', '84.8', '54.5', '79.4', '32.7', '5.1', '8.9', '98.9', '3.2', '20.6', '26.3', '100.7', '13.4', '72.0', '11.4', '1.6', '119.3', '1.6', '32.5', '121.1', '0.2', '1.6', '–', '185.5', '144.3', '179.1', '186.3', '118.2', '120.7', '53.6', '135.8', '–', '179.6', '160.9', '55.6', '9.2', '284.6', '76.3', '159.9', '67.3', '148.3', '77.7', '47.9', '122.5', '90.2', '149.6', '128.2', '127.1', '114.3', '131.5', '146.9', '59.0', '–']\n",
      "['–', '87.5', '57.1', '70.9', '69.7', '77.3', '51.5', '79.0', '59.7', '44.9', '39.0', '71.0', '67.6', '76.2', '', '', '', '', '', '70.3', '80.0', '68.0', '78.0', '34.2', '68.0', '82.0', '41.5', '82.4', '81.0', '79.9', '', '', '', '', '', '', '', '', '', '', '', '', '', '71.5', '78.8', '68.8', '72.1', '54.6', '65.3', '88.0', '78.2', '23.8', '51.4', '77.0', '73.0', '85.6', '89.5', '29.1', '28.9', '77.5', '76.7', '31.7', '49.8', '91.2', '77.0', '32.4', '46.6', '88.3', '73.1', '70.8', '39.5', '65.3', '66.2', '62.3', '70.9', '62.1', '15.4', '18.5', '68.2', '', '60.6', '50.8', '88.9', '33.4', '20.2', '78.4', '3.1', '63.0', '68.4', '20.8', '46.9', '79.1', '77.6', '42.0', '77.8', '6.8', '40.8', '40.8', '46.8', '74.7', '78.6', '76.1', '9.3', '78.8', '25.2', '58.9', '36.0', '72.7', '78.9', '45.8', '52.3', '31.0', '48.0', '11.5', '68.5', '84.4', '9.6', '53.1', '29.4', '10.2', '67.0', '8.8', '26.4', '80.0', '5.3', '30.6', '59.3', '12.1', '25.3', '66.0', '30.7', '37.2', '17.2', '8.1', '72.3', '26.1', '42.6', '62.3', '47.3', '35.9', '25.2', '12.4', '–', '5.4', '42.8', '1.6', '70.7', '48.4', '70.8', '79.1', '4.5', '24.9', '24.2', '49.2', '4.4', '2.2', '88.1', '3.0', '70.9', '72.3', '106.3', '1.7', '7.7', '87.5', '3.1', '50.6', '2.2', '14.4', '11.3', '79.9', '1.8', '28.4', '10.8', '55.2', '43.7', '31.8', '43.0', '18.2', '3.1', '7.6', '55.7', '2.9', '19.5', '24.2', '53.4', '8.0', '39.2', '10.1', '1.1', '69.0', '1.4', '25.2', '62.9', '0.1', '1.0', '–', '85.3', '74.6', '80.3', '88.6', '73.2', '63.2', '38.6', '71.4', '–', '124.5', '76.9', '30.1', '6.8', '120.3', '45.8', '82.1', '36.4', '76.9', '40.3', '27.4', '63.7', '47.1', '74.8', '68.4', '66.0', '58.6', '72.7', '87.7', '30.6', '–']\n"
     ]
    },
    {
     "name": "stdout",
     "output_type": "stream",
     "text": [
      "['–', '76.9', '31.5', '68.9', '59.1', '61.1', '34.9', '76.8', '50.7', '37.8', '24.3', '68.4', '60.5', '69.3', '', '', '', '', '', '46.8', '79.1', '54.4', '76.7', '21.4', '57.7', '78.8', '40.9', '80.8', '64.7', '76.9', '', '', '', '', '', '', '', '', '', '', '', '', '', '47.8', '76.8', '68.1', '65.6', '53.6', '52.2', '83.9', '73.1', '14.1', '17.7', '52.9', '63.0', '80.5', '80.4', '19.8', '24.3', '62.8', '73.5', '25.9', '33.3', '82.2', '75.7', '28.1', '43.1', '86.9', '66.6', '68.0', '37.7', '61.2', '65.8', '59.6', '66.4', '59.4', '12.2', '11.4', '66.4', '', '43.0', '45.6', '87.9', '22.5', '11.1', '76.6', '1.7', '60.1', '62.5', '9.2', '24.2', '71.3', '75.7', '34.2', '76.5', '1.5', '40.2', '37.8', '44.5', '54.8', '72.5', '62.0', '5.5', '75.4', '18.7', '33.6', '27.0', '68.2', '67.4', '36.9', '43.3', '26.0', '43.0', '9.3', '65.2', '79.4', '2.3', '47.2', '26.9', '4.5', '63.8', '2.8', '25.2', '78.0', '1.3', '19.4', '55.3', '6.6', '9.6', '61.2', '26.6', '33.2', '13.8', '5.7', '72.2', '16.6', '38.0', '59.2', '42.1', '34.6', '21.8', '6.3', '–', '2.9', '19.7', '1.7', '66.4', '45.9', '64.8', '75.7', '3.8', '12.5', '18.5', '33.4', '3.6', '2.0', '87.4', '2.2', '62.8', '68.8', '97.5', '1.1', '3.9', '74.3', '1.6', '34.5', '1.5', '12.0', '2.8', '78.6', '1.6', '27.9', '10.0', '43.0', '40.7', '22.7', '36.4', '14.5', '2.1', '6.8', '46.8', '2.5', '1.0', '22.4', '47.3', '5.4', '35.3', '9.5', '0.4', '42.9', '1.0', '6.7', '58.2', '0.1', '0.6', '–', '81.1', '69.6', '76.2', '85.2', '44.1', '57.5', '15.0', '64.3', '–', '65.7', '75.2', '25.6', '2.4', '117.1', '–', '77.8', '30.8', '71.4', '37.4', '20.0', '58.8', '43.1', '71.9', '59.8', '61.1', '55.8', '58.9', '59.2', '28.5', '–']\n",
      "['–', '–', '–', '8.1', '11.3', '5.8', '–', '–', '–', '2.8', '–', '9.6', '16.3', '21.5', '', '', '', '', '', '–', '10.2', '0.9', '9.2', '–', '4.6', '4.8', '–', '9.8', '3.5', '–', '', '', '', '', '', '', '', '', '', '', '', '', '', '–', '5.8', '–', '–', '6.5', '1.3', '42.6', '1.6', '–', '–', '–', '–', '13.4', '–', '–', '–', '1.6', '–', '–', '–', '27.1', '11.9', '–', '–', '–', '44.9', '–', '–', '11.0', '12.8', '19.8', '17.8', '7.2', '–', '–', '–', '', '3.1', '8.1', '–', '–', '–', '12.5', '–', '–', '10.1', '–', '–', '9.5', '–', '3.1', '13.5', '–', '–', '–', '20.6', '–', '–', '0.6', '–', '39.1', '–', '–', '–', '4.1', '–', '1.2', '–', '–', '–', '–', '–', '–', '–', '–', '–', '–', '9.9', '–', '–', '–', '–', '–', '13.1', '–', '–', '–', '–', '2.1', '–', '–', '–', '–', '3.0', '–', '–', '–', '–', '–', '–', '–', '–', '–', '11.1', '–', '–', '–', '–', '–', '–', '–', '–', '–', '21.8', '–', '–', '7.9', '2.1', '–', '–', '–', '–', '–', '–', '–', '–', '35.4', '–', '–', '–', '–', '–', '–', '–', '–', '–', '–', '–', '–', '–', '–', '–', '–', '–', '–', '–', '–', '–', '–', '–', '–', '–', '–', '–', '–', '–', '–', '–', '–', '–', '–', '–', '–', '8.7', '–', '–', '47.2', '–', '–', '–', '–', '–', '–', '–', '–', '–', '–', '–', '–', '–', '–', '–', '–']\n"
     ]
    }
   ],
   "source": [
    "all_data = []\n",
    "\n",
    "for i in range(1, 7, 1):\n",
    "    data_col = []\n",
    "    xpath = '//*[@id=\"dvz-table-global-vaccination\"]/div[2]/div[1]/table/tbody/tr/td[%s]' % str(i) \n",
    "    sel_data = driver.find_elements_by_xpath(xpath)\n",
    "    \n",
    "    for dat in sel_data:\n",
    "        #print(dat)\n",
    "        data_col.append(dat.text)\n",
    "    print(data_col)\n",
    "    all_data.append(data_col)"
   ]
  },
  {
   "cell_type": "code",
   "execution_count": 7,
   "metadata": {},
   "outputs": [
    {
     "name": "stdout",
     "output_type": "stream",
     "text": [
      "226\n",
      "226\n",
      "226\n",
      "226\n",
      "226\n",
      "226\n"
     ]
    }
   ],
   "source": [
    "for i in range(len(all_data)):\n",
    "    print(len( all_data[i]) )"
   ]
  },
  {
   "cell_type": "code",
   "execution_count": 8,
   "metadata": {},
   "outputs": [],
   "source": [
    "import pandas as pd"
   ]
  },
  {
   "cell_type": "markdown",
   "metadata": {},
   "source": [
    "### 데이터 확인 \n",
    " * Countries and regions : 나라 및 지역 / country 컬럼\n",
    " * Doses administered : 접종 수 / Doses_administered 컬럼\n",
    " * Enough for % of people : 접종률 / percent_of_people 컬럼\n",
    " * given 1+ dose : 1차 접종 / 1_percent 컬럼\n",
    " * fully vaccinated : 2차 접종 / 2_percent 컬럼\n",
    " * Daily_rate_of_doses_administered : 일일 투여 용량 / Daily_rate_of_doses 컬럼"
   ]
  },
  {
   "cell_type": "code",
   "execution_count": 9,
   "metadata": {
    "scrolled": false
   },
   "outputs": [
    {
     "data": {
      "text/html": [
       "<div>\n",
       "<style scoped>\n",
       "    .dataframe tbody tr th:only-of-type {\n",
       "        vertical-align: middle;\n",
       "    }\n",
       "\n",
       "    .dataframe tbody tr th {\n",
       "        vertical-align: top;\n",
       "    }\n",
       "\n",
       "    .dataframe thead th {\n",
       "        text-align: right;\n",
       "    }\n",
       "</style>\n",
       "<table border=\"1\" class=\"dataframe\">\n",
       "  <thead>\n",
       "    <tr style=\"text-align: right;\">\n",
       "      <th></th>\n",
       "      <th>국가</th>\n",
       "      <th>백신접종수</th>\n",
       "      <th>백신보유율(인구)</th>\n",
       "      <th>1차접종</th>\n",
       "      <th>2차접종</th>\n",
       "      <th>일별접종수</th>\n",
       "    </tr>\n",
       "  </thead>\n",
       "  <tbody>\n",
       "    <tr>\n",
       "      <th>0</th>\n",
       "      <td>Global Total</td>\n",
       "      <td>7,901,419,499</td>\n",
       "      <td>–</td>\n",
       "      <td>–</td>\n",
       "      <td>–</td>\n",
       "      <td>–</td>\n",
       "    </tr>\n",
       "    <tr>\n",
       "      <th>1</th>\n",
       "      <td>Mainland China</td>\n",
       "      <td>2,472,847,000</td>\n",
       "      <td>176.6</td>\n",
       "      <td>87.5</td>\n",
       "      <td>76.9</td>\n",
       "      <td>–</td>\n",
       "    </tr>\n",
       "    <tr>\n",
       "      <th>2</th>\n",
       "      <td>India</td>\n",
       "      <td>1,222,098,443</td>\n",
       "      <td>89.4</td>\n",
       "      <td>57.1</td>\n",
       "      <td>31.5</td>\n",
       "      <td>–</td>\n",
       "    </tr>\n",
       "    <tr>\n",
       "      <th>3</th>\n",
       "      <td>EU</td>\n",
       "      <td>634,449,654</td>\n",
       "      <td>142.8</td>\n",
       "      <td>70.9</td>\n",
       "      <td>68.9</td>\n",
       "      <td>8.1</td>\n",
       "    </tr>\n",
       "    <tr>\n",
       "      <th>4</th>\n",
       "      <td>U.S.</td>\n",
       "      <td>454,447,737</td>\n",
       "      <td>136.9</td>\n",
       "      <td>69.7</td>\n",
       "      <td>59.1</td>\n",
       "      <td>11.3</td>\n",
       "    </tr>\n",
       "    <tr>\n",
       "      <th>...</th>\n",
       "      <td>...</td>\n",
       "      <td>...</td>\n",
       "      <td>...</td>\n",
       "      <td>...</td>\n",
       "      <td>...</td>\n",
       "      <td>...</td>\n",
       "    </tr>\n",
       "    <tr>\n",
       "      <th>221</th>\n",
       "      <td>Nauru</td>\n",
       "      <td>14,863</td>\n",
       "      <td>114.3</td>\n",
       "      <td>58.6</td>\n",
       "      <td>55.8</td>\n",
       "      <td>–</td>\n",
       "    </tr>\n",
       "    <tr>\n",
       "      <th>222</th>\n",
       "      <td>St. Helena</td>\n",
       "      <td>7,892</td>\n",
       "      <td>131.5</td>\n",
       "      <td>72.7</td>\n",
       "      <td>58.9</td>\n",
       "      <td>–</td>\n",
       "    </tr>\n",
       "    <tr>\n",
       "      <th>223</th>\n",
       "      <td>Falkland Islands</td>\n",
       "      <td>4,407</td>\n",
       "      <td>146.9</td>\n",
       "      <td>87.7</td>\n",
       "      <td>59.2</td>\n",
       "      <td>–</td>\n",
       "    </tr>\n",
       "    <tr>\n",
       "      <th>224</th>\n",
       "      <td>Montserrat</td>\n",
       "      <td>2,949</td>\n",
       "      <td>59.0</td>\n",
       "      <td>30.6</td>\n",
       "      <td>28.5</td>\n",
       "      <td>–</td>\n",
       "    </tr>\n",
       "    <tr>\n",
       "      <th>225</th>\n",
       "      <td>Eritrea</td>\n",
       "      <td>–</td>\n",
       "      <td>–</td>\n",
       "      <td>–</td>\n",
       "      <td>–</td>\n",
       "      <td>–</td>\n",
       "    </tr>\n",
       "  </tbody>\n",
       "</table>\n",
       "<p>226 rows × 6 columns</p>\n",
       "</div>"
      ],
      "text/plain": [
       "                   국가          백신접종수 백신보유율(인구)  1차접종  2차접종 일별접종수\n",
       "0        Global Total  7,901,419,499         –     –     –     –\n",
       "1      Mainland China  2,472,847,000     176.6  87.5  76.9     –\n",
       "2               India  1,222,098,443      89.4  57.1  31.5     –\n",
       "3                  EU    634,449,654     142.8  70.9  68.9   8.1\n",
       "4                U.S.    454,447,737     136.9  69.7  59.1  11.3\n",
       "..                ...            ...       ...   ...   ...   ...\n",
       "221             Nauru         14,863     114.3  58.6  55.8     –\n",
       "222        St. Helena          7,892     131.5  72.7  58.9     –\n",
       "223  Falkland Islands          4,407     146.9  87.7  59.2     –\n",
       "224        Montserrat          2,949      59.0  30.6  28.5     –\n",
       "225           Eritrea              –         –     –     –     –\n",
       "\n",
       "[226 rows x 6 columns]"
      ]
     },
     "execution_count": 9,
     "metadata": {},
     "output_type": "execute_result"
    }
   ],
   "source": [
    "pd.set_option(\"display.max_rows\", 40)\n",
    "\n",
    "dat_dict = {'국가':all_data[0],\n",
    "            '백신접종수':all_data[1],\n",
    "            '백신보유율(인구)':all_data[2],\n",
    "            '1차접종':all_data[3],\n",
    "            '2차접종':all_data[4],\n",
    "            '일별접종수':all_data[5]\n",
    "           }\n",
    "\n",
    "dat_df = pd.DataFrame(dat_dict)\n",
    "dat_df"
   ]
  },
  {
   "cell_type": "code",
   "execution_count": 10,
   "metadata": {},
   "outputs": [
    {
     "name": "stdout",
     "output_type": "stream",
     "text": [
      "<class 'pandas.core.frame.DataFrame'>\n",
      "RangeIndex: 226 entries, 0 to 225\n",
      "Data columns (total 6 columns):\n",
      " #   Column     Non-Null Count  Dtype \n",
      "---  ------     --------------  ----- \n",
      " 0   국가         226 non-null    object\n",
      " 1   백신접종수      226 non-null    object\n",
      " 2   백신보유율(인구)  226 non-null    object\n",
      " 3   1차접종       226 non-null    object\n",
      " 4   2차접종       226 non-null    object\n",
      " 5   일별접종수      226 non-null    object\n",
      "dtypes: object(6)\n",
      "memory usage: 10.7+ KB\n"
     ]
    }
   ],
   "source": [
    "dat_df.info()"
   ]
  },
  {
   "cell_type": "markdown",
   "metadata": {},
   "source": [
    "### 데이터 전처리\n",
    " * 데이터가 없거나 제대로 얻어지지 못한 부분. 그리고 추가 컬럼 등을 생성\n",
    " * [].str.len() : 데이터의 길이"
   ]
  },
  {
   "cell_type": "code",
   "execution_count": 11,
   "metadata": {},
   "outputs": [
    {
     "data": {
      "text/plain": [
       "0      12\n",
       "1      14\n",
       "2       5\n",
       "3       2\n",
       "4       4\n",
       "       ..\n",
       "221     5\n",
       "222    10\n",
       "223    16\n",
       "224    10\n",
       "225     7\n",
       "Name: 국가, Length: 226, dtype: int64"
      ]
     },
     "execution_count": 11,
     "metadata": {},
     "output_type": "execute_result"
    }
   ],
   "source": [
    "### 공백행을 삭제\n",
    "dat_df['국가'].str.len()"
   ]
  },
  {
   "cell_type": "code",
   "execution_count": 12,
   "metadata": {},
   "outputs": [
    {
     "data": {
      "text/plain": [
       "array([12, 14,  5,  2,  4,  6,  9,  8,  7,  0, 10, 11,  3, 18, 15, 22, 19,\n",
       "       21, 17, 16, 24, 13, 30], dtype=int64)"
      ]
     },
     "execution_count": 12,
     "metadata": {},
     "output_type": "execute_result"
    }
   ],
   "source": [
    "dat_df['국가'].str.len().unique()"
   ]
  },
  {
   "cell_type": "markdown",
   "metadata": {},
   "source": [
    "### 한나라의 중복 행의 존재로 이 부분은 정보 취득 못함"
   ]
  },
  {
   "cell_type": "code",
   "execution_count": 13,
   "metadata": {},
   "outputs": [
    {
     "data": {
      "text/html": [
       "<div>\n",
       "<style scoped>\n",
       "    .dataframe tbody tr th:only-of-type {\n",
       "        vertical-align: middle;\n",
       "    }\n",
       "\n",
       "    .dataframe tbody tr th {\n",
       "        vertical-align: top;\n",
       "    }\n",
       "\n",
       "    .dataframe thead th {\n",
       "        text-align: right;\n",
       "    }\n",
       "</style>\n",
       "<table border=\"1\" class=\"dataframe\">\n",
       "  <thead>\n",
       "    <tr style=\"text-align: right;\">\n",
       "      <th></th>\n",
       "      <th>국가</th>\n",
       "      <th>백신접종수</th>\n",
       "      <th>백신보유율(인구)</th>\n",
       "      <th>1차접종</th>\n",
       "      <th>2차접종</th>\n",
       "      <th>일별접종수</th>\n",
       "    </tr>\n",
       "  </thead>\n",
       "  <tbody>\n",
       "    <tr>\n",
       "      <th>14</th>\n",
       "      <td></td>\n",
       "      <td></td>\n",
       "      <td></td>\n",
       "      <td></td>\n",
       "      <td></td>\n",
       "      <td></td>\n",
       "    </tr>\n",
       "    <tr>\n",
       "      <th>15</th>\n",
       "      <td></td>\n",
       "      <td></td>\n",
       "      <td></td>\n",
       "      <td></td>\n",
       "      <td></td>\n",
       "      <td></td>\n",
       "    </tr>\n",
       "    <tr>\n",
       "      <th>16</th>\n",
       "      <td></td>\n",
       "      <td></td>\n",
       "      <td></td>\n",
       "      <td></td>\n",
       "      <td></td>\n",
       "      <td></td>\n",
       "    </tr>\n",
       "    <tr>\n",
       "      <th>17</th>\n",
       "      <td></td>\n",
       "      <td></td>\n",
       "      <td></td>\n",
       "      <td></td>\n",
       "      <td></td>\n",
       "      <td></td>\n",
       "    </tr>\n",
       "    <tr>\n",
       "      <th>18</th>\n",
       "      <td></td>\n",
       "      <td></td>\n",
       "      <td></td>\n",
       "      <td></td>\n",
       "      <td></td>\n",
       "      <td></td>\n",
       "    </tr>\n",
       "    <tr>\n",
       "      <th>30</th>\n",
       "      <td></td>\n",
       "      <td></td>\n",
       "      <td></td>\n",
       "      <td></td>\n",
       "      <td></td>\n",
       "      <td></td>\n",
       "    </tr>\n",
       "    <tr>\n",
       "      <th>31</th>\n",
       "      <td></td>\n",
       "      <td></td>\n",
       "      <td></td>\n",
       "      <td></td>\n",
       "      <td></td>\n",
       "      <td></td>\n",
       "    </tr>\n",
       "    <tr>\n",
       "      <th>32</th>\n",
       "      <td></td>\n",
       "      <td></td>\n",
       "      <td></td>\n",
       "      <td></td>\n",
       "      <td></td>\n",
       "      <td></td>\n",
       "    </tr>\n",
       "    <tr>\n",
       "      <th>33</th>\n",
       "      <td></td>\n",
       "      <td></td>\n",
       "      <td></td>\n",
       "      <td></td>\n",
       "      <td></td>\n",
       "      <td></td>\n",
       "    </tr>\n",
       "    <tr>\n",
       "      <th>34</th>\n",
       "      <td></td>\n",
       "      <td></td>\n",
       "      <td></td>\n",
       "      <td></td>\n",
       "      <td></td>\n",
       "      <td></td>\n",
       "    </tr>\n",
       "    <tr>\n",
       "      <th>35</th>\n",
       "      <td></td>\n",
       "      <td></td>\n",
       "      <td></td>\n",
       "      <td></td>\n",
       "      <td></td>\n",
       "      <td></td>\n",
       "    </tr>\n",
       "    <tr>\n",
       "      <th>36</th>\n",
       "      <td></td>\n",
       "      <td></td>\n",
       "      <td></td>\n",
       "      <td></td>\n",
       "      <td></td>\n",
       "      <td></td>\n",
       "    </tr>\n",
       "    <tr>\n",
       "      <th>37</th>\n",
       "      <td></td>\n",
       "      <td></td>\n",
       "      <td></td>\n",
       "      <td></td>\n",
       "      <td></td>\n",
       "      <td></td>\n",
       "    </tr>\n",
       "    <tr>\n",
       "      <th>38</th>\n",
       "      <td></td>\n",
       "      <td></td>\n",
       "      <td></td>\n",
       "      <td></td>\n",
       "      <td></td>\n",
       "      <td></td>\n",
       "    </tr>\n",
       "    <tr>\n",
       "      <th>39</th>\n",
       "      <td></td>\n",
       "      <td></td>\n",
       "      <td></td>\n",
       "      <td></td>\n",
       "      <td></td>\n",
       "      <td></td>\n",
       "    </tr>\n",
       "    <tr>\n",
       "      <th>40</th>\n",
       "      <td></td>\n",
       "      <td></td>\n",
       "      <td></td>\n",
       "      <td></td>\n",
       "      <td></td>\n",
       "      <td></td>\n",
       "    </tr>\n",
       "    <tr>\n",
       "      <th>41</th>\n",
       "      <td></td>\n",
       "      <td></td>\n",
       "      <td></td>\n",
       "      <td></td>\n",
       "      <td></td>\n",
       "      <td></td>\n",
       "    </tr>\n",
       "    <tr>\n",
       "      <th>42</th>\n",
       "      <td></td>\n",
       "      <td></td>\n",
       "      <td></td>\n",
       "      <td></td>\n",
       "      <td></td>\n",
       "      <td></td>\n",
       "    </tr>\n",
       "    <tr>\n",
       "      <th>79</th>\n",
       "      <td></td>\n",
       "      <td></td>\n",
       "      <td></td>\n",
       "      <td></td>\n",
       "      <td></td>\n",
       "      <td></td>\n",
       "    </tr>\n",
       "  </tbody>\n",
       "</table>\n",
       "</div>"
      ],
      "text/plain": [
       "   국가 백신접종수 백신보유율(인구) 1차접종 2차접종 일별접종수\n",
       "14                                   \n",
       "15                                   \n",
       "16                                   \n",
       "17                                   \n",
       "18                                   \n",
       "30                                   \n",
       "31                                   \n",
       "32                                   \n",
       "33                                   \n",
       "34                                   \n",
       "35                                   \n",
       "36                                   \n",
       "37                                   \n",
       "38                                   \n",
       "39                                   \n",
       "40                                   \n",
       "41                                   \n",
       "42                                   \n",
       "79                                   "
      ]
     },
     "execution_count": 13,
     "metadata": {},
     "output_type": "execute_result"
    }
   ],
   "source": [
    "dat_df.loc[ dat_df['국가'].str.len() < 1, : ]"
   ]
  },
  {
   "cell_type": "markdown",
   "metadata": {},
   "source": [
    "### 데이터가 있는 행만 가져오기"
   ]
  },
  {
   "cell_type": "code",
   "execution_count": 14,
   "metadata": {},
   "outputs": [
    {
     "name": "stdout",
     "output_type": "stream",
     "text": [
      "(226, 6)\n",
      "(207, 6)\n"
     ]
    }
   ],
   "source": [
    "print(dat_df.shape)\n",
    "dat_df = dat_df.loc[ dat_df['국가'].str.len() >1, : ]\n",
    "print(dat_df.shape)"
   ]
  },
  {
   "cell_type": "code",
   "execution_count": 15,
   "metadata": {},
   "outputs": [
    {
     "data": {
      "text/html": [
       "<div>\n",
       "<style scoped>\n",
       "    .dataframe tbody tr th:only-of-type {\n",
       "        vertical-align: middle;\n",
       "    }\n",
       "\n",
       "    .dataframe tbody tr th {\n",
       "        vertical-align: top;\n",
       "    }\n",
       "\n",
       "    .dataframe thead th {\n",
       "        text-align: right;\n",
       "    }\n",
       "</style>\n",
       "<table border=\"1\" class=\"dataframe\">\n",
       "  <thead>\n",
       "    <tr style=\"text-align: right;\">\n",
       "      <th></th>\n",
       "      <th>국가</th>\n",
       "      <th>백신접종수</th>\n",
       "      <th>백신보유율(인구)</th>\n",
       "      <th>1차접종</th>\n",
       "      <th>2차접종</th>\n",
       "      <th>일별접종수</th>\n",
       "    </tr>\n",
       "  </thead>\n",
       "  <tbody>\n",
       "    <tr>\n",
       "      <th>0</th>\n",
       "      <td>Global Total</td>\n",
       "      <td>7,901,419,499</td>\n",
       "      <td>–</td>\n",
       "      <td>–</td>\n",
       "      <td>–</td>\n",
       "      <td>–</td>\n",
       "    </tr>\n",
       "    <tr>\n",
       "      <th>1</th>\n",
       "      <td>Mainland China</td>\n",
       "      <td>2,472,847,000</td>\n",
       "      <td>176.6</td>\n",
       "      <td>87.5</td>\n",
       "      <td>76.9</td>\n",
       "      <td>–</td>\n",
       "    </tr>\n",
       "    <tr>\n",
       "      <th>2</th>\n",
       "      <td>India</td>\n",
       "      <td>1,222,098,443</td>\n",
       "      <td>89.4</td>\n",
       "      <td>57.1</td>\n",
       "      <td>31.5</td>\n",
       "      <td>–</td>\n",
       "    </tr>\n",
       "    <tr>\n",
       "      <th>3</th>\n",
       "      <td>EU</td>\n",
       "      <td>634,449,654</td>\n",
       "      <td>142.8</td>\n",
       "      <td>70.9</td>\n",
       "      <td>68.9</td>\n",
       "      <td>8.1</td>\n",
       "    </tr>\n",
       "    <tr>\n",
       "      <th>4</th>\n",
       "      <td>U.S.</td>\n",
       "      <td>454,447,737</td>\n",
       "      <td>136.9</td>\n",
       "      <td>69.7</td>\n",
       "      <td>59.1</td>\n",
       "      <td>11.3</td>\n",
       "    </tr>\n",
       "    <tr>\n",
       "      <th>5</th>\n",
       "      <td>Brazil</td>\n",
       "      <td>297,960,460</td>\n",
       "      <td>141.8</td>\n",
       "      <td>77.3</td>\n",
       "      <td>61.1</td>\n",
       "      <td>5.8</td>\n",
       "    </tr>\n",
       "    <tr>\n",
       "      <th>6</th>\n",
       "      <td>Indonesia</td>\n",
       "      <td>232,869,968</td>\n",
       "      <td>87.2</td>\n",
       "      <td>51.5</td>\n",
       "      <td>34.9</td>\n",
       "      <td>–</td>\n",
       "    </tr>\n",
       "    <tr>\n",
       "      <th>7</th>\n",
       "      <td>Japan</td>\n",
       "      <td>196,576,395</td>\n",
       "      <td>155.8</td>\n",
       "      <td>79.0</td>\n",
       "      <td>76.8</td>\n",
       "      <td>–</td>\n",
       "    </tr>\n",
       "    <tr>\n",
       "      <th>8</th>\n",
       "      <td>Mexico</td>\n",
       "      <td>132,097,392</td>\n",
       "      <td>103.5</td>\n",
       "      <td>59.7</td>\n",
       "      <td>50.7</td>\n",
       "      <td>–</td>\n",
       "    </tr>\n",
       "    <tr>\n",
       "      <th>9</th>\n",
       "      <td>Russia</td>\n",
       "      <td>125,544,767</td>\n",
       "      <td>85.6</td>\n",
       "      <td>44.9</td>\n",
       "      <td>37.8</td>\n",
       "      <td>2.8</td>\n",
       "    </tr>\n",
       "    <tr>\n",
       "      <th>10</th>\n",
       "      <td>Pakistan</td>\n",
       "      <td>122,319,215</td>\n",
       "      <td>59.7</td>\n",
       "      <td>39.0</td>\n",
       "      <td>24.3</td>\n",
       "      <td>–</td>\n",
       "    </tr>\n",
       "    <tr>\n",
       "      <th>11</th>\n",
       "      <td>Germany</td>\n",
       "      <td>121,165,530</td>\n",
       "      <td>145.8</td>\n",
       "      <td>71.0</td>\n",
       "      <td>68.4</td>\n",
       "      <td>9.6</td>\n",
       "    </tr>\n",
       "    <tr>\n",
       "      <th>12</th>\n",
       "      <td>Turkey</td>\n",
       "      <td>120,058,425</td>\n",
       "      <td>144.4</td>\n",
       "      <td>67.6</td>\n",
       "      <td>60.5</td>\n",
       "      <td>16.3</td>\n",
       "    </tr>\n",
       "    <tr>\n",
       "      <th>13</th>\n",
       "      <td>U.K.</td>\n",
       "      <td>114,304,726</td>\n",
       "      <td>171.1</td>\n",
       "      <td>76.2</td>\n",
       "      <td>69.3</td>\n",
       "      <td>21.5</td>\n",
       "    </tr>\n",
       "    <tr>\n",
       "      <th>19</th>\n",
       "      <td>Vietnam</td>\n",
       "      <td>112,944,634</td>\n",
       "      <td>117.1</td>\n",
       "      <td>70.3</td>\n",
       "      <td>46.8</td>\n",
       "      <td>–</td>\n",
       "    </tr>\n",
       "  </tbody>\n",
       "</table>\n",
       "</div>"
      ],
      "text/plain": [
       "                국가          백신접종수 백신보유율(인구)  1차접종  2차접종 일별접종수\n",
       "0     Global Total  7,901,419,499         –     –     –     –\n",
       "1   Mainland China  2,472,847,000     176.6  87.5  76.9     –\n",
       "2            India  1,222,098,443      89.4  57.1  31.5     –\n",
       "3               EU    634,449,654     142.8  70.9  68.9   8.1\n",
       "4             U.S.    454,447,737     136.9  69.7  59.1  11.3\n",
       "5           Brazil    297,960,460     141.8  77.3  61.1   5.8\n",
       "6        Indonesia    232,869,968      87.2  51.5  34.9     –\n",
       "7            Japan    196,576,395     155.8  79.0  76.8     –\n",
       "8           Mexico    132,097,392     103.5  59.7  50.7     –\n",
       "9           Russia    125,544,767      85.6  44.9  37.8   2.8\n",
       "10        Pakistan    122,319,215      59.7  39.0  24.3     –\n",
       "11         Germany    121,165,530     145.8  71.0  68.4   9.6\n",
       "12          Turkey    120,058,425     144.4  67.6  60.5  16.3\n",
       "13            U.K.    114,304,726     171.1  76.2  69.3  21.5\n",
       "19         Vietnam    112,944,634     117.1  70.3  46.8     –"
      ]
     },
     "execution_count": 15,
     "metadata": {},
     "output_type": "execute_result"
    }
   ],
   "source": [
    "dat_df.head(15)"
   ]
  },
  {
   "cell_type": "markdown",
   "metadata": {},
   "source": [
    "### 인덱스가 일정하지 않아, 인덱스 값 초기화"
   ]
  },
  {
   "cell_type": "code",
   "execution_count": 16,
   "metadata": {},
   "outputs": [
    {
     "data": {
      "text/plain": [
       "(207, 7)"
      ]
     },
     "execution_count": 16,
     "metadata": {},
     "output_type": "execute_result"
    }
   ],
   "source": [
    "dat_df = dat_df.reset_index()\n",
    "dat_df.shape"
   ]
  },
  {
   "cell_type": "markdown",
   "metadata": {},
   "source": [
    "### 이상치 '-' 값 확인"
   ]
  },
  {
   "cell_type": "code",
   "execution_count": 17,
   "metadata": {},
   "outputs": [
    {
     "data": {
      "text/html": [
       "<div>\n",
       "<style scoped>\n",
       "    .dataframe tbody tr th:only-of-type {\n",
       "        vertical-align: middle;\n",
       "    }\n",
       "\n",
       "    .dataframe tbody tr th {\n",
       "        vertical-align: top;\n",
       "    }\n",
       "\n",
       "    .dataframe thead th {\n",
       "        text-align: right;\n",
       "    }\n",
       "</style>\n",
       "<table border=\"1\" class=\"dataframe\">\n",
       "  <thead>\n",
       "    <tr style=\"text-align: right;\">\n",
       "      <th></th>\n",
       "      <th>index</th>\n",
       "      <th>국가</th>\n",
       "      <th>백신접종수</th>\n",
       "      <th>백신보유율(인구)</th>\n",
       "      <th>1차접종</th>\n",
       "      <th>2차접종</th>\n",
       "      <th>일별접종수</th>\n",
       "    </tr>\n",
       "  </thead>\n",
       "  <tbody>\n",
       "    <tr>\n",
       "      <th>206</th>\n",
       "      <td>225</td>\n",
       "      <td>Eritrea</td>\n",
       "      <td>–</td>\n",
       "      <td>–</td>\n",
       "      <td>–</td>\n",
       "      <td>–</td>\n",
       "      <td>–</td>\n",
       "    </tr>\n",
       "  </tbody>\n",
       "</table>\n",
       "</div>"
      ],
      "text/plain": [
       "     index       국가 백신접종수 백신보유율(인구) 1차접종 2차접종 일별접종수\n",
       "206    225  Eritrea     –         –    –    –     –"
      ]
     },
     "execution_count": 17,
     "metadata": {},
     "output_type": "execute_result"
    }
   ],
   "source": [
    "dat_df.loc[dat_df['백신접종수'] == '–']"
   ]
  },
  {
   "cell_type": "code",
   "execution_count": 18,
   "metadata": {},
   "outputs": [
    {
     "data": {
      "text/html": [
       "<div>\n",
       "<style scoped>\n",
       "    .dataframe tbody tr th:only-of-type {\n",
       "        vertical-align: middle;\n",
       "    }\n",
       "\n",
       "    .dataframe tbody tr th {\n",
       "        vertical-align: top;\n",
       "    }\n",
       "\n",
       "    .dataframe thead th {\n",
       "        text-align: right;\n",
       "    }\n",
       "</style>\n",
       "<table border=\"1\" class=\"dataframe\">\n",
       "  <thead>\n",
       "    <tr style=\"text-align: right;\">\n",
       "      <th></th>\n",
       "      <th>index</th>\n",
       "      <th>국가</th>\n",
       "      <th>백신접종수</th>\n",
       "      <th>백신보유율(인구)</th>\n",
       "      <th>1차접종</th>\n",
       "      <th>2차접종</th>\n",
       "      <th>일별접종수</th>\n",
       "    </tr>\n",
       "  </thead>\n",
       "  <tbody>\n",
       "    <tr>\n",
       "      <th>0</th>\n",
       "      <td>0</td>\n",
       "      <td>Global Total</td>\n",
       "      <td>7,901,419,499</td>\n",
       "      <td>–</td>\n",
       "      <td>–</td>\n",
       "      <td>–</td>\n",
       "      <td>–</td>\n",
       "    </tr>\n",
       "    <tr>\n",
       "      <th>1</th>\n",
       "      <td>1</td>\n",
       "      <td>Mainland China</td>\n",
       "      <td>2,472,847,000</td>\n",
       "      <td>176.6</td>\n",
       "      <td>87.5</td>\n",
       "      <td>76.9</td>\n",
       "      <td>–</td>\n",
       "    </tr>\n",
       "    <tr>\n",
       "      <th>2</th>\n",
       "      <td>2</td>\n",
       "      <td>India</td>\n",
       "      <td>1,222,098,443</td>\n",
       "      <td>89.4</td>\n",
       "      <td>57.1</td>\n",
       "      <td>31.5</td>\n",
       "      <td>–</td>\n",
       "    </tr>\n",
       "    <tr>\n",
       "      <th>6</th>\n",
       "      <td>6</td>\n",
       "      <td>Indonesia</td>\n",
       "      <td>232,869,968</td>\n",
       "      <td>87.2</td>\n",
       "      <td>51.5</td>\n",
       "      <td>34.9</td>\n",
       "      <td>–</td>\n",
       "    </tr>\n",
       "    <tr>\n",
       "      <th>7</th>\n",
       "      <td>7</td>\n",
       "      <td>Japan</td>\n",
       "      <td>196,576,395</td>\n",
       "      <td>155.8</td>\n",
       "      <td>79.0</td>\n",
       "      <td>76.8</td>\n",
       "      <td>–</td>\n",
       "    </tr>\n",
       "    <tr>\n",
       "      <th>...</th>\n",
       "      <td>...</td>\n",
       "      <td>...</td>\n",
       "      <td>...</td>\n",
       "      <td>...</td>\n",
       "      <td>...</td>\n",
       "      <td>...</td>\n",
       "      <td>...</td>\n",
       "    </tr>\n",
       "    <tr>\n",
       "      <th>202</th>\n",
       "      <td>221</td>\n",
       "      <td>Nauru</td>\n",
       "      <td>14,863</td>\n",
       "      <td>114.3</td>\n",
       "      <td>58.6</td>\n",
       "      <td>55.8</td>\n",
       "      <td>–</td>\n",
       "    </tr>\n",
       "    <tr>\n",
       "      <th>203</th>\n",
       "      <td>222</td>\n",
       "      <td>St. Helena</td>\n",
       "      <td>7,892</td>\n",
       "      <td>131.5</td>\n",
       "      <td>72.7</td>\n",
       "      <td>58.9</td>\n",
       "      <td>–</td>\n",
       "    </tr>\n",
       "    <tr>\n",
       "      <th>204</th>\n",
       "      <td>223</td>\n",
       "      <td>Falkland Islands</td>\n",
       "      <td>4,407</td>\n",
       "      <td>146.9</td>\n",
       "      <td>87.7</td>\n",
       "      <td>59.2</td>\n",
       "      <td>–</td>\n",
       "    </tr>\n",
       "    <tr>\n",
       "      <th>205</th>\n",
       "      <td>224</td>\n",
       "      <td>Montserrat</td>\n",
       "      <td>2,949</td>\n",
       "      <td>59.0</td>\n",
       "      <td>30.6</td>\n",
       "      <td>28.5</td>\n",
       "      <td>–</td>\n",
       "    </tr>\n",
       "    <tr>\n",
       "      <th>206</th>\n",
       "      <td>225</td>\n",
       "      <td>Eritrea</td>\n",
       "      <td>–</td>\n",
       "      <td>–</td>\n",
       "      <td>–</td>\n",
       "      <td>–</td>\n",
       "      <td>–</td>\n",
       "    </tr>\n",
       "  </tbody>\n",
       "</table>\n",
       "<p>155 rows × 7 columns</p>\n",
       "</div>"
      ],
      "text/plain": [
       "     index                국가          백신접종수 백신보유율(인구)  1차접종  2차접종 일별접종수\n",
       "0        0      Global Total  7,901,419,499         –     –     –     –\n",
       "1        1    Mainland China  2,472,847,000     176.6  87.5  76.9     –\n",
       "2        2             India  1,222,098,443      89.4  57.1  31.5     –\n",
       "6        6         Indonesia    232,869,968      87.2  51.5  34.9     –\n",
       "7        7             Japan    196,576,395     155.8  79.0  76.8     –\n",
       "..     ...               ...            ...       ...   ...   ...   ...\n",
       "202    221             Nauru         14,863     114.3  58.6  55.8     –\n",
       "203    222        St. Helena          7,892     131.5  72.7  58.9     –\n",
       "204    223  Falkland Islands          4,407     146.9  87.7  59.2     –\n",
       "205    224        Montserrat          2,949      59.0  30.6  28.5     –\n",
       "206    225           Eritrea              –         –     –     –     –\n",
       "\n",
       "[155 rows x 7 columns]"
      ]
     },
     "execution_count": 18,
     "metadata": {},
     "output_type": "execute_result"
    }
   ],
   "source": [
    "dat_df.loc[dat_df['일별접종수'] == '–']"
   ]
  },
  {
   "cell_type": "code",
   "execution_count": 19,
   "metadata": {},
   "outputs": [
    {
     "data": {
      "text/plain": [
       "Index(['국가', '백신접종수', '백신보유율(인구)', '1차접종', '2차접종', '일별접종수'], dtype='object')"
      ]
     },
     "execution_count": 19,
     "metadata": {},
     "output_type": "execute_result"
    }
   ],
   "source": [
    "dat_df.columns\n",
    "if 'index' in dat_df.columns:\n",
    "    dat_df.drop( ['index'], axis=1, inplace=True  )\n",
    "dat_df.columns"
   ]
  },
  {
   "cell_type": "markdown",
   "metadata": {},
   "source": [
    "### 각 컬럼별 이상치 개수"
   ]
  },
  {
   "cell_type": "code",
   "execution_count": 20,
   "metadata": {},
   "outputs": [
    {
     "name": "stdout",
     "output_type": "stream",
     "text": [
      "col name :  국가\n",
      "0\n",
      "\n",
      "\n",
      "col name :  백신접종수\n",
      "1\n",
      "\n",
      "\n",
      "col name :  백신보유율(인구)\n",
      "5\n",
      "\n",
      "\n",
      "col name :  1차접종\n",
      "5\n",
      "\n",
      "\n",
      "col name :  2차접종\n",
      "6\n",
      "\n",
      "\n",
      "col name :  일별접종수\n",
      "155\n",
      "\n",
      "\n"
     ]
    }
   ],
   "source": [
    "col_all = dat_df.columns\n",
    "for one in col_all:\n",
    "    print(\"col name : \", one)\n",
    "    print( dat_df.loc[dat_df[one] == '–', one].count() )\n",
    "    print(\"\\n\")"
   ]
  },
  {
   "cell_type": "markdown",
   "metadata": {},
   "source": [
    "### 이상치 처리"
   ]
  },
  {
   "cell_type": "markdown",
   "metadata": {},
   "source": [
    "### (1) '-'는 결측치(비어 있는 값)를 문자열 '-999'로 처리 \n",
    " * 문자열로 변경하는 이유 : 현재 컬럼이 문자열이기에\n",
    " \n",
    "### (2) '<0.1'를 0.05로 임의의 값 고정값으로 변경"
   ]
  },
  {
   "cell_type": "code",
   "execution_count": 21,
   "metadata": {},
   "outputs": [
    {
     "name": "stdout",
     "output_type": "stream",
     "text": [
      "col name :  국가\n",
      "col name : 국가 이상치 처리 OK\n",
      "\n",
      "col name :  백신접종수\n",
      "col name : 백신접종수 이상치 처리 OK\n",
      "\n",
      "col name :  백신보유율(인구)\n",
      "col name : 백신보유율(인구) 이상치 처리 OK\n",
      "\n",
      "col name :  1차접종\n",
      "col name : 1차접종 이상치 처리 OK\n",
      "\n",
      "col name :  2차접종\n",
      "col name : 2차접종 이상치 처리 OK\n",
      "\n",
      "col name :  일별접종수\n",
      "col name : 일별접종수 이상치 처리 OK\n",
      "\n"
     ]
    }
   ],
   "source": [
    "col_all = dat_df.columns\n",
    "for one in col_all:\n",
    "    print(\"col name : \", one)\n",
    "    dat_df.loc[dat_df[one] == '–', one] = \"-999\"      # -은 이상치 -999로 치환\n",
    "    dat_df.loc[dat_df[one] == '<0.1', one] = \"0.05\"   # <0.1은 0.05로 치환\n",
    "    \n",
    "    print(\"col name : {} 이상치 처리 OK\".format(one), end=\"\\n\\n\")"
   ]
  },
  {
   "cell_type": "markdown",
   "metadata": {},
   "source": [
    "### 결측치 처리 후, 확인"
   ]
  },
  {
   "cell_type": "code",
   "execution_count": 22,
   "metadata": {},
   "outputs": [
    {
     "name": "stdout",
     "output_type": "stream",
     "text": [
      "col name :  국가\n",
      "0\n",
      "col name :  백신접종수\n",
      "0\n",
      "col name :  백신보유율(인구)\n",
      "0\n",
      "col name :  1차접종\n",
      "0\n",
      "col name :  2차접종\n",
      "0\n",
      "col name :  일별접종수\n",
      "0\n"
     ]
    }
   ],
   "source": [
    "col_all = dat_df.columns\n",
    "for one in col_all:\n",
    "    print(\"col name : \", one)\n",
    "    print( dat_df.loc[dat_df[one] == '–', one].count() )"
   ]
  },
  {
   "cell_type": "markdown",
   "metadata": {},
   "source": [
    "### 수치 값의 천단위 구분자  ','을 처리"
   ]
  },
  {
   "cell_type": "code",
   "execution_count": 23,
   "metadata": {},
   "outputs": [],
   "source": [
    "\n",
    "dat_df['백신접종수'] = dat_df['백신접종수'].str.replace(',', '')\n",
    "dat_df['일별접종수'] = dat_df['일별접종수'].str.replace(',', '')\n"
   ]
  },
  {
   "cell_type": "code",
   "execution_count": 24,
   "metadata": {},
   "outputs": [
    {
     "data": {
      "text/html": [
       "<div>\n",
       "<style scoped>\n",
       "    .dataframe tbody tr th:only-of-type {\n",
       "        vertical-align: middle;\n",
       "    }\n",
       "\n",
       "    .dataframe tbody tr th {\n",
       "        vertical-align: top;\n",
       "    }\n",
       "\n",
       "    .dataframe thead th {\n",
       "        text-align: right;\n",
       "    }\n",
       "</style>\n",
       "<table border=\"1\" class=\"dataframe\">\n",
       "  <thead>\n",
       "    <tr style=\"text-align: right;\">\n",
       "      <th></th>\n",
       "      <th>국가</th>\n",
       "      <th>백신접종수</th>\n",
       "      <th>백신보유율(인구)</th>\n",
       "      <th>1차접종</th>\n",
       "      <th>2차접종</th>\n",
       "      <th>일별접종수</th>\n",
       "    </tr>\n",
       "  </thead>\n",
       "  <tbody>\n",
       "    <tr>\n",
       "      <th>0</th>\n",
       "      <td>Global Total</td>\n",
       "      <td>7901419499</td>\n",
       "      <td>-999</td>\n",
       "      <td>-999</td>\n",
       "      <td>-999</td>\n",
       "      <td>-999</td>\n",
       "    </tr>\n",
       "    <tr>\n",
       "      <th>1</th>\n",
       "      <td>Mainland China</td>\n",
       "      <td>2472847000</td>\n",
       "      <td>176.6</td>\n",
       "      <td>87.5</td>\n",
       "      <td>76.9</td>\n",
       "      <td>-999</td>\n",
       "    </tr>\n",
       "    <tr>\n",
       "      <th>2</th>\n",
       "      <td>India</td>\n",
       "      <td>1222098443</td>\n",
       "      <td>89.4</td>\n",
       "      <td>57.1</td>\n",
       "      <td>31.5</td>\n",
       "      <td>-999</td>\n",
       "    </tr>\n",
       "    <tr>\n",
       "      <th>3</th>\n",
       "      <td>EU</td>\n",
       "      <td>634449654</td>\n",
       "      <td>142.8</td>\n",
       "      <td>70.9</td>\n",
       "      <td>68.9</td>\n",
       "      <td>8.1</td>\n",
       "    </tr>\n",
       "    <tr>\n",
       "      <th>4</th>\n",
       "      <td>U.S.</td>\n",
       "      <td>454447737</td>\n",
       "      <td>136.9</td>\n",
       "      <td>69.7</td>\n",
       "      <td>59.1</td>\n",
       "      <td>11.3</td>\n",
       "    </tr>\n",
       "    <tr>\n",
       "      <th>5</th>\n",
       "      <td>Brazil</td>\n",
       "      <td>297960460</td>\n",
       "      <td>141.8</td>\n",
       "      <td>77.3</td>\n",
       "      <td>61.1</td>\n",
       "      <td>5.8</td>\n",
       "    </tr>\n",
       "    <tr>\n",
       "      <th>6</th>\n",
       "      <td>Indonesia</td>\n",
       "      <td>232869968</td>\n",
       "      <td>87.2</td>\n",
       "      <td>51.5</td>\n",
       "      <td>34.9</td>\n",
       "      <td>-999</td>\n",
       "    </tr>\n",
       "    <tr>\n",
       "      <th>7</th>\n",
       "      <td>Japan</td>\n",
       "      <td>196576395</td>\n",
       "      <td>155.8</td>\n",
       "      <td>79.0</td>\n",
       "      <td>76.8</td>\n",
       "      <td>-999</td>\n",
       "    </tr>\n",
       "    <tr>\n",
       "      <th>8</th>\n",
       "      <td>Mexico</td>\n",
       "      <td>132097392</td>\n",
       "      <td>103.5</td>\n",
       "      <td>59.7</td>\n",
       "      <td>50.7</td>\n",
       "      <td>-999</td>\n",
       "    </tr>\n",
       "    <tr>\n",
       "      <th>9</th>\n",
       "      <td>Russia</td>\n",
       "      <td>125544767</td>\n",
       "      <td>85.6</td>\n",
       "      <td>44.9</td>\n",
       "      <td>37.8</td>\n",
       "      <td>2.8</td>\n",
       "    </tr>\n",
       "  </tbody>\n",
       "</table>\n",
       "</div>"
      ],
      "text/plain": [
       "               국가       백신접종수 백신보유율(인구)  1차접종  2차접종 일별접종수\n",
       "0    Global Total  7901419499      -999  -999  -999  -999\n",
       "1  Mainland China  2472847000     176.6  87.5  76.9  -999\n",
       "2           India  1222098443      89.4  57.1  31.5  -999\n",
       "3              EU   634449654     142.8  70.9  68.9   8.1\n",
       "4            U.S.   454447737     136.9  69.7  59.1  11.3\n",
       "5          Brazil   297960460     141.8  77.3  61.1   5.8\n",
       "6       Indonesia   232869968      87.2  51.5  34.9  -999\n",
       "7           Japan   196576395     155.8  79.0  76.8  -999\n",
       "8          Mexico   132097392     103.5  59.7  50.7  -999\n",
       "9          Russia   125544767      85.6  44.9  37.8   2.8"
      ]
     },
     "execution_count": 24,
     "metadata": {},
     "output_type": "execute_result"
    }
   ],
   "source": [
    "dat_df.head(10)"
   ]
  },
  {
   "cell_type": "markdown",
   "metadata": {},
   "source": [
    "### 데이터 전처리 후, 확인"
   ]
  },
  {
   "cell_type": "code",
   "execution_count": 25,
   "metadata": {},
   "outputs": [
    {
     "name": "stdout",
     "output_type": "stream",
     "text": [
      "<class 'pandas.core.frame.DataFrame'>\n",
      "RangeIndex: 207 entries, 0 to 206\n",
      "Data columns (total 6 columns):\n",
      " #   Column     Non-Null Count  Dtype \n",
      "---  ------     --------------  ----- \n",
      " 0   국가         207 non-null    object\n",
      " 1   백신접종수      207 non-null    object\n",
      " 2   백신보유율(인구)  207 non-null    object\n",
      " 3   1차접종       207 non-null    object\n",
      " 4   2차접종       207 non-null    object\n",
      " 5   일별접종수      207 non-null    object\n",
      "dtypes: object(6)\n",
      "memory usage: 9.8+ KB\n"
     ]
    }
   ],
   "source": [
    "dat_df.info()"
   ]
  },
  {
   "cell_type": "code",
   "execution_count": 26,
   "metadata": {},
   "outputs": [
    {
     "data": {
      "text/plain": [
       "국가           0\n",
       "백신접종수        0\n",
       "백신보유율(인구)    0\n",
       "1차접종         0\n",
       "2차접종         0\n",
       "일별접종수        0\n",
       "dtype: int64"
      ]
     },
     "execution_count": 26,
     "metadata": {},
     "output_type": "execute_result"
    }
   ],
   "source": [
    "dat_df.isnull().sum()"
   ]
  },
  {
   "cell_type": "code",
   "execution_count": 27,
   "metadata": {},
   "outputs": [
    {
     "data": {
      "text/plain": [
       "array(['Global Total', 'Mainland China', 'India', 'EU', 'U.S.', 'Brazil',\n",
       "       'Indonesia', 'Japan', 'Mexico', 'Russia', 'Pakistan', 'Germany',\n",
       "       'Turkey', 'U.K.', 'Vietnam', 'France', 'Iran', 'Italy',\n",
       "       'Bangladesh', 'Thailand', 'South Korea', 'Philippines', 'Spain',\n",
       "       'Argentina', 'Canada', 'Colombia', 'Malaysia', 'Morocco',\n",
       "       'Saudi Arabia', 'Poland', 'Peru', 'Chile', 'Australia', 'Egypt',\n",
       "       'Uzbekistan', 'Taiwan', 'Sri Lanka', 'Cambodia', 'Cuba', 'Myanmar',\n",
       "       'South Africa', 'Ecuador', 'Netherlands', 'Ukraine', 'Venezuela',\n",
       "       'UAE', 'Belgium', 'Nepal', 'Kazakhstan', 'Portugal', 'Israel',\n",
       "       'Sweden', 'Romania', 'Greece', 'Dominican Republic', 'Hungary',\n",
       "       'Austria', 'Czech Republic', 'Algeria', 'Iraq', 'Switzerland',\n",
       "       'Tunisia', 'Azerbaijan', 'Singapore', 'Guatemala', 'Mozambique',\n",
       "       'Denmark', 'Nigeria', 'Hong Kong', 'El Salvador', 'Angola',\n",
       "       'Rwanda', 'Norway', 'Finland', 'Bolivia', 'Ireland', 'Ethiopia',\n",
       "       'Honduras', 'Jordan', 'Serbia', 'Turkmenistan', 'New Zealand',\n",
       "       'Costa Rica', 'Kenya', 'Uruguay', 'Zimbabwe', 'Nicaragua',\n",
       "       'Belarus', 'Panama', 'Oman', 'Paraguay', 'Laos', 'Tajikistan',\n",
       "       'Slovakia', 'Afghanistan', 'Mongolia', 'Qatar', 'Uganda',\n",
       "       'Croatia', 'Lebanon', 'Ivory Coast', 'Lithuania', 'Ghana',\n",
       "       'Bulgaria', 'Bahrain', 'Sudan', 'Kuwait', 'Slovenia', 'Guinea',\n",
       "       'Libya', 'Latvia', 'Georgia', 'Albania', 'Kyrgyzstan', 'Senegal',\n",
       "       'Mauritius', 'Mauritania', 'North Macedonia', 'Estonia', 'Kosovo',\n",
       "       'Moldova', 'Bosnia and Herzegovina', 'Togo', 'Syria', 'Malawi',\n",
       "       'Botswana', 'Tanzania', 'Cyprus', 'Trinidad and Tobago', 'Fiji',\n",
       "       'Bhutan', 'Somalia', 'Armenia', 'Jamaica', 'Timor-Leste', 'Zambia',\n",
       "       'Niger', 'Malta', 'Cameroon', 'Macau', 'Luxembourg', 'Maldives',\n",
       "       'Yemen', 'Sierra Leone', 'Brunei', 'Mali', 'Guyana',\n",
       "       'Burkina Faso', 'Namibia', 'Republic of the Congo', 'Iceland',\n",
       "       'Madagascar', 'Lesotho', 'Liberia', 'Cape Verde', 'Montenegro',\n",
       "       'Comoros', 'Suriname', 'Equatorial Guinea', 'Papua New Guinea',\n",
       "       'Central African Republic', 'Belize', 'Benin', 'Guinea-Bissau',\n",
       "       'Eswatini', 'Barbados', 'Gabon', 'Bahamas', 'Gambia', 'Chad',\n",
       "       'Samoa', 'South Sudan', 'Solomon Islands', 'Curaçao', 'DR Congo',\n",
       "       'Haiti', 'Jersey', 'Seychelles', 'Aruba', 'Isle of Man',\n",
       "       'Cayman Islands', 'Tonga', 'Antigua and Barbuda',\n",
       "       'Sao Tome and Principe', 'Andorra', 'Guernsey', 'Greenland',\n",
       "       'Bermuda', 'St. Lucia', 'Djibouti', 'Gibraltar', 'Micronesia',\n",
       "       'Faroe Islands', 'Grenada', 'Turks & Caicos', 'Dominica',\n",
       "       'St. Vincent and the Grenadines', 'Sint Maarten',\n",
       "       'Saint Kitts and Nevis', 'San Marino', 'Monaco', 'Anguilla',\n",
       "       'Nauru', 'St. Helena', 'Falkland Islands', 'Montserrat', 'Eritrea'],\n",
       "      dtype=object)"
      ]
     },
     "execution_count": 27,
     "metadata": {},
     "output_type": "execute_result"
    }
   ],
   "source": [
    "dat_df['국가'].unique()"
   ]
  },
  {
   "cell_type": "code",
   "execution_count": 28,
   "metadata": {},
   "outputs": [
    {
     "data": {
      "text/html": [
       "<div>\n",
       "<style scoped>\n",
       "    .dataframe tbody tr th:only-of-type {\n",
       "        vertical-align: middle;\n",
       "    }\n",
       "\n",
       "    .dataframe tbody tr th {\n",
       "        vertical-align: top;\n",
       "    }\n",
       "\n",
       "    .dataframe thead th {\n",
       "        text-align: right;\n",
       "    }\n",
       "</style>\n",
       "<table border=\"1\" class=\"dataframe\">\n",
       "  <thead>\n",
       "    <tr style=\"text-align: right;\">\n",
       "      <th></th>\n",
       "      <th>국가</th>\n",
       "      <th>백신접종수</th>\n",
       "      <th>백신보유율(인구)</th>\n",
       "      <th>1차접종</th>\n",
       "      <th>2차접종</th>\n",
       "      <th>일별접종수</th>\n",
       "    </tr>\n",
       "  </thead>\n",
       "  <tbody>\n",
       "  </tbody>\n",
       "</table>\n",
       "</div>"
      ],
      "text/plain": [
       "Empty DataFrame\n",
       "Columns: [국가, 백신접종수, 백신보유율(인구), 1차접종, 2차접종, 일별접종수]\n",
       "Index: []"
      ]
     },
     "execution_count": 28,
     "metadata": {},
     "output_type": "execute_result"
    }
   ],
   "source": [
    "dat_df.loc[dat_df['백신접종수'].isna() , : ] "
   ]
  },
  {
   "cell_type": "code",
   "execution_count": 29,
   "metadata": {},
   "outputs": [
    {
     "data": {
      "text/html": [
       "<div>\n",
       "<style scoped>\n",
       "    .dataframe tbody tr th:only-of-type {\n",
       "        vertical-align: middle;\n",
       "    }\n",
       "\n",
       "    .dataframe tbody tr th {\n",
       "        vertical-align: top;\n",
       "    }\n",
       "\n",
       "    .dataframe thead th {\n",
       "        text-align: right;\n",
       "    }\n",
       "</style>\n",
       "<table border=\"1\" class=\"dataframe\">\n",
       "  <thead>\n",
       "    <tr style=\"text-align: right;\">\n",
       "      <th></th>\n",
       "      <th>국가</th>\n",
       "      <th>백신접종수</th>\n",
       "      <th>백신보유율(인구)</th>\n",
       "      <th>1차접종</th>\n",
       "      <th>2차접종</th>\n",
       "      <th>일별접종수</th>\n",
       "    </tr>\n",
       "  </thead>\n",
       "  <tbody>\n",
       "    <tr>\n",
       "      <th>15</th>\n",
       "      <td>France</td>\n",
       "      <td>103994535</td>\n",
       "      <td>160.4</td>\n",
       "      <td>80.0</td>\n",
       "      <td>79.1</td>\n",
       "      <td>10.2</td>\n",
       "    </tr>\n",
       "    <tr>\n",
       "      <th>16</th>\n",
       "      <td>Iran</td>\n",
       "      <td>102145229</td>\n",
       "      <td>122.7</td>\n",
       "      <td>68.0</td>\n",
       "      <td>54.4</td>\n",
       "      <td>0.9</td>\n",
       "    </tr>\n",
       "    <tr>\n",
       "      <th>17</th>\n",
       "      <td>Italy</td>\n",
       "      <td>95412569</td>\n",
       "      <td>158.1</td>\n",
       "      <td>78.0</td>\n",
       "      <td>76.7</td>\n",
       "      <td>9.2</td>\n",
       "    </tr>\n",
       "    <tr>\n",
       "      <th>18</th>\n",
       "      <td>Bangladesh</td>\n",
       "      <td>93786656</td>\n",
       "      <td>56.3</td>\n",
       "      <td>34.2</td>\n",
       "      <td>21.4</td>\n",
       "      <td>-999</td>\n",
       "    </tr>\n",
       "    <tr>\n",
       "      <th>19</th>\n",
       "      <td>Thailand</td>\n",
       "      <td>91658056</td>\n",
       "      <td>131.6</td>\n",
       "      <td>68.0</td>\n",
       "      <td>57.7</td>\n",
       "      <td>4.6</td>\n",
       "    </tr>\n",
       "    <tr>\n",
       "      <th>20</th>\n",
       "      <td>South Korea</td>\n",
       "      <td>84150239</td>\n",
       "      <td>162.7</td>\n",
       "      <td>82.0</td>\n",
       "      <td>78.8</td>\n",
       "      <td>4.8</td>\n",
       "    </tr>\n",
       "    <tr>\n",
       "      <th>21</th>\n",
       "      <td>Philippines</td>\n",
       "      <td>78528357</td>\n",
       "      <td>73.2</td>\n",
       "      <td>41.5</td>\n",
       "      <td>40.9</td>\n",
       "      <td>-999</td>\n",
       "    </tr>\n",
       "    <tr>\n",
       "      <th>22</th>\n",
       "      <td>Spain</td>\n",
       "      <td>76026523</td>\n",
       "      <td>163.5</td>\n",
       "      <td>82.4</td>\n",
       "      <td>80.8</td>\n",
       "      <td>9.8</td>\n",
       "    </tr>\n",
       "    <tr>\n",
       "      <th>23</th>\n",
       "      <td>Argentina</td>\n",
       "      <td>67104574</td>\n",
       "      <td>149.3</td>\n",
       "      <td>81.0</td>\n",
       "      <td>64.7</td>\n",
       "      <td>3.5</td>\n",
       "    </tr>\n",
       "    <tr>\n",
       "      <th>24</th>\n",
       "      <td>Canada</td>\n",
       "      <td>60351981</td>\n",
       "      <td>160.8</td>\n",
       "      <td>79.9</td>\n",
       "      <td>76.9</td>\n",
       "      <td>-999</td>\n",
       "    </tr>\n",
       "  </tbody>\n",
       "</table>\n",
       "</div>"
      ],
      "text/plain": [
       "             국가      백신접종수 백신보유율(인구)  1차접종  2차접종 일별접종수\n",
       "15       France  103994535     160.4  80.0  79.1  10.2\n",
       "16         Iran  102145229     122.7  68.0  54.4   0.9\n",
       "17        Italy   95412569     158.1  78.0  76.7   9.2\n",
       "18   Bangladesh   93786656      56.3  34.2  21.4  -999\n",
       "19     Thailand   91658056     131.6  68.0  57.7   4.6\n",
       "20  South Korea   84150239     162.7  82.0  78.8   4.8\n",
       "21  Philippines   78528357      73.2  41.5  40.9  -999\n",
       "22        Spain   76026523     163.5  82.4  80.8   9.8\n",
       "23    Argentina   67104574     149.3  81.0  64.7   3.5\n",
       "24       Canada   60351981     160.8  79.9  76.9  -999"
      ]
     },
     "execution_count": 29,
     "metadata": {},
     "output_type": "execute_result"
    }
   ],
   "source": [
    "dat_df.iloc[ 15:25, :]"
   ]
  },
  {
   "cell_type": "code",
   "execution_count": 30,
   "metadata": {},
   "outputs": [
    {
     "name": "stdout",
     "output_type": "stream",
     "text": [
      "<class 'pandas.core.frame.DataFrame'>\n",
      "RangeIndex: 207 entries, 0 to 206\n",
      "Data columns (total 6 columns):\n",
      " #   Column     Non-Null Count  Dtype \n",
      "---  ------     --------------  ----- \n",
      " 0   국가         207 non-null    object\n",
      " 1   백신접종수      207 non-null    object\n",
      " 2   백신보유율(인구)  207 non-null    object\n",
      " 3   1차접종       207 non-null    object\n",
      " 4   2차접종       207 non-null    object\n",
      " 5   일별접종수      207 non-null    object\n",
      "dtypes: object(6)\n",
      "memory usage: 9.8+ KB\n"
     ]
    }
   ],
   "source": [
    "dat_df.info()"
   ]
  },
  {
   "cell_type": "markdown",
   "metadata": {},
   "source": [
    "### 수치형 변수 값 변환"
   ]
  },
  {
   "cell_type": "code",
   "execution_count": 31,
   "metadata": {},
   "outputs": [
    {
     "data": {
      "text/plain": [
       "Index(['백신접종수', '백신보유율(인구)', '1차접종', '2차접종', '일별접종수'], dtype='object')"
      ]
     },
     "execution_count": 31,
     "metadata": {},
     "output_type": "execute_result"
    }
   ],
   "source": [
    "dat_df_num = dat_df.loc[:, \"백신접종수\":]\n",
    "dat_df_num.columns"
   ]
  },
  {
   "cell_type": "code",
   "execution_count": 32,
   "metadata": {},
   "outputs": [
    {
     "name": "stdout",
     "output_type": "stream",
     "text": [
      "col name : 백신접종수\n",
      "col name : 백신보유율(인구)\n",
      "col name : 1차접종\n",
      "col name : 2차접종\n",
      "col name : 일별접종수\n"
     ]
    }
   ],
   "source": [
    "sel_col = dat_df_num.columns\n",
    "for one in sel_col:\n",
    "    print(\"col name :\", one)\n",
    "    dat_df[one] = dat_df[one].astype('float32')\n",
    "    "
   ]
  },
  {
   "cell_type": "code",
   "execution_count": 33,
   "metadata": {},
   "outputs": [
    {
     "name": "stdout",
     "output_type": "stream",
     "text": [
      "<class 'pandas.core.frame.DataFrame'>\n",
      "RangeIndex: 207 entries, 0 to 206\n",
      "Data columns (total 6 columns):\n",
      " #   Column     Non-Null Count  Dtype  \n",
      "---  ------     --------------  -----  \n",
      " 0   국가         207 non-null    object \n",
      " 1   백신접종수      207 non-null    float32\n",
      " 2   백신보유율(인구)  207 non-null    float32\n",
      " 3   1차접종       207 non-null    float32\n",
      " 4   2차접종       207 non-null    float32\n",
      " 5   일별접종수      207 non-null    float32\n",
      "dtypes: float32(5), object(1)\n",
      "memory usage: 5.8+ KB\n"
     ]
    }
   ],
   "source": [
    "dat_df.info()"
   ]
  },
  {
   "cell_type": "markdown",
   "metadata": {},
   "source": [
    "### 파일 만들기"
   ]
  },
  {
   "cell_type": "code",
   "execution_count": 37,
   "metadata": {},
   "outputs": [
    {
     "name": "stdout",
     "output_type": "stream",
     "text": [
      "28\n",
      "2021-11-29_01\n"
     ]
    }
   ],
   "source": [
    "from datetime import datetime\n",
    "import os\n",
    "\n",
    "now = datetime.now()\n",
    "file_make_time = \"%04d-%02d-%02d_%02d\" % (now.year, now.month, now.day, now.hour)\n",
    "print(now.day - 1)\n",
    "now_day = now.day\n",
    "now_hour = now.hour\n",
    "\n",
    "print( file_make_time )"
   ]
  },
  {
   "cell_type": "code",
   "execution_count": 38,
   "metadata": {},
   "outputs": [
    {
     "name": "stdout",
     "output_type": "stream",
     "text": [
      "C:\\Users\\toto\\Documents\\Github\\corona_analysis\n",
      "C:\\Users\\toto\\Documents\\Github\\corona_analysis\\data\\\n",
      "C:\\Users\\toto\\Documents\\Github\\corona_analysis\\data\\2021-11-29_01\n"
     ]
    }
   ],
   "source": [
    "print( os.getcwd() )\n",
    "path_dir = os.getcwd() + \"\\\\data\\\\\"\n",
    "path_file = path_dir + file_make_time\n",
    "print( path_dir,  path_file, sep=\"\\n\" )"
   ]
  },
  {
   "cell_type": "code",
   "execution_count": 39,
   "metadata": {},
   "outputs": [
    {
     "data": {
      "text/plain": [
       "['2021-08-07_corona.csv',\n",
       " '2021-08-07_corona.xlsx',\n",
       " '2021-09-19_corona.csv',\n",
       " '2021-09-19_corona.xlsx',\n",
       " '2021-09-20_corona.csv',\n",
       " '2021-09-20_corona.xlsx',\n",
       " '2021-09-28_corona.csv',\n",
       " '2021-09-28_corona.xlsx',\n",
       " '2021-09-29_corona.csv',\n",
       " '2021-09-29_corona.xlsx',\n",
       " '2021-11-28_corona.csv',\n",
       " '2021-11-28_corona.xlsx',\n",
       " '2021-11-29_01_vaccine_bloomberg.csv',\n",
       " '2021-11-29_01_vaccine_bloomberg.xlsx',\n",
       " '20210808_16datamerge.csv',\n",
       " '20210808_16datamerge.xlsx',\n",
       " '20210808_16_today_corona.csv',\n",
       " '20210808_16_today_corona.xlsx',\n",
       " '20210808_16_vaccine_bloomberg.csv',\n",
       " '20210808_16_vaccine_bloomberg.xlsx',\n",
       " '20210920_00_vaccine_bloomberg.csv',\n",
       " '20210920_00_vaccine_bloomberg.xlsx',\n",
       " '20210921_00_datamerge.csv',\n",
       " '20210921_00_datamerge.xlsx',\n",
       " '20210929_00_vaccine_bloomberg.csv',\n",
       " '20210929_00_vaccine_bloomberg.xlsx',\n",
       " '20210929_01_datamerge.csv',\n",
       " '20210929_01_datamerge.xlsx',\n",
       " '20210929_14_vaccine_bloomberg.csv',\n",
       " '20210929_14_vaccine_bloomberg.xlsx',\n",
       " '20210930_00_datamerge.csv',\n",
       " '20210930_00_datamerge.xlsx',\n",
       " '20210930_00_vaccine_bloomberg.csv',\n",
       " '20210930_00_vaccine_bloomberg.xlsx',\n",
       " '20211129_01_vaccine_bloomberg.csv',\n",
       " '20211129_01_vaccine_bloomberg.xlsx',\n",
       " 'country.csv',\n",
       " 'country.xlsx']"
      ]
     },
     "execution_count": 39,
     "metadata": {},
     "output_type": "execute_result"
    }
   ],
   "source": [
    "dat_df.to_csv( path_file + \"_vaccine_bloomberg.csv\", index=False)\n",
    "dat_df.to_excel( path_file + \"_vaccine_bloomberg.xlsx\", index=False)\n",
    "os.listdir(path_dir)"
   ]
  },
  {
   "cell_type": "markdown",
   "metadata": {},
   "source": [
    "* history \n",
    " * 2021.09.30 version 01\n",
    "* 출처를 밝히시고 위의 내용에 대해 자유롭게 사용 가능합니다."
   ]
  },
  {
   "cell_type": "code",
   "execution_count": null,
   "metadata": {},
   "outputs": [],
   "source": []
  }
 ],
 "metadata": {
  "kernelspec": {
   "display_name": "Python 3",
   "language": "python",
   "name": "python3"
  },
  "language_info": {
   "codemirror_mode": {
    "name": "ipython",
    "version": 3
   },
   "file_extension": ".py",
   "mimetype": "text/x-python",
   "name": "python",
   "nbconvert_exporter": "python",
   "pygments_lexer": "ipython3",
   "version": "3.8.8"
  }
 },
 "nbformat": 4,
 "nbformat_minor": 4
}
