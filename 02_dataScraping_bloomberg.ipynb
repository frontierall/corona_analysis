{
 "cells": [
  {
   "cell_type": "markdown",
   "metadata": {},
   "source": [
    "### 국가별 백신 접종률 정보 가져오기"
   ]
  },
  {
   "cell_type": "markdown",
   "metadata": {},
   "source": [
    "### 정보 수집 사이트 \n",
    "* bloomberg.com\n",
    "  * https://www.bloomberg.com/graphics/covid-vaccine-tracker-global-distribution/\n",
    "\n",
    "### 기타 참고 통계 사이트\n",
    "* our world in data\n",
    "  * https://ourworldindata.org/covid-vaccinations\n"
   ]
  },
  {
   "cell_type": "code",
   "execution_count": 1,
   "metadata": {},
   "outputs": [],
   "source": [
    "from IPython.display import display, Image\n",
    "import os, warnings\n",
    "import re\n",
    "warnings.filterwarnings(action='ignore')"
   ]
  },
  {
   "cell_type": "markdown",
   "metadata": {},
   "source": [
    "### 01 웹 브라우저 띄우기\n",
    " *  만약 chrome 브라우저와 chromedirver의 버전이 안 맞을 경우, 버전을 맞는 것으로 변경해야 함.(가끔 이 부분에서 에러 발생)\n",
    "   * 'chrome driver download'로 검색 후, 사이트에 접근 후, 다운로드 가능(window, linux, mac 버전 있음)"
   ]
  },
  {
   "cell_type": "code",
   "execution_count": 2,
   "metadata": {},
   "outputs": [],
   "source": [
    "from selenium import webdriver\n",
    "from bs4 import BeautifulSoup\n",
    "\n",
    "driver = webdriver.Chrome('./chromedriver_91')\n",
    "\n",
    "url = 'https://www.bloomberg.com/graphics/covid-vaccine-tracker-global-distribution/'\n",
    "driver.get(url)"
   ]
  },
  {
   "cell_type": "code",
   "execution_count": 3,
   "metadata": {},
   "outputs": [],
   "source": [
    "import time\n",
    "time.sleep(3)  # 홈페이지 로딩 시간 3초"
   ]
  },
  {
   "cell_type": "markdown",
   "metadata": {},
   "source": [
    "### 전체 데이터 보기\n",
    " * 나라가 여러나라가 있어, 더 보기 버튼을 2번 정도 눌러준다."
   ]
  },
  {
   "cell_type": "code",
   "execution_count": 4,
   "metadata": {},
   "outputs": [],
   "source": [
    "# //*[@id=\"dvz-table-global-vaccination\"]/div[2]/div[2]/button\n",
    "# //*[@id=\"dvz-table-global-vaccination\"]/div[2]/div[2]/button\n",
    "sel_more1 = driver.find_element_by_xpath('//*[@id=\"dvz-table-global-vaccination\"]/div[2]/div[2]/button')\n",
    "sel_more1.click()\n",
    "time.sleep(1)"
   ]
  },
  {
   "cell_type": "code",
   "execution_count": 5,
   "metadata": {},
   "outputs": [],
   "source": [
    "# //*[@id=\"dvz-table-usa-vaccination\"]/div[2]/div[2]/button\n",
    "sel_more2 = driver.find_element_by_xpath('//*[@id=\"dvz-table-global-vaccination\"]/div[2]/div[2]/button')\n",
    "sel_more2.click()"
   ]
  },
  {
   "cell_type": "markdown",
   "metadata": {},
   "source": [
    "### TABLE 선택 후, 데이터 가져오기"
   ]
  },
  {
   "cell_type": "markdown",
   "metadata": {},
   "source": [
    "#### Countries and regions \n",
    " * //*[@id=\"dvz-table-global-vaccination\"]/div[2]/div[1]/table/tbody/tr[1]/td[1]\n",
    " * ..\n",
    " * //*[@id=\"dvz-table-global-vaccination\"]/div[2]/div[1]/table/tbody/tr[3]/td[1]\n",
    " \n",
    "#### Doses administered\n",
    " * //*[@id=\"dvz-table-global-vaccination\"]/div[2]/div[1]/table/tbody/tr[1]/td[2]\n",
    " \n",
    "#### Enough for % of people\n",
    " * //*[@id=\"dvz-table-global-vaccination\"]/div[2]/div[1]/table/tbody/tr[1]/td[3]\n",
    " \n",
    "#### given 1+ dose\n",
    " * //*[@id=\"dvz-table-global-vaccination\"]/div[2]/div[1]/table/tbody/tr[1]/td[4]\n",
    " \n",
    "#### fully vaccinated\n",
    " * //*[@id=\"dvz-table-global-vaccination\"]/div[2]/div[1]/table/tbody/tr[1]/td[5]\n",
    " \n",
    "#### Daily rate of doses administered\n",
    " * //*[@id=\"dvz-table-global-vaccination\"]/div[2]/div[1]/table/tbody/tr[1]/td[6]\n",
    " "
   ]
  },
  {
   "cell_type": "code",
   "execution_count": 6,
   "metadata": {},
   "outputs": [
    {
     "name": "stdout",
     "output_type": "stream",
     "text": [
      "['Global Total', 'Mainland China', 'India', 'EU', 'U.S.', 'Brazil', 'Japan', 'Indonesia', 'Turkey', 'Germany', 'Mexico', 'France', 'U.K.', '', '', '', '', '', 'Russia', 'Italy', 'Pakistan', 'Spain', 'South Korea', 'Canada', '', '', '', '', '', '', '', '', '', '', '', '', '', 'Argentina', 'Thailand', 'Philippines', 'Iran', 'Malaysia', 'Saudi Arabia', 'Bangladesh', 'Morocco', 'Colombia', 'Vietnam', 'Poland', 'Chile', 'Australia', 'Sri Lanka', 'Peru', 'Cambodia', 'Netherlands', 'Ecuador', 'Cuba', 'UAE', 'Uzbekistan', 'Ukraine', 'South Africa', 'Belgium', 'Portugal', 'Egypt', 'Israel', 'Taiwan', 'Algeria', 'Venezuela', 'Kazakhstan', 'Sweden', 'Nepal', 'Greece', 'Dominican Republic', 'Czech Republic', 'Hungary', 'Austria', 'Switzerland', '', 'Romania', 'Singapore', 'Myanmar', 'Denmark', 'Hong Kong', 'Azerbaijan', 'Norway', 'Finland', 'Iraq', 'Tunisia', 'El Salvador', 'Ireland', 'Jordan', 'Guatemala', 'Bolivia', 'Nigeria', 'Serbia', 'Uruguay', 'Panama', 'Costa Rica', 'Zimbabwe', 'Honduras', 'New Zealand', 'Slovakia', 'Qatar', 'Oman', 'Mongolia', 'Paraguay', 'Laos', 'Tajikistan', 'Mozambique', 'Kenya', 'Ethiopia', 'Rwanda', 'Croatia', 'Belarus', 'Lithuania', 'Angola', 'Afghanistan', 'Lebanon', 'Bahrain', 'Bulgaria', 'Kuwait', 'Slovenia', 'Uganda', 'Ivory Coast', 'Senegal', 'Georgia', 'Guinea', 'Albania', 'Sudan', 'Ghana', 'Mauritius', 'Latvia', 'Libya', 'North Macedonia', 'Kyrgyzstan', 'Moldova', 'Estonia', 'Kosovo', 'Cyprus', 'Malawi', 'Bhutan', 'Bosnia and Herzegovina', 'Trinidad and Tobago', 'Togo', 'Fiji', 'Mauritania', 'Malta', 'Nicaragua', 'Luxembourg', 'Maldives', 'Jamaica', 'Zambia', 'Timor-Leste', 'Macau', 'Niger', 'Botswana', 'Iceland', 'Syria', 'Guyana', 'Somalia', 'Cameroon', 'Montenegro', 'Brunei', 'Madagascar', 'Cape Verde', 'Armenia', 'Namibia', 'Mali', 'Suriname', 'Tanzania', 'Equatorial Guinea', 'Comoros', 'Lesotho', 'Republic of the Congo', 'Yemen', 'Belize', 'Liberia', 'Burkina Faso', 'Eswatini', 'Barbados', 'Sierra Leone', 'Benin', 'Gambia', 'Central African Republic', 'Curaçao', 'Bahamas', 'Gabon', 'Papua New Guinea', 'Aruba', 'Jersey', 'Samoa', 'Seychelles', 'Chad', 'DR Congo', 'Isle of Man', 'Cayman Islands', 'South Sudan', 'Greenland', 'Guernsey', 'Solomon Islands', 'Guinea-Bissau', 'Andorra', 'Bermuda', 'Antigua and Barbuda', 'Sao Tome and Principe', 'Gibraltar', 'St. Lucia', 'Faroe Islands', 'Tonga', 'Micronesia', 'Djibouti', 'Haiti', 'Grenada', 'Turks & Caicos', 'Monaco', 'Sint Maarten', 'Saint Kitts and Nevis', 'San Marino', 'Dominica', 'Turkmenistan', 'St. Vincent and the Grenadines', 'Anguilla', 'Nauru', 'St. Helena', 'Falkland Islands', 'Montserrat', 'Eritrea']\n",
      "['6,172,363,261', '2,200,202,000', '870,566,939', '562,942,153', '390,114,328', '232,250,878', '159,494,782', '136,941,018', '108,344,725', '107,030,469', '99,366,403', '93,817,818', '93,500,858', '', '', '', '', '', '89,682,021', '84,158,581', '76,141,484', '69,867,532', '61,329,870', '55,964,812', '', '', '', '', '', '', '', '', '', '', '', '', '', '51,153,324', '46,023,016', '43,933,886', '43,372,270', '42,699,197', '41,770,521', '40,976,791', '40,273,386', '39,610,550', '38,367,246', '37,147,012', '31,552,753', '26,806,343', '26,002,445', '25,683,070', '23,830,570', '23,440,062', '20,571,335', '19,991,460', '19,872,799', '18,526,941', '17,699,201', '16,999,722', '16,623,734', '15,944,324', '15,057,720', '14,958,007', '14,430,076', '14,082,920', '14,050,000', '13,932,708', '13,607,052', '12,645,634', '12,066,901', '11,798,933', '11,779,255', '11,167,215', '10,792,944', '10,330,401', '', '10,071,932', '9,286,999', '9,001,616', '8,811,697', '8,600,780', '8,349,945', '7,747,721', '7,523,495', '7,448,300', '7,425,277', '7,349,843', '7,195,154', '6,942,596', '6,682,813', '6,651,655', '6,552,979', '6,409,263', '6,190,557', '5,367,816', '5,278,479', '5,234,875', '5,196,072', '5,045,901', '4,755,737', '4,696,753', '4,636,486', '4,545,348', '4,488,153', '4,402,770', '3,872,421', '3,644,423', '3,613,357', '3,535,329', '3,409,470', '3,408,049', '3,389,520', '3,339,375', '3,134,137', '3,133,227', '2,929,966', '2,561,756', '2,513,769', '2,380,000', '2,107,230', '2,058,553', '1,968,171', '1,784,832', '1,749,457', '1,699,898', '1,693,555', '1,650,828', '1,643,172', '1,633,952', '1,616,636', '1,546,967', '1,495,762', '1,411,946', '1,388,566', '1,359,926', '1,274,156', '1,146,345', '1,087,426', '1,068,414', '1,060,145', '1,045,498', '997,632', '975,268', '890,122', '816,767', '788,502', '783,832', '727,664', '715,860', '702,462', '675,891', '649,564', '621,853', '606,699', '551,110', '533,949', '533,843', '464,359', '461,201', '450,451', '443,676', '417,648', '414,300', '408,535', '407,502', '405,053', '391,985', '389,807', '387,510', '336,863', '332,954', '329,905', '322,934', '304,218', '284,246', '254,545', '240,002', '234,124', '232,375', '226,269', '207,195', '187,160', '186,793', '184,461', '180,320', '164,776', '155,660', '150,891', '149,431', '148,402', '142,548', '134,945', '129,302', '109,789', '103,751', '102,357', '101,898', '97,744', '94,715', '93,430', '86,676', '86,542', '82,679', '79,502', '75,827', '73,959', '73,603', '72,085', '67,229', '64,799', '55,663', '52,374', '49,980', '49,310', '47,098', '47,088', '44,624', '41,993', '33,077', '18,584', '14,863', '7,892', '4,407', '2,871', '–']\n",
      "['–', '78.6', '31.8', '63.4', '60.9', '56.3', '63.2', '25.7', '65.1', '64.4', '38.9', '72.4', '70.0', '', '', '', '', '', '30.6', '69.7', '18.6', '75.1', '59.3', '74.6', '', '', '', '', '', '', '', '', '', '', '', '', '', '56.9', '33.1', '20.5', '26.0', '65.5', '61.3', '12.3', '56.6', '39.3', '19.9', '48.9', '82.6', '52.5', '59.6', '38.7', '72.2', '68.0', '59.6', '88.2', '92.4', '27.9', '21.2', '16.2', '72.6', '77.6', '7.6', '82.6', '30.6', '16.2', '25.3', '37.4', '65.9', '22.2', '56.3', '57.0', '55.3', '57.1', '60.9', '60.4', '', '26.0', '81.4', '8.5', '75.9', '57.2', '41.8', '72.3', '68.2', '9.5', '31.5', '56.9', '72.7', '34.5', '19.0', '28.8', '1.6', '46.0', '88.0', '63.6', '52.0', '17.6', '26.6', '51.2', '43.6', '84.0', '55.3', '68.9', '31.4', '30.7', '20.8', '5.8', '3.8', '1.8', '13.7', '41.9', '17.9', '60.0', '5.2', '4.2', '21.4', '86.3', '18.1', '25.1', '52.0', '2.6', '3.7', '5.5', '23.5', '6.2', '29.5', '1.9', '2.7', '64.5', '42.1', '11.8', '36.0', '11.0', '25.9', '51.3', '35.4', '65.4', '2.7', '71.7', '16.1', '37.5', '6.2', '54.5', '11.0', '82.7', '6.0', '63.8', '97.8', '13.1', '1.9', '26.1', '47.8', '1.3', '12.8', '77.2', '–', '34.0', '1.5', '0.9', '36.2', '48.2', '0.8', '37.7', '6.9', '8.3', '1.1', '32.8', '0.3', '14.2', '19.3', '8.1', '3.6', '0.5', '37.3', '3.1', '0.6', '10.8', '40.8', '1.5', '1.0', '4.4', '2.0', '57.3', '24.2', '4.3', '1.0', '69.5', '–', '37.2', '77.3', '0.4', '0.1', '76.1', '84.5', '0.4', '89.8', '–', '7.6', '2.7', '60.7', '68.8', '44.6', '19.4', '116.9', '21.1', '75.5', '36.8', '34.7', '3.1', '0.3', '25.5', '68.9', '64.1', '58.7', '41.3', '69.2', '31.4', '0.4', '15.0', '61.9', '57.2', '65.8', '73.5', '28.7', '–']\n",
      "['–', '78.6', '46.2', '67.2', '64.3', '71.1', '68.9', '32.2', '64.4', '67.8', '49.7', '77.4', '73.0', '', '', '', '', '', '32.4', '74.3', '27.5', '80.9', '73.7', '76.2', '', '', '', '', '', '', '', '', '', '', '', '', '', '65.6', '42.4', '23.5', '35.5', '70.1', '68.4', '14.8', '61.6', '50.9', '31.5', '52.0', '78.5', '62.8', '65.9', '46.4', '79.6', '70.3', '64.2', '78.4', '85.9', '29.4', '29.3', '20.7', '74.8', '86.9', '9.7', '67.3', '52.0', '13.9', '31.6', '40.3', '69.0', '23.2', '59.8', '58.2', '57.0', '60.2', '64.4', '64.1', '', '28.2', '82.1', '10.5', '76.7', '59.4', '47.2', '77.2', '74.8', '11.7', '40.5', '62.5', '76.1', '36.5', '24.8', '36.7', '2.3', '43.4', '77.6', '69.7', '64.5', '20.4', '32.8', '65.8', '44.8', '84.4', '67.0', '68.3', '36.7', '39.1', '24.8', '6.1', '5.7', '2.9', '16.4', '44.4', '19.8', '61.8', '7.1', '2.6', '23.5', '78.4', '17.3', '56.2', '54.0', '4.1', '5.6', '7.6', '26.1', '8.5', '32.5', '1.5', '2.9', '66.8', '47.3', '20.7', '37.6', '12.7', '22.9', '57.0', '42.8', '67.7', '3.9', '77.1', '19.2', '41.5', '7.4', '65.7', '7.9', '85.1', '7.7', '67.5', '105.3', '19.0', '1.8', '32.8', '51.2', '1.7', '17.2', '78.8', '–', '44.8', '1.7', '1.5', '38.3', '58.7', '0.7', '51.7', '8.9', '10.5', '1.7', '37.6', '–', '16.4', '20.0', '12.2', '4.7', '1.0', '47.6', '2.3', '1.2', '18.7', '46.1', '2.4', '1.3', '7.8', '3.0', '60.0', '30.0', '4.9', '1.4', '72.5', '–', '49.3', '80.5', '0.7', '0.1', '77.0', '84.4', '0.6', '124.5', '–', '11.6', '4.9', '67.0', '69.6', '49.4', '28.4', '117.4', '24.9', '77.5', '46.1', '41.6', '3.8', '0.4', '30.4', '72.2', '68.4', '61.2', '44.2', '71.8', '33.3', '0.6', '18.2', '63.3', '58.6', '72.7', '87.7', '29.7', '–']\n"
     ]
    },
    {
     "name": "stdout",
     "output_type": "stream",
     "text": [
      "['–', '73.0', '16.4', '64.6', '55.3', '41.4', '57.4', '18.1', '52.7', '64.1', '34.9', '74.4', '67.0', '', '', '', '', '', '28.4', '74.4', '12.5', '78.4', '44.9', '70.6', '', '', '', '', '', '', '', '', '', '', '', '', '', '47.7', '22.8', '18.9', '16.8', '60.3', '54.2', '9.8', '51.6', '32.6', '8.2', '51.0', '73.8', '41.7', '53.2', '30.8', '66.0', '63.6', '57.0', '43.4', '76.0', '11.1', '13.1', '14.3', '73.1', '84.0', '5.5', '62.1', '9.1', '9.6', '18.9', '34.3', '62.8', '21.2', '56.5', '55.5', '55.8', '57.6', '60.8', '55.3', '', '27.5', '79.2', '6.6', '75.1', '55.0', '36.4', '67.5', '61.6', '7.3', '29.0', '51.3', '74.0', '32.2', '13.0', '26.7', '0.9', '41.4', '72.9', '57.5', '39.5', '14.7', '20.4', '36.7', '41.2', '79.4', '43.5', '64.5', '26.1', '26.7', '16.8', '5.6', '1.9', '0.8', '11.6', '41.6', '16.0', '58.2', '3.3', '1.2', '19.3', '74.9', '18.9', '19.4', '47.9', '1.0', '1.4', '3.5', '20.9', '3.9', '26.5', '1.3', '2.5', '62.2', '43.3', '2.5', '34.3', '9.4', '28.9', '45.6', '28.0', '62.5', '2.4', '66.3', '12.9', '34.3', '4.8', '43.3', '0.5', '85.0', '4.4', '65.1', '90.3', '8.1', '2.1', '19.4', '44.6', '0.4', '9.5', '77.2', '–', '23.2', '1.2', '0.3', '33.6', '37.8', '0.7', '21.8', '4.8', '6.5', '0.5', '28.0', '–', '12.1', '18.5', '11.7', '2.5', '<0.1', '28.2', '0.6', '0.8', '17.9', '35.5', '0.5', '0.2', '7.1', '0.2', '54.6', '18.4', '3.8', '0.5', '66.5', '–', '25.0', '74.1', '0.2', '<0.1', '75.1', '84.4', '0.2', '64.3', '–', '3.6', '0.4', '54.3', '68.0', '38.0', '8.5', '116.4', '17.2', '73.5', '27.5', '–', '2.4', '0.2', '20.7', '65.6', '59.8', '56.2', '38.5', '71.8', '29.6', '0.2', '11.9', '60.6', '55.8', '58.9', '59.2', '27.8', '–']\n",
      "['31,740,869', '3,223,429', '7,488,509', '999,304', '716,762', '3,757,702', '1,026,446', '1,755,924', '386,308', '194,734', '532,540', '435,139', '63,103', '', '', '', '', '', '220,487', '222,470', '686,980', '76,386', '374,506', '109,885', '', '', '', '', '', '', '', '', '', '', '', '', '', '260,261', '567,300', '359,982', '1,368,407', '290,646', '104,852', '510,835', '262,478', '166,927', '610,286', '27,470', '109,571', '287,756', '162,348', '247,857', '239,722', '19,363', '16,381', '300,725', '55,176', '155,946', '175,972', '119,548', '21,138', '31,090', '299,053', '28,216', '163,068', '292,376', '246,316', '56,655', '35,743', '134,788', '22,529', '23,075', '9,196', '5,617', '10,382', '28,561', '', '16,658', '22,820', '163,440', '4,823', '27,967', '53,342', '18,880', '20,972', '110,874', '41,843', '28,000', '9,286', '16,609', '76,298', '29,787', '52,334', '18,286', '22,438', '16,408', '8,303', '31,405', '46,577', '40,461', '5,792', '4,560', '74,904', '16,573', '9,811', '9,906', '70,941', '54,234', '34,110', '50,101', '17,256', '5,675', '26,145', '21,363', '44,858', '765,279', '28,922', '3,352', '6,080', '12,990', '6,696', '90,201', '29,585', '2,395', '13,488', '36,444', '6,947', '21,549', '6,530', '1,155', '4,355', '11,809', '6,067', '10,432', '3,566', '3,577', '15,307', '2,315', '8,588', '3,185', '7,334', '3,358', '23,544', '9,017', '2,501', '716', '2,155', '512', '756', '1,506', '6,706', '4,083', '4,123', '9,294', '2,729', '985', '23,498', '3,349', '10,602', '1,267', '2,039', '5,475', '5,145', '4,083', '5,965', '4,761', '1,290', '2,161', '5,687', '2,622', '249', '6,246', '1,525', '244', '2,894', '9,750', '8,839', '1,275', '1,517', '805', '1,696', '357', '212', '231', '411', '1,283', '2,517', '146', '80', '981', '154', '2,785', '637', '232', '1,251', '1,102', '300', '45', '2,902', '3,807', '98', '60', '749', '2,448', '28', '583', '86', '274', '297', '174', '588', '579', '77', '120', '22', '31', '11', '82', '–', '113', '2', '4', '8', '202', '2', '–']\n"
     ]
    }
   ],
   "source": [
    "all_data = []\n",
    "\n",
    "for i in range(1, 7, 1):\n",
    "    data_col = []\n",
    "    xpath = '//*[@id=\"dvz-table-global-vaccination\"]/div[2]/div[1]/table/tbody/tr/td[%s]' % str(i) \n",
    "    sel_data = driver.find_elements_by_xpath(xpath)\n",
    "    \n",
    "    for dat in sel_data:\n",
    "        #print(dat)\n",
    "        data_col.append(dat.text)\n",
    "    print(data_col)\n",
    "    all_data.append(data_col)"
   ]
  },
  {
   "cell_type": "code",
   "execution_count": 7,
   "metadata": {},
   "outputs": [],
   "source": [
    "import pandas as pd"
   ]
  },
  {
   "cell_type": "markdown",
   "metadata": {},
   "source": [
    "### 데이터 확인 \n",
    " * Countries and regions : 나라 및 지역 / country 컬럼\n",
    " * Doses administered : 접종 수 / Doses_administered 컬럼\n",
    " * Enough for % of people : 접종률 / percent_of_people 컬럼\n",
    " * given 1+ dose : 1차 접종 / 1_percent 컬럼\n",
    " * fully vaccinated : 2차 접종 / 2_percent 컬럼\n",
    " * Daily_rate_of_doses_administered : 일일 투여 용량 / Daily_rate_of_doses 컬럼"
   ]
  },
  {
   "cell_type": "code",
   "execution_count": 55,
   "metadata": {
    "scrolled": false
   },
   "outputs": [
    {
     "data": {
      "text/html": [
       "<div>\n",
       "<style scoped>\n",
       "    .dataframe tbody tr th:only-of-type {\n",
       "        vertical-align: middle;\n",
       "    }\n",
       "\n",
       "    .dataframe tbody tr th {\n",
       "        vertical-align: top;\n",
       "    }\n",
       "\n",
       "    .dataframe thead th {\n",
       "        text-align: right;\n",
       "    }\n",
       "</style>\n",
       "<table border=\"1\" class=\"dataframe\">\n",
       "  <thead>\n",
       "    <tr style=\"text-align: right;\">\n",
       "      <th></th>\n",
       "      <th>국가</th>\n",
       "      <th>백신접종수</th>\n",
       "      <th>Enough_for_percent_of_people:</th>\n",
       "      <th>1차접종</th>\n",
       "      <th>2차접종</th>\n",
       "      <th>일별접종수</th>\n",
       "    </tr>\n",
       "  </thead>\n",
       "  <tbody>\n",
       "    <tr>\n",
       "      <th>0</th>\n",
       "      <td>Global Total</td>\n",
       "      <td>6,172,363,261</td>\n",
       "      <td>–</td>\n",
       "      <td>–</td>\n",
       "      <td>–</td>\n",
       "      <td>31,740,869</td>\n",
       "    </tr>\n",
       "    <tr>\n",
       "      <th>1</th>\n",
       "      <td>Mainland China</td>\n",
       "      <td>2,200,202,000</td>\n",
       "      <td>78.6</td>\n",
       "      <td>78.6</td>\n",
       "      <td>73.0</td>\n",
       "      <td>3,223,429</td>\n",
       "    </tr>\n",
       "    <tr>\n",
       "      <th>2</th>\n",
       "      <td>India</td>\n",
       "      <td>870,566,939</td>\n",
       "      <td>31.8</td>\n",
       "      <td>46.2</td>\n",
       "      <td>16.4</td>\n",
       "      <td>7,488,509</td>\n",
       "    </tr>\n",
       "    <tr>\n",
       "      <th>3</th>\n",
       "      <td>EU</td>\n",
       "      <td>562,942,153</td>\n",
       "      <td>63.4</td>\n",
       "      <td>67.2</td>\n",
       "      <td>64.6</td>\n",
       "      <td>999,304</td>\n",
       "    </tr>\n",
       "    <tr>\n",
       "      <th>4</th>\n",
       "      <td>U.S.</td>\n",
       "      <td>390,114,328</td>\n",
       "      <td>60.9</td>\n",
       "      <td>64.3</td>\n",
       "      <td>55.3</td>\n",
       "      <td>716,762</td>\n",
       "    </tr>\n",
       "    <tr>\n",
       "      <th>...</th>\n",
       "      <td>...</td>\n",
       "      <td>...</td>\n",
       "      <td>...</td>\n",
       "      <td>...</td>\n",
       "      <td>...</td>\n",
       "      <td>...</td>\n",
       "    </tr>\n",
       "    <tr>\n",
       "      <th>221</th>\n",
       "      <td>Nauru</td>\n",
       "      <td>14,863</td>\n",
       "      <td>57.2</td>\n",
       "      <td>58.6</td>\n",
       "      <td>55.8</td>\n",
       "      <td>4</td>\n",
       "    </tr>\n",
       "    <tr>\n",
       "      <th>222</th>\n",
       "      <td>St. Helena</td>\n",
       "      <td>7,892</td>\n",
       "      <td>65.8</td>\n",
       "      <td>72.7</td>\n",
       "      <td>58.9</td>\n",
       "      <td>8</td>\n",
       "    </tr>\n",
       "    <tr>\n",
       "      <th>223</th>\n",
       "      <td>Falkland Islands</td>\n",
       "      <td>4,407</td>\n",
       "      <td>73.5</td>\n",
       "      <td>87.7</td>\n",
       "      <td>59.2</td>\n",
       "      <td>202</td>\n",
       "    </tr>\n",
       "    <tr>\n",
       "      <th>224</th>\n",
       "      <td>Montserrat</td>\n",
       "      <td>2,871</td>\n",
       "      <td>28.7</td>\n",
       "      <td>29.7</td>\n",
       "      <td>27.8</td>\n",
       "      <td>2</td>\n",
       "    </tr>\n",
       "    <tr>\n",
       "      <th>225</th>\n",
       "      <td>Eritrea</td>\n",
       "      <td>–</td>\n",
       "      <td>–</td>\n",
       "      <td>–</td>\n",
       "      <td>–</td>\n",
       "      <td>–</td>\n",
       "    </tr>\n",
       "  </tbody>\n",
       "</table>\n",
       "<p>226 rows × 6 columns</p>\n",
       "</div>"
      ],
      "text/plain": [
       "                   국가          백신접종수 Enough_for_percent_of_people:  1차접종  \\\n",
       "0        Global Total  6,172,363,261                             –     –   \n",
       "1      Mainland China  2,200,202,000                          78.6  78.6   \n",
       "2               India    870,566,939                          31.8  46.2   \n",
       "3                  EU    562,942,153                          63.4  67.2   \n",
       "4                U.S.    390,114,328                          60.9  64.3   \n",
       "..                ...            ...                           ...   ...   \n",
       "221             Nauru         14,863                          57.2  58.6   \n",
       "222        St. Helena          7,892                          65.8  72.7   \n",
       "223  Falkland Islands          4,407                          73.5  87.7   \n",
       "224        Montserrat          2,871                          28.7  29.7   \n",
       "225           Eritrea              –                             –     –   \n",
       "\n",
       "     2차접종       일별접종수  \n",
       "0       –  31,740,869  \n",
       "1    73.0   3,223,429  \n",
       "2    16.4   7,488,509  \n",
       "3    64.6     999,304  \n",
       "4    55.3     716,762  \n",
       "..    ...         ...  \n",
       "221  55.8           4  \n",
       "222  58.9           8  \n",
       "223  59.2         202  \n",
       "224  27.8           2  \n",
       "225     –           –  \n",
       "\n",
       "[226 rows x 6 columns]"
      ]
     },
     "execution_count": 55,
     "metadata": {},
     "output_type": "execute_result"
    }
   ],
   "source": [
    "pd.set_option(\"display.max_rows\", 40)\n",
    "\n",
    "dat_dict = {'국가':all_data[0],\n",
    "            '백신접종수':all_data[1],\n",
    "            'Enough_for_percent_of_people:':all_data[2],\n",
    "            '1차접종':all_data[3],\n",
    "            '2차접종':all_data[4],\n",
    "            '일별접종수':all_data[5]\n",
    "           }\n",
    "\n",
    "dat_df = pd.DataFrame(dat_dict)\n",
    "dat_df"
   ]
  },
  {
   "cell_type": "code",
   "execution_count": 56,
   "metadata": {},
   "outputs": [
    {
     "name": "stdout",
     "output_type": "stream",
     "text": [
      "<class 'pandas.core.frame.DataFrame'>\n",
      "RangeIndex: 226 entries, 0 to 225\n",
      "Data columns (total 6 columns):\n",
      " #   Column                         Non-Null Count  Dtype \n",
      "---  ------                         --------------  ----- \n",
      " 0   국가                             226 non-null    object\n",
      " 1   백신접종수                          226 non-null    object\n",
      " 2   Enough_for_percent_of_people:  226 non-null    object\n",
      " 3   1차접종                           226 non-null    object\n",
      " 4   2차접종                           226 non-null    object\n",
      " 5   일별접종수                          226 non-null    object\n",
      "dtypes: object(6)\n",
      "memory usage: 10.7+ KB\n"
     ]
    }
   ],
   "source": [
    "dat_df.info()"
   ]
  },
  {
   "cell_type": "markdown",
   "metadata": {},
   "source": [
    "### 데이터 전처리\n",
    " * 데이터가 없거나 제대로 얻어지지 못한 부분. 그리고 추가 컬럼 등을 생성\n",
    " * [].str.len() : 데이터의 길이"
   ]
  },
  {
   "cell_type": "code",
   "execution_count": 57,
   "metadata": {},
   "outputs": [
    {
     "data": {
      "text/plain": [
       "0      12\n",
       "1      14\n",
       "2       5\n",
       "3       2\n",
       "4       4\n",
       "       ..\n",
       "221     5\n",
       "222    10\n",
       "223    16\n",
       "224    10\n",
       "225     7\n",
       "Name: 국가, Length: 226, dtype: int64"
      ]
     },
     "execution_count": 57,
     "metadata": {},
     "output_type": "execute_result"
    }
   ],
   "source": [
    "### 공백행을 삭제\n",
    "dat_df['국가'].str.len()"
   ]
  },
  {
   "cell_type": "code",
   "execution_count": 58,
   "metadata": {},
   "outputs": [
    {
     "data": {
      "text/plain": [
       "array([12, 14,  5,  2,  4,  6,  9,  7,  0,  8, 11, 10,  3, 18, 15, 22, 19,\n",
       "       17, 21, 24, 16, 13, 30], dtype=int64)"
      ]
     },
     "execution_count": 58,
     "metadata": {},
     "output_type": "execute_result"
    }
   ],
   "source": [
    "dat_df['국가'].str.len().unique()"
   ]
  },
  {
   "cell_type": "markdown",
   "metadata": {},
   "source": [
    "### 한나라의 중복 행의 존재로 이 부분은 정보 취득 못함"
   ]
  },
  {
   "cell_type": "code",
   "execution_count": 59,
   "metadata": {},
   "outputs": [
    {
     "data": {
      "text/html": [
       "<div>\n",
       "<style scoped>\n",
       "    .dataframe tbody tr th:only-of-type {\n",
       "        vertical-align: middle;\n",
       "    }\n",
       "\n",
       "    .dataframe tbody tr th {\n",
       "        vertical-align: top;\n",
       "    }\n",
       "\n",
       "    .dataframe thead th {\n",
       "        text-align: right;\n",
       "    }\n",
       "</style>\n",
       "<table border=\"1\" class=\"dataframe\">\n",
       "  <thead>\n",
       "    <tr style=\"text-align: right;\">\n",
       "      <th></th>\n",
       "      <th>국가</th>\n",
       "      <th>백신접종수</th>\n",
       "      <th>Enough_for_percent_of_people:</th>\n",
       "      <th>1차접종</th>\n",
       "      <th>2차접종</th>\n",
       "      <th>일별접종수</th>\n",
       "    </tr>\n",
       "  </thead>\n",
       "  <tbody>\n",
       "    <tr>\n",
       "      <th>13</th>\n",
       "      <td></td>\n",
       "      <td></td>\n",
       "      <td></td>\n",
       "      <td></td>\n",
       "      <td></td>\n",
       "      <td></td>\n",
       "    </tr>\n",
       "    <tr>\n",
       "      <th>14</th>\n",
       "      <td></td>\n",
       "      <td></td>\n",
       "      <td></td>\n",
       "      <td></td>\n",
       "      <td></td>\n",
       "      <td></td>\n",
       "    </tr>\n",
       "    <tr>\n",
       "      <th>15</th>\n",
       "      <td></td>\n",
       "      <td></td>\n",
       "      <td></td>\n",
       "      <td></td>\n",
       "      <td></td>\n",
       "      <td></td>\n",
       "    </tr>\n",
       "    <tr>\n",
       "      <th>16</th>\n",
       "      <td></td>\n",
       "      <td></td>\n",
       "      <td></td>\n",
       "      <td></td>\n",
       "      <td></td>\n",
       "      <td></td>\n",
       "    </tr>\n",
       "    <tr>\n",
       "      <th>17</th>\n",
       "      <td></td>\n",
       "      <td></td>\n",
       "      <td></td>\n",
       "      <td></td>\n",
       "      <td></td>\n",
       "      <td></td>\n",
       "    </tr>\n",
       "    <tr>\n",
       "      <th>24</th>\n",
       "      <td></td>\n",
       "      <td></td>\n",
       "      <td></td>\n",
       "      <td></td>\n",
       "      <td></td>\n",
       "      <td></td>\n",
       "    </tr>\n",
       "    <tr>\n",
       "      <th>25</th>\n",
       "      <td></td>\n",
       "      <td></td>\n",
       "      <td></td>\n",
       "      <td></td>\n",
       "      <td></td>\n",
       "      <td></td>\n",
       "    </tr>\n",
       "    <tr>\n",
       "      <th>26</th>\n",
       "      <td></td>\n",
       "      <td></td>\n",
       "      <td></td>\n",
       "      <td></td>\n",
       "      <td></td>\n",
       "      <td></td>\n",
       "    </tr>\n",
       "    <tr>\n",
       "      <th>27</th>\n",
       "      <td></td>\n",
       "      <td></td>\n",
       "      <td></td>\n",
       "      <td></td>\n",
       "      <td></td>\n",
       "      <td></td>\n",
       "    </tr>\n",
       "    <tr>\n",
       "      <th>28</th>\n",
       "      <td></td>\n",
       "      <td></td>\n",
       "      <td></td>\n",
       "      <td></td>\n",
       "      <td></td>\n",
       "      <td></td>\n",
       "    </tr>\n",
       "    <tr>\n",
       "      <th>29</th>\n",
       "      <td></td>\n",
       "      <td></td>\n",
       "      <td></td>\n",
       "      <td></td>\n",
       "      <td></td>\n",
       "      <td></td>\n",
       "    </tr>\n",
       "    <tr>\n",
       "      <th>30</th>\n",
       "      <td></td>\n",
       "      <td></td>\n",
       "      <td></td>\n",
       "      <td></td>\n",
       "      <td></td>\n",
       "      <td></td>\n",
       "    </tr>\n",
       "    <tr>\n",
       "      <th>31</th>\n",
       "      <td></td>\n",
       "      <td></td>\n",
       "      <td></td>\n",
       "      <td></td>\n",
       "      <td></td>\n",
       "      <td></td>\n",
       "    </tr>\n",
       "    <tr>\n",
       "      <th>32</th>\n",
       "      <td></td>\n",
       "      <td></td>\n",
       "      <td></td>\n",
       "      <td></td>\n",
       "      <td></td>\n",
       "      <td></td>\n",
       "    </tr>\n",
       "    <tr>\n",
       "      <th>33</th>\n",
       "      <td></td>\n",
       "      <td></td>\n",
       "      <td></td>\n",
       "      <td></td>\n",
       "      <td></td>\n",
       "      <td></td>\n",
       "    </tr>\n",
       "    <tr>\n",
       "      <th>34</th>\n",
       "      <td></td>\n",
       "      <td></td>\n",
       "      <td></td>\n",
       "      <td></td>\n",
       "      <td></td>\n",
       "      <td></td>\n",
       "    </tr>\n",
       "    <tr>\n",
       "      <th>35</th>\n",
       "      <td></td>\n",
       "      <td></td>\n",
       "      <td></td>\n",
       "      <td></td>\n",
       "      <td></td>\n",
       "      <td></td>\n",
       "    </tr>\n",
       "    <tr>\n",
       "      <th>36</th>\n",
       "      <td></td>\n",
       "      <td></td>\n",
       "      <td></td>\n",
       "      <td></td>\n",
       "      <td></td>\n",
       "      <td></td>\n",
       "    </tr>\n",
       "    <tr>\n",
       "      <th>76</th>\n",
       "      <td></td>\n",
       "      <td></td>\n",
       "      <td></td>\n",
       "      <td></td>\n",
       "      <td></td>\n",
       "      <td></td>\n",
       "    </tr>\n",
       "  </tbody>\n",
       "</table>\n",
       "</div>"
      ],
      "text/plain": [
       "   국가 백신접종수 Enough_for_percent_of_people: 1차접종 2차접종 일별접종수\n",
       "13                                                       \n",
       "14                                                       \n",
       "15                                                       \n",
       "16                                                       \n",
       "17                                                       \n",
       "24                                                       \n",
       "25                                                       \n",
       "26                                                       \n",
       "27                                                       \n",
       "28                                                       \n",
       "29                                                       \n",
       "30                                                       \n",
       "31                                                       \n",
       "32                                                       \n",
       "33                                                       \n",
       "34                                                       \n",
       "35                                                       \n",
       "36                                                       \n",
       "76                                                       "
      ]
     },
     "execution_count": 59,
     "metadata": {},
     "output_type": "execute_result"
    }
   ],
   "source": [
    "dat_df.loc[ dat_df['국가'].str.len() < 1, : ]"
   ]
  },
  {
   "cell_type": "markdown",
   "metadata": {},
   "source": [
    "### 데이터가 없는 인덱스를 얻어서 해당 행을 삭제한다."
   ]
  },
  {
   "cell_type": "code",
   "execution_count": 60,
   "metadata": {},
   "outputs": [
    {
     "name": "stdout",
     "output_type": "stream",
     "text": [
      "Int64Index([13, 14, 15, 16, 17, 24, 25, 26, 27, 28, 29, 30, 31, 32, 33, 34, 35,\n",
      "            36, 76],\n",
      "           dtype='int64')\n",
      "(226, 6)\n",
      "(207, 6)\n"
     ]
    }
   ],
   "source": [
    "sel_index = dat_df[ dat_df['국가'].str.len() <1 ].index\n",
    "print(sel_index)\n",
    "print(dat_df.shape)\n",
    "dat_df.drop (sel_index, axis=0, inplace=True  )\n",
    "print(dat_df.shape)"
   ]
  },
  {
   "cell_type": "code",
   "execution_count": 61,
   "metadata": {},
   "outputs": [
    {
     "data": {
      "text/html": [
       "<div>\n",
       "<style scoped>\n",
       "    .dataframe tbody tr th:only-of-type {\n",
       "        vertical-align: middle;\n",
       "    }\n",
       "\n",
       "    .dataframe tbody tr th {\n",
       "        vertical-align: top;\n",
       "    }\n",
       "\n",
       "    .dataframe thead th {\n",
       "        text-align: right;\n",
       "    }\n",
       "</style>\n",
       "<table border=\"1\" class=\"dataframe\">\n",
       "  <thead>\n",
       "    <tr style=\"text-align: right;\">\n",
       "      <th></th>\n",
       "      <th>국가</th>\n",
       "      <th>백신접종수</th>\n",
       "      <th>Enough_for_percent_of_people:</th>\n",
       "      <th>1차접종</th>\n",
       "      <th>2차접종</th>\n",
       "      <th>일별접종수</th>\n",
       "    </tr>\n",
       "  </thead>\n",
       "  <tbody>\n",
       "    <tr>\n",
       "      <th>0</th>\n",
       "      <td>Global Total</td>\n",
       "      <td>6,172,363,261</td>\n",
       "      <td>–</td>\n",
       "      <td>–</td>\n",
       "      <td>–</td>\n",
       "      <td>31,740,869</td>\n",
       "    </tr>\n",
       "    <tr>\n",
       "      <th>1</th>\n",
       "      <td>Mainland China</td>\n",
       "      <td>2,200,202,000</td>\n",
       "      <td>78.6</td>\n",
       "      <td>78.6</td>\n",
       "      <td>73.0</td>\n",
       "      <td>3,223,429</td>\n",
       "    </tr>\n",
       "    <tr>\n",
       "      <th>2</th>\n",
       "      <td>India</td>\n",
       "      <td>870,566,939</td>\n",
       "      <td>31.8</td>\n",
       "      <td>46.2</td>\n",
       "      <td>16.4</td>\n",
       "      <td>7,488,509</td>\n",
       "    </tr>\n",
       "    <tr>\n",
       "      <th>3</th>\n",
       "      <td>EU</td>\n",
       "      <td>562,942,153</td>\n",
       "      <td>63.4</td>\n",
       "      <td>67.2</td>\n",
       "      <td>64.6</td>\n",
       "      <td>999,304</td>\n",
       "    </tr>\n",
       "    <tr>\n",
       "      <th>4</th>\n",
       "      <td>U.S.</td>\n",
       "      <td>390,114,328</td>\n",
       "      <td>60.9</td>\n",
       "      <td>64.3</td>\n",
       "      <td>55.3</td>\n",
       "      <td>716,762</td>\n",
       "    </tr>\n",
       "    <tr>\n",
       "      <th>5</th>\n",
       "      <td>Brazil</td>\n",
       "      <td>232,250,878</td>\n",
       "      <td>56.3</td>\n",
       "      <td>71.1</td>\n",
       "      <td>41.4</td>\n",
       "      <td>3,757,702</td>\n",
       "    </tr>\n",
       "    <tr>\n",
       "      <th>6</th>\n",
       "      <td>Japan</td>\n",
       "      <td>159,494,782</td>\n",
       "      <td>63.2</td>\n",
       "      <td>68.9</td>\n",
       "      <td>57.4</td>\n",
       "      <td>1,026,446</td>\n",
       "    </tr>\n",
       "    <tr>\n",
       "      <th>7</th>\n",
       "      <td>Indonesia</td>\n",
       "      <td>136,941,018</td>\n",
       "      <td>25.7</td>\n",
       "      <td>32.2</td>\n",
       "      <td>18.1</td>\n",
       "      <td>1,755,924</td>\n",
       "    </tr>\n",
       "    <tr>\n",
       "      <th>8</th>\n",
       "      <td>Turkey</td>\n",
       "      <td>108,344,725</td>\n",
       "      <td>65.1</td>\n",
       "      <td>64.4</td>\n",
       "      <td>52.7</td>\n",
       "      <td>386,308</td>\n",
       "    </tr>\n",
       "    <tr>\n",
       "      <th>9</th>\n",
       "      <td>Germany</td>\n",
       "      <td>107,030,469</td>\n",
       "      <td>64.4</td>\n",
       "      <td>67.8</td>\n",
       "      <td>64.1</td>\n",
       "      <td>194,734</td>\n",
       "    </tr>\n",
       "    <tr>\n",
       "      <th>10</th>\n",
       "      <td>Mexico</td>\n",
       "      <td>99,366,403</td>\n",
       "      <td>38.9</td>\n",
       "      <td>49.7</td>\n",
       "      <td>34.9</td>\n",
       "      <td>532,540</td>\n",
       "    </tr>\n",
       "    <tr>\n",
       "      <th>11</th>\n",
       "      <td>France</td>\n",
       "      <td>93,817,818</td>\n",
       "      <td>72.4</td>\n",
       "      <td>77.4</td>\n",
       "      <td>74.4</td>\n",
       "      <td>435,139</td>\n",
       "    </tr>\n",
       "    <tr>\n",
       "      <th>12</th>\n",
       "      <td>U.K.</td>\n",
       "      <td>93,500,858</td>\n",
       "      <td>70.0</td>\n",
       "      <td>73.0</td>\n",
       "      <td>67.0</td>\n",
       "      <td>63,103</td>\n",
       "    </tr>\n",
       "    <tr>\n",
       "      <th>18</th>\n",
       "      <td>Russia</td>\n",
       "      <td>89,682,021</td>\n",
       "      <td>30.6</td>\n",
       "      <td>32.4</td>\n",
       "      <td>28.4</td>\n",
       "      <td>220,487</td>\n",
       "    </tr>\n",
       "    <tr>\n",
       "      <th>19</th>\n",
       "      <td>Italy</td>\n",
       "      <td>84,158,581</td>\n",
       "      <td>69.7</td>\n",
       "      <td>74.3</td>\n",
       "      <td>74.4</td>\n",
       "      <td>222,470</td>\n",
       "    </tr>\n",
       "  </tbody>\n",
       "</table>\n",
       "</div>"
      ],
      "text/plain": [
       "                국가          백신접종수 Enough_for_percent_of_people:  1차접종  2차접종  \\\n",
       "0     Global Total  6,172,363,261                             –     –     –   \n",
       "1   Mainland China  2,200,202,000                          78.6  78.6  73.0   \n",
       "2            India    870,566,939                          31.8  46.2  16.4   \n",
       "3               EU    562,942,153                          63.4  67.2  64.6   \n",
       "4             U.S.    390,114,328                          60.9  64.3  55.3   \n",
       "5           Brazil    232,250,878                          56.3  71.1  41.4   \n",
       "6            Japan    159,494,782                          63.2  68.9  57.4   \n",
       "7        Indonesia    136,941,018                          25.7  32.2  18.1   \n",
       "8           Turkey    108,344,725                          65.1  64.4  52.7   \n",
       "9          Germany    107,030,469                          64.4  67.8  64.1   \n",
       "10          Mexico     99,366,403                          38.9  49.7  34.9   \n",
       "11          France     93,817,818                          72.4  77.4  74.4   \n",
       "12            U.K.     93,500,858                          70.0  73.0  67.0   \n",
       "18          Russia     89,682,021                          30.6  32.4  28.4   \n",
       "19           Italy     84,158,581                          69.7  74.3  74.4   \n",
       "\n",
       "         일별접종수  \n",
       "0   31,740,869  \n",
       "1    3,223,429  \n",
       "2    7,488,509  \n",
       "3      999,304  \n",
       "4      716,762  \n",
       "5    3,757,702  \n",
       "6    1,026,446  \n",
       "7    1,755,924  \n",
       "8      386,308  \n",
       "9      194,734  \n",
       "10     532,540  \n",
       "11     435,139  \n",
       "12      63,103  \n",
       "18     220,487  \n",
       "19     222,470  "
      ]
     },
     "execution_count": 61,
     "metadata": {},
     "output_type": "execute_result"
    }
   ],
   "source": [
    "dat_df.head(15)"
   ]
  },
  {
   "cell_type": "markdown",
   "metadata": {},
   "source": [
    "### 인덱스가 일정하지 않아, 인덱스 값 초기화"
   ]
  },
  {
   "cell_type": "code",
   "execution_count": 62,
   "metadata": {},
   "outputs": [
    {
     "data": {
      "text/plain": [
       "(207, 6)"
      ]
     },
     "execution_count": 62,
     "metadata": {},
     "output_type": "execute_result"
    }
   ],
   "source": [
    "dat_df = dat_df.reindex()\n",
    "dat_df.shape"
   ]
  },
  {
   "cell_type": "markdown",
   "metadata": {},
   "source": [
    "### 이상치 '-' 값 확인"
   ]
  },
  {
   "cell_type": "code",
   "execution_count": 63,
   "metadata": {},
   "outputs": [
    {
     "data": {
      "text/html": [
       "<div>\n",
       "<style scoped>\n",
       "    .dataframe tbody tr th:only-of-type {\n",
       "        vertical-align: middle;\n",
       "    }\n",
       "\n",
       "    .dataframe tbody tr th {\n",
       "        vertical-align: top;\n",
       "    }\n",
       "\n",
       "    .dataframe thead th {\n",
       "        text-align: right;\n",
       "    }\n",
       "</style>\n",
       "<table border=\"1\" class=\"dataframe\">\n",
       "  <thead>\n",
       "    <tr style=\"text-align: right;\">\n",
       "      <th></th>\n",
       "      <th>국가</th>\n",
       "      <th>백신접종수</th>\n",
       "      <th>Enough_for_percent_of_people:</th>\n",
       "      <th>1차접종</th>\n",
       "      <th>2차접종</th>\n",
       "      <th>일별접종수</th>\n",
       "    </tr>\n",
       "  </thead>\n",
       "  <tbody>\n",
       "    <tr>\n",
       "      <th>225</th>\n",
       "      <td>Eritrea</td>\n",
       "      <td>–</td>\n",
       "      <td>–</td>\n",
       "      <td>–</td>\n",
       "      <td>–</td>\n",
       "      <td>–</td>\n",
       "    </tr>\n",
       "  </tbody>\n",
       "</table>\n",
       "</div>"
      ],
      "text/plain": [
       "          국가 백신접종수 Enough_for_percent_of_people: 1차접종 2차접종 일별접종수\n",
       "225  Eritrea     –                             –    –    –     –"
      ]
     },
     "execution_count": 63,
     "metadata": {},
     "output_type": "execute_result"
    }
   ],
   "source": [
    "dat_df.loc[dat_df['백신접종수'] == '–']"
   ]
  },
  {
   "cell_type": "code",
   "execution_count": 65,
   "metadata": {},
   "outputs": [
    {
     "data": {
      "text/html": [
       "<div>\n",
       "<style scoped>\n",
       "    .dataframe tbody tr th:only-of-type {\n",
       "        vertical-align: middle;\n",
       "    }\n",
       "\n",
       "    .dataframe tbody tr th {\n",
       "        vertical-align: top;\n",
       "    }\n",
       "\n",
       "    .dataframe thead th {\n",
       "        text-align: right;\n",
       "    }\n",
       "</style>\n",
       "<table border=\"1\" class=\"dataframe\">\n",
       "  <thead>\n",
       "    <tr style=\"text-align: right;\">\n",
       "      <th></th>\n",
       "      <th>국가</th>\n",
       "      <th>백신접종수</th>\n",
       "      <th>Enough_for_percent_of_people:</th>\n",
       "      <th>1차접종</th>\n",
       "      <th>2차접종</th>\n",
       "      <th>일별접종수</th>\n",
       "    </tr>\n",
       "  </thead>\n",
       "  <tbody>\n",
       "    <tr>\n",
       "      <th>218</th>\n",
       "      <td>Turkmenistan</td>\n",
       "      <td>41,993</td>\n",
       "      <td>0.4</td>\n",
       "      <td>0.6</td>\n",
       "      <td>0.2</td>\n",
       "      <td>–</td>\n",
       "    </tr>\n",
       "    <tr>\n",
       "      <th>225</th>\n",
       "      <td>Eritrea</td>\n",
       "      <td>–</td>\n",
       "      <td>–</td>\n",
       "      <td>–</td>\n",
       "      <td>–</td>\n",
       "      <td>–</td>\n",
       "    </tr>\n",
       "  </tbody>\n",
       "</table>\n",
       "</div>"
      ],
      "text/plain": [
       "               국가   백신접종수 Enough_for_percent_of_people: 1차접종 2차접종 일별접종수\n",
       "218  Turkmenistan  41,993                           0.4  0.6  0.2     –\n",
       "225       Eritrea       –                             –    –    –     –"
      ]
     },
     "execution_count": 65,
     "metadata": {},
     "output_type": "execute_result"
    }
   ],
   "source": [
    "dat_df.loc[dat_df['일별접종수'] == '–']"
   ]
  },
  {
   "cell_type": "code",
   "execution_count": 66,
   "metadata": {},
   "outputs": [
    {
     "data": {
      "text/plain": [
       "Index(['국가', '백신접종수', 'Enough_for_percent_of_people:', '1차접종', '2차접종',\n",
       "       '일별접종수'],\n",
       "      dtype='object')"
      ]
     },
     "execution_count": 66,
     "metadata": {},
     "output_type": "execute_result"
    }
   ],
   "source": [
    "dat_df.columns"
   ]
  },
  {
   "cell_type": "code",
   "execution_count": 67,
   "metadata": {},
   "outputs": [
    {
     "name": "stdout",
     "output_type": "stream",
     "text": [
      "col name :  국가\n",
      "0\n",
      "\n",
      "\n",
      "col name :  백신접종수\n",
      "1\n",
      "\n",
      "\n",
      "col name :  Enough_for_percent_of_people:\n",
      "5\n",
      "\n",
      "\n",
      "col name :  1차접종\n",
      "6\n",
      "\n",
      "\n",
      "col name :  2차접종\n",
      "7\n",
      "\n",
      "\n",
      "col name :  일별접종수\n",
      "2\n",
      "\n",
      "\n"
     ]
    }
   ],
   "source": [
    "col_all = dat_df.columns\n",
    "for one in col_all:\n",
    "    print(\"col name : \", one)\n",
    "    print( dat_df.loc[dat_df[one] == '–', one].count() )\n",
    "    print(\"\\n\")"
   ]
  },
  {
   "cell_type": "markdown",
   "metadata": {},
   "source": [
    "### 결측치(비어 있는 값)를 -999로 처리한다."
   ]
  },
  {
   "cell_type": "code",
   "execution_count": 68,
   "metadata": {},
   "outputs": [
    {
     "name": "stdout",
     "output_type": "stream",
     "text": [
      "col name :  국가\n",
      "0\n",
      "\n",
      "\n",
      "col name :  백신접종수\n",
      "1\n",
      "\n",
      "\n",
      "col name :  Enough_for_percent_of_people:\n",
      "5\n",
      "\n",
      "\n",
      "col name :  1차접종\n",
      "6\n",
      "\n",
      "\n",
      "col name :  2차접종\n",
      "7\n",
      "\n",
      "\n",
      "col name :  일별접종수\n",
      "2\n",
      "\n",
      "\n"
     ]
    }
   ],
   "source": [
    "col_all = dat_df.columns\n",
    "for one in col_all:\n",
    "    print(\"col name : \", one)\n",
    "    print( dat_df.loc[dat_df[one] == '–', one].count() )\n",
    "    dat_df.loc[dat_df[one] == '–', one] = \"-999\"      # -은 이상치 -999로 치환\n",
    "    dat_df.loc[dat_df[one] == '<0.1', one] = \"0.05\"   # <0.1은 0.05로 치환\n",
    "    \n",
    "    print(\"\\n\")"
   ]
  },
  {
   "cell_type": "markdown",
   "metadata": {},
   "source": [
    "### 결측치 처리 후, 확인"
   ]
  },
  {
   "cell_type": "code",
   "execution_count": 70,
   "metadata": {},
   "outputs": [
    {
     "name": "stdout",
     "output_type": "stream",
     "text": [
      "col name :  국가\n",
      "0\n",
      "col name :  백신접종수\n",
      "0\n",
      "col name :  Enough_for_percent_of_people:\n",
      "0\n",
      "col name :  1차접종\n",
      "0\n",
      "col name :  2차접종\n",
      "0\n",
      "col name :  일별접종수\n",
      "0\n"
     ]
    }
   ],
   "source": [
    "col_all = dat_df.columns\n",
    "for one in col_all:\n",
    "    print(\"col name : \", one)\n",
    "    print( dat_df.loc[dat_df[one] == '–', one].count() )"
   ]
  },
  {
   "cell_type": "markdown",
   "metadata": {},
   "source": [
    "### 수치의  ','을 처리"
   ]
  },
  {
   "cell_type": "code",
   "execution_count": 72,
   "metadata": {},
   "outputs": [],
   "source": [
    "\n",
    "dat_df['백신접종수'] = dat_df['백신접종수'].str.replace(',', '')\n",
    "dat_df['일별접종수'] = dat_df['일별접종수'].str.replace(',', '')\n"
   ]
  },
  {
   "cell_type": "code",
   "execution_count": 73,
   "metadata": {},
   "outputs": [
    {
     "data": {
      "text/html": [
       "<div>\n",
       "<style scoped>\n",
       "    .dataframe tbody tr th:only-of-type {\n",
       "        vertical-align: middle;\n",
       "    }\n",
       "\n",
       "    .dataframe tbody tr th {\n",
       "        vertical-align: top;\n",
       "    }\n",
       "\n",
       "    .dataframe thead th {\n",
       "        text-align: right;\n",
       "    }\n",
       "</style>\n",
       "<table border=\"1\" class=\"dataframe\">\n",
       "  <thead>\n",
       "    <tr style=\"text-align: right;\">\n",
       "      <th></th>\n",
       "      <th>국가</th>\n",
       "      <th>백신접종수</th>\n",
       "      <th>Enough_for_percent_of_people:</th>\n",
       "      <th>1차접종</th>\n",
       "      <th>2차접종</th>\n",
       "      <th>일별접종수</th>\n",
       "    </tr>\n",
       "  </thead>\n",
       "  <tbody>\n",
       "    <tr>\n",
       "      <th>0</th>\n",
       "      <td>Global Total</td>\n",
       "      <td>6172363261</td>\n",
       "      <td>-999</td>\n",
       "      <td>-999</td>\n",
       "      <td>-999</td>\n",
       "      <td>31740869</td>\n",
       "    </tr>\n",
       "    <tr>\n",
       "      <th>1</th>\n",
       "      <td>Mainland China</td>\n",
       "      <td>2200202000</td>\n",
       "      <td>78.6</td>\n",
       "      <td>78.6</td>\n",
       "      <td>73.0</td>\n",
       "      <td>3223429</td>\n",
       "    </tr>\n",
       "    <tr>\n",
       "      <th>2</th>\n",
       "      <td>India</td>\n",
       "      <td>870566939</td>\n",
       "      <td>31.8</td>\n",
       "      <td>46.2</td>\n",
       "      <td>16.4</td>\n",
       "      <td>7488509</td>\n",
       "    </tr>\n",
       "    <tr>\n",
       "      <th>3</th>\n",
       "      <td>EU</td>\n",
       "      <td>562942153</td>\n",
       "      <td>63.4</td>\n",
       "      <td>67.2</td>\n",
       "      <td>64.6</td>\n",
       "      <td>999304</td>\n",
       "    </tr>\n",
       "    <tr>\n",
       "      <th>4</th>\n",
       "      <td>U.S.</td>\n",
       "      <td>390114328</td>\n",
       "      <td>60.9</td>\n",
       "      <td>64.3</td>\n",
       "      <td>55.3</td>\n",
       "      <td>716762</td>\n",
       "    </tr>\n",
       "    <tr>\n",
       "      <th>5</th>\n",
       "      <td>Brazil</td>\n",
       "      <td>232250878</td>\n",
       "      <td>56.3</td>\n",
       "      <td>71.1</td>\n",
       "      <td>41.4</td>\n",
       "      <td>3757702</td>\n",
       "    </tr>\n",
       "    <tr>\n",
       "      <th>6</th>\n",
       "      <td>Japan</td>\n",
       "      <td>159494782</td>\n",
       "      <td>63.2</td>\n",
       "      <td>68.9</td>\n",
       "      <td>57.4</td>\n",
       "      <td>1026446</td>\n",
       "    </tr>\n",
       "    <tr>\n",
       "      <th>7</th>\n",
       "      <td>Indonesia</td>\n",
       "      <td>136941018</td>\n",
       "      <td>25.7</td>\n",
       "      <td>32.2</td>\n",
       "      <td>18.1</td>\n",
       "      <td>1755924</td>\n",
       "    </tr>\n",
       "    <tr>\n",
       "      <th>8</th>\n",
       "      <td>Turkey</td>\n",
       "      <td>108344725</td>\n",
       "      <td>65.1</td>\n",
       "      <td>64.4</td>\n",
       "      <td>52.7</td>\n",
       "      <td>386308</td>\n",
       "    </tr>\n",
       "    <tr>\n",
       "      <th>9</th>\n",
       "      <td>Germany</td>\n",
       "      <td>107030469</td>\n",
       "      <td>64.4</td>\n",
       "      <td>67.8</td>\n",
       "      <td>64.1</td>\n",
       "      <td>194734</td>\n",
       "    </tr>\n",
       "  </tbody>\n",
       "</table>\n",
       "</div>"
      ],
      "text/plain": [
       "               국가       백신접종수 Enough_for_percent_of_people:  1차접종  2차접종  \\\n",
       "0    Global Total  6172363261                          -999  -999  -999   \n",
       "1  Mainland China  2200202000                          78.6  78.6  73.0   \n",
       "2           India   870566939                          31.8  46.2  16.4   \n",
       "3              EU   562942153                          63.4  67.2  64.6   \n",
       "4            U.S.   390114328                          60.9  64.3  55.3   \n",
       "5          Brazil   232250878                          56.3  71.1  41.4   \n",
       "6           Japan   159494782                          63.2  68.9  57.4   \n",
       "7       Indonesia   136941018                          25.7  32.2  18.1   \n",
       "8          Turkey   108344725                          65.1  64.4  52.7   \n",
       "9         Germany   107030469                          64.4  67.8  64.1   \n",
       "\n",
       "      일별접종수  \n",
       "0  31740869  \n",
       "1   3223429  \n",
       "2   7488509  \n",
       "3    999304  \n",
       "4    716762  \n",
       "5   3757702  \n",
       "6   1026446  \n",
       "7   1755924  \n",
       "8    386308  \n",
       "9    194734  "
      ]
     },
     "execution_count": 73,
     "metadata": {},
     "output_type": "execute_result"
    }
   ],
   "source": [
    "dat_df.head(10)"
   ]
  },
  {
   "cell_type": "markdown",
   "metadata": {},
   "source": [
    "### 데이터 전처리 후, 확인"
   ]
  },
  {
   "cell_type": "code",
   "execution_count": 74,
   "metadata": {},
   "outputs": [
    {
     "name": "stdout",
     "output_type": "stream",
     "text": [
      "<class 'pandas.core.frame.DataFrame'>\n",
      "Int64Index: 207 entries, 0 to 225\n",
      "Data columns (total 6 columns):\n",
      " #   Column                         Non-Null Count  Dtype \n",
      "---  ------                         --------------  ----- \n",
      " 0   국가                             207 non-null    object\n",
      " 1   백신접종수                          207 non-null    object\n",
      " 2   Enough_for_percent_of_people:  207 non-null    object\n",
      " 3   1차접종                           207 non-null    object\n",
      " 4   2차접종                           207 non-null    object\n",
      " 5   일별접종수                          207 non-null    object\n",
      "dtypes: object(6)\n",
      "memory usage: 11.3+ KB\n"
     ]
    }
   ],
   "source": [
    "dat_df.info()"
   ]
  },
  {
   "cell_type": "code",
   "execution_count": 78,
   "metadata": {},
   "outputs": [
    {
     "data": {
      "text/plain": [
       "국가                               0\n",
       "백신접종수                            0\n",
       "Enough_for_percent_of_people:    0\n",
       "1차접종                             0\n",
       "2차접종                             0\n",
       "일별접종수                            0\n",
       "dtype: int64"
      ]
     },
     "execution_count": 78,
     "metadata": {},
     "output_type": "execute_result"
    }
   ],
   "source": [
    "dat_df.isnull().sum()"
   ]
  },
  {
   "cell_type": "code",
   "execution_count": 79,
   "metadata": {},
   "outputs": [
    {
     "data": {
      "text/plain": [
       "array(['6172363261', '2200202000', '870566939', '562942153', '390114328',\n",
       "       '232250878', '159494782', '136941018', '108344725', '107030469',\n",
       "       '99366403', '93817818', '93500858', '89682021', '84158581',\n",
       "       '76141484', '69867532', '61329870', '55964812', '51153324',\n",
       "       '46023016', '43933886', '43372270', '42699197', '41770521',\n",
       "       '40976791', '40273386', '39610550', '38367246', '37147012',\n",
       "       '31552753', '26806343', '26002445', '25683070', '23830570',\n",
       "       '23440062', '20571335', '19991460', '19872799', '18526941',\n",
       "       '17699201', '16999722', '16623734', '15944324', '15057720',\n",
       "       '14958007', '14430076', '14082920', '14050000', '13932708',\n",
       "       '13607052', '12645634', '12066901', '11798933', '11779255',\n",
       "       '11167215', '10792944', '10330401', '10071932', '9286999',\n",
       "       '9001616', '8811697', '8600780', '8349945', '7747721', '7523495',\n",
       "       '7448300', '7425277', '7349843', '7195154', '6942596', '6682813',\n",
       "       '6651655', '6552979', '6409263', '6190557', '5367816', '5278479',\n",
       "       '5234875', '5196072', '5045901', '4755737', '4696753', '4636486',\n",
       "       '4545348', '4488153', '4402770', '3872421', '3644423', '3613357',\n",
       "       '3535329', '3409470', '3408049', '3389520', '3339375', '3134137',\n",
       "       '3133227', '2929966', '2561756', '2513769', '2380000', '2107230',\n",
       "       '2058553', '1968171', '1784832', '1749457', '1699898', '1693555',\n",
       "       '1650828', '1643172', '1633952', '1616636', '1546967', '1495762',\n",
       "       '1411946', '1388566', '1359926', '1274156', '1146345', '1087426',\n",
       "       '1068414', '1060145', '1045498', '997632', '975268', '890122',\n",
       "       '816767', '788502', '783832', '727664', '715860', '702462',\n",
       "       '675891', '649564', '621853', '606699', '551110', '533949',\n",
       "       '533843', '464359', '461201', '450451', '443676', '417648',\n",
       "       '414300', '408535', '407502', '405053', '391985', '389807',\n",
       "       '387510', '336863', '332954', '329905', '322934', '304218',\n",
       "       '284246', '254545', '240002', '234124', '232375', '226269',\n",
       "       '207195', '187160', '186793', '184461', '180320', '164776',\n",
       "       '155660', '150891', '149431', '148402', '142548', '134945',\n",
       "       '129302', '109789', '103751', '102357', '101898', '97744', '94715',\n",
       "       '93430', '86676', '86542', '82679', '79502', '75827', '73959',\n",
       "       '73603', '72085', '67229', '64799', '55663', '52374', '49980',\n",
       "       '49310', '47098', '47088', '44624', '41993', '33077', '18584',\n",
       "       '14863', '7892', '4407', '2871', '-999'], dtype=object)"
      ]
     },
     "execution_count": 79,
     "metadata": {},
     "output_type": "execute_result"
    }
   ],
   "source": [
    "dat_df['백신접종수'].unique()"
   ]
  },
  {
   "cell_type": "code",
   "execution_count": 80,
   "metadata": {},
   "outputs": [
    {
     "data": {
      "text/plain": [
       "0     6172363261\n",
       "1     2200202000\n",
       "2      870566939\n",
       "3      562942153\n",
       "4      390114328\n",
       "5      232250878\n",
       "6      159494782\n",
       "7      136941018\n",
       "8      108344725\n",
       "9      107030469\n",
       "10      99366403\n",
       "11      93817818\n",
       "12      93500858\n",
       "18      89682021\n",
       "19      84158581\n",
       "Name: 백신접종수, dtype: object"
      ]
     },
     "execution_count": 80,
     "metadata": {},
     "output_type": "execute_result"
    }
   ],
   "source": [
    "dat_df['백신접종수'].head(15)"
   ]
  },
  {
   "cell_type": "code",
   "execution_count": 81,
   "metadata": {},
   "outputs": [
    {
     "data": {
      "text/html": [
       "<div>\n",
       "<style scoped>\n",
       "    .dataframe tbody tr th:only-of-type {\n",
       "        vertical-align: middle;\n",
       "    }\n",
       "\n",
       "    .dataframe tbody tr th {\n",
       "        vertical-align: top;\n",
       "    }\n",
       "\n",
       "    .dataframe thead th {\n",
       "        text-align: right;\n",
       "    }\n",
       "</style>\n",
       "<table border=\"1\" class=\"dataframe\">\n",
       "  <thead>\n",
       "    <tr style=\"text-align: right;\">\n",
       "      <th></th>\n",
       "      <th>국가</th>\n",
       "      <th>백신접종수</th>\n",
       "      <th>Enough_for_percent_of_people:</th>\n",
       "      <th>1차접종</th>\n",
       "      <th>2차접종</th>\n",
       "      <th>일별접종수</th>\n",
       "    </tr>\n",
       "  </thead>\n",
       "  <tbody>\n",
       "  </tbody>\n",
       "</table>\n",
       "</div>"
      ],
      "text/plain": [
       "Empty DataFrame\n",
       "Columns: [국가, 백신접종수, Enough_for_percent_of_people:, 1차접종, 2차접종, 일별접종수]\n",
       "Index: []"
      ]
     },
     "execution_count": 81,
     "metadata": {},
     "output_type": "execute_result"
    }
   ],
   "source": [
    "dat_df.loc[dat_df['백신접종수'].isna() , : ] "
   ]
  },
  {
   "cell_type": "code",
   "execution_count": 82,
   "metadata": {},
   "outputs": [
    {
     "data": {
      "text/html": [
       "<div>\n",
       "<style scoped>\n",
       "    .dataframe tbody tr th:only-of-type {\n",
       "        vertical-align: middle;\n",
       "    }\n",
       "\n",
       "    .dataframe tbody tr th {\n",
       "        vertical-align: top;\n",
       "    }\n",
       "\n",
       "    .dataframe thead th {\n",
       "        text-align: right;\n",
       "    }\n",
       "</style>\n",
       "<table border=\"1\" class=\"dataframe\">\n",
       "  <thead>\n",
       "    <tr style=\"text-align: right;\">\n",
       "      <th></th>\n",
       "      <th>국가</th>\n",
       "      <th>백신접종수</th>\n",
       "      <th>Enough_for_percent_of_people:</th>\n",
       "      <th>1차접종</th>\n",
       "      <th>2차접종</th>\n",
       "      <th>일별접종수</th>\n",
       "    </tr>\n",
       "  </thead>\n",
       "  <tbody>\n",
       "    <tr>\n",
       "      <th>20</th>\n",
       "      <td>Pakistan</td>\n",
       "      <td>76141484</td>\n",
       "      <td>18.6</td>\n",
       "      <td>27.5</td>\n",
       "      <td>12.5</td>\n",
       "      <td>686980</td>\n",
       "    </tr>\n",
       "    <tr>\n",
       "      <th>21</th>\n",
       "      <td>Spain</td>\n",
       "      <td>69867532</td>\n",
       "      <td>75.1</td>\n",
       "      <td>80.9</td>\n",
       "      <td>78.4</td>\n",
       "      <td>76386</td>\n",
       "    </tr>\n",
       "    <tr>\n",
       "      <th>22</th>\n",
       "      <td>South Korea</td>\n",
       "      <td>61329870</td>\n",
       "      <td>59.3</td>\n",
       "      <td>73.7</td>\n",
       "      <td>44.9</td>\n",
       "      <td>374506</td>\n",
       "    </tr>\n",
       "    <tr>\n",
       "      <th>23</th>\n",
       "      <td>Canada</td>\n",
       "      <td>55964812</td>\n",
       "      <td>74.6</td>\n",
       "      <td>76.2</td>\n",
       "      <td>70.6</td>\n",
       "      <td>109885</td>\n",
       "    </tr>\n",
       "    <tr>\n",
       "      <th>37</th>\n",
       "      <td>Argentina</td>\n",
       "      <td>51153324</td>\n",
       "      <td>56.9</td>\n",
       "      <td>65.6</td>\n",
       "      <td>47.7</td>\n",
       "      <td>260261</td>\n",
       "    </tr>\n",
       "    <tr>\n",
       "      <th>38</th>\n",
       "      <td>Thailand</td>\n",
       "      <td>46023016</td>\n",
       "      <td>33.1</td>\n",
       "      <td>42.4</td>\n",
       "      <td>22.8</td>\n",
       "      <td>567300</td>\n",
       "    </tr>\n",
       "    <tr>\n",
       "      <th>39</th>\n",
       "      <td>Philippines</td>\n",
       "      <td>43933886</td>\n",
       "      <td>20.5</td>\n",
       "      <td>23.5</td>\n",
       "      <td>18.9</td>\n",
       "      <td>359982</td>\n",
       "    </tr>\n",
       "    <tr>\n",
       "      <th>40</th>\n",
       "      <td>Iran</td>\n",
       "      <td>43372270</td>\n",
       "      <td>26.0</td>\n",
       "      <td>35.5</td>\n",
       "      <td>16.8</td>\n",
       "      <td>1368407</td>\n",
       "    </tr>\n",
       "    <tr>\n",
       "      <th>41</th>\n",
       "      <td>Malaysia</td>\n",
       "      <td>42699197</td>\n",
       "      <td>65.5</td>\n",
       "      <td>70.1</td>\n",
       "      <td>60.3</td>\n",
       "      <td>290646</td>\n",
       "    </tr>\n",
       "    <tr>\n",
       "      <th>42</th>\n",
       "      <td>Saudi Arabia</td>\n",
       "      <td>41770521</td>\n",
       "      <td>61.3</td>\n",
       "      <td>68.4</td>\n",
       "      <td>54.2</td>\n",
       "      <td>104852</td>\n",
       "    </tr>\n",
       "  </tbody>\n",
       "</table>\n",
       "</div>"
      ],
      "text/plain": [
       "              국가     백신접종수 Enough_for_percent_of_people:  1차접종  2차접종    일별접종수\n",
       "20      Pakistan  76141484                          18.6  27.5  12.5   686980\n",
       "21         Spain  69867532                          75.1  80.9  78.4    76386\n",
       "22   South Korea  61329870                          59.3  73.7  44.9   374506\n",
       "23        Canada  55964812                          74.6  76.2  70.6   109885\n",
       "37     Argentina  51153324                          56.9  65.6  47.7   260261\n",
       "38      Thailand  46023016                          33.1  42.4  22.8   567300\n",
       "39   Philippines  43933886                          20.5  23.5  18.9   359982\n",
       "40          Iran  43372270                          26.0  35.5  16.8  1368407\n",
       "41      Malaysia  42699197                          65.5  70.1  60.3   290646\n",
       "42  Saudi Arabia  41770521                          61.3  68.4  54.2   104852"
      ]
     },
     "execution_count": 82,
     "metadata": {},
     "output_type": "execute_result"
    }
   ],
   "source": [
    "dat_df.iloc[ 15:25, :]"
   ]
  },
  {
   "cell_type": "code",
   "execution_count": 83,
   "metadata": {},
   "outputs": [
    {
     "data": {
      "text/plain": [
       "Index(['백신접종수', 'Enough_for_percent_of_people:', '1차접종', '2차접종', '일별접종수'], dtype='object')"
      ]
     },
     "execution_count": 83,
     "metadata": {},
     "output_type": "execute_result"
    }
   ],
   "source": [
    "dat_df_num = dat_df.iloc[:, 1:]\n",
    "dat_df_num.columns"
   ]
  },
  {
   "cell_type": "code",
   "execution_count": 84,
   "metadata": {},
   "outputs": [
    {
     "name": "stdout",
     "output_type": "stream",
     "text": [
      "<class 'pandas.core.frame.DataFrame'>\n",
      "Int64Index: 207 entries, 0 to 225\n",
      "Data columns (total 6 columns):\n",
      " #   Column                         Non-Null Count  Dtype \n",
      "---  ------                         --------------  ----- \n",
      " 0   국가                             207 non-null    object\n",
      " 1   백신접종수                          207 non-null    object\n",
      " 2   Enough_for_percent_of_people:  207 non-null    object\n",
      " 3   1차접종                           207 non-null    object\n",
      " 4   2차접종                           207 non-null    object\n",
      " 5   일별접종수                          207 non-null    object\n",
      "dtypes: object(6)\n",
      "memory usage: 11.3+ KB\n"
     ]
    }
   ],
   "source": [
    "dat_df.info()"
   ]
  },
  {
   "cell_type": "code",
   "execution_count": 88,
   "metadata": {},
   "outputs": [
    {
     "name": "stdout",
     "output_type": "stream",
     "text": [
      "col name : 백신접종수\n",
      "col name : Enough_for_percent_of_people:\n",
      "col name : 1차접종\n",
      "col name : 2차접종\n",
      "col name : 일별접종수\n"
     ]
    }
   ],
   "source": [
    "sel_col = dat_df_num.columns\n",
    "for one in sel_col:\n",
    "    print(\"col name :\", one)\n",
    "    dat_df[one] = dat_df[one].astype('float32')\n",
    "    "
   ]
  },
  {
   "cell_type": "code",
   "execution_count": 89,
   "metadata": {},
   "outputs": [
    {
     "name": "stdout",
     "output_type": "stream",
     "text": [
      "<class 'pandas.core.frame.DataFrame'>\n",
      "Int64Index: 207 entries, 0 to 225\n",
      "Data columns (total 6 columns):\n",
      " #   Column                         Non-Null Count  Dtype  \n",
      "---  ------                         --------------  -----  \n",
      " 0   국가                             207 non-null    object \n",
      " 1   백신접종수                          207 non-null    float32\n",
      " 2   Enough_for_percent_of_people:  207 non-null    float32\n",
      " 3   1차접종                           207 non-null    float32\n",
      " 4   2차접종                           207 non-null    float32\n",
      " 5   일별접종수                          207 non-null    float32\n",
      "dtypes: float32(5), object(1)\n",
      "memory usage: 7.3+ KB\n"
     ]
    }
   ],
   "source": [
    "dat_df.info()"
   ]
  },
  {
   "cell_type": "markdown",
   "metadata": {},
   "source": [
    "### 파일 만들기"
   ]
  },
  {
   "cell_type": "code",
   "execution_count": 90,
   "metadata": {},
   "outputs": [
    {
     "name": "stdout",
     "output_type": "stream",
     "text": [
      "28\n",
      "20210929_00\n"
     ]
    }
   ],
   "source": [
    "from datetime import datetime\n",
    "import os\n",
    "\n",
    "now = datetime.now()\n",
    "file_make_time = \"%04d%02d%02d_%02d\" % (now.year, now.month, now.day, now.hour)\n",
    "print(now.day - 1)\n",
    "now_day = now.day\n",
    "now_hour = now.hour\n",
    "\n",
    "print( file_make_time )"
   ]
  },
  {
   "cell_type": "code",
   "execution_count": 91,
   "metadata": {},
   "outputs": [
    {
     "name": "stdout",
     "output_type": "stream",
     "text": [
      "C:\\Users\\toto\\Documents\\Github\\corona_analysis\n",
      "C:\\Users\\toto\\Documents\\Github\\corona_analysis\\data\\\n",
      "C:\\Users\\toto\\Documents\\Github\\corona_analysis\\data\\20210929_00\n"
     ]
    }
   ],
   "source": [
    "print( os.getcwd() )\n",
    "path_dir = os.getcwd() + \"\\\\data\\\\\"\n",
    "path_file = path_dir + file_make_time\n",
    "print( path_dir,  path_file, sep=\"\\n\" )"
   ]
  },
  {
   "cell_type": "code",
   "execution_count": 92,
   "metadata": {},
   "outputs": [
    {
     "data": {
      "text/plain": [
       "['2021-08-07_corona.csv',\n",
       " '2021-08-07_corona.xlsx',\n",
       " '2021-09-19_corona.csv',\n",
       " '2021-09-19_corona.xlsx',\n",
       " '2021-09-20_corona.csv',\n",
       " '2021-09-20_corona.xlsx',\n",
       " '2021-09-28_corona.csv',\n",
       " '2021-09-28_corona.xlsx',\n",
       " '20210808_16datamerge.csv',\n",
       " '20210808_16datamerge.xlsx',\n",
       " '20210808_16_today_corona.csv',\n",
       " '20210808_16_today_corona.xlsx',\n",
       " '20210808_16_vaccine_bloomberg.csv',\n",
       " '20210808_16_vaccine_bloomberg.xlsx',\n",
       " '20210920_00_vaccine_bloomberg.csv',\n",
       " '20210920_00_vaccine_bloomberg.xlsx',\n",
       " '20210921_00_datamerge.csv',\n",
       " '20210921_00_datamerge.xlsx',\n",
       " '20210929_00_vaccine_bloomberg.csv',\n",
       " '20210929_00_vaccine_bloomberg.xlsx',\n",
       " 'country.csv',\n",
       " 'country.xlsx']"
      ]
     },
     "execution_count": 92,
     "metadata": {},
     "output_type": "execute_result"
    }
   ],
   "source": [
    "dat_df.to_csv( path_file + \"_vaccine_bloomberg.csv\", index=False)\n",
    "dat_df.to_excel( path_file + \"_vaccine_bloomberg.xlsx\", index=False)\n",
    "os.listdir(path_dir)"
   ]
  },
  {
   "cell_type": "markdown",
   "metadata": {},
   "source": [
    "* history \n",
    " * 2021.08.08 version 01\n",
    "* 출처를 밝히시고 위의 내용에 대해 자유롭게 사용 가능합니다."
   ]
  }
 ],
 "metadata": {
  "kernelspec": {
   "display_name": "Python 3",
   "language": "python",
   "name": "python3"
  },
  "language_info": {
   "codemirror_mode": {
    "name": "ipython",
    "version": 3
   },
   "file_extension": ".py",
   "mimetype": "text/x-python",
   "name": "python",
   "nbconvert_exporter": "python",
   "pygments_lexer": "ipython3",
   "version": "3.8.8"
  }
 },
 "nbformat": 4,
 "nbformat_minor": 4
}
