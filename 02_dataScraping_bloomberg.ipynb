{
 "cells": [
  {
   "cell_type": "markdown",
   "metadata": {},
   "source": [
    "### 국가별 백신 접종률 정보 가져오기"
   ]
  },
  {
   "cell_type": "markdown",
   "metadata": {},
   "source": [
    "### 정보 수집 사이트 \n",
    "* bloomberg.com\n",
    "  * https://www.bloomberg.com/graphics/covid-vaccine-tracker-global-distribution/\n",
    "\n",
    "### 기타 참고 통계 사이트\n",
    "* our world in data\n",
    "  * https://ourworldindata.org/covid-vaccinations\n"
   ]
  },
  {
   "cell_type": "code",
   "execution_count": 1,
   "metadata": {},
   "outputs": [],
   "source": [
    "from IPython.display import display, Image\n",
    "import os, warnings\n",
    "import re\n",
    "warnings.filterwarnings(action='ignore')"
   ]
  },
  {
   "cell_type": "markdown",
   "metadata": {},
   "source": [
    "### 01 웹 브라우저 띄우기\n",
    " *  만약 chrome 브라우저와 chromedirver의 버전이 안 맞을 경우, 버전을 맞는 것으로 변경해야 함.(가끔 이 부분에서 에러 발생)\n",
    "   * 'chrome driver download'로 검색 후, 사이트에 접근 후, 다운로드 가능(window, linux, mac 버전 있음)"
   ]
  },
  {
   "cell_type": "code",
   "execution_count": 2,
   "metadata": {},
   "outputs": [],
   "source": [
    "from selenium import webdriver\n",
    "from bs4 import BeautifulSoup\n",
    "\n",
    "driver = webdriver.Chrome('./chromedriver_91')\n",
    "\n",
    "url = 'https://www.bloomberg.com/graphics/covid-vaccine-tracker-global-distribution/'\n",
    "driver.get(url)"
   ]
  },
  {
   "cell_type": "code",
   "execution_count": 3,
   "metadata": {},
   "outputs": [],
   "source": [
    "import time\n",
    "time.sleep(3)  # 홈페이지 로딩 시간 3초"
   ]
  },
  {
   "cell_type": "markdown",
   "metadata": {},
   "source": [
    "### 전체 데이터 보기\n",
    " * 나라가 여러나라가 있어, 더 보기 버튼을 2번 정도 눌러준다."
   ]
  },
  {
   "cell_type": "code",
   "execution_count": 4,
   "metadata": {},
   "outputs": [],
   "source": [
    "# //*[@id=\"dvz-table-global-vaccination\"]/div[2]/div[2]/button\n",
    "# //*[@id=\"dvz-table-global-vaccination\"]/div[2]/div[2]/button\n",
    "sel_more1 = driver.find_element_by_xpath('//*[@id=\"dvz-table-global-vaccination\"]/div[2]/div[2]/button')\n",
    "sel_more1.click()\n",
    "time.sleep(1)"
   ]
  },
  {
   "cell_type": "code",
   "execution_count": 5,
   "metadata": {},
   "outputs": [],
   "source": [
    "# //*[@id=\"dvz-table-usa-vaccination\"]/div[2]/div[2]/button\n",
    "sel_more2 = driver.find_element_by_xpath('//*[@id=\"dvz-table-global-vaccination\"]/div[2]/div[2]/button')\n",
    "sel_more2.click()"
   ]
  },
  {
   "cell_type": "markdown",
   "metadata": {},
   "source": [
    "### TABLE 선택 후, 데이터 가져오기"
   ]
  },
  {
   "cell_type": "markdown",
   "metadata": {},
   "source": [
    "#### Countries and regions \n",
    " * //*[@id=\"dvz-table-global-vaccination\"]/div[2]/div[1]/table/tbody/tr[1]/td[1]\n",
    " * ..\n",
    " * //*[@id=\"dvz-table-global-vaccination\"]/div[2]/div[1]/table/tbody/tr[3]/td[1]\n",
    " \n",
    "#### Doses administered\n",
    " * //*[@id=\"dvz-table-global-vaccination\"]/div[2]/div[1]/table/tbody/tr[1]/td[2]\n",
    " \n",
    "#### Enough for % of people\n",
    " * //*[@id=\"dvz-table-global-vaccination\"]/div[2]/div[1]/table/tbody/tr[1]/td[3]\n",
    " \n",
    "#### given 1+ dose\n",
    " * //*[@id=\"dvz-table-global-vaccination\"]/div[2]/div[1]/table/tbody/tr[1]/td[4]\n",
    " \n",
    "#### fully vaccinated\n",
    " * //*[@id=\"dvz-table-global-vaccination\"]/div[2]/div[1]/table/tbody/tr[1]/td[5]\n",
    " \n",
    "#### Daily rate of doses administered\n",
    " * //*[@id=\"dvz-table-global-vaccination\"]/div[2]/div[1]/table/tbody/tr[1]/td[6]\n",
    " "
   ]
  },
  {
   "cell_type": "code",
   "execution_count": null,
   "metadata": {},
   "outputs": [
    {
     "name": "stdout",
     "output_type": "stream",
     "text": [
      "['Global Total', 'Mainland China', 'India', 'EU', 'U.S.', 'Brazil', 'Japan', 'Indonesia', 'Germany', 'Turkey', 'Mexico', 'U.K.', '', '', '', '', '', 'France', 'Russia', 'Italy', 'Pakistan', 'Spain', 'South Korea', 'Canada', '', '', '', '', '', '', '', '', '', '', '', '', '', 'Argentina', 'Thailand', 'Iran', 'Saudi Arabia', 'Philippines', 'Malaysia', 'Colombia', 'Morocco', 'Poland', 'Bangladesh', 'Vietnam', 'Chile', 'Sri Lanka', 'Australia', 'Netherlands', 'Peru', 'Cambodia', 'Ecuador', 'UAE', 'Cuba', 'Uzbekistan', 'Ukraine', 'Belgium', 'South Africa', 'Portugal', 'Israel', 'Kazakhstan', 'Sweden', 'Taiwan', 'Egypt', 'Greece', 'Nepal', 'Czech Republic', 'Dominican Republic', 'Hungary', 'Venezuela', 'Austria', 'Switzerland', '', 'Algeria', 'Romania', 'Singapore', 'Denmark', 'Hong Kong', 'Myanmar', 'Azerbaijan', 'Norway', 'Finland', 'Ireland', 'El Salvador', 'Tunisia', 'Jordan', 'Iraq', 'Bolivia', 'Serbia', 'Guatemala', 'Uruguay', 'Nigeria', 'Panama', 'Zimbabwe', 'Costa Rica', 'Slovakia', 'Qatar', 'Honduras', 'New Zealand', 'Mongolia', 'Laos', 'Paraguay', 'Oman', 'Tajikistan', 'Mozambique', 'Croatia', 'Kenya', 'Lithuania', 'Belarus', 'Ethiopia', 'Rwanda', 'Lebanon', 'Bahrain', 'Angola', 'Bulgaria', 'Kuwait', 'Slovenia', 'Afghanistan', 'Senegal', 'Ivory Coast', 'Uganda', 'Albania', 'Mauritius', 'Georgia', 'Latvia', 'North Macedonia', 'Sudan', 'Libya', 'Guinea', 'Moldova', 'Estonia', 'Kyrgyzstan', 'Ghana', 'Kosovo', 'Cyprus', 'Bosnia and Herzegovina', 'Bhutan', 'Trinidad and Tobago', 'Malawi', 'Fiji', 'Mauritania', 'Malta', 'Luxembourg', 'Nicaragua', 'Maldives', 'Jamaica', 'Togo', 'Zambia', 'Timor-Leste', 'Macau', 'Niger', 'Botswana', 'Iceland', 'Syria', 'Guyana', 'Cameroon', 'Montenegro', 'Brunei', 'Suriname', 'Equatorial Guinea', 'Namibia', 'Mali', 'Cape Verde', 'Somalia', 'Tanzania', 'Armenia', 'Comoros', 'Yemen', 'Republic of the Congo', 'Madagascar', 'Belize', 'Sierra Leone', 'Barbados', 'Eswatini', 'Gambia', 'Lesotho', 'Curaçao', 'Benin', 'Bahamas', 'Burkina Faso', 'Papua New Guinea', 'Aruba', 'Jersey', 'Gabon', 'Seychelles', 'Samoa', 'Central African Republic', 'Isle of Man', 'DR Congo', 'Liberia', 'Chad', 'Cayman Islands', 'Greenland', 'Guernsey', 'Solomon Islands', 'Andorra', 'Bermuda', 'Antigua and Barbuda', 'Gibraltar', 'Faroe Islands', 'St. Lucia', 'Micronesia', 'Tonga', 'South Sudan', 'Djibouti', 'Haiti', 'Sao Tome and Principe', 'Turks & Caicos', 'Monaco', 'Sint Maarten', 'Grenada', 'San Marino', 'Saint Kitts and Nevis', 'Dominica', 'Turkmenistan', 'St. Vincent and the Grenadines', 'Guinea-Bissau', 'Anguilla', 'Nauru', 'St. Helena', 'Falkland Islands', 'Montserrat', 'Eritrea']\n",
      "['5,952,519,271', '2,174,043,000', '808,389,296', '555,087,703', '385,586,012', '222,322,654', '149,882,538', '123,454,771', '105,407,388', '105,114,638', '95,271,399', '93,002,090', '', '', '', '', '', '92,262,410', '87,810,615', '82,377,669', '72,986,511', '69,094,664', '58,590,415', '55,060,361', '', '', '', '', '', '', '', '', '', '', '', '', '', '49,017,568', '44,485,657', '42,003,863', '40,888,115', '40,518,845', '40,375,056', '38,331,643', '37,238,088', '36,947,137', '36,832,791', '33,555,359', '30,785,686', '24,803,998', '24,619,474', '23,320,388', '23,158,835', '21,612,643', '20,456,671', '19,445,872', '17,766,271', '17,435,318', '16,558,742', '16,442,235', '15,992,374', '15,550,992', '14,732,087', '13,427,908', '13,403,076', '13,171,843', '12,194,537', '11,880,179', '11,782,181', '11,712,553', '11,632,704', '11,167,215', '11,094,206', '10,717,808', '10,055,192', '', '9,989,662', '9,940,596', '9,104,751', '8,773,849', '8,380,084', '8,184,418', '7,806,235', '7,586,733', '7,374,481', '7,119,653', '7,065,918', '7,017,171', '6,805,103', '6,672,182', '6,382,661', '6,275,408', '6,118,069', '6,017,599', '5,858,737', '5,053,633', '4,964,302', '4,872,085', '4,711,472', '4,658,268', '4,637,151', '4,569,255', '4,429,335', '4,402,770', '4,401,222', '4,336,872', '3,446,777', '3,427,486', '3,364,565', '3,351,109', '3,317,832', '3,206,505', '2,960,109', '2,882,134', '2,814,277', '2,535,900', '2,469,333', '2,463,666', '2,380,000', '2,054,659', '1,979,652', '1,768,064', '1,698,973', '1,697,748', '1,632,986', '1,625,865', '1,610,309', '1,580,207', '1,435,392', '1,423,327', '1,393,696', '1,387,699', '1,360,193', '1,333,138', '1,331,001', '1,271,393', '1,147,803', '1,129,665', '1,060,145', '1,046,117', '1,020,031', '1,001,022', '912,149', '826,529', '811,704', '779,620', '769,105', '720,666', '702,693', '651,941', '648,103', '643,324', '633,071', '621,853', '587,595', '547,788', '533,949', '518,295', '444,521', '433,867', '385,602', '376,605', '375,200', '374,178', '370,529', '368,789', '351,305', '350,000', '335,721', '334,369', '322,934', '319,231', '283,091', '275,719', '221,110', '221,000', '210,277', '201,835', '201,795', '185,694', '175,926', '173,130', '166,160', '154,710', '154,447', '150,379', '146,464', '143,490', '142,566', '135,918', '128,915', '120,062', '113,680', '104,707', '104,609', '102,357', '101,487', '97,744', '93,430', '86,194', '79,922', '79,269', '73,208', '72,370', '69,970', '68,404', '67,109', '66,010', '57,341', '57,154', '51,838', '49,980', '48,882', '48,140', '46,917', '46,884', '43,971', '41,993', '32,126', '31,090', '18,565', '14,863', '7,892', '4,407', '2,840', '–']\n"
     ]
    }
   ],
   "source": [
    "all_data = []\n",
    "\n",
    "for i in range(1, 7, 1):\n",
    "    data_col = []\n",
    "    xpath = '//*[@id=\"dvz-table-global-vaccination\"]/div[2]/div[1]/table/tbody/tr/td[%s]' % str(i) \n",
    "    sel_data = driver.find_elements_by_xpath(xpath)\n",
    "    \n",
    "    for dat in sel_data:\n",
    "        #print(dat)\n",
    "        data_col.append(dat.text)\n",
    "    print(data_col)\n",
    "    all_data.append(data_col)"
   ]
  },
  {
   "cell_type": "code",
   "execution_count": null,
   "metadata": {},
   "outputs": [],
   "source": [
    "import pandas as pd"
   ]
  },
  {
   "cell_type": "markdown",
   "metadata": {},
   "source": [
    "### 데이터 확인 \n",
    " * Countries and regions : 나라 및 지역 / country 컬럼\n",
    " * Doses administered : 접종 수 / Doses_administered 컬럼\n",
    " * Enough for % of people : 접종률 / percent_of_people 컬럼\n",
    " * given 1+ dose : 1차 접종 / 1_percent 컬럼\n",
    " * fully vaccinated : 2차 접종 / 2_percent 컬럼\n",
    " * Daily_rate_of_doses_administered : 일일 투여 용량 / Daily_rate_of_doses 컬럼"
   ]
  },
  {
   "cell_type": "code",
   "execution_count": null,
   "metadata": {
    "scrolled": false
   },
   "outputs": [],
   "source": [
    "pd.set_option(\"display.max_rows\", 40)\n",
    "\n",
    "dat_dict = {'country':all_data[0],\n",
    "            'Doses_administered':all_data[1],\n",
    "            'percent_of_people:':all_data[2],\n",
    "            '1_percent':all_data[3],\n",
    "            '2_percent':all_data[4],\n",
    "            'Daily_rate_of_doses':all_data[5]\n",
    "           }\n",
    "\n",
    "dat_df = pd.DataFrame(dat_dict)\n",
    "dat_df"
   ]
  },
  {
   "cell_type": "code",
   "execution_count": null,
   "metadata": {},
   "outputs": [],
   "source": [
    "dat_df.info()"
   ]
  },
  {
   "cell_type": "markdown",
   "metadata": {},
   "source": [
    "### 데이터 전처리\n",
    " * 데이터가 없거나 제대로 얻어지지 못한 부분. 그리고 추가 컬럼 등을 생성"
   ]
  },
  {
   "cell_type": "code",
   "execution_count": null,
   "metadata": {},
   "outputs": [],
   "source": [
    "### 공백행을 삭제\n",
    "dat_df['country'].str.len()"
   ]
  },
  {
   "cell_type": "markdown",
   "metadata": {},
   "source": [
    "### 한나라의 중복 행의 존재로 이 부분은 정보 취득 못함"
   ]
  },
  {
   "cell_type": "code",
   "execution_count": null,
   "metadata": {},
   "outputs": [],
   "source": [
    "dat_df.loc[ dat_df['country'].str.len() <1, : ]"
   ]
  },
  {
   "cell_type": "code",
   "execution_count": null,
   "metadata": {},
   "outputs": [],
   "source": [
    "sel_index = dat_df[ dat_df['country'].str.len() <1 ].index\n",
    "print(sel_index)\n",
    "dat_df.drop (sel_index, axis=0, inplace=True  )"
   ]
  },
  {
   "cell_type": "code",
   "execution_count": null,
   "metadata": {},
   "outputs": [],
   "source": [
    "dat_df = dat_df.reindex()\n",
    "dat_df.shape"
   ]
  },
  {
   "cell_type": "code",
   "execution_count": null,
   "metadata": {},
   "outputs": [],
   "source": [
    "dat_df.loc[dat_df['Doses_administered'] == '–']"
   ]
  },
  {
   "cell_type": "code",
   "execution_count": null,
   "metadata": {},
   "outputs": [],
   "source": [
    "dat_df.loc[dat_df['Daily_rate_of_doses'] == '–']"
   ]
  },
  {
   "cell_type": "code",
   "execution_count": null,
   "metadata": {},
   "outputs": [],
   "source": [
    "dat_df.columns"
   ]
  },
  {
   "cell_type": "code",
   "execution_count": null,
   "metadata": {},
   "outputs": [],
   "source": [
    "col_all = dat_df.columns\n",
    "for one in col_all:\n",
    "    print(\"col name : \", one)\n",
    "    print( dat_df.loc[dat_df[one] == '–', one].count() )\n",
    "    print(\"\\n\")"
   ]
  },
  {
   "cell_type": "markdown",
   "metadata": {},
   "source": [
    "### 결측치(비어 있는 값)를 -999로 처리한다."
   ]
  },
  {
   "cell_type": "code",
   "execution_count": null,
   "metadata": {},
   "outputs": [],
   "source": [
    "col_all = dat_df.columns\n",
    "for one in col_all:\n",
    "    print(\"col name : \", one)\n",
    "    print( dat_df.loc[dat_df[one] == '–', one].count() )\n",
    "    dat_df.loc[dat_df[one] == '–', one] = \"-999\"      # -은 이상치 -999로 치환\n",
    "    dat_df.loc[dat_df[one] == '<0.1', one] = \"0.05\"   # <0.1은 0.05로 치환\n",
    "    \n",
    "    print(\"\\n\")"
   ]
  },
  {
   "cell_type": "markdown",
   "metadata": {},
   "source": [
    "### 확인"
   ]
  },
  {
   "cell_type": "code",
   "execution_count": null,
   "metadata": {},
   "outputs": [],
   "source": [
    "col_all = dat_df.columns\n",
    "for one in col_all:\n",
    "    print(\"col name : \", one)\n",
    "    print( dat_df.loc[dat_df[one] == '–', one].count() )"
   ]
  },
  {
   "cell_type": "markdown",
   "metadata": {},
   "source": [
    "### ','을 처리"
   ]
  },
  {
   "cell_type": "code",
   "execution_count": null,
   "metadata": {},
   "outputs": [],
   "source": [
    "\n",
    "dat_df['Doses_administered'] = dat_df['Doses_administered'].str.replace(',', '')\n",
    "dat_df['Daily_rate_of_doses'] = dat_df['Daily_rate_of_doses'].str.replace(',', '')\n"
   ]
  },
  {
   "cell_type": "code",
   "execution_count": null,
   "metadata": {},
   "outputs": [],
   "source": [
    "dat_df.head(10)"
   ]
  },
  {
   "cell_type": "markdown",
   "metadata": {},
   "source": [
    "### 데이터 전처리 후, 확인"
   ]
  },
  {
   "cell_type": "code",
   "execution_count": null,
   "metadata": {},
   "outputs": [],
   "source": [
    "dat_df.info()"
   ]
  },
  {
   "cell_type": "code",
   "execution_count": null,
   "metadata": {},
   "outputs": [],
   "source": [
    "dat_df.Doses_administered.unique()"
   ]
  },
  {
   "cell_type": "code",
   "execution_count": null,
   "metadata": {},
   "outputs": [],
   "source": [
    "dat_df.isnull().sum()"
   ]
  },
  {
   "cell_type": "code",
   "execution_count": null,
   "metadata": {},
   "outputs": [],
   "source": [
    "dat_df['Doses_administered'].unique()"
   ]
  },
  {
   "cell_type": "code",
   "execution_count": null,
   "metadata": {},
   "outputs": [],
   "source": [
    "dat_df['Doses_administered'].head(30)"
   ]
  },
  {
   "cell_type": "code",
   "execution_count": null,
   "metadata": {},
   "outputs": [],
   "source": [
    "dat_df.loc[dat_df['Doses_administered'].isna() , : ] "
   ]
  },
  {
   "cell_type": "code",
   "execution_count": null,
   "metadata": {},
   "outputs": [],
   "source": [
    "dat_df.iloc[ 15:25, :]"
   ]
  },
  {
   "cell_type": "code",
   "execution_count": null,
   "metadata": {},
   "outputs": [],
   "source": [
    "dat_df_num = dat_df.iloc[:, 1:]\n",
    "dat_df_num.columns"
   ]
  },
  {
   "cell_type": "code",
   "execution_count": null,
   "metadata": {},
   "outputs": [],
   "source": [
    "sel_col = dat_df_num.columns\n",
    "for one in sel_col:\n",
    "    print(\"col name :\", one)\n",
    "    dat_df[one] = dat_df[one].astype('float32')\n",
    "    \n",
    "dat_df.info()"
   ]
  },
  {
   "cell_type": "markdown",
   "metadata": {},
   "source": [
    "### 파일 만들기"
   ]
  },
  {
   "cell_type": "code",
   "execution_count": null,
   "metadata": {},
   "outputs": [],
   "source": [
    "from datetime import datetime\n",
    "import os\n",
    "\n",
    "now = datetime.now()\n",
    "file_make_time = \"%04d%02d%02d_%02d\" % (now.year, now.month, now.day, now.hour)\n",
    "print(now.day - 1)\n",
    "now_day = now.day\n",
    "now_hour = now.hour\n",
    "\n",
    "print( file_make_time )"
   ]
  },
  {
   "cell_type": "code",
   "execution_count": null,
   "metadata": {},
   "outputs": [],
   "source": [
    "print( os.getcwd() )\n",
    "path_dir = os.getcwd() + \"\\\\data\\\\\"\n",
    "path_file = path_dir + file_make_time\n",
    "print( path_dir,  path_file, sep=\"\\n\" )"
   ]
  },
  {
   "cell_type": "code",
   "execution_count": null,
   "metadata": {},
   "outputs": [],
   "source": [
    "dat_df.to_csv( path_file + \"_vaccine_bloomberg.csv\", index=False)\n",
    "dat_df.to_excel( path_file + \"_vaccine_bloomberg.xlsx\", index=False)\n",
    "os.listdir(path_dir)"
   ]
  },
  {
   "cell_type": "markdown",
   "metadata": {},
   "source": [
    "* history \n",
    " * 2021.08.08 version 01\n",
    "* 출처를 밝히시고 위의 내용에 대해 자유롭게 사용 가능합니다."
   ]
  },
  {
   "cell_type": "code",
   "execution_count": null,
   "metadata": {},
   "outputs": [],
   "source": []
  }
 ],
 "metadata": {
  "kernelspec": {
   "display_name": "Python 3",
   "language": "python",
   "name": "python3"
  },
  "language_info": {
   "codemirror_mode": {
    "name": "ipython",
    "version": 3
   },
   "file_extension": ".py",
   "mimetype": "text/x-python",
   "name": "python",
   "nbconvert_exporter": "python",
   "pygments_lexer": "ipython3",
   "version": "3.8.8"
  }
 },
 "nbformat": 4,
 "nbformat_minor": 4
}
