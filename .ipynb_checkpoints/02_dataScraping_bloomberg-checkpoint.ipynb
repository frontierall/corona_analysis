{
 "cells": [
  {
   "cell_type": "markdown",
   "metadata": {},
   "source": [
    "### 국가별 백신 접종률 정보 가져오기"
   ]
  },
  {
   "cell_type": "markdown",
   "metadata": {},
   "source": [
    "### 정보 수집 사이트 \n",
    "* bloomberg.com\n",
    "  * https://www.bloomberg.com/graphics/covid-vaccine-tracker-global-distribution/\n",
    "\n",
    "### 기타 참고 통계 사이트\n",
    "* our world in data\n",
    "  * https://ourworldindata.org/covid-vaccinations\n"
   ]
  },
  {
   "cell_type": "code",
   "execution_count": 1,
   "metadata": {},
   "outputs": [],
   "source": [
    "from IPython.display import display, Image\n",
    "import os, warnings\n",
    "import re\n",
    "warnings.filterwarnings(action='ignore')"
   ]
  },
  {
   "cell_type": "markdown",
   "metadata": {},
   "source": [
    "### 01 웹 브라우저 띄우기\n",
    " *  만약 chrome 브라우저와 chromedirver의 버전이 안 맞을 경우, 버전을 맞는 것으로 변경해야 함.(가끔 이 부분에서 에러 발생)\n",
    "   * 'chrome driver download'로 검색 후, 사이트에 접근 후, 다운로드 가능(window, linux, mac 버전 있음)"
   ]
  },
  {
   "cell_type": "code",
   "execution_count": 2,
   "metadata": {},
   "outputs": [],
   "source": [
    "from selenium import webdriver\n",
    "from bs4 import BeautifulSoup\n",
    "\n",
    "driver = webdriver.Chrome('./chromedriver/chromedriver_91')\n",
    "\n",
    "url = 'https://www.bloomberg.com/graphics/covid-vaccine-tracker-global-distribution/'\n",
    "driver.get(url)"
   ]
  },
  {
   "cell_type": "code",
   "execution_count": 3,
   "metadata": {},
   "outputs": [],
   "source": [
    "import time\n",
    "time.sleep(3)  # 홈페이지 로딩 시간 3초"
   ]
  },
  {
   "cell_type": "markdown",
   "metadata": {},
   "source": [
    "### 전체 데이터 보기\n",
    " * 나라가 여러나라가 있어, 더 보기 버튼을 2번 정도 눌러준다."
   ]
  },
  {
   "cell_type": "code",
   "execution_count": 4,
   "metadata": {},
   "outputs": [],
   "source": [
    "# //*[@id=\"dvz-table-global-vaccination\"]/div[2]/div[2]/button\n",
    "# //*[@id=\"dvz-table-global-vaccination\"]/div[2]/div[2]/button\n",
    "sel_more1 = driver.find_element_by_xpath('//*[@id=\"dvz-table-global-vaccination\"]/div[2]/div[2]/button')\n",
    "sel_more1.click()\n",
    "time.sleep(1)"
   ]
  },
  {
   "cell_type": "code",
   "execution_count": 5,
   "metadata": {},
   "outputs": [],
   "source": [
    "# //*[@id=\"dvz-table-usa-vaccination\"]/div[2]/div[2]/button\n",
    "sel_more2 = driver.find_element_by_xpath('//*[@id=\"dvz-table-global-vaccination\"]/div[2]/div[2]/button')\n",
    "sel_more2.click()"
   ]
  },
  {
   "cell_type": "markdown",
   "metadata": {},
   "source": [
    "### TABLE 선택 후, 데이터 가져오기"
   ]
  },
  {
   "cell_type": "markdown",
   "metadata": {},
   "source": [
    "#### Countries and regions \n",
    " * //*[@id=\"dvz-table-global-vaccination\"]/div[2]/div[1]/table/tbody/tr[1]/td[1]\n",
    " * ..\n",
    " * //*[@id=\"dvz-table-global-vaccination\"]/div[2]/div[1]/table/tbody/tr[3]/td[1]\n",
    " \n",
    "#### Doses administered\n",
    " * //*[@id=\"dvz-table-global-vaccination\"]/div[2]/div[1]/table/tbody/tr[1]/td[2]\n",
    " \n",
    "#### Enough for % of people\n",
    " * //*[@id=\"dvz-table-global-vaccination\"]/div[2]/div[1]/table/tbody/tr[1]/td[3]\n",
    " \n",
    "#### given 1+ dose\n",
    " * //*[@id=\"dvz-table-global-vaccination\"]/div[2]/div[1]/table/tbody/tr[1]/td[4]\n",
    " \n",
    "#### fully vaccinated\n",
    " * //*[@id=\"dvz-table-global-vaccination\"]/div[2]/div[1]/table/tbody/tr[1]/td[5]\n",
    " \n",
    "#### Daily rate of doses administered\n",
    " * //*[@id=\"dvz-table-global-vaccination\"]/div[2]/div[1]/table/tbody/tr[1]/td[6]\n",
    " "
   ]
  },
  {
   "cell_type": "code",
   "execution_count": 6,
   "metadata": {},
   "outputs": [
    {
     "name": "stdout",
     "output_type": "stream",
     "text": [
      "['Global Total', 'Mainland China', 'India', 'EU', 'U.S.', 'Brazil', 'Japan', 'Indonesia', 'Germany', 'Turkey', 'Mexico', 'U.K.', '', '', '', '', '', 'France', 'Russia', 'Italy', 'Pakistan', 'Spain', 'South Korea', 'Canada', '', '', '', '', '', '', '', '', '', '', '', '', '', 'Argentina', 'Thailand', 'Saudi Arabia', 'Philippines', 'Malaysia', 'Colombia', 'Morocco', 'Poland', 'Iran', 'Bangladesh', 'Vietnam', 'Chile', 'Sri Lanka', 'Australia', 'Netherlands', 'Peru', 'Cambodia', 'Ecuador', 'UAE', 'Cuba', 'Uzbekistan', 'Ukraine', 'Belgium', 'South Africa', 'Portugal', 'Israel', 'Sweden', 'Kazakhstan', 'Taiwan', 'Egypt', 'Greece', 'Nepal', 'Czech Republic', 'Dominican Republic', 'Hungary', 'Venezuela', 'Austria', 'Switzerland', '', 'Algeria', 'Romania', 'Singapore', 'Denmark', 'Hong Kong', 'Myanmar', 'Azerbaijan', 'Norway', 'Finland', 'Ireland', 'El Salvador', 'Tunisia', 'Jordan', 'Iraq', 'Bolivia', 'Serbia', 'Guatemala', 'Uruguay', 'Nigeria', 'Panama', 'Zimbabwe', 'Costa Rica', 'Slovakia', 'Qatar', 'Honduras', 'New Zealand', 'Mongolia', 'Laos', 'Paraguay', 'Oman', 'Tajikistan', 'Mozambique', 'Croatia', 'Kenya', 'Lithuania', 'Belarus', 'Ethiopia', 'Rwanda', 'Lebanon', 'Bahrain', 'Angola', 'Bulgaria', 'Kuwait', 'Slovenia', 'Afghanistan', 'Senegal', 'Ivory Coast', 'Albania', 'Mauritius', 'Uganda', 'Georgia', 'Latvia', 'North Macedonia', 'Sudan', 'Libya', 'Guinea', 'Moldova', 'Estonia', 'Kyrgyzstan', 'Ghana', 'Cyprus', 'Kosovo', 'Bosnia and Herzegovina', 'Bhutan', 'Trinidad and Tobago', 'Malawi', 'Fiji', 'Mauritania', 'Malta', 'Luxembourg', 'Nicaragua', 'Maldives', 'Jamaica', 'Togo', 'Timor-Leste', 'Zambia', 'Macau', 'Niger', 'Botswana', 'Iceland', 'Syria', 'Guyana', 'Cameroon', 'Montenegro', 'Brunei', 'Suriname', 'Equatorial Guinea', 'Namibia', 'Mali', 'Cape Verde', 'Somalia', 'Tanzania', 'Armenia', 'Comoros', 'Yemen', 'Republic of the Congo', 'Madagascar', 'Belize', 'Sierra Leone', 'Barbados', 'Eswatini', 'Gambia', 'Lesotho', 'Curaçao', 'Benin', 'Bahamas', 'Burkina Faso', 'Papua New Guinea', 'Aruba', 'Jersey', 'Gabon', 'Seychelles', 'Samoa', 'Central African Republic', 'Isle of Man', 'DR Congo', 'Liberia', 'Chad', 'Cayman Islands', 'Greenland', 'Guernsey', 'Solomon Islands', 'Andorra', 'Bermuda', 'Antigua and Barbuda', 'Gibraltar', 'Faroe Islands', 'St. Lucia', 'Micronesia', 'Tonga', 'South Sudan', 'Djibouti', 'Haiti', 'Sao Tome and Principe', 'Turks & Caicos', 'Monaco', 'Sint Maarten', 'Grenada', 'San Marino', 'Saint Kitts and Nevis', 'Dominica', 'Turkmenistan', 'St. Vincent and the Grenadines', 'Guinea-Bissau', 'Anguilla', 'Nauru', 'St. Helena', 'Falkland Islands', 'Montserrat', 'Eritrea']\n",
      "['5,928,442,469', '2,170,017,000', '804,097,478', '554,846,104', '384,911,290', '220,596,996', '149,882,538', '122,644,106', '105,407,388', '104,945,801', '94,300,526', '92,905,614', '', '', '', '', '', '92,262,410', '87,736,626', '82,238,635', '72,986,511', '69,094,664', '58,008,049', '55,003,800', '', '', '', '', '', '', '', '', '', '', '', '', '', '48,643,176', '43,342,103', '40,691,717', '40,518,845', '40,155,975', '38,171,733', '37,238,088', '36,922,081', '36,753,231', '36,298,150', '32,296,517', '30,772,997', '24,689,082', '24,392,438', '23,320,388', '23,158,835', '21,612,643', '20,456,671', '19,412,656', '17,498,490', '17,435,318', '16,476,275', '16,442,235', '15,970,308', '15,550,992', '14,671,507', '13,403,076', '13,368,189', '13,171,843', '12,194,537', '11,879,410', '11,760,821', '11,708,897', '11,620,587', '11,167,215', '11,094,206', '10,707,002', '10,055,192', '', '9,989,662', '9,935,978', '9,084,721', '8,769,041', '8,356,527', '8,184,418', '7,806,235', '7,586,733', '7,358,931', '7,105,991', '7,065,918', '7,017,171', '6,786,367', '6,672,182', '6,382,661', '6,238,655', '6,069,048', '6,017,599', '5,858,737', '5,049,557', '4,964,302', '4,872,085', '4,710,075', '4,653,019', '4,637,151', '4,569,255', '4,429,335', '4,402,770', '4,401,222', '4,336,872', '3,446,777', '3,427,486', '3,356,659', '3,337,913', '3,316,080', '3,206,505', '2,960,109', '2,882,134', '2,814,277', '2,534,296', '2,469,333', '2,461,969', '2,380,000', '2,047,285', '1,979,652', '1,768,064', '1,698,973', '1,632,986', '1,625,865', '1,622,367', '1,610,309', '1,580,207', '1,435,392', '1,423,327', '1,393,696', '1,387,699', '1,359,731', '1,330,145', '1,327,177', '1,271,393', '1,129,665', '1,110,286', '1,060,145', '1,046,117', '1,014,945', '1,001,022', '912,149', '826,529', '811,183', '779,620', '769,105', '720,666', '702,693', '651,941', '643,324', '636,600', '633,071', '621,853', '587,595', '547,788', '533,949', '518,295', '444,521', '433,269', '385,602', '376,605', '375,200', '374,178', '370,529', '368,789', '351,305', '350,000', '335,721', '334,369', '322,934', '319,231', '283,091', '275,719', '221,110', '221,000', '210,277', '201,835', '201,795', '185,169', '175,926', '173,130', '166,160', '154,710', '154,447', '150,379', '146,464', '145,620', '142,566', '135,918', '128,915', '120,062', '113,680', '104,707', '104,609', '102,357', '101,487', '97,744', '93,430', '86,194', '79,922', '79,269', '73,208', '71,517', '69,970', '68,404', '67,109', '66,010', '57,341', '57,154', '51,838', '49,980', '48,882', '48,140', '46,917', '46,884', '43,971', '41,993', '32,126', '31,090', '18,565', '14,863', '7,892', '4,407', '2,840', '–']\n",
      "['–', '77.5', '29.4', '62.5', '60.1', '53.5', '59.4', '23.0', '63.4', '63.1', '37.0', '69.5', '', '', '', '', '', '71.2', '29.9', '68.1', '17.8', '74.3', '56.1', '73.3', '', '', '', '', '', '', '', '', '', '', '', '', '', '54.1', '31.1', '59.7', '18.9', '61.6', '37.9', '52.3', '48.6', '22.1', '10.9', '16.7', '80.5', '56.6', '47.8', '67.7', '34.9', '65.5', '59.2', '90.3', '77.2', '26.2', '19.7', '71.8', '15.3', '75.7', '81.0', '64.9', '35.9', '27.9', '6.1', '55.4', '20.7', '55.0', '56.1', '57.1', '19.9', '60.4', '58.8', '', '11.5', '25.6', '79.6', '75.5', '55.6', '7.7', '39.1', '70.8', '66.7', '71.8', '54.7', '29.8', '33.7', '8.5', '27.6', '44.8', '17.2', '85.5', '1.5', '59.8', '16.7', '48.0', '43.2', '83.2', '23.7', '46.4', '67.2', '30.7', '30.8', '51.7', '18.5', '5.5', '41.3', '3.5', '59.6', '16.9', '1.5', '11.6', '20.5', '85.4', '4.1', '17.7', '25.1', '50.5', '2.7', '5.4', '3.2', '28.4', '64.2', '2.0', '21.6', '41.2', '34.5', '1.6', '10.6', '5.1', '25.3', '50.2', '10.4', '2.1', '64.5', '30.8', '16.1', '70.2', '36.4', '2.5', '51.0', '10.2', '82.1', '63.5', '5.9', '96.9', '12.9', '4.0', '24.9', '1.7', '46.5', '1.3', '12.4', '76.7', '–', '33.0', '0.9', '34.8', '41.9', '31.5', '13.8', '7.6', '1.0', '33.5', '1.2', '0.3', '5.7', '19.1', '0.5', '3.5', '0.5', '33.8', '1.4', '38.5', '9.4', '4.3', '4.9', '56.8', '0.7', '22.7', '0.4', '0.9', '68.9', '–', '3.5', '75.8', '35.5', '1.4', '75.8', '0.1', '1.2', '0.3', '80.5', '89.8', '–', '7.6', '60.7', '68.4', '41.2', '116.6', '74.7', '19.9', '33.6', '34.2', '0.3', '3.1', '0.3', '13.4', '68.2', '64.1', '58.2', '22.1', '69.0', '41.1', '31.0', '0.4', '14.6', '0.9', '61.9', '57.2', '65.8', '73.5', '28.4', '–']\n",
      "['–', '78.5', '42.9', '66.6', '63.7', '69.1', '65.5', '29.0', '67.1', '63.3', '48.3', '72.7', '', '', '', '', '', '76.7', '31.9', '73.1', '26.6', '80.4', '69.8', '75.4', '', '', '', '', '', '', '', '', '', '', '', '', '', '64.4', '40.8', '67.6', '22.2', '67.1', '49.1', '57.2', '51.7', '27.6', '13.1', '27.3', '76.8', '62.8', '57.9', '70.0', '42.0', '70.4', '63.6', '84.3', '68.0', '29.4', '27.2', '74.3', '19.3', '86.1', '67.0', '68.5', '38.8', '49.1', '7.9', '59.3', '21.4', '56.7', '57.5', '59.9', '24.5', '63.8', '61.7', '', '13.4', '27.6', '81.6', '76.5', '58.5', '9.4', '45.8', '75.5', '74.3', '75.7', '60.0', '39.1', '35.9', '10.7', '36.0', '42.9', '22.8', '77.2', '2.1', '68.6', '19.7', '62.0', '44.3', '84.4', '30.2', '61.2', '68.2', '37.0', '35.7', '64.6', '23.3', '6.0', '43.6', '5.1', '61.8', '18.5', '2.5', '14.7', '22.5', '78.2', '5.0', '17.1', '56.2', '52.3', '2.1', '7.4', '4.5', '31.8', '66.5', '2.6', '25.1', '46.3', '36.9', '1.5', '19.0', '7.0', '22.7', '56.2', '11.9', '2.9', '67.2', '39.5', '19.2', '76.1', '39.8', '3.7', '63.7', '7.7', '84.7', '67.9', '7.5', '105.0', '18.6', '5.1', '31.6', '1.8', '49.8', '1.7', '16.0', '78.8', '–', '43.5', '1.4', '36.8', '51.5', '36.3', '15.7', '9.4', '1.5', '49.5', '1.5', '–', '7.3', '20.0', '1.0', '4.5', '0.8', '44.2', '2.3', '43.2', '16.2', '8.4', '2.0', '59.6', '0.5', '27.8', '0.8', '1.3', '72.0', '–', '4.0', '77.4', '48.3', '2.2', '77.0', '0.1', '2.5', '0.5', '83.3', '124.5', '–', '11.6', '67.0', '69.1', '45.3', '117.2', '76.7', '23.7', '40.8', '41.1', '0.4', '3.7', '0.4', '21.2', '71.6', '68.4', '60.8', '26.2', '71.6', '43.8', '32.8', '0.6', '17.7', '1.6', '63.3', '58.6', '72.7', '87.7', '29.3', '–']\n"
     ]
    },
    {
     "name": "stdout",
     "output_type": "stream",
     "text": [
      "['–', '72.3', '14.0', '62.7', '54.5', '37.2', '53.3', '16.5', '63.0', '50.4', '32.2', '66.4', '', '', '', '', '', '72.7', '27.6', '67.7', '11.7', '77.0', '42.4', '69.6', '', '', '', '', '', '', '', '', '', '', '', '', '', '43.8', '20.5', '51.7', '16.8', '55.7', '31.6', '47.4', '50.6', '16.6', '8.7', '6.2', '73.3', '49.8', '36.4', '63.4', '27.9', '61.3', '56.5', '74.2', '39.2', '10.1', '12.3', '72.4', '13.2', '81.0', '61.6', '61.3', '32.5', '6.7', '4.4', '55.4', '19.4', '55.3', '53.2', '56.9', '15.4', '60.3', '53.7', '', '9.6', '27.0', '79.7', '74.5', '52.6', '6.1', '32.4', '66.1', '59.1', '72.6', '49.4', '26.6', '31.3', '6.3', '26.1', '41.0', '11.1', '72.7', '0.9', '51.1', '13.6', '34.0', '40.8', '79.4', '17.3', '31.6', '66.3', '26.0', '25.9', '38.8', '13.8', '5.0', '40.9', '1.8', '57.3', '15.4', '0.6', '8.5', '18.5', '74.4', '3.2', '18.3', '19.4', '46.7', '1.2', '3.5', '1.0', '25.1', '61.8', '0.9', '18.1', '41.8', '32.1', '1.2', '2.1', '3.2', '28.0', '43.8', '8.8', '1.3', '61.7', '22.2', '12.9', '64.3', '32.9', '2.3', '38.2', '0.5', '84.6', '6.2', '4.3', '88.7', '7.9', '2.9', '18.1', '1.6', '43.6', '0.4', '9.3', '76.8', '–', '22.5', '0.3', '32.5', '32.3', '26.8', '11.8', '5.8', '0.5', '17.3', '0.8', '–', '4.1', '18.3', '<0.1', '2.5', '0.3', '23.4', '0.5', '33.8', '15.5', '7.1', '–', '54.0', '–', '17.3', '0.5', '0.5', '65.9', '–', '3.0', '72.6', '22.7', '1.1', '74.7', '<0.1', '0.6', '0.1', '77.6', '62.9', '–', '3.6', '54.3', '67.7', '37.1', '116.0', '72.7', '16.1', '–', '27.3', '0.1', '2.4', '0.2', '5.7', '64.8', '59.8', '55.6', '18.0', '71.6', '38.4', '29.1', '0.2', '11.5', '0.2', '60.4', '55.8', '58.9', '59.2', '27.5', '–']\n",
      "['33,566,922', '4,968,143', '9,428,208', '1,045,303', '777,010', '1,757,773', '1,157,828', '1,383,841', '203,672', '492,710', '445,464', '87,831', '', '', '', '', '', '243,924', '355,377', '216,495', '806,318', '133,540', '849,438', '99,405', '', '', '', '', '', '', '', '', '', '', '', '', '', '249,772', '795,742', '190,917', '401,118', '270,771', '162,513', '220,968', '30,312', '646,808', '369,171', '1,058,069', '138,492', '130,249', '274,125', '33,906', '272,362', '217,414', '24,064', '78,813', '239,113', '182,147', '164,887', '12,819', '185,735', '40,450', '40,320', '40,600', '57,435', '124,327', '236,622', '26,135', '118,710', '11,673', '25,169', '5,617', '109,462', '13,859', '32,727', '', '284,237', '9,750', '12,528', '6,865', '34,430', '83,945', '53,369', '32,321', '24,815', '14,316', '27,344', '73,126', '20,966', '303,029', '16,316', '23,109', '87,681', '14,134', '64,425', '23,382', '59,477', '41,639', '5,274', '10,631', '18,510', '51,300', '59,628', '9,906', '21,695', '30,052', '54,448', '245,442', '7,170', '43,741', '7,259', '17,321', '34,743', '42,475', '4,024', '2,921', '31,917', '7,991', '12,990', '12,444', '389,183', '3,994', '40,966', '7,252', '5,742', '16,374', '30,730', '4,418', '15,925', '45,177', '21,591', '11,568', '4,083', '3,482', '10,183', '761', '1,786', '19,290', '7,334', '215', '7,852', '4,482', '6,571', '18,650', '906', '2,717', '7,360', '3,548', '13,943', '6,848', '7,280', '3,055', '2,660', '9,294', '2,317', '1,908', '18,013', '2,764', '1,264', '2,329', '3,581', '1,739', '2,634', '3,536', '3,768', '4,982', '3,995', '3,325', '5,399', '4,068', '244', '1,609', '1,230', '5,130', '2,296', '1,119', '868', '4,278', '24,504', '160', '617', '1,645', '4,780', '1,448', '642', '97', '1,424', '71', '658', '7,809', '32', '1,274', '1,365', '3,626', '326', '300', '80', '2,206', '98', '47', '228', '37', '102', '510', '208', '296', '1,035', '215', '1,515', '895', '138', '120', '53', '383', '86', '50', '96', '–', '109', '44', '15', '4', '8', '202', '–', '–']\n"
     ]
    }
   ],
   "source": [
    "all_data = []\n",
    "\n",
    "for i in range(1, 7, 1):\n",
    "    data_col = []\n",
    "    xpath = '//*[@id=\"dvz-table-global-vaccination\"]/div[2]/div[1]/table/tbody/tr/td[%s]' % str(i) \n",
    "    sel_data = driver.find_elements_by_xpath(xpath)\n",
    "    \n",
    "    for dat in sel_data:\n",
    "        #print(dat)\n",
    "        data_col.append(dat.text)\n",
    "    print(data_col)\n",
    "    all_data.append(data_col)"
   ]
  },
  {
   "cell_type": "code",
   "execution_count": 7,
   "metadata": {},
   "outputs": [],
   "source": [
    "import pandas as pd"
   ]
  },
  {
   "cell_type": "markdown",
   "metadata": {},
   "source": [
    "### 데이터 확인 \n",
    " * Countries and regions : 나라 및 지역 / country 컬럼\n",
    " * Doses administered : 접종 수 / Doses_administered 컬럼\n",
    " * Enough for % of people : 접종률 / percent_of_people 컬럼\n",
    " * given 1+ dose : 1차 접종 / 1_percent 컬럼\n",
    " * fully vaccinated : 2차 접종 / 2_percent 컬럼\n",
    " * Daily_rate_of_doses_administered : 일일 투여 용량 / Daily_rate_of_doses 컬럼"
   ]
  },
  {
   "cell_type": "code",
   "execution_count": 8,
   "metadata": {
    "scrolled": false
   },
   "outputs": [
    {
     "data": {
      "text/html": [
       "<div>\n",
       "<style scoped>\n",
       "    .dataframe tbody tr th:only-of-type {\n",
       "        vertical-align: middle;\n",
       "    }\n",
       "\n",
       "    .dataframe tbody tr th {\n",
       "        vertical-align: top;\n",
       "    }\n",
       "\n",
       "    .dataframe thead th {\n",
       "        text-align: right;\n",
       "    }\n",
       "</style>\n",
       "<table border=\"1\" class=\"dataframe\">\n",
       "  <thead>\n",
       "    <tr style=\"text-align: right;\">\n",
       "      <th></th>\n",
       "      <th>country</th>\n",
       "      <th>Doses_administered</th>\n",
       "      <th>percent_of_people:</th>\n",
       "      <th>1_percent</th>\n",
       "      <th>2_percent</th>\n",
       "      <th>Daily_rate_of_doses</th>\n",
       "    </tr>\n",
       "  </thead>\n",
       "  <tbody>\n",
       "    <tr>\n",
       "      <th>0</th>\n",
       "      <td>Global Total</td>\n",
       "      <td>5,928,442,469</td>\n",
       "      <td>–</td>\n",
       "      <td>–</td>\n",
       "      <td>–</td>\n",
       "      <td>33,566,922</td>\n",
       "    </tr>\n",
       "    <tr>\n",
       "      <th>1</th>\n",
       "      <td>Mainland China</td>\n",
       "      <td>2,170,017,000</td>\n",
       "      <td>77.5</td>\n",
       "      <td>78.5</td>\n",
       "      <td>72.3</td>\n",
       "      <td>4,968,143</td>\n",
       "    </tr>\n",
       "    <tr>\n",
       "      <th>2</th>\n",
       "      <td>India</td>\n",
       "      <td>804,097,478</td>\n",
       "      <td>29.4</td>\n",
       "      <td>42.9</td>\n",
       "      <td>14.0</td>\n",
       "      <td>9,428,208</td>\n",
       "    </tr>\n",
       "    <tr>\n",
       "      <th>3</th>\n",
       "      <td>EU</td>\n",
       "      <td>554,846,104</td>\n",
       "      <td>62.5</td>\n",
       "      <td>66.6</td>\n",
       "      <td>62.7</td>\n",
       "      <td>1,045,303</td>\n",
       "    </tr>\n",
       "    <tr>\n",
       "      <th>4</th>\n",
       "      <td>U.S.</td>\n",
       "      <td>384,911,290</td>\n",
       "      <td>60.1</td>\n",
       "      <td>63.7</td>\n",
       "      <td>54.5</td>\n",
       "      <td>777,010</td>\n",
       "    </tr>\n",
       "    <tr>\n",
       "      <th>...</th>\n",
       "      <td>...</td>\n",
       "      <td>...</td>\n",
       "      <td>...</td>\n",
       "      <td>...</td>\n",
       "      <td>...</td>\n",
       "      <td>...</td>\n",
       "    </tr>\n",
       "    <tr>\n",
       "      <th>221</th>\n",
       "      <td>Nauru</td>\n",
       "      <td>14,863</td>\n",
       "      <td>57.2</td>\n",
       "      <td>58.6</td>\n",
       "      <td>55.8</td>\n",
       "      <td>4</td>\n",
       "    </tr>\n",
       "    <tr>\n",
       "      <th>222</th>\n",
       "      <td>St. Helena</td>\n",
       "      <td>7,892</td>\n",
       "      <td>65.8</td>\n",
       "      <td>72.7</td>\n",
       "      <td>58.9</td>\n",
       "      <td>8</td>\n",
       "    </tr>\n",
       "    <tr>\n",
       "      <th>223</th>\n",
       "      <td>Falkland Islands</td>\n",
       "      <td>4,407</td>\n",
       "      <td>73.5</td>\n",
       "      <td>87.7</td>\n",
       "      <td>59.2</td>\n",
       "      <td>202</td>\n",
       "    </tr>\n",
       "    <tr>\n",
       "      <th>224</th>\n",
       "      <td>Montserrat</td>\n",
       "      <td>2,840</td>\n",
       "      <td>28.4</td>\n",
       "      <td>29.3</td>\n",
       "      <td>27.5</td>\n",
       "      <td>–</td>\n",
       "    </tr>\n",
       "    <tr>\n",
       "      <th>225</th>\n",
       "      <td>Eritrea</td>\n",
       "      <td>–</td>\n",
       "      <td>–</td>\n",
       "      <td>–</td>\n",
       "      <td>–</td>\n",
       "      <td>–</td>\n",
       "    </tr>\n",
       "  </tbody>\n",
       "</table>\n",
       "<p>226 rows × 6 columns</p>\n",
       "</div>"
      ],
      "text/plain": [
       "              country Doses_administered percent_of_people: 1_percent  \\\n",
       "0        Global Total      5,928,442,469                  –         –   \n",
       "1      Mainland China      2,170,017,000               77.5      78.5   \n",
       "2               India        804,097,478               29.4      42.9   \n",
       "3                  EU        554,846,104               62.5      66.6   \n",
       "4                U.S.        384,911,290               60.1      63.7   \n",
       "..                ...                ...                ...       ...   \n",
       "221             Nauru             14,863               57.2      58.6   \n",
       "222        St. Helena              7,892               65.8      72.7   \n",
       "223  Falkland Islands              4,407               73.5      87.7   \n",
       "224        Montserrat              2,840               28.4      29.3   \n",
       "225           Eritrea                  –                  –         –   \n",
       "\n",
       "    2_percent Daily_rate_of_doses  \n",
       "0           –          33,566,922  \n",
       "1        72.3           4,968,143  \n",
       "2        14.0           9,428,208  \n",
       "3        62.7           1,045,303  \n",
       "4        54.5             777,010  \n",
       "..        ...                 ...  \n",
       "221      55.8                   4  \n",
       "222      58.9                   8  \n",
       "223      59.2                 202  \n",
       "224      27.5                   –  \n",
       "225         –                   –  \n",
       "\n",
       "[226 rows x 6 columns]"
      ]
     },
     "execution_count": 8,
     "metadata": {},
     "output_type": "execute_result"
    }
   ],
   "source": [
    "pd.set_option(\"display.max_rows\", 40)\n",
    "\n",
    "dat_dict = {'country':all_data[0],\n",
    "            'Doses_administered':all_data[1],\n",
    "            'percent_of_people:':all_data[2],\n",
    "            '1_percent':all_data[3],\n",
    "            '2_percent':all_data[4],\n",
    "            'Daily_rate_of_doses':all_data[5]\n",
    "           }\n",
    "\n",
    "dat_df = pd.DataFrame(dat_dict)\n",
    "dat_df"
   ]
  },
  {
   "cell_type": "code",
   "execution_count": 9,
   "metadata": {},
   "outputs": [
    {
     "name": "stdout",
     "output_type": "stream",
     "text": [
      "<class 'pandas.core.frame.DataFrame'>\n",
      "RangeIndex: 226 entries, 0 to 225\n",
      "Data columns (total 6 columns):\n",
      " #   Column               Non-Null Count  Dtype \n",
      "---  ------               --------------  ----- \n",
      " 0   country              226 non-null    object\n",
      " 1   Doses_administered   226 non-null    object\n",
      " 2   percent_of_people:   226 non-null    object\n",
      " 3   1_percent            226 non-null    object\n",
      " 4   2_percent            226 non-null    object\n",
      " 5   Daily_rate_of_doses  226 non-null    object\n",
      "dtypes: object(6)\n",
      "memory usage: 10.7+ KB\n"
     ]
    }
   ],
   "source": [
    "dat_df.info()"
   ]
  },
  {
   "cell_type": "markdown",
   "metadata": {},
   "source": [
    "### 데이터 전처리\n",
    " * 데이터가 없거나 제대로 얻어지지 못한 부분. 그리고 추가 컬럼 등을 생성"
   ]
  },
  {
   "cell_type": "code",
   "execution_count": 10,
   "metadata": {},
   "outputs": [
    {
     "data": {
      "text/plain": [
       "0      12\n",
       "1      14\n",
       "2       5\n",
       "3       2\n",
       "4       4\n",
       "       ..\n",
       "221     5\n",
       "222    10\n",
       "223    16\n",
       "224    10\n",
       "225     7\n",
       "Name: country, Length: 226, dtype: int64"
      ]
     },
     "execution_count": 10,
     "metadata": {},
     "output_type": "execute_result"
    }
   ],
   "source": [
    "### 공백행을 삭제\n",
    "dat_df['country'].str.len()"
   ]
  },
  {
   "cell_type": "markdown",
   "metadata": {},
   "source": [
    "### 한나라의 중복 행의 존재로 이 부분은 정보 취득 못함"
   ]
  },
  {
   "cell_type": "code",
   "execution_count": 11,
   "metadata": {},
   "outputs": [
    {
     "data": {
      "text/html": [
       "<div>\n",
       "<style scoped>\n",
       "    .dataframe tbody tr th:only-of-type {\n",
       "        vertical-align: middle;\n",
       "    }\n",
       "\n",
       "    .dataframe tbody tr th {\n",
       "        vertical-align: top;\n",
       "    }\n",
       "\n",
       "    .dataframe thead th {\n",
       "        text-align: right;\n",
       "    }\n",
       "</style>\n",
       "<table border=\"1\" class=\"dataframe\">\n",
       "  <thead>\n",
       "    <tr style=\"text-align: right;\">\n",
       "      <th></th>\n",
       "      <th>country</th>\n",
       "      <th>Doses_administered</th>\n",
       "      <th>percent_of_people:</th>\n",
       "      <th>1_percent</th>\n",
       "      <th>2_percent</th>\n",
       "      <th>Daily_rate_of_doses</th>\n",
       "    </tr>\n",
       "  </thead>\n",
       "  <tbody>\n",
       "    <tr>\n",
       "      <th>12</th>\n",
       "      <td></td>\n",
       "      <td></td>\n",
       "      <td></td>\n",
       "      <td></td>\n",
       "      <td></td>\n",
       "      <td></td>\n",
       "    </tr>\n",
       "    <tr>\n",
       "      <th>13</th>\n",
       "      <td></td>\n",
       "      <td></td>\n",
       "      <td></td>\n",
       "      <td></td>\n",
       "      <td></td>\n",
       "      <td></td>\n",
       "    </tr>\n",
       "    <tr>\n",
       "      <th>14</th>\n",
       "      <td></td>\n",
       "      <td></td>\n",
       "      <td></td>\n",
       "      <td></td>\n",
       "      <td></td>\n",
       "      <td></td>\n",
       "    </tr>\n",
       "    <tr>\n",
       "      <th>15</th>\n",
       "      <td></td>\n",
       "      <td></td>\n",
       "      <td></td>\n",
       "      <td></td>\n",
       "      <td></td>\n",
       "      <td></td>\n",
       "    </tr>\n",
       "    <tr>\n",
       "      <th>16</th>\n",
       "      <td></td>\n",
       "      <td></td>\n",
       "      <td></td>\n",
       "      <td></td>\n",
       "      <td></td>\n",
       "      <td></td>\n",
       "    </tr>\n",
       "    <tr>\n",
       "      <th>24</th>\n",
       "      <td></td>\n",
       "      <td></td>\n",
       "      <td></td>\n",
       "      <td></td>\n",
       "      <td></td>\n",
       "      <td></td>\n",
       "    </tr>\n",
       "    <tr>\n",
       "      <th>25</th>\n",
       "      <td></td>\n",
       "      <td></td>\n",
       "      <td></td>\n",
       "      <td></td>\n",
       "      <td></td>\n",
       "      <td></td>\n",
       "    </tr>\n",
       "    <tr>\n",
       "      <th>26</th>\n",
       "      <td></td>\n",
       "      <td></td>\n",
       "      <td></td>\n",
       "      <td></td>\n",
       "      <td></td>\n",
       "      <td></td>\n",
       "    </tr>\n",
       "    <tr>\n",
       "      <th>27</th>\n",
       "      <td></td>\n",
       "      <td></td>\n",
       "      <td></td>\n",
       "      <td></td>\n",
       "      <td></td>\n",
       "      <td></td>\n",
       "    </tr>\n",
       "    <tr>\n",
       "      <th>28</th>\n",
       "      <td></td>\n",
       "      <td></td>\n",
       "      <td></td>\n",
       "      <td></td>\n",
       "      <td></td>\n",
       "      <td></td>\n",
       "    </tr>\n",
       "    <tr>\n",
       "      <th>29</th>\n",
       "      <td></td>\n",
       "      <td></td>\n",
       "      <td></td>\n",
       "      <td></td>\n",
       "      <td></td>\n",
       "      <td></td>\n",
       "    </tr>\n",
       "    <tr>\n",
       "      <th>30</th>\n",
       "      <td></td>\n",
       "      <td></td>\n",
       "      <td></td>\n",
       "      <td></td>\n",
       "      <td></td>\n",
       "      <td></td>\n",
       "    </tr>\n",
       "    <tr>\n",
       "      <th>31</th>\n",
       "      <td></td>\n",
       "      <td></td>\n",
       "      <td></td>\n",
       "      <td></td>\n",
       "      <td></td>\n",
       "      <td></td>\n",
       "    </tr>\n",
       "    <tr>\n",
       "      <th>32</th>\n",
       "      <td></td>\n",
       "      <td></td>\n",
       "      <td></td>\n",
       "      <td></td>\n",
       "      <td></td>\n",
       "      <td></td>\n",
       "    </tr>\n",
       "    <tr>\n",
       "      <th>33</th>\n",
       "      <td></td>\n",
       "      <td></td>\n",
       "      <td></td>\n",
       "      <td></td>\n",
       "      <td></td>\n",
       "      <td></td>\n",
       "    </tr>\n",
       "    <tr>\n",
       "      <th>34</th>\n",
       "      <td></td>\n",
       "      <td></td>\n",
       "      <td></td>\n",
       "      <td></td>\n",
       "      <td></td>\n",
       "      <td></td>\n",
       "    </tr>\n",
       "    <tr>\n",
       "      <th>35</th>\n",
       "      <td></td>\n",
       "      <td></td>\n",
       "      <td></td>\n",
       "      <td></td>\n",
       "      <td></td>\n",
       "      <td></td>\n",
       "    </tr>\n",
       "    <tr>\n",
       "      <th>36</th>\n",
       "      <td></td>\n",
       "      <td></td>\n",
       "      <td></td>\n",
       "      <td></td>\n",
       "      <td></td>\n",
       "      <td></td>\n",
       "    </tr>\n",
       "    <tr>\n",
       "      <th>75</th>\n",
       "      <td></td>\n",
       "      <td></td>\n",
       "      <td></td>\n",
       "      <td></td>\n",
       "      <td></td>\n",
       "      <td></td>\n",
       "    </tr>\n",
       "  </tbody>\n",
       "</table>\n",
       "</div>"
      ],
      "text/plain": [
       "   country Doses_administered percent_of_people: 1_percent 2_percent  \\\n",
       "12                                                                     \n",
       "13                                                                     \n",
       "14                                                                     \n",
       "15                                                                     \n",
       "16                                                                     \n",
       "24                                                                     \n",
       "25                                                                     \n",
       "26                                                                     \n",
       "27                                                                     \n",
       "28                                                                     \n",
       "29                                                                     \n",
       "30                                                                     \n",
       "31                                                                     \n",
       "32                                                                     \n",
       "33                                                                     \n",
       "34                                                                     \n",
       "35                                                                     \n",
       "36                                                                     \n",
       "75                                                                     \n",
       "\n",
       "   Daily_rate_of_doses  \n",
       "12                      \n",
       "13                      \n",
       "14                      \n",
       "15                      \n",
       "16                      \n",
       "24                      \n",
       "25                      \n",
       "26                      \n",
       "27                      \n",
       "28                      \n",
       "29                      \n",
       "30                      \n",
       "31                      \n",
       "32                      \n",
       "33                      \n",
       "34                      \n",
       "35                      \n",
       "36                      \n",
       "75                      "
      ]
     },
     "execution_count": 11,
     "metadata": {},
     "output_type": "execute_result"
    }
   ],
   "source": [
    "dat_df.loc[ dat_df['country'].str.len() <1, : ]"
   ]
  },
  {
   "cell_type": "code",
   "execution_count": 12,
   "metadata": {},
   "outputs": [
    {
     "name": "stdout",
     "output_type": "stream",
     "text": [
      "Int64Index([12, 13, 14, 15, 16, 24, 25, 26, 27, 28, 29, 30, 31, 32, 33, 34, 35,\n",
      "            36, 75],\n",
      "           dtype='int64')\n"
     ]
    }
   ],
   "source": [
    "sel_index = dat_df[ dat_df['country'].str.len() <1 ].index\n",
    "print(sel_index)\n",
    "dat_df.drop (sel_index, axis=0, inplace=True  )"
   ]
  },
  {
   "cell_type": "code",
   "execution_count": 13,
   "metadata": {},
   "outputs": [
    {
     "data": {
      "text/plain": [
       "(207, 6)"
      ]
     },
     "execution_count": 13,
     "metadata": {},
     "output_type": "execute_result"
    }
   ],
   "source": [
    "dat_df = dat_df.reindex()\n",
    "dat_df.shape"
   ]
  },
  {
   "cell_type": "code",
   "execution_count": 14,
   "metadata": {},
   "outputs": [
    {
     "data": {
      "text/html": [
       "<div>\n",
       "<style scoped>\n",
       "    .dataframe tbody tr th:only-of-type {\n",
       "        vertical-align: middle;\n",
       "    }\n",
       "\n",
       "    .dataframe tbody tr th {\n",
       "        vertical-align: top;\n",
       "    }\n",
       "\n",
       "    .dataframe thead th {\n",
       "        text-align: right;\n",
       "    }\n",
       "</style>\n",
       "<table border=\"1\" class=\"dataframe\">\n",
       "  <thead>\n",
       "    <tr style=\"text-align: right;\">\n",
       "      <th></th>\n",
       "      <th>country</th>\n",
       "      <th>Doses_administered</th>\n",
       "      <th>percent_of_people:</th>\n",
       "      <th>1_percent</th>\n",
       "      <th>2_percent</th>\n",
       "      <th>Daily_rate_of_doses</th>\n",
       "    </tr>\n",
       "  </thead>\n",
       "  <tbody>\n",
       "    <tr>\n",
       "      <th>225</th>\n",
       "      <td>Eritrea</td>\n",
       "      <td>–</td>\n",
       "      <td>–</td>\n",
       "      <td>–</td>\n",
       "      <td>–</td>\n",
       "      <td>–</td>\n",
       "    </tr>\n",
       "  </tbody>\n",
       "</table>\n",
       "</div>"
      ],
      "text/plain": [
       "     country Doses_administered percent_of_people: 1_percent 2_percent  \\\n",
       "225  Eritrea                  –                  –         –         –   \n",
       "\n",
       "    Daily_rate_of_doses  \n",
       "225                   –  "
      ]
     },
     "execution_count": 14,
     "metadata": {},
     "output_type": "execute_result"
    }
   ],
   "source": [
    "dat_df.loc[dat_df['Doses_administered'] == '–']"
   ]
  },
  {
   "cell_type": "code",
   "execution_count": 15,
   "metadata": {},
   "outputs": [
    {
     "data": {
      "text/html": [
       "<div>\n",
       "<style scoped>\n",
       "    .dataframe tbody tr th:only-of-type {\n",
       "        vertical-align: middle;\n",
       "    }\n",
       "\n",
       "    .dataframe tbody tr th {\n",
       "        vertical-align: top;\n",
       "    }\n",
       "\n",
       "    .dataframe thead th {\n",
       "        text-align: right;\n",
       "    }\n",
       "</style>\n",
       "<table border=\"1\" class=\"dataframe\">\n",
       "  <thead>\n",
       "    <tr style=\"text-align: right;\">\n",
       "      <th></th>\n",
       "      <th>country</th>\n",
       "      <th>Doses_administered</th>\n",
       "      <th>percent_of_people:</th>\n",
       "      <th>1_percent</th>\n",
       "      <th>2_percent</th>\n",
       "      <th>Daily_rate_of_doses</th>\n",
       "    </tr>\n",
       "  </thead>\n",
       "  <tbody>\n",
       "    <tr>\n",
       "      <th>217</th>\n",
       "      <td>Turkmenistan</td>\n",
       "      <td>41,993</td>\n",
       "      <td>0.4</td>\n",
       "      <td>0.6</td>\n",
       "      <td>0.2</td>\n",
       "      <td>–</td>\n",
       "    </tr>\n",
       "    <tr>\n",
       "      <th>224</th>\n",
       "      <td>Montserrat</td>\n",
       "      <td>2,840</td>\n",
       "      <td>28.4</td>\n",
       "      <td>29.3</td>\n",
       "      <td>27.5</td>\n",
       "      <td>–</td>\n",
       "    </tr>\n",
       "    <tr>\n",
       "      <th>225</th>\n",
       "      <td>Eritrea</td>\n",
       "      <td>–</td>\n",
       "      <td>–</td>\n",
       "      <td>–</td>\n",
       "      <td>–</td>\n",
       "      <td>–</td>\n",
       "    </tr>\n",
       "  </tbody>\n",
       "</table>\n",
       "</div>"
      ],
      "text/plain": [
       "          country Doses_administered percent_of_people: 1_percent 2_percent  \\\n",
       "217  Turkmenistan             41,993                0.4       0.6       0.2   \n",
       "224    Montserrat              2,840               28.4      29.3      27.5   \n",
       "225       Eritrea                  –                  –         –         –   \n",
       "\n",
       "    Daily_rate_of_doses  \n",
       "217                   –  \n",
       "224                   –  \n",
       "225                   –  "
      ]
     },
     "execution_count": 15,
     "metadata": {},
     "output_type": "execute_result"
    }
   ],
   "source": [
    "dat_df.loc[dat_df['Daily_rate_of_doses'] == '–']"
   ]
  },
  {
   "cell_type": "code",
   "execution_count": 16,
   "metadata": {},
   "outputs": [
    {
     "data": {
      "text/plain": [
       "Index(['country', 'Doses_administered', 'percent_of_people:', '1_percent',\n",
       "       '2_percent', 'Daily_rate_of_doses'],\n",
       "      dtype='object')"
      ]
     },
     "execution_count": 16,
     "metadata": {},
     "output_type": "execute_result"
    }
   ],
   "source": [
    "dat_df.columns"
   ]
  },
  {
   "cell_type": "code",
   "execution_count": 17,
   "metadata": {},
   "outputs": [
    {
     "name": "stdout",
     "output_type": "stream",
     "text": [
      "col name :  country\n",
      "0\n",
      "\n",
      "\n",
      "col name :  Doses_administered\n",
      "1\n",
      "\n",
      "\n",
      "col name :  percent_of_people:\n",
      "5\n",
      "\n",
      "\n",
      "col name :  1_percent\n",
      "6\n",
      "\n",
      "\n",
      "col name :  2_percent\n",
      "9\n",
      "\n",
      "\n",
      "col name :  Daily_rate_of_doses\n",
      "3\n",
      "\n",
      "\n"
     ]
    }
   ],
   "source": [
    "col_all = dat_df.columns\n",
    "for one in col_all:\n",
    "    print(\"col name : \", one)\n",
    "    print( dat_df.loc[dat_df[one] == '–', one].count() )\n",
    "    print(\"\\n\")"
   ]
  },
  {
   "cell_type": "markdown",
   "metadata": {},
   "source": [
    "### 결측치(비어 있는 값)를 -999로 처리한다."
   ]
  },
  {
   "cell_type": "code",
   "execution_count": 18,
   "metadata": {},
   "outputs": [
    {
     "name": "stdout",
     "output_type": "stream",
     "text": [
      "col name :  country\n",
      "0\n",
      "\n",
      "\n",
      "col name :  Doses_administered\n",
      "1\n",
      "\n",
      "\n",
      "col name :  percent_of_people:\n",
      "5\n",
      "\n",
      "\n",
      "col name :  1_percent\n",
      "6\n",
      "\n",
      "\n",
      "col name :  2_percent\n",
      "9\n",
      "\n",
      "\n",
      "col name :  Daily_rate_of_doses\n",
      "3\n",
      "\n",
      "\n"
     ]
    }
   ],
   "source": [
    "col_all = dat_df.columns\n",
    "for one in col_all:\n",
    "    print(\"col name : \", one)\n",
    "    print( dat_df.loc[dat_df[one] == '–', one].count() )\n",
    "    dat_df.loc[dat_df[one] == '–', one] = \"-999\"      # -은 이상치 -999로 치환\n",
    "    dat_df.loc[dat_df[one] == '<0.1', one] = \"0.05\"   # <0.1은 0.05로 치환\n",
    "    \n",
    "    print(\"\\n\")"
   ]
  },
  {
   "cell_type": "markdown",
   "metadata": {},
   "source": [
    "### 확인"
   ]
  },
  {
   "cell_type": "code",
   "execution_count": 19,
   "metadata": {},
   "outputs": [
    {
     "name": "stdout",
     "output_type": "stream",
     "text": [
      "col name :  country\n",
      "0\n",
      "col name :  Doses_administered\n",
      "0\n",
      "col name :  percent_of_people:\n",
      "0\n",
      "col name :  1_percent\n",
      "0\n",
      "col name :  2_percent\n",
      "0\n",
      "col name :  Daily_rate_of_doses\n",
      "0\n"
     ]
    }
   ],
   "source": [
    "col_all = dat_df.columns\n",
    "for one in col_all:\n",
    "    print(\"col name : \", one)\n",
    "    print( dat_df.loc[dat_df[one] == '–', one].count() )"
   ]
  },
  {
   "cell_type": "markdown",
   "metadata": {},
   "source": [
    "### ','을 처리"
   ]
  },
  {
   "cell_type": "code",
   "execution_count": 20,
   "metadata": {},
   "outputs": [],
   "source": [
    "\n",
    "dat_df['Doses_administered'] = dat_df['Doses_administered'].str.replace(',', '')\n",
    "dat_df['Daily_rate_of_doses'] = dat_df['Daily_rate_of_doses'].str.replace(',', '')\n"
   ]
  },
  {
   "cell_type": "code",
   "execution_count": 21,
   "metadata": {},
   "outputs": [
    {
     "data": {
      "text/html": [
       "<div>\n",
       "<style scoped>\n",
       "    .dataframe tbody tr th:only-of-type {\n",
       "        vertical-align: middle;\n",
       "    }\n",
       "\n",
       "    .dataframe tbody tr th {\n",
       "        vertical-align: top;\n",
       "    }\n",
       "\n",
       "    .dataframe thead th {\n",
       "        text-align: right;\n",
       "    }\n",
       "</style>\n",
       "<table border=\"1\" class=\"dataframe\">\n",
       "  <thead>\n",
       "    <tr style=\"text-align: right;\">\n",
       "      <th></th>\n",
       "      <th>country</th>\n",
       "      <th>Doses_administered</th>\n",
       "      <th>percent_of_people:</th>\n",
       "      <th>1_percent</th>\n",
       "      <th>2_percent</th>\n",
       "      <th>Daily_rate_of_doses</th>\n",
       "    </tr>\n",
       "  </thead>\n",
       "  <tbody>\n",
       "    <tr>\n",
       "      <th>0</th>\n",
       "      <td>Global Total</td>\n",
       "      <td>5928442469</td>\n",
       "      <td>-999</td>\n",
       "      <td>-999</td>\n",
       "      <td>-999</td>\n",
       "      <td>33566922</td>\n",
       "    </tr>\n",
       "    <tr>\n",
       "      <th>1</th>\n",
       "      <td>Mainland China</td>\n",
       "      <td>2170017000</td>\n",
       "      <td>77.5</td>\n",
       "      <td>78.5</td>\n",
       "      <td>72.3</td>\n",
       "      <td>4968143</td>\n",
       "    </tr>\n",
       "    <tr>\n",
       "      <th>2</th>\n",
       "      <td>India</td>\n",
       "      <td>804097478</td>\n",
       "      <td>29.4</td>\n",
       "      <td>42.9</td>\n",
       "      <td>14.0</td>\n",
       "      <td>9428208</td>\n",
       "    </tr>\n",
       "    <tr>\n",
       "      <th>3</th>\n",
       "      <td>EU</td>\n",
       "      <td>554846104</td>\n",
       "      <td>62.5</td>\n",
       "      <td>66.6</td>\n",
       "      <td>62.7</td>\n",
       "      <td>1045303</td>\n",
       "    </tr>\n",
       "    <tr>\n",
       "      <th>4</th>\n",
       "      <td>U.S.</td>\n",
       "      <td>384911290</td>\n",
       "      <td>60.1</td>\n",
       "      <td>63.7</td>\n",
       "      <td>54.5</td>\n",
       "      <td>777010</td>\n",
       "    </tr>\n",
       "    <tr>\n",
       "      <th>5</th>\n",
       "      <td>Brazil</td>\n",
       "      <td>220596996</td>\n",
       "      <td>53.5</td>\n",
       "      <td>69.1</td>\n",
       "      <td>37.2</td>\n",
       "      <td>1757773</td>\n",
       "    </tr>\n",
       "    <tr>\n",
       "      <th>6</th>\n",
       "      <td>Japan</td>\n",
       "      <td>149882538</td>\n",
       "      <td>59.4</td>\n",
       "      <td>65.5</td>\n",
       "      <td>53.3</td>\n",
       "      <td>1157828</td>\n",
       "    </tr>\n",
       "    <tr>\n",
       "      <th>7</th>\n",
       "      <td>Indonesia</td>\n",
       "      <td>122644106</td>\n",
       "      <td>23.0</td>\n",
       "      <td>29.0</td>\n",
       "      <td>16.5</td>\n",
       "      <td>1383841</td>\n",
       "    </tr>\n",
       "    <tr>\n",
       "      <th>8</th>\n",
       "      <td>Germany</td>\n",
       "      <td>105407388</td>\n",
       "      <td>63.4</td>\n",
       "      <td>67.1</td>\n",
       "      <td>63.0</td>\n",
       "      <td>203672</td>\n",
       "    </tr>\n",
       "    <tr>\n",
       "      <th>9</th>\n",
       "      <td>Turkey</td>\n",
       "      <td>104945801</td>\n",
       "      <td>63.1</td>\n",
       "      <td>63.3</td>\n",
       "      <td>50.4</td>\n",
       "      <td>492710</td>\n",
       "    </tr>\n",
       "  </tbody>\n",
       "</table>\n",
       "</div>"
      ],
      "text/plain": [
       "          country Doses_administered percent_of_people: 1_percent 2_percent  \\\n",
       "0    Global Total         5928442469               -999      -999      -999   \n",
       "1  Mainland China         2170017000               77.5      78.5      72.3   \n",
       "2           India          804097478               29.4      42.9      14.0   \n",
       "3              EU          554846104               62.5      66.6      62.7   \n",
       "4            U.S.          384911290               60.1      63.7      54.5   \n",
       "5          Brazil          220596996               53.5      69.1      37.2   \n",
       "6           Japan          149882538               59.4      65.5      53.3   \n",
       "7       Indonesia          122644106               23.0      29.0      16.5   \n",
       "8         Germany          105407388               63.4      67.1      63.0   \n",
       "9          Turkey          104945801               63.1      63.3      50.4   \n",
       "\n",
       "  Daily_rate_of_doses  \n",
       "0            33566922  \n",
       "1             4968143  \n",
       "2             9428208  \n",
       "3             1045303  \n",
       "4              777010  \n",
       "5             1757773  \n",
       "6             1157828  \n",
       "7             1383841  \n",
       "8              203672  \n",
       "9              492710  "
      ]
     },
     "execution_count": 21,
     "metadata": {},
     "output_type": "execute_result"
    }
   ],
   "source": [
    "dat_df.head(10)"
   ]
  },
  {
   "cell_type": "markdown",
   "metadata": {},
   "source": [
    "### 데이터 전처리 후, 확인"
   ]
  },
  {
   "cell_type": "code",
   "execution_count": 22,
   "metadata": {},
   "outputs": [
    {
     "name": "stdout",
     "output_type": "stream",
     "text": [
      "<class 'pandas.core.frame.DataFrame'>\n",
      "Int64Index: 207 entries, 0 to 225\n",
      "Data columns (total 6 columns):\n",
      " #   Column               Non-Null Count  Dtype \n",
      "---  ------               --------------  ----- \n",
      " 0   country              207 non-null    object\n",
      " 1   Doses_administered   207 non-null    object\n",
      " 2   percent_of_people:   207 non-null    object\n",
      " 3   1_percent            207 non-null    object\n",
      " 4   2_percent            207 non-null    object\n",
      " 5   Daily_rate_of_doses  207 non-null    object\n",
      "dtypes: object(6)\n",
      "memory usage: 11.3+ KB\n"
     ]
    }
   ],
   "source": [
    "dat_df.info()"
   ]
  },
  {
   "cell_type": "code",
   "execution_count": 23,
   "metadata": {},
   "outputs": [
    {
     "data": {
      "text/plain": [
       "array(['5928442469', '2170017000', '804097478', '554846104', '384911290',\n",
       "       '220596996', '149882538', '122644106', '105407388', '104945801',\n",
       "       '94300526', '92905614', '92262410', '87736626', '82238635',\n",
       "       '72986511', '69094664', '58008049', '55003800', '48643176',\n",
       "       '43342103', '40691717', '40518845', '40155975', '38171733',\n",
       "       '37238088', '36922081', '36753231', '36298150', '32296517',\n",
       "       '30772997', '24689082', '24392438', '23320388', '23158835',\n",
       "       '21612643', '20456671', '19412656', '17498490', '17435318',\n",
       "       '16476275', '16442235', '15970308', '15550992', '14671507',\n",
       "       '13403076', '13368189', '13171843', '12194537', '11879410',\n",
       "       '11760821', '11708897', '11620587', '11167215', '11094206',\n",
       "       '10707002', '10055192', '9989662', '9935978', '9084721', '8769041',\n",
       "       '8356527', '8184418', '7806235', '7586733', '7358931', '7105991',\n",
       "       '7065918', '7017171', '6786367', '6672182', '6382661', '6238655',\n",
       "       '6069048', '6017599', '5858737', '5049557', '4964302', '4872085',\n",
       "       '4710075', '4653019', '4637151', '4569255', '4429335', '4402770',\n",
       "       '4401222', '4336872', '3446777', '3427486', '3356659', '3337913',\n",
       "       '3316080', '3206505', '2960109', '2882134', '2814277', '2534296',\n",
       "       '2469333', '2461969', '2380000', '2047285', '1979652', '1768064',\n",
       "       '1698973', '1632986', '1625865', '1622367', '1610309', '1580207',\n",
       "       '1435392', '1423327', '1393696', '1387699', '1359731', '1330145',\n",
       "       '1327177', '1271393', '1129665', '1110286', '1060145', '1046117',\n",
       "       '1014945', '1001022', '912149', '826529', '811183', '779620',\n",
       "       '769105', '720666', '702693', '651941', '643324', '636600',\n",
       "       '633071', '621853', '587595', '547788', '533949', '518295',\n",
       "       '444521', '433269', '385602', '376605', '375200', '374178',\n",
       "       '370529', '368789', '351305', '350000', '335721', '334369',\n",
       "       '322934', '319231', '283091', '275719', '221110', '221000',\n",
       "       '210277', '201835', '201795', '185169', '175926', '173130',\n",
       "       '166160', '154710', '154447', '150379', '146464', '145620',\n",
       "       '142566', '135918', '128915', '120062', '113680', '104707',\n",
       "       '104609', '102357', '101487', '97744', '93430', '86194', '79922',\n",
       "       '79269', '73208', '71517', '69970', '68404', '67109', '66010',\n",
       "       '57341', '57154', '51838', '49980', '48882', '48140', '46917',\n",
       "       '46884', '43971', '41993', '32126', '31090', '18565', '14863',\n",
       "       '7892', '4407', '2840', '-999'], dtype=object)"
      ]
     },
     "execution_count": 23,
     "metadata": {},
     "output_type": "execute_result"
    }
   ],
   "source": [
    "dat_df.Doses_administered.unique()"
   ]
  },
  {
   "cell_type": "code",
   "execution_count": 24,
   "metadata": {},
   "outputs": [
    {
     "data": {
      "text/plain": [
       "country                0\n",
       "Doses_administered     0\n",
       "percent_of_people:     0\n",
       "1_percent              0\n",
       "2_percent              0\n",
       "Daily_rate_of_doses    0\n",
       "dtype: int64"
      ]
     },
     "execution_count": 24,
     "metadata": {},
     "output_type": "execute_result"
    }
   ],
   "source": [
    "dat_df.isnull().sum()"
   ]
  },
  {
   "cell_type": "code",
   "execution_count": 25,
   "metadata": {},
   "outputs": [
    {
     "data": {
      "text/plain": [
       "array(['5928442469', '2170017000', '804097478', '554846104', '384911290',\n",
       "       '220596996', '149882538', '122644106', '105407388', '104945801',\n",
       "       '94300526', '92905614', '92262410', '87736626', '82238635',\n",
       "       '72986511', '69094664', '58008049', '55003800', '48643176',\n",
       "       '43342103', '40691717', '40518845', '40155975', '38171733',\n",
       "       '37238088', '36922081', '36753231', '36298150', '32296517',\n",
       "       '30772997', '24689082', '24392438', '23320388', '23158835',\n",
       "       '21612643', '20456671', '19412656', '17498490', '17435318',\n",
       "       '16476275', '16442235', '15970308', '15550992', '14671507',\n",
       "       '13403076', '13368189', '13171843', '12194537', '11879410',\n",
       "       '11760821', '11708897', '11620587', '11167215', '11094206',\n",
       "       '10707002', '10055192', '9989662', '9935978', '9084721', '8769041',\n",
       "       '8356527', '8184418', '7806235', '7586733', '7358931', '7105991',\n",
       "       '7065918', '7017171', '6786367', '6672182', '6382661', '6238655',\n",
       "       '6069048', '6017599', '5858737', '5049557', '4964302', '4872085',\n",
       "       '4710075', '4653019', '4637151', '4569255', '4429335', '4402770',\n",
       "       '4401222', '4336872', '3446777', '3427486', '3356659', '3337913',\n",
       "       '3316080', '3206505', '2960109', '2882134', '2814277', '2534296',\n",
       "       '2469333', '2461969', '2380000', '2047285', '1979652', '1768064',\n",
       "       '1698973', '1632986', '1625865', '1622367', '1610309', '1580207',\n",
       "       '1435392', '1423327', '1393696', '1387699', '1359731', '1330145',\n",
       "       '1327177', '1271393', '1129665', '1110286', '1060145', '1046117',\n",
       "       '1014945', '1001022', '912149', '826529', '811183', '779620',\n",
       "       '769105', '720666', '702693', '651941', '643324', '636600',\n",
       "       '633071', '621853', '587595', '547788', '533949', '518295',\n",
       "       '444521', '433269', '385602', '376605', '375200', '374178',\n",
       "       '370529', '368789', '351305', '350000', '335721', '334369',\n",
       "       '322934', '319231', '283091', '275719', '221110', '221000',\n",
       "       '210277', '201835', '201795', '185169', '175926', '173130',\n",
       "       '166160', '154710', '154447', '150379', '146464', '145620',\n",
       "       '142566', '135918', '128915', '120062', '113680', '104707',\n",
       "       '104609', '102357', '101487', '97744', '93430', '86194', '79922',\n",
       "       '79269', '73208', '71517', '69970', '68404', '67109', '66010',\n",
       "       '57341', '57154', '51838', '49980', '48882', '48140', '46917',\n",
       "       '46884', '43971', '41993', '32126', '31090', '18565', '14863',\n",
       "       '7892', '4407', '2840', '-999'], dtype=object)"
      ]
     },
     "execution_count": 25,
     "metadata": {},
     "output_type": "execute_result"
    }
   ],
   "source": [
    "dat_df['Doses_administered'].unique()"
   ]
  },
  {
   "cell_type": "code",
   "execution_count": 26,
   "metadata": {},
   "outputs": [
    {
     "data": {
      "text/plain": [
       "0     5928442469\n",
       "1     2170017000\n",
       "2      804097478\n",
       "3      554846104\n",
       "4      384911290\n",
       "5      220596996\n",
       "6      149882538\n",
       "7      122644106\n",
       "8      105407388\n",
       "9      104945801\n",
       "10      94300526\n",
       "11      92905614\n",
       "17      92262410\n",
       "18      87736626\n",
       "19      82238635\n",
       "20      72986511\n",
       "21      69094664\n",
       "22      58008049\n",
       "23      55003800\n",
       "37      48643176\n",
       "38      43342103\n",
       "39      40691717\n",
       "40      40518845\n",
       "41      40155975\n",
       "42      38171733\n",
       "43      37238088\n",
       "44      36922081\n",
       "45      36753231\n",
       "46      36298150\n",
       "47      32296517\n",
       "Name: Doses_administered, dtype: object"
      ]
     },
     "execution_count": 26,
     "metadata": {},
     "output_type": "execute_result"
    }
   ],
   "source": [
    "dat_df['Doses_administered'].head(30)"
   ]
  },
  {
   "cell_type": "code",
   "execution_count": 27,
   "metadata": {},
   "outputs": [
    {
     "data": {
      "text/html": [
       "<div>\n",
       "<style scoped>\n",
       "    .dataframe tbody tr th:only-of-type {\n",
       "        vertical-align: middle;\n",
       "    }\n",
       "\n",
       "    .dataframe tbody tr th {\n",
       "        vertical-align: top;\n",
       "    }\n",
       "\n",
       "    .dataframe thead th {\n",
       "        text-align: right;\n",
       "    }\n",
       "</style>\n",
       "<table border=\"1\" class=\"dataframe\">\n",
       "  <thead>\n",
       "    <tr style=\"text-align: right;\">\n",
       "      <th></th>\n",
       "      <th>country</th>\n",
       "      <th>Doses_administered</th>\n",
       "      <th>percent_of_people:</th>\n",
       "      <th>1_percent</th>\n",
       "      <th>2_percent</th>\n",
       "      <th>Daily_rate_of_doses</th>\n",
       "    </tr>\n",
       "  </thead>\n",
       "  <tbody>\n",
       "  </tbody>\n",
       "</table>\n",
       "</div>"
      ],
      "text/plain": [
       "Empty DataFrame\n",
       "Columns: [country, Doses_administered, percent_of_people:, 1_percent, 2_percent, Daily_rate_of_doses]\n",
       "Index: []"
      ]
     },
     "execution_count": 27,
     "metadata": {},
     "output_type": "execute_result"
    }
   ],
   "source": [
    "dat_df.loc[dat_df['Doses_administered'].isna() , : ] "
   ]
  },
  {
   "cell_type": "code",
   "execution_count": 28,
   "metadata": {},
   "outputs": [
    {
     "data": {
      "text/html": [
       "<div>\n",
       "<style scoped>\n",
       "    .dataframe tbody tr th:only-of-type {\n",
       "        vertical-align: middle;\n",
       "    }\n",
       "\n",
       "    .dataframe tbody tr th {\n",
       "        vertical-align: top;\n",
       "    }\n",
       "\n",
       "    .dataframe thead th {\n",
       "        text-align: right;\n",
       "    }\n",
       "</style>\n",
       "<table border=\"1\" class=\"dataframe\">\n",
       "  <thead>\n",
       "    <tr style=\"text-align: right;\">\n",
       "      <th></th>\n",
       "      <th>country</th>\n",
       "      <th>Doses_administered</th>\n",
       "      <th>percent_of_people:</th>\n",
       "      <th>1_percent</th>\n",
       "      <th>2_percent</th>\n",
       "      <th>Daily_rate_of_doses</th>\n",
       "    </tr>\n",
       "  </thead>\n",
       "  <tbody>\n",
       "    <tr>\n",
       "      <th>20</th>\n",
       "      <td>Pakistan</td>\n",
       "      <td>72986511</td>\n",
       "      <td>17.8</td>\n",
       "      <td>26.6</td>\n",
       "      <td>11.7</td>\n",
       "      <td>806318</td>\n",
       "    </tr>\n",
       "    <tr>\n",
       "      <th>21</th>\n",
       "      <td>Spain</td>\n",
       "      <td>69094664</td>\n",
       "      <td>74.3</td>\n",
       "      <td>80.4</td>\n",
       "      <td>77.0</td>\n",
       "      <td>133540</td>\n",
       "    </tr>\n",
       "    <tr>\n",
       "      <th>22</th>\n",
       "      <td>South Korea</td>\n",
       "      <td>58008049</td>\n",
       "      <td>56.1</td>\n",
       "      <td>69.8</td>\n",
       "      <td>42.4</td>\n",
       "      <td>849438</td>\n",
       "    </tr>\n",
       "    <tr>\n",
       "      <th>23</th>\n",
       "      <td>Canada</td>\n",
       "      <td>55003800</td>\n",
       "      <td>73.3</td>\n",
       "      <td>75.4</td>\n",
       "      <td>69.6</td>\n",
       "      <td>99405</td>\n",
       "    </tr>\n",
       "    <tr>\n",
       "      <th>37</th>\n",
       "      <td>Argentina</td>\n",
       "      <td>48643176</td>\n",
       "      <td>54.1</td>\n",
       "      <td>64.4</td>\n",
       "      <td>43.8</td>\n",
       "      <td>249772</td>\n",
       "    </tr>\n",
       "    <tr>\n",
       "      <th>38</th>\n",
       "      <td>Thailand</td>\n",
       "      <td>43342103</td>\n",
       "      <td>31.1</td>\n",
       "      <td>40.8</td>\n",
       "      <td>20.5</td>\n",
       "      <td>795742</td>\n",
       "    </tr>\n",
       "    <tr>\n",
       "      <th>39</th>\n",
       "      <td>Saudi Arabia</td>\n",
       "      <td>40691717</td>\n",
       "      <td>59.7</td>\n",
       "      <td>67.6</td>\n",
       "      <td>51.7</td>\n",
       "      <td>190917</td>\n",
       "    </tr>\n",
       "    <tr>\n",
       "      <th>40</th>\n",
       "      <td>Philippines</td>\n",
       "      <td>40518845</td>\n",
       "      <td>18.9</td>\n",
       "      <td>22.2</td>\n",
       "      <td>16.8</td>\n",
       "      <td>401118</td>\n",
       "    </tr>\n",
       "    <tr>\n",
       "      <th>41</th>\n",
       "      <td>Malaysia</td>\n",
       "      <td>40155975</td>\n",
       "      <td>61.6</td>\n",
       "      <td>67.1</td>\n",
       "      <td>55.7</td>\n",
       "      <td>270771</td>\n",
       "    </tr>\n",
       "    <tr>\n",
       "      <th>42</th>\n",
       "      <td>Colombia</td>\n",
       "      <td>38171733</td>\n",
       "      <td>37.9</td>\n",
       "      <td>49.1</td>\n",
       "      <td>31.6</td>\n",
       "      <td>162513</td>\n",
       "    </tr>\n",
       "  </tbody>\n",
       "</table>\n",
       "</div>"
      ],
      "text/plain": [
       "         country Doses_administered percent_of_people: 1_percent 2_percent  \\\n",
       "20      Pakistan           72986511               17.8      26.6      11.7   \n",
       "21         Spain           69094664               74.3      80.4      77.0   \n",
       "22   South Korea           58008049               56.1      69.8      42.4   \n",
       "23        Canada           55003800               73.3      75.4      69.6   \n",
       "37     Argentina           48643176               54.1      64.4      43.8   \n",
       "38      Thailand           43342103               31.1      40.8      20.5   \n",
       "39  Saudi Arabia           40691717               59.7      67.6      51.7   \n",
       "40   Philippines           40518845               18.9      22.2      16.8   \n",
       "41      Malaysia           40155975               61.6      67.1      55.7   \n",
       "42      Colombia           38171733               37.9      49.1      31.6   \n",
       "\n",
       "   Daily_rate_of_doses  \n",
       "20              806318  \n",
       "21              133540  \n",
       "22              849438  \n",
       "23               99405  \n",
       "37              249772  \n",
       "38              795742  \n",
       "39              190917  \n",
       "40              401118  \n",
       "41              270771  \n",
       "42              162513  "
      ]
     },
     "execution_count": 28,
     "metadata": {},
     "output_type": "execute_result"
    }
   ],
   "source": [
    "dat_df.iloc[ 15:25, :]"
   ]
  },
  {
   "cell_type": "code",
   "execution_count": 29,
   "metadata": {},
   "outputs": [
    {
     "data": {
      "text/plain": [
       "Index(['Doses_administered', 'percent_of_people:', '1_percent', '2_percent',\n",
       "       'Daily_rate_of_doses'],\n",
       "      dtype='object')"
      ]
     },
     "execution_count": 29,
     "metadata": {},
     "output_type": "execute_result"
    }
   ],
   "source": [
    "dat_df_num = dat_df.iloc[:, 1:]\n",
    "dat_df_num.columns"
   ]
  },
  {
   "cell_type": "code",
   "execution_count": 30,
   "metadata": {},
   "outputs": [
    {
     "name": "stdout",
     "output_type": "stream",
     "text": [
      "col name : Doses_administered\n",
      "col name : percent_of_people:\n",
      "col name : 1_percent\n",
      "col name : 2_percent\n",
      "col name : Daily_rate_of_doses\n",
      "<class 'pandas.core.frame.DataFrame'>\n",
      "Int64Index: 207 entries, 0 to 225\n",
      "Data columns (total 6 columns):\n",
      " #   Column               Non-Null Count  Dtype  \n",
      "---  ------               --------------  -----  \n",
      " 0   country              207 non-null    object \n",
      " 1   Doses_administered   207 non-null    float32\n",
      " 2   percent_of_people:   207 non-null    float32\n",
      " 3   1_percent            207 non-null    float32\n",
      " 4   2_percent            207 non-null    float32\n",
      " 5   Daily_rate_of_doses  207 non-null    float32\n",
      "dtypes: float32(5), object(1)\n",
      "memory usage: 7.3+ KB\n"
     ]
    }
   ],
   "source": [
    "sel_col = dat_df_num.columns\n",
    "for one in sel_col:\n",
    "    print(\"col name :\", one)\n",
    "    dat_df[one] = dat_df[one].astype('float32')\n",
    "    \n",
    "dat_df.info()"
   ]
  },
  {
   "cell_type": "markdown",
   "metadata": {},
   "source": [
    "### 파일 만들기"
   ]
  },
  {
   "cell_type": "code",
   "execution_count": 31,
   "metadata": {},
   "outputs": [
    {
     "name": "stdout",
     "output_type": "stream",
     "text": [
      "19\n",
      "20210920_00\n"
     ]
    }
   ],
   "source": [
    "from datetime import datetime\n",
    "import os\n",
    "\n",
    "now = datetime.now()\n",
    "file_make_time = \"%04d%02d%02d_%02d\" % (now.year, now.month, now.day, now.hour)\n",
    "print(now.day - 1)\n",
    "now_day = now.day\n",
    "now_hour = now.hour\n",
    "\n",
    "print( file_make_time )"
   ]
  },
  {
   "cell_type": "code",
   "execution_count": 32,
   "metadata": {},
   "outputs": [
    {
     "name": "stdout",
     "output_type": "stream",
     "text": [
      "C:\\Users\\toto\\Documents\\Github\\corona_analysis\n",
      "C:\\Users\\toto\\Documents\\Github\\corona_analysis\\data\\\n",
      "C:\\Users\\toto\\Documents\\Github\\corona_analysis\\data\\20210920_00\n"
     ]
    }
   ],
   "source": [
    "print( os.getcwd() )\n",
    "path_dir = os.getcwd() + \"\\\\data\\\\\"\n",
    "path_file = path_dir + file_make_time\n",
    "print( path_dir,  path_file, sep=\"\\n\" )"
   ]
  },
  {
   "cell_type": "code",
   "execution_count": 33,
   "metadata": {},
   "outputs": [
    {
     "data": {
      "text/plain": [
       "['2021-08-07_corona.csv',\n",
       " '2021-08-07_corona.xlsx',\n",
       " '20210808_16datamerge.csv',\n",
       " '20210808_16datamerge.xlsx',\n",
       " '20210808_16_today_corona.csv',\n",
       " '20210808_16_today_corona.xlsx',\n",
       " '20210808_16_vaccine_bloomberg.csv',\n",
       " '20210808_16_vaccine_bloomberg.xlsx',\n",
       " '20210920_00_vaccine_bloomberg.csv',\n",
       " '20210920_00_vaccine_bloomberg.xlsx',\n",
       " 'country.csv',\n",
       " 'country.xlsx']"
      ]
     },
     "execution_count": 33,
     "metadata": {},
     "output_type": "execute_result"
    }
   ],
   "source": [
    "dat_df.to_csv( path_file + \"_vaccine_bloomberg.csv\", index=False)\n",
    "dat_df.to_excel( path_file + \"_vaccine_bloomberg.xlsx\", index=False)\n",
    "os.listdir(path_dir)"
   ]
  },
  {
   "cell_type": "markdown",
   "metadata": {},
   "source": [
    "* history \n",
    " * 2021.08.08 version 01\n",
    "* 출처를 밝히시고 위의 내용에 대해 자유롭게 사용 가능합니다."
   ]
  },
  {
   "cell_type": "code",
   "execution_count": null,
   "metadata": {},
   "outputs": [],
   "source": []
  }
 ],
 "metadata": {
  "kernelspec": {
   "display_name": "Python 3",
   "language": "python",
   "name": "python3"
  },
  "language_info": {
   "codemirror_mode": {
    "name": "ipython",
    "version": 3
   },
   "file_extension": ".py",
   "mimetype": "text/x-python",
   "name": "python",
   "nbconvert_exporter": "python",
   "pygments_lexer": "ipython3",
   "version": "3.8.8"
  }
 },
 "nbformat": 4,
 "nbformat_minor": 4
}
