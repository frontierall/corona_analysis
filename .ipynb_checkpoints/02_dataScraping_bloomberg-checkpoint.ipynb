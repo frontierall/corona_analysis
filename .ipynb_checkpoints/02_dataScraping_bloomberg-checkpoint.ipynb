{
 "cells": [
  {
   "cell_type": "markdown",
   "metadata": {},
   "source": [
    "### 국가별 백신 접종률 정보 가져오기"
   ]
  },
  {
   "cell_type": "markdown",
   "metadata": {},
   "source": [
    "### 정보 수집 사이트 \n",
    "* bloomberg.com\n",
    "  * https://www.bloomberg.com/graphics/covid-vaccine-tracker-global-distribution/\n",
    "\n",
    "### 기타 참고 통계 사이트\n",
    "* our world in data\n",
    "  * https://ourworldindata.org/covid-vaccinations\n"
   ]
  },
  {
   "cell_type": "code",
   "execution_count": 1,
   "metadata": {},
   "outputs": [],
   "source": [
    "from IPython.display import display, Image\n",
    "import os, warnings\n",
    "import re\n",
    "warnings.filterwarnings(action='ignore')"
   ]
  },
  {
   "cell_type": "markdown",
   "metadata": {},
   "source": [
    "### 01 웹 브라우저 띄우기\n",
    " *  만약 chrome 브라우저와 chromedirver의 버전이 안 맞을 경우, 버전을 맞는 것으로 변경해야 함.(가끔 이 부분에서 에러 발생)\n",
    "   * 'chrome driver download'로 검색 후, 사이트에 접근 후, 다운로드 가능(window, linux, mac 버전 있음)"
   ]
  },
  {
   "cell_type": "code",
   "execution_count": 2,
   "metadata": {},
   "outputs": [],
   "source": [
    "from selenium import webdriver\n",
    "from bs4 import BeautifulSoup\n",
    "\n",
    "driver = webdriver.Chrome('./chromedriver_91')\n",
    "\n",
    "url = 'https://www.bloomberg.com/graphics/covid-vaccine-tracker-global-distribution/'\n",
    "driver.get(url)"
   ]
  },
  {
   "cell_type": "code",
   "execution_count": 3,
   "metadata": {},
   "outputs": [],
   "source": [
    "import time\n",
    "time.sleep(3)  # 홈페이지 로딩 시간 3초"
   ]
  },
  {
   "cell_type": "markdown",
   "metadata": {},
   "source": [
    "### 전체 데이터 보기\n",
    " * 나라가 여러나라가 있어, 더 보기 버튼을 2번 정도 눌러준다."
   ]
  },
  {
   "cell_type": "code",
   "execution_count": 4,
   "metadata": {},
   "outputs": [],
   "source": [
    "# //*[@id=\"dvz-table-global-vaccination\"]/div[2]/div[2]/button\n",
    "# //*[@id=\"dvz-table-global-vaccination\"]/div[2]/div[2]/button\n",
    "xpath = '//*[@id=\"dvz-table-global-vaccination\"]/div[2]/div[2]/button'\n",
    "sel_more1 = driver.find_element_by_xpath(xpath)\n",
    "sel_more1.click()\n",
    "time.sleep(1)"
   ]
  },
  {
   "cell_type": "code",
   "execution_count": 5,
   "metadata": {},
   "outputs": [],
   "source": [
    "# //*[@id=\"dvz-table-usa-vaccination\"]/div[2]/div[2]/button\n",
    "xpath = '//*[@id=\"dvz-table-global-vaccination\"]/div[2]/div[2]/button'\n",
    "sel_more2 = driver.find_element_by_xpath(xpath)\n",
    "sel_more2.click()"
   ]
  },
  {
   "cell_type": "markdown",
   "metadata": {},
   "source": [
    "### TABLE 선택 후, 데이터 가져오기"
   ]
  },
  {
   "cell_type": "markdown",
   "metadata": {},
   "source": [
    "#### Countries and regions \n",
    " * //*[@id=\"dvz-table-global-vaccination\"]/div[2]/div[1]/table/tbody/tr[1]/td[1]\n",
    " * ..\n",
    " * //*[@id=\"dvz-table-global-vaccination\"]/div[2]/div[1]/table/tbody/tr[3]/td[1]\n",
    " \n",
    "#### Doses administered\n",
    " * //*[@id=\"dvz-table-global-vaccination\"]/div[2]/div[1]/table/tbody/tr[1]/td[2]\n",
    " \n",
    "#### Enough for % of people\n",
    " * //*[@id=\"dvz-table-global-vaccination\"]/div[2]/div[1]/table/tbody/tr[1]/td[3]\n",
    " \n",
    "#### given 1+ dose\n",
    " * //*[@id=\"dvz-table-global-vaccination\"]/div[2]/div[1]/table/tbody/tr[1]/td[4]\n",
    " \n",
    "#### fully vaccinated\n",
    " * //*[@id=\"dvz-table-global-vaccination\"]/div[2]/div[1]/table/tbody/tr[1]/td[5]\n",
    " \n",
    "#### Daily rate of doses administered\n",
    " * //*[@id=\"dvz-table-global-vaccination\"]/div[2]/div[1]/table/tbody/tr[1]/td[6]\n",
    " "
   ]
  },
  {
   "cell_type": "markdown",
   "metadata": {},
   "source": [
    "### 전체 데이터 가져오기"
   ]
  },
  {
   "cell_type": "code",
   "execution_count": 6,
   "metadata": {},
   "outputs": [
    {
     "name": "stdout",
     "output_type": "stream",
     "text": [
      "['Global Total', 'Mainland China', 'India', 'EU', 'U.S.', 'Brazil', 'Japan', 'Indonesia', 'Turkey', 'Germany', 'Mexico', 'France', 'U.K.', '', '', '', '', '', 'Russia', 'Italy', 'Pakistan', 'Spain', 'South Korea', 'Canada', '', '', '', '', '', '', '', '', '', '', '', '', '', 'Argentina', 'Thailand', 'Philippines', 'Iran', 'Malaysia', 'Saudi Arabia', 'Bangladesh', 'Morocco', 'Colombia', 'Vietnam', 'Poland', 'Chile', 'Australia', 'Sri Lanka', 'Peru', 'Cambodia', 'Netherlands', 'Ecuador', 'Cuba', 'UAE', 'Uzbekistan', 'Ukraine', 'South Africa', 'Belgium', 'Portugal', 'Egypt', 'Israel', 'Taiwan', 'Algeria', 'Venezuela', 'Kazakhstan', 'Sweden', 'Nepal', 'Greece', 'Dominican Republic', 'Czech Republic', 'Hungary', 'Austria', 'Switzerland', '', 'Romania', 'Singapore', 'Myanmar', 'Denmark', 'Hong Kong', 'Azerbaijan', 'Norway', 'Finland', 'Iraq', 'Tunisia', 'El Salvador', 'Ireland', 'Jordan', 'Guatemala', 'Bolivia', 'Nigeria', 'Serbia', 'Uruguay', 'Panama', 'Costa Rica', 'Zimbabwe', 'Honduras', 'New Zealand', 'Oman', 'Slovakia', 'Qatar', 'Mongolia', 'Paraguay', 'Laos', 'Tajikistan', 'Rwanda', 'Mozambique', 'Kenya', 'Ethiopia', 'Croatia', 'Belarus', 'Lithuania', 'Angola', 'Afghanistan', 'Lebanon', 'Bahrain', 'Bulgaria', 'Kuwait', 'Slovenia', 'Uganda', 'Ivory Coast', 'Senegal', 'Georgia', 'Albania', 'Guinea', 'Ghana', 'Sudan', 'Mauritius', 'Latvia', 'Libya', 'North Macedonia', 'Kyrgyzstan', 'Moldova', 'Estonia', 'Kosovo', 'Cyprus', 'Malawi', 'Bhutan', 'Bosnia and Herzegovina', 'Trinidad and Tobago', 'Togo', 'Fiji', 'Mauritania', 'Malta', 'Nicaragua', 'Luxembourg', 'Jamaica', 'Maldives', 'Zambia', 'Timor-Leste', 'Macau', 'Niger', 'Botswana', 'Iceland', 'Guyana', 'Syria', 'Somalia', 'Cameroon', 'Montenegro', 'Brunei', 'Madagascar', 'Cape Verde', 'Armenia', 'Namibia', 'Mali', 'Suriname', 'Tanzania', 'Equatorial Guinea', 'Comoros', 'Lesotho', 'Republic of the Congo', 'Yemen', 'Belize', 'Liberia', 'Burkina Faso', 'Eswatini', 'Barbados', 'Sierra Leone', 'Benin', 'Gambia', 'Central African Republic', 'Curaçao', 'Bahamas', 'Gabon', 'Papua New Guinea', 'Aruba', 'Jersey', 'Samoa', 'Seychelles', 'Chad', 'DR Congo', 'Isle of Man', 'Cayman Islands', 'South Sudan', 'Greenland', 'Guernsey', 'Solomon Islands', 'Andorra', 'Guinea-Bissau', 'Antigua and Barbuda', 'Bermuda', 'Sao Tome and Principe', 'Gibraltar', 'St. Lucia', 'Faroe Islands', 'Tonga', 'Micronesia', 'Djibouti', 'Haiti', 'Grenada', 'Turks & Caicos', 'Monaco', 'Sint Maarten', 'Saint Kitts and Nevis', 'San Marino', 'Dominica', 'Turkmenistan', 'St. Vincent and the Grenadines', 'Anguilla', 'Nauru', 'St. Helena', 'Falkland Islands', 'Montserrat', 'Eritrea']\n",
      "['6,199,443,468', '2,203,185,000', '876,538,633', '564,029,956', '391,152,574', '233,261,963', '161,057,159', '139,232,210', '108,761,681', '107,197,993', '99,366,403', '94,250,528', '93,565,474', '', '', '', '', '', '89,865,316', '84,351,559', '79,533,208', '69,936,755', '62,462,921', '56,036,106', '', '', '', '', '', '', '', '', '', '', '', '', '', '51,222,138', '46,023,016', '44,361,285', '43,372,270', '43,028,919', '41,886,224', '41,466,455', '40,273,386', '39,701,907', '39,232,772', '37,158,644', '31,553,676', '27,109,766', '26,096,107', '25,912,376', '23,830,570', '23,540,559', '20,571,335', '20,298,170', '19,963,359', '18,526,941', '17,867,953', '17,176,603', '16,644,129', '15,950,862', '15,057,720', '14,970,627', '14,763,330', '14,082,920', '14,050,000', '14,013,701', '13,703,515', '13,166,598', '12,088,975', '11,828,826', '11,788,930', '11,167,215', '10,802,266', '10,358,035', '', '10,114,580', '9,306,870', '9,001,616', '8,815,419', '8,622,733', '8,350,575', '7,757,255', '7,523,959', '7,448,300', '7,425,277', '7,396,969', '7,200,652', '6,960,192', '6,757,605', '6,700,654', '6,552,979', '6,409,263', '6,214,949', '5,367,816', '5,278,479', '5,263,782', '5,196,072', '5,087,231', '4,946,987', '4,762,272', '4,702,517', '4,545,348', '4,488,153', '4,402,770', '3,872,421', '3,740,279', '3,644,423', '3,613,357', '3,535,329', '3,413,174', '3,389,520', '3,199,916', '3,134,137', '3,133,227', '2,929,966', '2,568,320', '2,521,738', '2,380,000', '2,113,404', '2,058,553', '1,968,171', '1,784,832', '1,760,878', '1,715,133', '1,699,898', '1,653,422', '1,650,828', '1,633,952', '1,621,953', '1,546,967', '1,495,762', '1,422,970', '1,392,707', '1,361,564', '1,283,840', '1,147,010', '1,087,426', '1,068,414', '1,060,145', '1,047,111', '997,632', '975,268', '890,122', '818,593', '788,502', '784,482', '743,184', '727,664', '711,264', '675,891', '649,564', '621,853', '606,699', '551,110', '538,748', '533,949', '464,359', '461,201', '452,830', '443,676', '417,648', '414,300', '408,535', '407,502', '405,053', '394,029', '389,807', '387,510', '336,863', '332,954', '329,905', '322,934', '304,218', '284,246', '254,545', '240,002', '234,124', '232,375', '226,269', '207,195', '187,160', '186,793', '184,461', '180,320', '164,776', '155,753', '150,891', '149,431', '148,402', '142,548', '134,945', '129,318', '110,096', '103,751', '102,357', '101,898', '97,744', '95,918', '94,715', '89,252', '86,676', '82,679', '79,502', '76,224', '74,129', '73,603', '72,085', '67,229', '64,799', '55,663', '52,374', '49,980', '49,310', '47,098', '47,088', '44,624', '41,993', '33,077', '18,584', '14,863', '7,892', '4,407', '2,871', '–']\n",
      "['–', '78.7', '32.0', '63.5', '61.1', '56.5', '63.8', '26.1', '65.4', '64.5', '38.9', '72.7', '70.0', '', '', '', '', '', '30.6', '69.9', '19.4', '75.2', '60.4', '74.7', '', '', '', '', '', '', '', '', '', '', '', '', '', '57.0', '33.1', '20.7', '26.0', '66.0', '61.4', '12.4', '56.6', '39.4', '20.3', '48.9', '82.6', '53.1', '59.8', '39.1', '72.2', '68.3', '59.6', '89.6', '92.9', '27.9', '21.4', '16.4', '72.6', '77.6', '7.6', '82.7', '31.3', '16.2', '25.3', '37.6', '66.3', '23.1', '56.4', '57.1', '55.3', '57.1', '61.0', '60.6', '', '26.1', '81.6', '8.5', '75.9', '57.3', '41.8', '72.4', '68.2', '9.5', '31.5', '57.3', '72.7', '34.6', '19.2', '29.0', '1.6', '46.0', '88.3', '63.6', '52.0', '17.7', '26.6', '51.6', '59.0', '43.7', '84.1', '68.9', '31.4', '30.7', '20.8', '15.1', '5.8', '3.8', '1.8', '42.0', '17.9', '57.5', '5.2', '4.2', '21.4', '86.5', '18.1', '25.1', '52.1', '2.6', '3.7', '5.5', '23.6', '29.9', '6.2', '2.7', '1.9', '64.5', '42.2', '11.8', '36.0', '11.1', '26.0', '51.4', '35.7', '65.5', '2.7', '71.7', '16.1', '37.5', '6.2', '54.5', '11.0', '82.9', '6.0', '63.9', '13.6', '97.8', '1.9', '26.1', '47.8', '1.3', '12.8', '77.2', '34.3', '–', '1.5', '0.9', '36.3', '48.2', '0.8', '37.7', '6.9', '8.3', '1.1', '33.0', '0.3', '14.2', '19.3', '8.1', '3.6', '0.5', '37.3', '3.1', '0.6', '10.8', '40.8', '1.5', '1.0', '4.4', '2.0', '57.3', '24.2', '4.3', '1.0', '69.5', '–', '37.2', '77.3', '0.4', '0.1', '76.1', '84.7', '0.4', '89.8', '–', '7.6', '62.3', '2.7', '46.0', '68.8', '19.4', '116.9', '21.2', '75.6', '36.8', '34.7', '3.1', '0.3', '25.5', '68.9', '64.1', '58.7', '41.3', '69.2', '31.4', '0.4', '15.0', '61.9', '57.2', '65.8', '73.5', '28.7', '–']\n",
      "['–', '78.6', '46.7', '67.3', '64.4', '71.3', '69.5', '32.9', '64.5', '67.9', '49.8', '77.4', '73.0', '', '', '', '', '', '32.6', '74.5', '28.3', '81.0', '74.5', '76.2', '', '', '', '', '', '', '', '', '', '', '', '', '', '65.7', '42.4', '23.5', '35.5', '70.6', '68.4', '14.9', '61.6', '51.4', '32.1', '52.1', '78.5', '63.1', '66.0', '46.7', '79.6', '70.3', '64.2', '79.8', '85.9', '29.4', '29.6', '20.7', '74.8', '86.9', '9.7', '67.3', '53.2', '13.9', '31.6', '40.4', '69.2', '23.9', '59.9', '58.2', '57.0', '60.2', '64.5', '64.3', '', '28.2', '82.1', '10.5', '76.7', '59.5', '47.2', '77.2', '74.8', '11.7', '40.5', '62.8', '76.1', '36.6', '24.9', '36.8', '2.3', '43.4', '77.7', '69.7', '64.5', '20.5', '32.8', '66.0', '69.1', '44.8', '84.4', '68.3', '36.7', '39.1', '24.8', '16.9', '6.1', '5.7', '2.9', '44.5', '19.8', '62.5', '7.1', '2.6', '23.5', '78.4', '17.3', '56.2', '54.1', '4.1', '5.6', '7.6', '26.2', '32.7', '8.5', '2.9', '1.5', '66.8', '47.4', '20.7', '37.6', '12.7', '22.9', '57.0', '43.3', '67.9', '3.9', '77.1', '19.2', '41.5', '7.4', '65.7', '7.9', '85.1', '7.7', '68.1', '19.3', '105.3', '1.8', '32.8', '51.2', '1.7', '17.2', '78.8', '45.2', '–', '1.7', '1.5', '38.6', '58.7', '0.7', '51.7', '8.9', '10.5', '1.7', '37.8', '–', '16.4', '20.0', '12.2', '4.7', '1.0', '47.6', '2.3', '1.2', '18.7', '46.1', '2.4', '1.3', '7.8', '3.0', '60.0', '30.0', '4.9', '1.4', '72.5', '–', '49.3', '80.5', '0.7', '0.1', '77.0', '84.7', '0.6', '124.5', '–', '11.6', '68.7', '4.9', '50.1', '69.6', '28.4', '117.4', '25.0', '77.7', '46.1', '41.6', '3.8', '0.4', '30.4', '72.2', '68.4', '61.2', '44.2', '71.8', '33.3', '0.6', '18.2', '63.3', '58.6', '72.7', '87.7', '29.7', '–']\n"
     ]
    },
    {
     "name": "stdout",
     "output_type": "stream",
     "text": [
      "['–', '73.0', '16.8', '64.7', '55.8', '41.9', '58.2', '18.4', '53.0', '64.2', '35.0', '74.6', '67.1', '', '', '', '', '', '28.5', '74.5', '13.4', '78.5', '46.3', '70.6', '', '', '', '', '', '', '', '', '', '', '', '', '', '48.3', '22.8', '19.2', '16.8', '60.7', '54.4', '10.0', '51.6', '32.8', '8.6', '51.1', '73.8', '41.9', '53.3', '31.1', '66.0', '63.6', '57.0', '43.6', '76.1', '11.1', '13.2', '14.3', '73.2', '84.0', '5.5', '62.1', '9.4', '9.3', '18.9', '34.4', '63.3', '21.7', '56.6', '55.5', '55.8', '57.7', '60.9', '58.3', '', '27.5', '79.2', '6.6', '75.1', '55.2', '36.4', '67.6', '61.6', '7.3', '29.0', '51.6', '74.1', '32.3', '13.1', '28.2', '0.9', '41.4', '72.9', '57.5', '39.5', '14.8', '20.4', '37.2', '48.9', '41.3', '79.4', '64.5', '26.1', '26.7', '16.8', '13.2', '5.6', '1.9', '0.8', '41.7', '16.0', '57.7', '3.3', '1.2', '19.3', '75.0', '19.0', '19.4', '48.1', '1.0', '1.4', '3.5', '21.1', '27.0', '3.9', '2.5', '1.3', '62.2', '43.5', '2.8', '34.3', '9.5', '29.0', '45.7', '28.1', '63.1', '2.4', '66.3', '12.9', '34.4', '5.0', '43.3', '0.5', '85.1', '4.4', '65.1', '8.9', '90.3', '2.1', '19.4', '44.6', '0.4', '9.5', '77.2', '23.4', '–', '1.4', '0.3', '33.7', '37.8', '0.7', '23.7', '4.8', '6.5', '1.2', '28.2', '–', '12.1', '18.5', '11.7', '2.5', '<0.1', '28.2', '0.6', '0.8', '18.1', '35.5', '0.5', '0.2', '7.3', '0.2', '54.6', '18.4', '3.8', '0.5', '66.6', '–', '25.0', '74.1', '0.2', '<0.1', '75.1', '84.7', '0.2', '64.5', '–', '3.6', '55.9', '0.4', '41.9', '68.0', '10.4', '116.4', '17.3', '73.6', '27.5', '–', '2.4', '0.2', '20.7', '65.6', '59.8', '56.2', '38.5', '71.8', '29.6', '0.2', '11.9', '60.6', '55.8', '58.9', '59.2', '27.8', '–']\n",
      "['29,152,868', '3,171,286', '7,178,901', '1,052,903', '701,422', '1,317,163', '1,134,065', '1,916,012', '381,129', '194,817', '536,693', '229,555', '63,126', '', '', '', '', '', '214,966', '211,345', '670,870', '72,816', '533,067', '105,929', '', '', '', '', '', '', '', '', '', '', '', '', '', '222,650', '640,484', '369,770', '1,368,407', '300,427', '101,318', '504,273', '237,441', '169,329', '621,033', '25,851', '109,701', '285,221', '167,003', '246,687', '213,009', '20,051', '16,381', '270,811', '59,157', '155,946', '157,673', '116,932', '22,185', '23,657', '303,446', '29,290', '202,336', '292,376', '246,316', '56,369', '30,188', '186,712', '22,088', '22,374', '8,874', '5,617', '9,919', '28,480', '', '20,423', '23,733', '163,440', '4,355', '28,497', '53,286', '17,426', '20,879', '110,874', '36,864', '32,549', '9,025', '16,091', '73,439', '33,238', '59,719', '15,790', '20,806', '16,408', '12', '31,282', '46,577', '38,574', '38,813', '6,412', '4,415', '16,573', '9,935', '9,906', '70,941', '54,654', '54,234', '30,756', '50,195', '6,307', '26,145', '21,363', '44,858', '765,279', '28,922', '3,999', '5,780', '12,990', '6,460', '90,201', '33,239', '2,395', '12,798', '8,220', '41,480', '3,330', '21,549', '1,155', '4,283', '11,651', '5,856', '10,359', '3,561', '3,361', '15,384', '1,090', '7,915', '3,185', '7,334', '3,453', '23,544', '9,017', '2,813', '824', '2,155', '592', '4,756', '759', '6,903', '3,941', '4,123', '9,294', '2,729', '1,103', '2,082', '23,498', '9,868', '995', '2,132', '5,261', '5,145', '3,741', '5,965', '4,761', '1,460', '2,208', '5,687', '2,838', '249', '6,246', '1,525', '244', '2,922', '9,467', '8,839', '888', '1,684', '805', '1,696', '357', '212', '276', '210', '1,099', '2,517', '150', '80', '981', '154', '2,785', '432', '30', '685', '996', '300', '45', '2,902', '113', '3,807', '1,048', '60', '2,420', '30', '495', '104', '274', '266', '174', '663', '579', '77', '120', '22', '31', '9', '82', '–', '113', '2', '4', '8', '202', '2', '–']\n"
     ]
    }
   ],
   "source": [
    "all_data = []\n",
    "\n",
    "for i in range(1, 7, 1):\n",
    "    data_col = []\n",
    "    xpath = '//*[@id=\"dvz-table-global-vaccination\"]/div[2]/div[1]/table/tbody/tr/td[%s]' % str(i) \n",
    "    sel_data = driver.find_elements_by_xpath(xpath)\n",
    "    \n",
    "    for dat in sel_data:\n",
    "        #print(dat)\n",
    "        data_col.append(dat.text)\n",
    "    print(data_col)\n",
    "    all_data.append(data_col)"
   ]
  },
  {
   "cell_type": "code",
   "execution_count": 8,
   "metadata": {},
   "outputs": [
    {
     "name": "stdout",
     "output_type": "stream",
     "text": [
      "226\n",
      "226\n",
      "226\n",
      "226\n",
      "226\n",
      "226\n"
     ]
    }
   ],
   "source": [
    "for i in range(len(all_data)):\n",
    "    print(len( all_data[i]) )"
   ]
  },
  {
   "cell_type": "code",
   "execution_count": 9,
   "metadata": {},
   "outputs": [],
   "source": [
    "import pandas as pd"
   ]
  },
  {
   "cell_type": "markdown",
   "metadata": {},
   "source": [
    "### 데이터 확인 \n",
    " * Countries and regions : 나라 및 지역 / country 컬럼\n",
    " * Doses administered : 접종 수 / Doses_administered 컬럼\n",
    " * Enough for % of people : 접종률 / percent_of_people 컬럼\n",
    " * given 1+ dose : 1차 접종 / 1_percent 컬럼\n",
    " * fully vaccinated : 2차 접종 / 2_percent 컬럼\n",
    " * Daily_rate_of_doses_administered : 일일 투여 용량 / Daily_rate_of_doses 컬럼"
   ]
  },
  {
   "cell_type": "code",
   "execution_count": 10,
   "metadata": {
    "scrolled": false
   },
   "outputs": [
    {
     "data": {
      "text/html": [
       "<div>\n",
       "<style scoped>\n",
       "    .dataframe tbody tr th:only-of-type {\n",
       "        vertical-align: middle;\n",
       "    }\n",
       "\n",
       "    .dataframe tbody tr th {\n",
       "        vertical-align: top;\n",
       "    }\n",
       "\n",
       "    .dataframe thead th {\n",
       "        text-align: right;\n",
       "    }\n",
       "</style>\n",
       "<table border=\"1\" class=\"dataframe\">\n",
       "  <thead>\n",
       "    <tr style=\"text-align: right;\">\n",
       "      <th></th>\n",
       "      <th>국가</th>\n",
       "      <th>백신접종수</th>\n",
       "      <th>백신보유율(인구):</th>\n",
       "      <th>1차접종</th>\n",
       "      <th>2차접종</th>\n",
       "      <th>일별접종수</th>\n",
       "    </tr>\n",
       "  </thead>\n",
       "  <tbody>\n",
       "    <tr>\n",
       "      <th>0</th>\n",
       "      <td>Global Total</td>\n",
       "      <td>6,199,443,468</td>\n",
       "      <td>–</td>\n",
       "      <td>–</td>\n",
       "      <td>–</td>\n",
       "      <td>29,152,868</td>\n",
       "    </tr>\n",
       "    <tr>\n",
       "      <th>1</th>\n",
       "      <td>Mainland China</td>\n",
       "      <td>2,203,185,000</td>\n",
       "      <td>78.7</td>\n",
       "      <td>78.6</td>\n",
       "      <td>73.0</td>\n",
       "      <td>3,171,286</td>\n",
       "    </tr>\n",
       "    <tr>\n",
       "      <th>2</th>\n",
       "      <td>India</td>\n",
       "      <td>876,538,633</td>\n",
       "      <td>32.0</td>\n",
       "      <td>46.7</td>\n",
       "      <td>16.8</td>\n",
       "      <td>7,178,901</td>\n",
       "    </tr>\n",
       "    <tr>\n",
       "      <th>3</th>\n",
       "      <td>EU</td>\n",
       "      <td>564,029,956</td>\n",
       "      <td>63.5</td>\n",
       "      <td>67.3</td>\n",
       "      <td>64.7</td>\n",
       "      <td>1,052,903</td>\n",
       "    </tr>\n",
       "    <tr>\n",
       "      <th>4</th>\n",
       "      <td>U.S.</td>\n",
       "      <td>391,152,574</td>\n",
       "      <td>61.1</td>\n",
       "      <td>64.4</td>\n",
       "      <td>55.8</td>\n",
       "      <td>701,422</td>\n",
       "    </tr>\n",
       "    <tr>\n",
       "      <th>...</th>\n",
       "      <td>...</td>\n",
       "      <td>...</td>\n",
       "      <td>...</td>\n",
       "      <td>...</td>\n",
       "      <td>...</td>\n",
       "      <td>...</td>\n",
       "    </tr>\n",
       "    <tr>\n",
       "      <th>221</th>\n",
       "      <td>Nauru</td>\n",
       "      <td>14,863</td>\n",
       "      <td>57.2</td>\n",
       "      <td>58.6</td>\n",
       "      <td>55.8</td>\n",
       "      <td>4</td>\n",
       "    </tr>\n",
       "    <tr>\n",
       "      <th>222</th>\n",
       "      <td>St. Helena</td>\n",
       "      <td>7,892</td>\n",
       "      <td>65.8</td>\n",
       "      <td>72.7</td>\n",
       "      <td>58.9</td>\n",
       "      <td>8</td>\n",
       "    </tr>\n",
       "    <tr>\n",
       "      <th>223</th>\n",
       "      <td>Falkland Islands</td>\n",
       "      <td>4,407</td>\n",
       "      <td>73.5</td>\n",
       "      <td>87.7</td>\n",
       "      <td>59.2</td>\n",
       "      <td>202</td>\n",
       "    </tr>\n",
       "    <tr>\n",
       "      <th>224</th>\n",
       "      <td>Montserrat</td>\n",
       "      <td>2,871</td>\n",
       "      <td>28.7</td>\n",
       "      <td>29.7</td>\n",
       "      <td>27.8</td>\n",
       "      <td>2</td>\n",
       "    </tr>\n",
       "    <tr>\n",
       "      <th>225</th>\n",
       "      <td>Eritrea</td>\n",
       "      <td>–</td>\n",
       "      <td>–</td>\n",
       "      <td>–</td>\n",
       "      <td>–</td>\n",
       "      <td>–</td>\n",
       "    </tr>\n",
       "  </tbody>\n",
       "</table>\n",
       "<p>226 rows × 6 columns</p>\n",
       "</div>"
      ],
      "text/plain": [
       "                   국가          백신접종수 백신보유율(인구):  1차접종  2차접종       일별접종수\n",
       "0        Global Total  6,199,443,468          –     –     –  29,152,868\n",
       "1      Mainland China  2,203,185,000       78.7  78.6  73.0   3,171,286\n",
       "2               India    876,538,633       32.0  46.7  16.8   7,178,901\n",
       "3                  EU    564,029,956       63.5  67.3  64.7   1,052,903\n",
       "4                U.S.    391,152,574       61.1  64.4  55.8     701,422\n",
       "..                ...            ...        ...   ...   ...         ...\n",
       "221             Nauru         14,863       57.2  58.6  55.8           4\n",
       "222        St. Helena          7,892       65.8  72.7  58.9           8\n",
       "223  Falkland Islands          4,407       73.5  87.7  59.2         202\n",
       "224        Montserrat          2,871       28.7  29.7  27.8           2\n",
       "225           Eritrea              –          –     –     –           –\n",
       "\n",
       "[226 rows x 6 columns]"
      ]
     },
     "execution_count": 10,
     "metadata": {},
     "output_type": "execute_result"
    }
   ],
   "source": [
    "pd.set_option(\"display.max_rows\", 40)\n",
    "\n",
    "dat_dict = {'국가':all_data[0],\n",
    "            '백신접종수':all_data[1],\n",
    "            '백신보유율(인구):':all_data[2],\n",
    "            '1차접종':all_data[3],\n",
    "            '2차접종':all_data[4],\n",
    "            '일별접종수':all_data[5]\n",
    "           }\n",
    "\n",
    "dat_df = pd.DataFrame(dat_dict)\n",
    "dat_df"
   ]
  },
  {
   "cell_type": "code",
   "execution_count": 11,
   "metadata": {},
   "outputs": [
    {
     "name": "stdout",
     "output_type": "stream",
     "text": [
      "<class 'pandas.core.frame.DataFrame'>\n",
      "RangeIndex: 226 entries, 0 to 225\n",
      "Data columns (total 6 columns):\n",
      " #   Column      Non-Null Count  Dtype \n",
      "---  ------      --------------  ----- \n",
      " 0   국가          226 non-null    object\n",
      " 1   백신접종수       226 non-null    object\n",
      " 2   백신보유율(인구):  226 non-null    object\n",
      " 3   1차접종        226 non-null    object\n",
      " 4   2차접종        226 non-null    object\n",
      " 5   일별접종수       226 non-null    object\n",
      "dtypes: object(6)\n",
      "memory usage: 10.7+ KB\n"
     ]
    }
   ],
   "source": [
    "dat_df.info()"
   ]
  },
  {
   "cell_type": "markdown",
   "metadata": {},
   "source": [
    "### 데이터 전처리\n",
    " * 데이터가 없거나 제대로 얻어지지 못한 부분. 그리고 추가 컬럼 등을 생성\n",
    " * [].str.len() : 데이터의 길이"
   ]
  },
  {
   "cell_type": "code",
   "execution_count": 12,
   "metadata": {},
   "outputs": [
    {
     "data": {
      "text/plain": [
       "0      12\n",
       "1      14\n",
       "2       5\n",
       "3       2\n",
       "4       4\n",
       "       ..\n",
       "221     5\n",
       "222    10\n",
       "223    16\n",
       "224    10\n",
       "225     7\n",
       "Name: 국가, Length: 226, dtype: int64"
      ]
     },
     "execution_count": 12,
     "metadata": {},
     "output_type": "execute_result"
    }
   ],
   "source": [
    "### 공백행을 삭제\n",
    "dat_df['국가'].str.len()"
   ]
  },
  {
   "cell_type": "code",
   "execution_count": 13,
   "metadata": {},
   "outputs": [
    {
     "data": {
      "text/plain": [
       "array([12, 14,  5,  2,  4,  6,  9,  7,  0,  8, 11, 10,  3, 18, 15, 22, 19,\n",
       "       17, 21, 24, 16, 13, 30], dtype=int64)"
      ]
     },
     "execution_count": 13,
     "metadata": {},
     "output_type": "execute_result"
    }
   ],
   "source": [
    "dat_df['국가'].str.len().unique()"
   ]
  },
  {
   "cell_type": "markdown",
   "metadata": {},
   "source": [
    "### 한나라의 중복 행의 존재로 이 부분은 정보 취득 못함"
   ]
  },
  {
   "cell_type": "code",
   "execution_count": 14,
   "metadata": {},
   "outputs": [
    {
     "data": {
      "text/html": [
       "<div>\n",
       "<style scoped>\n",
       "    .dataframe tbody tr th:only-of-type {\n",
       "        vertical-align: middle;\n",
       "    }\n",
       "\n",
       "    .dataframe tbody tr th {\n",
       "        vertical-align: top;\n",
       "    }\n",
       "\n",
       "    .dataframe thead th {\n",
       "        text-align: right;\n",
       "    }\n",
       "</style>\n",
       "<table border=\"1\" class=\"dataframe\">\n",
       "  <thead>\n",
       "    <tr style=\"text-align: right;\">\n",
       "      <th></th>\n",
       "      <th>국가</th>\n",
       "      <th>백신접종수</th>\n",
       "      <th>백신보유율(인구):</th>\n",
       "      <th>1차접종</th>\n",
       "      <th>2차접종</th>\n",
       "      <th>일별접종수</th>\n",
       "    </tr>\n",
       "  </thead>\n",
       "  <tbody>\n",
       "    <tr>\n",
       "      <th>13</th>\n",
       "      <td></td>\n",
       "      <td></td>\n",
       "      <td></td>\n",
       "      <td></td>\n",
       "      <td></td>\n",
       "      <td></td>\n",
       "    </tr>\n",
       "    <tr>\n",
       "      <th>14</th>\n",
       "      <td></td>\n",
       "      <td></td>\n",
       "      <td></td>\n",
       "      <td></td>\n",
       "      <td></td>\n",
       "      <td></td>\n",
       "    </tr>\n",
       "    <tr>\n",
       "      <th>15</th>\n",
       "      <td></td>\n",
       "      <td></td>\n",
       "      <td></td>\n",
       "      <td></td>\n",
       "      <td></td>\n",
       "      <td></td>\n",
       "    </tr>\n",
       "    <tr>\n",
       "      <th>16</th>\n",
       "      <td></td>\n",
       "      <td></td>\n",
       "      <td></td>\n",
       "      <td></td>\n",
       "      <td></td>\n",
       "      <td></td>\n",
       "    </tr>\n",
       "    <tr>\n",
       "      <th>17</th>\n",
       "      <td></td>\n",
       "      <td></td>\n",
       "      <td></td>\n",
       "      <td></td>\n",
       "      <td></td>\n",
       "      <td></td>\n",
       "    </tr>\n",
       "    <tr>\n",
       "      <th>24</th>\n",
       "      <td></td>\n",
       "      <td></td>\n",
       "      <td></td>\n",
       "      <td></td>\n",
       "      <td></td>\n",
       "      <td></td>\n",
       "    </tr>\n",
       "    <tr>\n",
       "      <th>25</th>\n",
       "      <td></td>\n",
       "      <td></td>\n",
       "      <td></td>\n",
       "      <td></td>\n",
       "      <td></td>\n",
       "      <td></td>\n",
       "    </tr>\n",
       "    <tr>\n",
       "      <th>26</th>\n",
       "      <td></td>\n",
       "      <td></td>\n",
       "      <td></td>\n",
       "      <td></td>\n",
       "      <td></td>\n",
       "      <td></td>\n",
       "    </tr>\n",
       "    <tr>\n",
       "      <th>27</th>\n",
       "      <td></td>\n",
       "      <td></td>\n",
       "      <td></td>\n",
       "      <td></td>\n",
       "      <td></td>\n",
       "      <td></td>\n",
       "    </tr>\n",
       "    <tr>\n",
       "      <th>28</th>\n",
       "      <td></td>\n",
       "      <td></td>\n",
       "      <td></td>\n",
       "      <td></td>\n",
       "      <td></td>\n",
       "      <td></td>\n",
       "    </tr>\n",
       "    <tr>\n",
       "      <th>29</th>\n",
       "      <td></td>\n",
       "      <td></td>\n",
       "      <td></td>\n",
       "      <td></td>\n",
       "      <td></td>\n",
       "      <td></td>\n",
       "    </tr>\n",
       "    <tr>\n",
       "      <th>30</th>\n",
       "      <td></td>\n",
       "      <td></td>\n",
       "      <td></td>\n",
       "      <td></td>\n",
       "      <td></td>\n",
       "      <td></td>\n",
       "    </tr>\n",
       "    <tr>\n",
       "      <th>31</th>\n",
       "      <td></td>\n",
       "      <td></td>\n",
       "      <td></td>\n",
       "      <td></td>\n",
       "      <td></td>\n",
       "      <td></td>\n",
       "    </tr>\n",
       "    <tr>\n",
       "      <th>32</th>\n",
       "      <td></td>\n",
       "      <td></td>\n",
       "      <td></td>\n",
       "      <td></td>\n",
       "      <td></td>\n",
       "      <td></td>\n",
       "    </tr>\n",
       "    <tr>\n",
       "      <th>33</th>\n",
       "      <td></td>\n",
       "      <td></td>\n",
       "      <td></td>\n",
       "      <td></td>\n",
       "      <td></td>\n",
       "      <td></td>\n",
       "    </tr>\n",
       "    <tr>\n",
       "      <th>34</th>\n",
       "      <td></td>\n",
       "      <td></td>\n",
       "      <td></td>\n",
       "      <td></td>\n",
       "      <td></td>\n",
       "      <td></td>\n",
       "    </tr>\n",
       "    <tr>\n",
       "      <th>35</th>\n",
       "      <td></td>\n",
       "      <td></td>\n",
       "      <td></td>\n",
       "      <td></td>\n",
       "      <td></td>\n",
       "      <td></td>\n",
       "    </tr>\n",
       "    <tr>\n",
       "      <th>36</th>\n",
       "      <td></td>\n",
       "      <td></td>\n",
       "      <td></td>\n",
       "      <td></td>\n",
       "      <td></td>\n",
       "      <td></td>\n",
       "    </tr>\n",
       "    <tr>\n",
       "      <th>76</th>\n",
       "      <td></td>\n",
       "      <td></td>\n",
       "      <td></td>\n",
       "      <td></td>\n",
       "      <td></td>\n",
       "      <td></td>\n",
       "    </tr>\n",
       "  </tbody>\n",
       "</table>\n",
       "</div>"
      ],
      "text/plain": [
       "   국가 백신접종수 백신보유율(인구): 1차접종 2차접종 일별접종수\n",
       "13                                    \n",
       "14                                    \n",
       "15                                    \n",
       "16                                    \n",
       "17                                    \n",
       "24                                    \n",
       "25                                    \n",
       "26                                    \n",
       "27                                    \n",
       "28                                    \n",
       "29                                    \n",
       "30                                    \n",
       "31                                    \n",
       "32                                    \n",
       "33                                    \n",
       "34                                    \n",
       "35                                    \n",
       "36                                    \n",
       "76                                    "
      ]
     },
     "execution_count": 14,
     "metadata": {},
     "output_type": "execute_result"
    }
   ],
   "source": [
    "dat_df.loc[ dat_df['국가'].str.len() < 1, : ]"
   ]
  },
  {
   "cell_type": "markdown",
   "metadata": {},
   "source": [
    "### 데이터가 있는 행만 가져오기"
   ]
  },
  {
   "cell_type": "code",
   "execution_count": 15,
   "metadata": {},
   "outputs": [
    {
     "name": "stdout",
     "output_type": "stream",
     "text": [
      "(226, 6)\n",
      "(207, 6)\n"
     ]
    }
   ],
   "source": [
    "print(dat_df.shape)\n",
    "dat_df = dat_df.loc[ dat_df['국가'].str.len() >1, : ]\n",
    "print(dat_df.shape)"
   ]
  },
  {
   "cell_type": "code",
   "execution_count": 16,
   "metadata": {},
   "outputs": [
    {
     "data": {
      "text/html": [
       "<div>\n",
       "<style scoped>\n",
       "    .dataframe tbody tr th:only-of-type {\n",
       "        vertical-align: middle;\n",
       "    }\n",
       "\n",
       "    .dataframe tbody tr th {\n",
       "        vertical-align: top;\n",
       "    }\n",
       "\n",
       "    .dataframe thead th {\n",
       "        text-align: right;\n",
       "    }\n",
       "</style>\n",
       "<table border=\"1\" class=\"dataframe\">\n",
       "  <thead>\n",
       "    <tr style=\"text-align: right;\">\n",
       "      <th></th>\n",
       "      <th>국가</th>\n",
       "      <th>백신접종수</th>\n",
       "      <th>백신보유율(인구):</th>\n",
       "      <th>1차접종</th>\n",
       "      <th>2차접종</th>\n",
       "      <th>일별접종수</th>\n",
       "    </tr>\n",
       "  </thead>\n",
       "  <tbody>\n",
       "    <tr>\n",
       "      <th>0</th>\n",
       "      <td>Global Total</td>\n",
       "      <td>6,199,443,468</td>\n",
       "      <td>–</td>\n",
       "      <td>–</td>\n",
       "      <td>–</td>\n",
       "      <td>29,152,868</td>\n",
       "    </tr>\n",
       "    <tr>\n",
       "      <th>1</th>\n",
       "      <td>Mainland China</td>\n",
       "      <td>2,203,185,000</td>\n",
       "      <td>78.7</td>\n",
       "      <td>78.6</td>\n",
       "      <td>73.0</td>\n",
       "      <td>3,171,286</td>\n",
       "    </tr>\n",
       "    <tr>\n",
       "      <th>2</th>\n",
       "      <td>India</td>\n",
       "      <td>876,538,633</td>\n",
       "      <td>32.0</td>\n",
       "      <td>46.7</td>\n",
       "      <td>16.8</td>\n",
       "      <td>7,178,901</td>\n",
       "    </tr>\n",
       "    <tr>\n",
       "      <th>3</th>\n",
       "      <td>EU</td>\n",
       "      <td>564,029,956</td>\n",
       "      <td>63.5</td>\n",
       "      <td>67.3</td>\n",
       "      <td>64.7</td>\n",
       "      <td>1,052,903</td>\n",
       "    </tr>\n",
       "    <tr>\n",
       "      <th>4</th>\n",
       "      <td>U.S.</td>\n",
       "      <td>391,152,574</td>\n",
       "      <td>61.1</td>\n",
       "      <td>64.4</td>\n",
       "      <td>55.8</td>\n",
       "      <td>701,422</td>\n",
       "    </tr>\n",
       "    <tr>\n",
       "      <th>5</th>\n",
       "      <td>Brazil</td>\n",
       "      <td>233,261,963</td>\n",
       "      <td>56.5</td>\n",
       "      <td>71.3</td>\n",
       "      <td>41.9</td>\n",
       "      <td>1,317,163</td>\n",
       "    </tr>\n",
       "    <tr>\n",
       "      <th>6</th>\n",
       "      <td>Japan</td>\n",
       "      <td>161,057,159</td>\n",
       "      <td>63.8</td>\n",
       "      <td>69.5</td>\n",
       "      <td>58.2</td>\n",
       "      <td>1,134,065</td>\n",
       "    </tr>\n",
       "    <tr>\n",
       "      <th>7</th>\n",
       "      <td>Indonesia</td>\n",
       "      <td>139,232,210</td>\n",
       "      <td>26.1</td>\n",
       "      <td>32.9</td>\n",
       "      <td>18.4</td>\n",
       "      <td>1,916,012</td>\n",
       "    </tr>\n",
       "    <tr>\n",
       "      <th>8</th>\n",
       "      <td>Turkey</td>\n",
       "      <td>108,761,681</td>\n",
       "      <td>65.4</td>\n",
       "      <td>64.5</td>\n",
       "      <td>53.0</td>\n",
       "      <td>381,129</td>\n",
       "    </tr>\n",
       "    <tr>\n",
       "      <th>9</th>\n",
       "      <td>Germany</td>\n",
       "      <td>107,197,993</td>\n",
       "      <td>64.5</td>\n",
       "      <td>67.9</td>\n",
       "      <td>64.2</td>\n",
       "      <td>194,817</td>\n",
       "    </tr>\n",
       "    <tr>\n",
       "      <th>10</th>\n",
       "      <td>Mexico</td>\n",
       "      <td>99,366,403</td>\n",
       "      <td>38.9</td>\n",
       "      <td>49.8</td>\n",
       "      <td>35.0</td>\n",
       "      <td>536,693</td>\n",
       "    </tr>\n",
       "    <tr>\n",
       "      <th>11</th>\n",
       "      <td>France</td>\n",
       "      <td>94,250,528</td>\n",
       "      <td>72.7</td>\n",
       "      <td>77.4</td>\n",
       "      <td>74.6</td>\n",
       "      <td>229,555</td>\n",
       "    </tr>\n",
       "    <tr>\n",
       "      <th>12</th>\n",
       "      <td>U.K.</td>\n",
       "      <td>93,565,474</td>\n",
       "      <td>70.0</td>\n",
       "      <td>73.0</td>\n",
       "      <td>67.1</td>\n",
       "      <td>63,126</td>\n",
       "    </tr>\n",
       "    <tr>\n",
       "      <th>18</th>\n",
       "      <td>Russia</td>\n",
       "      <td>89,865,316</td>\n",
       "      <td>30.6</td>\n",
       "      <td>32.6</td>\n",
       "      <td>28.5</td>\n",
       "      <td>214,966</td>\n",
       "    </tr>\n",
       "    <tr>\n",
       "      <th>19</th>\n",
       "      <td>Italy</td>\n",
       "      <td>84,351,559</td>\n",
       "      <td>69.9</td>\n",
       "      <td>74.5</td>\n",
       "      <td>74.5</td>\n",
       "      <td>211,345</td>\n",
       "    </tr>\n",
       "  </tbody>\n",
       "</table>\n",
       "</div>"
      ],
      "text/plain": [
       "                국가          백신접종수 백신보유율(인구):  1차접종  2차접종       일별접종수\n",
       "0     Global Total  6,199,443,468          –     –     –  29,152,868\n",
       "1   Mainland China  2,203,185,000       78.7  78.6  73.0   3,171,286\n",
       "2            India    876,538,633       32.0  46.7  16.8   7,178,901\n",
       "3               EU    564,029,956       63.5  67.3  64.7   1,052,903\n",
       "4             U.S.    391,152,574       61.1  64.4  55.8     701,422\n",
       "5           Brazil    233,261,963       56.5  71.3  41.9   1,317,163\n",
       "6            Japan    161,057,159       63.8  69.5  58.2   1,134,065\n",
       "7        Indonesia    139,232,210       26.1  32.9  18.4   1,916,012\n",
       "8           Turkey    108,761,681       65.4  64.5  53.0     381,129\n",
       "9          Germany    107,197,993       64.5  67.9  64.2     194,817\n",
       "10          Mexico     99,366,403       38.9  49.8  35.0     536,693\n",
       "11          France     94,250,528       72.7  77.4  74.6     229,555\n",
       "12            U.K.     93,565,474       70.0  73.0  67.1      63,126\n",
       "18          Russia     89,865,316       30.6  32.6  28.5     214,966\n",
       "19           Italy     84,351,559       69.9  74.5  74.5     211,345"
      ]
     },
     "execution_count": 16,
     "metadata": {},
     "output_type": "execute_result"
    }
   ],
   "source": [
    "dat_df.head(15)"
   ]
  },
  {
   "cell_type": "markdown",
   "metadata": {},
   "source": [
    "### 인덱스가 일정하지 않아, 인덱스 값 초기화"
   ]
  },
  {
   "cell_type": "code",
   "execution_count": 18,
   "metadata": {},
   "outputs": [
    {
     "data": {
      "text/plain": [
       "(207, 7)"
      ]
     },
     "execution_count": 18,
     "metadata": {},
     "output_type": "execute_result"
    }
   ],
   "source": [
    "dat_df = dat_df.reset_index()\n",
    "dat_df.shape"
   ]
  },
  {
   "cell_type": "markdown",
   "metadata": {},
   "source": [
    "### 이상치 '-' 값 확인"
   ]
  },
  {
   "cell_type": "code",
   "execution_count": 19,
   "metadata": {},
   "outputs": [
    {
     "data": {
      "text/html": [
       "<div>\n",
       "<style scoped>\n",
       "    .dataframe tbody tr th:only-of-type {\n",
       "        vertical-align: middle;\n",
       "    }\n",
       "\n",
       "    .dataframe tbody tr th {\n",
       "        vertical-align: top;\n",
       "    }\n",
       "\n",
       "    .dataframe thead th {\n",
       "        text-align: right;\n",
       "    }\n",
       "</style>\n",
       "<table border=\"1\" class=\"dataframe\">\n",
       "  <thead>\n",
       "    <tr style=\"text-align: right;\">\n",
       "      <th></th>\n",
       "      <th>index</th>\n",
       "      <th>국가</th>\n",
       "      <th>백신접종수</th>\n",
       "      <th>백신보유율(인구):</th>\n",
       "      <th>1차접종</th>\n",
       "      <th>2차접종</th>\n",
       "      <th>일별접종수</th>\n",
       "    </tr>\n",
       "  </thead>\n",
       "  <tbody>\n",
       "    <tr>\n",
       "      <th>206</th>\n",
       "      <td>225</td>\n",
       "      <td>Eritrea</td>\n",
       "      <td>–</td>\n",
       "      <td>–</td>\n",
       "      <td>–</td>\n",
       "      <td>–</td>\n",
       "      <td>–</td>\n",
       "    </tr>\n",
       "  </tbody>\n",
       "</table>\n",
       "</div>"
      ],
      "text/plain": [
       "     index       국가 백신접종수 백신보유율(인구): 1차접종 2차접종 일별접종수\n",
       "206    225  Eritrea     –          –    –    –     –"
      ]
     },
     "execution_count": 19,
     "metadata": {},
     "output_type": "execute_result"
    }
   ],
   "source": [
    "dat_df.loc[dat_df['백신접종수'] == '–']"
   ]
  },
  {
   "cell_type": "code",
   "execution_count": 20,
   "metadata": {},
   "outputs": [
    {
     "data": {
      "text/html": [
       "<div>\n",
       "<style scoped>\n",
       "    .dataframe tbody tr th:only-of-type {\n",
       "        vertical-align: middle;\n",
       "    }\n",
       "\n",
       "    .dataframe tbody tr th {\n",
       "        vertical-align: top;\n",
       "    }\n",
       "\n",
       "    .dataframe thead th {\n",
       "        text-align: right;\n",
       "    }\n",
       "</style>\n",
       "<table border=\"1\" class=\"dataframe\">\n",
       "  <thead>\n",
       "    <tr style=\"text-align: right;\">\n",
       "      <th></th>\n",
       "      <th>index</th>\n",
       "      <th>국가</th>\n",
       "      <th>백신접종수</th>\n",
       "      <th>백신보유율(인구):</th>\n",
       "      <th>1차접종</th>\n",
       "      <th>2차접종</th>\n",
       "      <th>일별접종수</th>\n",
       "    </tr>\n",
       "  </thead>\n",
       "  <tbody>\n",
       "    <tr>\n",
       "      <th>199</th>\n",
       "      <td>218</td>\n",
       "      <td>Turkmenistan</td>\n",
       "      <td>41,993</td>\n",
       "      <td>0.4</td>\n",
       "      <td>0.6</td>\n",
       "      <td>0.2</td>\n",
       "      <td>–</td>\n",
       "    </tr>\n",
       "    <tr>\n",
       "      <th>206</th>\n",
       "      <td>225</td>\n",
       "      <td>Eritrea</td>\n",
       "      <td>–</td>\n",
       "      <td>–</td>\n",
       "      <td>–</td>\n",
       "      <td>–</td>\n",
       "      <td>–</td>\n",
       "    </tr>\n",
       "  </tbody>\n",
       "</table>\n",
       "</div>"
      ],
      "text/plain": [
       "     index            국가   백신접종수 백신보유율(인구): 1차접종 2차접종 일별접종수\n",
       "199    218  Turkmenistan  41,993        0.4  0.6  0.2     –\n",
       "206    225       Eritrea       –          –    –    –     –"
      ]
     },
     "execution_count": 20,
     "metadata": {},
     "output_type": "execute_result"
    }
   ],
   "source": [
    "dat_df.loc[dat_df['일별접종수'] == '–']"
   ]
  },
  {
   "cell_type": "code",
   "execution_count": 21,
   "metadata": {},
   "outputs": [
    {
     "data": {
      "text/plain": [
       "Index(['index', '국가', '백신접종수', '백신보유율(인구):', '1차접종', '2차접종', '일별접종수'], dtype='object')"
      ]
     },
     "execution_count": 21,
     "metadata": {},
     "output_type": "execute_result"
    }
   ],
   "source": [
    "dat_df.columns"
   ]
  },
  {
   "cell_type": "markdown",
   "metadata": {},
   "source": [
    "### 각 컬럼별 이상치 개수"
   ]
  },
  {
   "cell_type": "code",
   "execution_count": 22,
   "metadata": {},
   "outputs": [
    {
     "name": "stdout",
     "output_type": "stream",
     "text": [
      "col name :  index\n",
      "0\n",
      "\n",
      "\n",
      "col name :  국가\n",
      "0\n",
      "\n",
      "\n",
      "col name :  백신접종수\n",
      "1\n",
      "\n",
      "\n",
      "col name :  백신보유율(인구):\n",
      "5\n",
      "\n",
      "\n",
      "col name :  1차접종\n",
      "6\n",
      "\n",
      "\n",
      "col name :  2차접종\n",
      "7\n",
      "\n",
      "\n",
      "col name :  일별접종수\n",
      "2\n",
      "\n",
      "\n"
     ]
    }
   ],
   "source": [
    "col_all = dat_df.columns\n",
    "for one in col_all:\n",
    "    print(\"col name : \", one)\n",
    "    print( dat_df.loc[dat_df[one] == '–', one].count() )\n",
    "    print(\"\\n\")"
   ]
  },
  {
   "cell_type": "markdown",
   "metadata": {},
   "source": [
    "### 이상치 처리"
   ]
  },
  {
   "cell_type": "markdown",
   "metadata": {},
   "source": [
    "### (1) '-'는 결측치(비어 있는 값)를 문자열 '-999'로 처리 \n",
    " * 문자열로 변경하는 이유 : 현재 컬럼이 문자열이기에\n",
    " \n",
    "### (2) '<0.1'를 0.05로 임의의 값 고정값으로 변경"
   ]
  },
  {
   "cell_type": "code",
   "execution_count": 25,
   "metadata": {},
   "outputs": [
    {
     "name": "stdout",
     "output_type": "stream",
     "text": [
      "col name :  index\n",
      "col name : index 이상치 처리 OK\n",
      "\n",
      "col name :  국가\n",
      "col name : 국가 이상치 처리 OK\n",
      "\n",
      "col name :  백신접종수\n",
      "col name : 백신접종수 이상치 처리 OK\n",
      "\n",
      "col name :  백신보유율(인구):\n",
      "col name : 백신보유율(인구): 이상치 처리 OK\n",
      "\n",
      "col name :  1차접종\n",
      "col name : 1차접종 이상치 처리 OK\n",
      "\n",
      "col name :  2차접종\n",
      "col name : 2차접종 이상치 처리 OK\n",
      "\n",
      "col name :  일별접종수\n",
      "col name : 일별접종수 이상치 처리 OK\n",
      "\n"
     ]
    }
   ],
   "source": [
    "col_all = dat_df.columns\n",
    "for one in col_all:\n",
    "    print(\"col name : \", one)\n",
    "    dat_df.loc[dat_df[one] == '–', one] = \"-999\"      # -은 이상치 -999로 치환\n",
    "    dat_df.loc[dat_df[one] == '<0.1', one] = \"0.05\"   # <0.1은 0.05로 치환\n",
    "    \n",
    "    print(\"col name : {} 이상치 처리 OK\".format(one), end=\"\\n\\n\")"
   ]
  },
  {
   "cell_type": "markdown",
   "metadata": {},
   "source": [
    "### 결측치 처리 후, 확인"
   ]
  },
  {
   "cell_type": "code",
   "execution_count": 26,
   "metadata": {},
   "outputs": [
    {
     "name": "stdout",
     "output_type": "stream",
     "text": [
      "col name :  index\n",
      "0\n",
      "col name :  국가\n",
      "0\n",
      "col name :  백신접종수\n",
      "0\n",
      "col name :  백신보유율(인구):\n",
      "0\n",
      "col name :  1차접종\n",
      "0\n",
      "col name :  2차접종\n",
      "0\n",
      "col name :  일별접종수\n",
      "0\n"
     ]
    }
   ],
   "source": [
    "col_all = dat_df.columns\n",
    "for one in col_all:\n",
    "    print(\"col name : \", one)\n",
    "    print( dat_df.loc[dat_df[one] == '–', one].count() )"
   ]
  },
  {
   "cell_type": "markdown",
   "metadata": {},
   "source": [
    "### 수치 값의 천단위 구분자  ','을 처리"
   ]
  },
  {
   "cell_type": "code",
   "execution_count": 27,
   "metadata": {},
   "outputs": [],
   "source": [
    "\n",
    "dat_df['백신접종수'] = dat_df['백신접종수'].str.replace(',', '')\n",
    "dat_df['일별접종수'] = dat_df['일별접종수'].str.replace(',', '')\n"
   ]
  },
  {
   "cell_type": "code",
   "execution_count": 28,
   "metadata": {},
   "outputs": [
    {
     "data": {
      "text/html": [
       "<div>\n",
       "<style scoped>\n",
       "    .dataframe tbody tr th:only-of-type {\n",
       "        vertical-align: middle;\n",
       "    }\n",
       "\n",
       "    .dataframe tbody tr th {\n",
       "        vertical-align: top;\n",
       "    }\n",
       "\n",
       "    .dataframe thead th {\n",
       "        text-align: right;\n",
       "    }\n",
       "</style>\n",
       "<table border=\"1\" class=\"dataframe\">\n",
       "  <thead>\n",
       "    <tr style=\"text-align: right;\">\n",
       "      <th></th>\n",
       "      <th>index</th>\n",
       "      <th>국가</th>\n",
       "      <th>백신접종수</th>\n",
       "      <th>백신보유율(인구):</th>\n",
       "      <th>1차접종</th>\n",
       "      <th>2차접종</th>\n",
       "      <th>일별접종수</th>\n",
       "    </tr>\n",
       "  </thead>\n",
       "  <tbody>\n",
       "    <tr>\n",
       "      <th>0</th>\n",
       "      <td>0</td>\n",
       "      <td>Global Total</td>\n",
       "      <td>6199443468</td>\n",
       "      <td>-999</td>\n",
       "      <td>-999</td>\n",
       "      <td>-999</td>\n",
       "      <td>29152868</td>\n",
       "    </tr>\n",
       "    <tr>\n",
       "      <th>1</th>\n",
       "      <td>1</td>\n",
       "      <td>Mainland China</td>\n",
       "      <td>2203185000</td>\n",
       "      <td>78.7</td>\n",
       "      <td>78.6</td>\n",
       "      <td>73.0</td>\n",
       "      <td>3171286</td>\n",
       "    </tr>\n",
       "    <tr>\n",
       "      <th>2</th>\n",
       "      <td>2</td>\n",
       "      <td>India</td>\n",
       "      <td>876538633</td>\n",
       "      <td>32.0</td>\n",
       "      <td>46.7</td>\n",
       "      <td>16.8</td>\n",
       "      <td>7178901</td>\n",
       "    </tr>\n",
       "    <tr>\n",
       "      <th>3</th>\n",
       "      <td>3</td>\n",
       "      <td>EU</td>\n",
       "      <td>564029956</td>\n",
       "      <td>63.5</td>\n",
       "      <td>67.3</td>\n",
       "      <td>64.7</td>\n",
       "      <td>1052903</td>\n",
       "    </tr>\n",
       "    <tr>\n",
       "      <th>4</th>\n",
       "      <td>4</td>\n",
       "      <td>U.S.</td>\n",
       "      <td>391152574</td>\n",
       "      <td>61.1</td>\n",
       "      <td>64.4</td>\n",
       "      <td>55.8</td>\n",
       "      <td>701422</td>\n",
       "    </tr>\n",
       "    <tr>\n",
       "      <th>5</th>\n",
       "      <td>5</td>\n",
       "      <td>Brazil</td>\n",
       "      <td>233261963</td>\n",
       "      <td>56.5</td>\n",
       "      <td>71.3</td>\n",
       "      <td>41.9</td>\n",
       "      <td>1317163</td>\n",
       "    </tr>\n",
       "    <tr>\n",
       "      <th>6</th>\n",
       "      <td>6</td>\n",
       "      <td>Japan</td>\n",
       "      <td>161057159</td>\n",
       "      <td>63.8</td>\n",
       "      <td>69.5</td>\n",
       "      <td>58.2</td>\n",
       "      <td>1134065</td>\n",
       "    </tr>\n",
       "    <tr>\n",
       "      <th>7</th>\n",
       "      <td>7</td>\n",
       "      <td>Indonesia</td>\n",
       "      <td>139232210</td>\n",
       "      <td>26.1</td>\n",
       "      <td>32.9</td>\n",
       "      <td>18.4</td>\n",
       "      <td>1916012</td>\n",
       "    </tr>\n",
       "    <tr>\n",
       "      <th>8</th>\n",
       "      <td>8</td>\n",
       "      <td>Turkey</td>\n",
       "      <td>108761681</td>\n",
       "      <td>65.4</td>\n",
       "      <td>64.5</td>\n",
       "      <td>53.0</td>\n",
       "      <td>381129</td>\n",
       "    </tr>\n",
       "    <tr>\n",
       "      <th>9</th>\n",
       "      <td>9</td>\n",
       "      <td>Germany</td>\n",
       "      <td>107197993</td>\n",
       "      <td>64.5</td>\n",
       "      <td>67.9</td>\n",
       "      <td>64.2</td>\n",
       "      <td>194817</td>\n",
       "    </tr>\n",
       "  </tbody>\n",
       "</table>\n",
       "</div>"
      ],
      "text/plain": [
       "  index              국가       백신접종수 백신보유율(인구):  1차접종  2차접종     일별접종수\n",
       "0     0    Global Total  6199443468       -999  -999  -999  29152868\n",
       "1     1  Mainland China  2203185000       78.7  78.6  73.0   3171286\n",
       "2     2           India   876538633       32.0  46.7  16.8   7178901\n",
       "3     3              EU   564029956       63.5  67.3  64.7   1052903\n",
       "4     4            U.S.   391152574       61.1  64.4  55.8    701422\n",
       "5     5          Brazil   233261963       56.5  71.3  41.9   1317163\n",
       "6     6           Japan   161057159       63.8  69.5  58.2   1134065\n",
       "7     7       Indonesia   139232210       26.1  32.9  18.4   1916012\n",
       "8     8          Turkey   108761681       65.4  64.5  53.0    381129\n",
       "9     9         Germany   107197993       64.5  67.9  64.2    194817"
      ]
     },
     "execution_count": 28,
     "metadata": {},
     "output_type": "execute_result"
    }
   ],
   "source": [
    "dat_df.head(10)"
   ]
  },
  {
   "cell_type": "markdown",
   "metadata": {},
   "source": [
    "### 데이터 전처리 후, 확인"
   ]
  },
  {
   "cell_type": "code",
   "execution_count": 29,
   "metadata": {},
   "outputs": [
    {
     "name": "stdout",
     "output_type": "stream",
     "text": [
      "<class 'pandas.core.frame.DataFrame'>\n",
      "RangeIndex: 207 entries, 0 to 206\n",
      "Data columns (total 7 columns):\n",
      " #   Column      Non-Null Count  Dtype \n",
      "---  ------      --------------  ----- \n",
      " 0   index       207 non-null    object\n",
      " 1   국가          207 non-null    object\n",
      " 2   백신접종수       207 non-null    object\n",
      " 3   백신보유율(인구):  207 non-null    object\n",
      " 4   1차접종        207 non-null    object\n",
      " 5   2차접종        207 non-null    object\n",
      " 6   일별접종수       207 non-null    object\n",
      "dtypes: object(7)\n",
      "memory usage: 11.4+ KB\n"
     ]
    }
   ],
   "source": [
    "dat_df.info()"
   ]
  },
  {
   "cell_type": "code",
   "execution_count": 30,
   "metadata": {},
   "outputs": [
    {
     "data": {
      "text/plain": [
       "index         0\n",
       "국가            0\n",
       "백신접종수         0\n",
       "백신보유율(인구):    0\n",
       "1차접종          0\n",
       "2차접종          0\n",
       "일별접종수         0\n",
       "dtype: int64"
      ]
     },
     "execution_count": 30,
     "metadata": {},
     "output_type": "execute_result"
    }
   ],
   "source": [
    "dat_df.isnull().sum()"
   ]
  },
  {
   "cell_type": "code",
   "execution_count": 31,
   "metadata": {},
   "outputs": [
    {
     "data": {
      "text/plain": [
       "array(['Global Total', 'Mainland China', 'India', 'EU', 'U.S.', 'Brazil',\n",
       "       'Japan', 'Indonesia', 'Turkey', 'Germany', 'Mexico', 'France',\n",
       "       'U.K.', 'Russia', 'Italy', 'Pakistan', 'Spain', 'South Korea',\n",
       "       'Canada', 'Argentina', 'Thailand', 'Philippines', 'Iran',\n",
       "       'Malaysia', 'Saudi Arabia', 'Bangladesh', 'Morocco', 'Colombia',\n",
       "       'Vietnam', 'Poland', 'Chile', 'Australia', 'Sri Lanka', 'Peru',\n",
       "       'Cambodia', 'Netherlands', 'Ecuador', 'Cuba', 'UAE', 'Uzbekistan',\n",
       "       'Ukraine', 'South Africa', 'Belgium', 'Portugal', 'Egypt',\n",
       "       'Israel', 'Taiwan', 'Algeria', 'Venezuela', 'Kazakhstan', 'Sweden',\n",
       "       'Nepal', 'Greece', 'Dominican Republic', 'Czech Republic',\n",
       "       'Hungary', 'Austria', 'Switzerland', 'Romania', 'Singapore',\n",
       "       'Myanmar', 'Denmark', 'Hong Kong', 'Azerbaijan', 'Norway',\n",
       "       'Finland', 'Iraq', 'Tunisia', 'El Salvador', 'Ireland', 'Jordan',\n",
       "       'Guatemala', 'Bolivia', 'Nigeria', 'Serbia', 'Uruguay', 'Panama',\n",
       "       'Costa Rica', 'Zimbabwe', 'Honduras', 'New Zealand', 'Oman',\n",
       "       'Slovakia', 'Qatar', 'Mongolia', 'Paraguay', 'Laos', 'Tajikistan',\n",
       "       'Rwanda', 'Mozambique', 'Kenya', 'Ethiopia', 'Croatia', 'Belarus',\n",
       "       'Lithuania', 'Angola', 'Afghanistan', 'Lebanon', 'Bahrain',\n",
       "       'Bulgaria', 'Kuwait', 'Slovenia', 'Uganda', 'Ivory Coast',\n",
       "       'Senegal', 'Georgia', 'Albania', 'Guinea', 'Ghana', 'Sudan',\n",
       "       'Mauritius', 'Latvia', 'Libya', 'North Macedonia', 'Kyrgyzstan',\n",
       "       'Moldova', 'Estonia', 'Kosovo', 'Cyprus', 'Malawi', 'Bhutan',\n",
       "       'Bosnia and Herzegovina', 'Trinidad and Tobago', 'Togo', 'Fiji',\n",
       "       'Mauritania', 'Malta', 'Nicaragua', 'Luxembourg', 'Jamaica',\n",
       "       'Maldives', 'Zambia', 'Timor-Leste', 'Macau', 'Niger', 'Botswana',\n",
       "       'Iceland', 'Guyana', 'Syria', 'Somalia', 'Cameroon', 'Montenegro',\n",
       "       'Brunei', 'Madagascar', 'Cape Verde', 'Armenia', 'Namibia', 'Mali',\n",
       "       'Suriname', 'Tanzania', 'Equatorial Guinea', 'Comoros', 'Lesotho',\n",
       "       'Republic of the Congo', 'Yemen', 'Belize', 'Liberia',\n",
       "       'Burkina Faso', 'Eswatini', 'Barbados', 'Sierra Leone', 'Benin',\n",
       "       'Gambia', 'Central African Republic', 'Curaçao', 'Bahamas',\n",
       "       'Gabon', 'Papua New Guinea', 'Aruba', 'Jersey', 'Samoa',\n",
       "       'Seychelles', 'Chad', 'DR Congo', 'Isle of Man', 'Cayman Islands',\n",
       "       'South Sudan', 'Greenland', 'Guernsey', 'Solomon Islands',\n",
       "       'Andorra', 'Guinea-Bissau', 'Antigua and Barbuda', 'Bermuda',\n",
       "       'Sao Tome and Principe', 'Gibraltar', 'St. Lucia', 'Faroe Islands',\n",
       "       'Tonga', 'Micronesia', 'Djibouti', 'Haiti', 'Grenada',\n",
       "       'Turks & Caicos', 'Monaco', 'Sint Maarten',\n",
       "       'Saint Kitts and Nevis', 'San Marino', 'Dominica', 'Turkmenistan',\n",
       "       'St. Vincent and the Grenadines', 'Anguilla', 'Nauru',\n",
       "       'St. Helena', 'Falkland Islands', 'Montserrat', 'Eritrea'],\n",
       "      dtype=object)"
      ]
     },
     "execution_count": 31,
     "metadata": {},
     "output_type": "execute_result"
    }
   ],
   "source": [
    "dat_df['국가'].unique()"
   ]
  },
  {
   "cell_type": "code",
   "execution_count": 32,
   "metadata": {},
   "outputs": [
    {
     "data": {
      "text/html": [
       "<div>\n",
       "<style scoped>\n",
       "    .dataframe tbody tr th:only-of-type {\n",
       "        vertical-align: middle;\n",
       "    }\n",
       "\n",
       "    .dataframe tbody tr th {\n",
       "        vertical-align: top;\n",
       "    }\n",
       "\n",
       "    .dataframe thead th {\n",
       "        text-align: right;\n",
       "    }\n",
       "</style>\n",
       "<table border=\"1\" class=\"dataframe\">\n",
       "  <thead>\n",
       "    <tr style=\"text-align: right;\">\n",
       "      <th></th>\n",
       "      <th>index</th>\n",
       "      <th>국가</th>\n",
       "      <th>백신접종수</th>\n",
       "      <th>백신보유율(인구):</th>\n",
       "      <th>1차접종</th>\n",
       "      <th>2차접종</th>\n",
       "      <th>일별접종수</th>\n",
       "    </tr>\n",
       "  </thead>\n",
       "  <tbody>\n",
       "  </tbody>\n",
       "</table>\n",
       "</div>"
      ],
      "text/plain": [
       "Empty DataFrame\n",
       "Columns: [index, 국가, 백신접종수, 백신보유율(인구):, 1차접종, 2차접종, 일별접종수]\n",
       "Index: []"
      ]
     },
     "execution_count": 32,
     "metadata": {},
     "output_type": "execute_result"
    }
   ],
   "source": [
    "dat_df.loc[dat_df['백신접종수'].isna() , : ] "
   ]
  },
  {
   "cell_type": "code",
   "execution_count": 33,
   "metadata": {},
   "outputs": [
    {
     "data": {
      "text/html": [
       "<div>\n",
       "<style scoped>\n",
       "    .dataframe tbody tr th:only-of-type {\n",
       "        vertical-align: middle;\n",
       "    }\n",
       "\n",
       "    .dataframe tbody tr th {\n",
       "        vertical-align: top;\n",
       "    }\n",
       "\n",
       "    .dataframe thead th {\n",
       "        text-align: right;\n",
       "    }\n",
       "</style>\n",
       "<table border=\"1\" class=\"dataframe\">\n",
       "  <thead>\n",
       "    <tr style=\"text-align: right;\">\n",
       "      <th></th>\n",
       "      <th>index</th>\n",
       "      <th>국가</th>\n",
       "      <th>백신접종수</th>\n",
       "      <th>백신보유율(인구):</th>\n",
       "      <th>1차접종</th>\n",
       "      <th>2차접종</th>\n",
       "      <th>일별접종수</th>\n",
       "    </tr>\n",
       "  </thead>\n",
       "  <tbody>\n",
       "    <tr>\n",
       "      <th>15</th>\n",
       "      <td>20</td>\n",
       "      <td>Pakistan</td>\n",
       "      <td>79533208</td>\n",
       "      <td>19.4</td>\n",
       "      <td>28.3</td>\n",
       "      <td>13.4</td>\n",
       "      <td>670870</td>\n",
       "    </tr>\n",
       "    <tr>\n",
       "      <th>16</th>\n",
       "      <td>21</td>\n",
       "      <td>Spain</td>\n",
       "      <td>69936755</td>\n",
       "      <td>75.2</td>\n",
       "      <td>81.0</td>\n",
       "      <td>78.5</td>\n",
       "      <td>72816</td>\n",
       "    </tr>\n",
       "    <tr>\n",
       "      <th>17</th>\n",
       "      <td>22</td>\n",
       "      <td>South Korea</td>\n",
       "      <td>62462921</td>\n",
       "      <td>60.4</td>\n",
       "      <td>74.5</td>\n",
       "      <td>46.3</td>\n",
       "      <td>533067</td>\n",
       "    </tr>\n",
       "    <tr>\n",
       "      <th>18</th>\n",
       "      <td>23</td>\n",
       "      <td>Canada</td>\n",
       "      <td>56036106</td>\n",
       "      <td>74.7</td>\n",
       "      <td>76.2</td>\n",
       "      <td>70.6</td>\n",
       "      <td>105929</td>\n",
       "    </tr>\n",
       "    <tr>\n",
       "      <th>19</th>\n",
       "      <td>37</td>\n",
       "      <td>Argentina</td>\n",
       "      <td>51222138</td>\n",
       "      <td>57.0</td>\n",
       "      <td>65.7</td>\n",
       "      <td>48.3</td>\n",
       "      <td>222650</td>\n",
       "    </tr>\n",
       "    <tr>\n",
       "      <th>20</th>\n",
       "      <td>38</td>\n",
       "      <td>Thailand</td>\n",
       "      <td>46023016</td>\n",
       "      <td>33.1</td>\n",
       "      <td>42.4</td>\n",
       "      <td>22.8</td>\n",
       "      <td>640484</td>\n",
       "    </tr>\n",
       "    <tr>\n",
       "      <th>21</th>\n",
       "      <td>39</td>\n",
       "      <td>Philippines</td>\n",
       "      <td>44361285</td>\n",
       "      <td>20.7</td>\n",
       "      <td>23.5</td>\n",
       "      <td>19.2</td>\n",
       "      <td>369770</td>\n",
       "    </tr>\n",
       "    <tr>\n",
       "      <th>22</th>\n",
       "      <td>40</td>\n",
       "      <td>Iran</td>\n",
       "      <td>43372270</td>\n",
       "      <td>26.0</td>\n",
       "      <td>35.5</td>\n",
       "      <td>16.8</td>\n",
       "      <td>1368407</td>\n",
       "    </tr>\n",
       "    <tr>\n",
       "      <th>23</th>\n",
       "      <td>41</td>\n",
       "      <td>Malaysia</td>\n",
       "      <td>43028919</td>\n",
       "      <td>66.0</td>\n",
       "      <td>70.6</td>\n",
       "      <td>60.7</td>\n",
       "      <td>300427</td>\n",
       "    </tr>\n",
       "    <tr>\n",
       "      <th>24</th>\n",
       "      <td>42</td>\n",
       "      <td>Saudi Arabia</td>\n",
       "      <td>41886224</td>\n",
       "      <td>61.4</td>\n",
       "      <td>68.4</td>\n",
       "      <td>54.4</td>\n",
       "      <td>101318</td>\n",
       "    </tr>\n",
       "  </tbody>\n",
       "</table>\n",
       "</div>"
      ],
      "text/plain": [
       "   index            국가     백신접종수 백신보유율(인구):  1차접종  2차접종    일별접종수\n",
       "15    20      Pakistan  79533208       19.4  28.3  13.4   670870\n",
       "16    21         Spain  69936755       75.2  81.0  78.5    72816\n",
       "17    22   South Korea  62462921       60.4  74.5  46.3   533067\n",
       "18    23        Canada  56036106       74.7  76.2  70.6   105929\n",
       "19    37     Argentina  51222138       57.0  65.7  48.3   222650\n",
       "20    38      Thailand  46023016       33.1  42.4  22.8   640484\n",
       "21    39   Philippines  44361285       20.7  23.5  19.2   369770\n",
       "22    40          Iran  43372270       26.0  35.5  16.8  1368407\n",
       "23    41      Malaysia  43028919       66.0  70.6  60.7   300427\n",
       "24    42  Saudi Arabia  41886224       61.4  68.4  54.4   101318"
      ]
     },
     "execution_count": 33,
     "metadata": {},
     "output_type": "execute_result"
    }
   ],
   "source": [
    "dat_df.iloc[ 15:25, :]"
   ]
  },
  {
   "cell_type": "code",
   "execution_count": 37,
   "metadata": {},
   "outputs": [
    {
     "data": {
      "text/plain": [
       "Index(['백신접종수', '백신보유율(인구):', '1차접종', '2차접종', '일별접종수'], dtype='object')"
      ]
     },
     "execution_count": 37,
     "metadata": {},
     "output_type": "execute_result"
    }
   ],
   "source": [
    "dat_df_num = dat_df.iloc[:, 2:]\n",
    "dat_df_num.columns"
   ]
  },
  {
   "cell_type": "code",
   "execution_count": 35,
   "metadata": {},
   "outputs": [
    {
     "name": "stdout",
     "output_type": "stream",
     "text": [
      "<class 'pandas.core.frame.DataFrame'>\n",
      "RangeIndex: 207 entries, 0 to 206\n",
      "Data columns (total 7 columns):\n",
      " #   Column      Non-Null Count  Dtype \n",
      "---  ------      --------------  ----- \n",
      " 0   index       207 non-null    object\n",
      " 1   국가          207 non-null    object\n",
      " 2   백신접종수       207 non-null    object\n",
      " 3   백신보유율(인구):  207 non-null    object\n",
      " 4   1차접종        207 non-null    object\n",
      " 5   2차접종        207 non-null    object\n",
      " 6   일별접종수       207 non-null    object\n",
      "dtypes: object(7)\n",
      "memory usage: 11.4+ KB\n"
     ]
    }
   ],
   "source": [
    "dat_df.info()"
   ]
  },
  {
   "cell_type": "markdown",
   "metadata": {},
   "source": [
    "### 수치형 변수 값 변환"
   ]
  },
  {
   "cell_type": "code",
   "execution_count": 36,
   "metadata": {},
   "outputs": [
    {
     "name": "stdout",
     "output_type": "stream",
     "text": [
      "col name : 국가\n"
     ]
    },
    {
     "ename": "ValueError",
     "evalue": "could not convert string to float: 'Global Total'",
     "output_type": "error",
     "traceback": [
      "\u001b[1;31m---------------------------------------------------------------------------\u001b[0m",
      "\u001b[1;31mValueError\u001b[0m                                Traceback (most recent call last)",
      "\u001b[1;32m<ipython-input-36-63186594334f>\u001b[0m in \u001b[0;36m<module>\u001b[1;34m\u001b[0m\n\u001b[0;32m      2\u001b[0m \u001b[1;32mfor\u001b[0m \u001b[0mone\u001b[0m \u001b[1;32min\u001b[0m \u001b[0msel_col\u001b[0m\u001b[1;33m:\u001b[0m\u001b[1;33m\u001b[0m\u001b[1;33m\u001b[0m\u001b[0m\n\u001b[0;32m      3\u001b[0m     \u001b[0mprint\u001b[0m\u001b[1;33m(\u001b[0m\u001b[1;34m\"col name :\"\u001b[0m\u001b[1;33m,\u001b[0m \u001b[0mone\u001b[0m\u001b[1;33m)\u001b[0m\u001b[1;33m\u001b[0m\u001b[1;33m\u001b[0m\u001b[0m\n\u001b[1;32m----> 4\u001b[1;33m     \u001b[0mdat_df\u001b[0m\u001b[1;33m[\u001b[0m\u001b[0mone\u001b[0m\u001b[1;33m]\u001b[0m \u001b[1;33m=\u001b[0m \u001b[0mdat_df\u001b[0m\u001b[1;33m[\u001b[0m\u001b[0mone\u001b[0m\u001b[1;33m]\u001b[0m\u001b[1;33m.\u001b[0m\u001b[0mastype\u001b[0m\u001b[1;33m(\u001b[0m\u001b[1;34m'float32'\u001b[0m\u001b[1;33m)\u001b[0m\u001b[1;33m\u001b[0m\u001b[1;33m\u001b[0m\u001b[0m\n\u001b[0m\u001b[0;32m      5\u001b[0m \u001b[1;33m\u001b[0m\u001b[0m\n",
      "\u001b[1;32m~\\anaconda3\\lib\\site-packages\\pandas\\core\\generic.py\u001b[0m in \u001b[0;36mastype\u001b[1;34m(self, dtype, copy, errors)\u001b[0m\n\u001b[0;32m   5875\u001b[0m         \u001b[1;32melse\u001b[0m\u001b[1;33m:\u001b[0m\u001b[1;33m\u001b[0m\u001b[1;33m\u001b[0m\u001b[0m\n\u001b[0;32m   5876\u001b[0m             \u001b[1;31m# else, only a single dtype is given\u001b[0m\u001b[1;33m\u001b[0m\u001b[1;33m\u001b[0m\u001b[1;33m\u001b[0m\u001b[0m\n\u001b[1;32m-> 5877\u001b[1;33m             \u001b[0mnew_data\u001b[0m \u001b[1;33m=\u001b[0m \u001b[0mself\u001b[0m\u001b[1;33m.\u001b[0m\u001b[0m_mgr\u001b[0m\u001b[1;33m.\u001b[0m\u001b[0mastype\u001b[0m\u001b[1;33m(\u001b[0m\u001b[0mdtype\u001b[0m\u001b[1;33m=\u001b[0m\u001b[0mdtype\u001b[0m\u001b[1;33m,\u001b[0m \u001b[0mcopy\u001b[0m\u001b[1;33m=\u001b[0m\u001b[0mcopy\u001b[0m\u001b[1;33m,\u001b[0m \u001b[0merrors\u001b[0m\u001b[1;33m=\u001b[0m\u001b[0merrors\u001b[0m\u001b[1;33m)\u001b[0m\u001b[1;33m\u001b[0m\u001b[1;33m\u001b[0m\u001b[0m\n\u001b[0m\u001b[0;32m   5878\u001b[0m             \u001b[1;32mreturn\u001b[0m \u001b[0mself\u001b[0m\u001b[1;33m.\u001b[0m\u001b[0m_constructor\u001b[0m\u001b[1;33m(\u001b[0m\u001b[0mnew_data\u001b[0m\u001b[1;33m)\u001b[0m\u001b[1;33m.\u001b[0m\u001b[0m__finalize__\u001b[0m\u001b[1;33m(\u001b[0m\u001b[0mself\u001b[0m\u001b[1;33m,\u001b[0m \u001b[0mmethod\u001b[0m\u001b[1;33m=\u001b[0m\u001b[1;34m\"astype\"\u001b[0m\u001b[1;33m)\u001b[0m\u001b[1;33m\u001b[0m\u001b[1;33m\u001b[0m\u001b[0m\n\u001b[0;32m   5879\u001b[0m \u001b[1;33m\u001b[0m\u001b[0m\n",
      "\u001b[1;32m~\\anaconda3\\lib\\site-packages\\pandas\\core\\internals\\managers.py\u001b[0m in \u001b[0;36mastype\u001b[1;34m(self, dtype, copy, errors)\u001b[0m\n\u001b[0;32m    629\u001b[0m         \u001b[0mself\u001b[0m\u001b[1;33m,\u001b[0m \u001b[0mdtype\u001b[0m\u001b[1;33m,\u001b[0m \u001b[0mcopy\u001b[0m\u001b[1;33m:\u001b[0m \u001b[0mbool\u001b[0m \u001b[1;33m=\u001b[0m \u001b[1;32mFalse\u001b[0m\u001b[1;33m,\u001b[0m \u001b[0merrors\u001b[0m\u001b[1;33m:\u001b[0m \u001b[0mstr\u001b[0m \u001b[1;33m=\u001b[0m \u001b[1;34m\"raise\"\u001b[0m\u001b[1;33m\u001b[0m\u001b[1;33m\u001b[0m\u001b[0m\n\u001b[0;32m    630\u001b[0m     ) -> \"BlockManager\":\n\u001b[1;32m--> 631\u001b[1;33m         \u001b[1;32mreturn\u001b[0m \u001b[0mself\u001b[0m\u001b[1;33m.\u001b[0m\u001b[0mapply\u001b[0m\u001b[1;33m(\u001b[0m\u001b[1;34m\"astype\"\u001b[0m\u001b[1;33m,\u001b[0m \u001b[0mdtype\u001b[0m\u001b[1;33m=\u001b[0m\u001b[0mdtype\u001b[0m\u001b[1;33m,\u001b[0m \u001b[0mcopy\u001b[0m\u001b[1;33m=\u001b[0m\u001b[0mcopy\u001b[0m\u001b[1;33m,\u001b[0m \u001b[0merrors\u001b[0m\u001b[1;33m=\u001b[0m\u001b[0merrors\u001b[0m\u001b[1;33m)\u001b[0m\u001b[1;33m\u001b[0m\u001b[1;33m\u001b[0m\u001b[0m\n\u001b[0m\u001b[0;32m    632\u001b[0m \u001b[1;33m\u001b[0m\u001b[0m\n\u001b[0;32m    633\u001b[0m     def convert(\n",
      "\u001b[1;32m~\\anaconda3\\lib\\site-packages\\pandas\\core\\internals\\managers.py\u001b[0m in \u001b[0;36mapply\u001b[1;34m(self, f, align_keys, ignore_failures, **kwargs)\u001b[0m\n\u001b[0;32m    425\u001b[0m                     \u001b[0mapplied\u001b[0m \u001b[1;33m=\u001b[0m \u001b[0mb\u001b[0m\u001b[1;33m.\u001b[0m\u001b[0mapply\u001b[0m\u001b[1;33m(\u001b[0m\u001b[0mf\u001b[0m\u001b[1;33m,\u001b[0m \u001b[1;33m**\u001b[0m\u001b[0mkwargs\u001b[0m\u001b[1;33m)\u001b[0m\u001b[1;33m\u001b[0m\u001b[1;33m\u001b[0m\u001b[0m\n\u001b[0;32m    426\u001b[0m                 \u001b[1;32melse\u001b[0m\u001b[1;33m:\u001b[0m\u001b[1;33m\u001b[0m\u001b[1;33m\u001b[0m\u001b[0m\n\u001b[1;32m--> 427\u001b[1;33m                     \u001b[0mapplied\u001b[0m \u001b[1;33m=\u001b[0m \u001b[0mgetattr\u001b[0m\u001b[1;33m(\u001b[0m\u001b[0mb\u001b[0m\u001b[1;33m,\u001b[0m \u001b[0mf\u001b[0m\u001b[1;33m)\u001b[0m\u001b[1;33m(\u001b[0m\u001b[1;33m**\u001b[0m\u001b[0mkwargs\u001b[0m\u001b[1;33m)\u001b[0m\u001b[1;33m\u001b[0m\u001b[1;33m\u001b[0m\u001b[0m\n\u001b[0m\u001b[0;32m    428\u001b[0m             \u001b[1;32mexcept\u001b[0m \u001b[1;33m(\u001b[0m\u001b[0mTypeError\u001b[0m\u001b[1;33m,\u001b[0m \u001b[0mNotImplementedError\u001b[0m\u001b[1;33m)\u001b[0m\u001b[1;33m:\u001b[0m\u001b[1;33m\u001b[0m\u001b[1;33m\u001b[0m\u001b[0m\n\u001b[0;32m    429\u001b[0m                 \u001b[1;32mif\u001b[0m \u001b[1;32mnot\u001b[0m \u001b[0mignore_failures\u001b[0m\u001b[1;33m:\u001b[0m\u001b[1;33m\u001b[0m\u001b[1;33m\u001b[0m\u001b[0m\n",
      "\u001b[1;32m~\\anaconda3\\lib\\site-packages\\pandas\\core\\internals\\blocks.py\u001b[0m in \u001b[0;36mastype\u001b[1;34m(self, dtype, copy, errors)\u001b[0m\n\u001b[0;32m    671\u001b[0m             \u001b[0mvals1d\u001b[0m \u001b[1;33m=\u001b[0m \u001b[0mvalues\u001b[0m\u001b[1;33m.\u001b[0m\u001b[0mravel\u001b[0m\u001b[1;33m(\u001b[0m\u001b[1;33m)\u001b[0m\u001b[1;33m\u001b[0m\u001b[1;33m\u001b[0m\u001b[0m\n\u001b[0;32m    672\u001b[0m             \u001b[1;32mtry\u001b[0m\u001b[1;33m:\u001b[0m\u001b[1;33m\u001b[0m\u001b[1;33m\u001b[0m\u001b[0m\n\u001b[1;32m--> 673\u001b[1;33m                 \u001b[0mvalues\u001b[0m \u001b[1;33m=\u001b[0m \u001b[0mastype_nansafe\u001b[0m\u001b[1;33m(\u001b[0m\u001b[0mvals1d\u001b[0m\u001b[1;33m,\u001b[0m \u001b[0mdtype\u001b[0m\u001b[1;33m,\u001b[0m \u001b[0mcopy\u001b[0m\u001b[1;33m=\u001b[0m\u001b[1;32mTrue\u001b[0m\u001b[1;33m)\u001b[0m\u001b[1;33m\u001b[0m\u001b[1;33m\u001b[0m\u001b[0m\n\u001b[0m\u001b[0;32m    674\u001b[0m             \u001b[1;32mexcept\u001b[0m \u001b[1;33m(\u001b[0m\u001b[0mValueError\u001b[0m\u001b[1;33m,\u001b[0m \u001b[0mTypeError\u001b[0m\u001b[1;33m)\u001b[0m\u001b[1;33m:\u001b[0m\u001b[1;33m\u001b[0m\u001b[1;33m\u001b[0m\u001b[0m\n\u001b[0;32m    675\u001b[0m                 \u001b[1;31m# e.g. astype_nansafe can fail on object-dtype of strings\u001b[0m\u001b[1;33m\u001b[0m\u001b[1;33m\u001b[0m\u001b[1;33m\u001b[0m\u001b[0m\n",
      "\u001b[1;32m~\\anaconda3\\lib\\site-packages\\pandas\\core\\dtypes\\cast.py\u001b[0m in \u001b[0;36mastype_nansafe\u001b[1;34m(arr, dtype, copy, skipna)\u001b[0m\n\u001b[0;32m   1095\u001b[0m     \u001b[1;32mif\u001b[0m \u001b[0mcopy\u001b[0m \u001b[1;32mor\u001b[0m \u001b[0mis_object_dtype\u001b[0m\u001b[1;33m(\u001b[0m\u001b[0marr\u001b[0m\u001b[1;33m)\u001b[0m \u001b[1;32mor\u001b[0m \u001b[0mis_object_dtype\u001b[0m\u001b[1;33m(\u001b[0m\u001b[0mdtype\u001b[0m\u001b[1;33m)\u001b[0m\u001b[1;33m:\u001b[0m\u001b[1;33m\u001b[0m\u001b[1;33m\u001b[0m\u001b[0m\n\u001b[0;32m   1096\u001b[0m         \u001b[1;31m# Explicit copy, or required since NumPy can't view from / to object.\u001b[0m\u001b[1;33m\u001b[0m\u001b[1;33m\u001b[0m\u001b[1;33m\u001b[0m\u001b[0m\n\u001b[1;32m-> 1097\u001b[1;33m         \u001b[1;32mreturn\u001b[0m \u001b[0marr\u001b[0m\u001b[1;33m.\u001b[0m\u001b[0mastype\u001b[0m\u001b[1;33m(\u001b[0m\u001b[0mdtype\u001b[0m\u001b[1;33m,\u001b[0m \u001b[0mcopy\u001b[0m\u001b[1;33m=\u001b[0m\u001b[1;32mTrue\u001b[0m\u001b[1;33m)\u001b[0m\u001b[1;33m\u001b[0m\u001b[1;33m\u001b[0m\u001b[0m\n\u001b[0m\u001b[0;32m   1098\u001b[0m \u001b[1;33m\u001b[0m\u001b[0m\n\u001b[0;32m   1099\u001b[0m     \u001b[1;32mreturn\u001b[0m \u001b[0marr\u001b[0m\u001b[1;33m.\u001b[0m\u001b[0mview\u001b[0m\u001b[1;33m(\u001b[0m\u001b[0mdtype\u001b[0m\u001b[1;33m)\u001b[0m\u001b[1;33m\u001b[0m\u001b[1;33m\u001b[0m\u001b[0m\n",
      "\u001b[1;31mValueError\u001b[0m: could not convert string to float: 'Global Total'"
     ]
    }
   ],
   "source": [
    "sel_col = dat_df_num.columns\n",
    "for one in sel_col:\n",
    "    print(\"col name :\", one)\n",
    "    dat_df[one] = dat_df[one].astype('float32')\n",
    "    "
   ]
  },
  {
   "cell_type": "code",
   "execution_count": 89,
   "metadata": {},
   "outputs": [
    {
     "name": "stdout",
     "output_type": "stream",
     "text": [
      "<class 'pandas.core.frame.DataFrame'>\n",
      "Int64Index: 207 entries, 0 to 225\n",
      "Data columns (total 6 columns):\n",
      " #   Column                         Non-Null Count  Dtype  \n",
      "---  ------                         --------------  -----  \n",
      " 0   국가                             207 non-null    object \n",
      " 1   백신접종수                          207 non-null    float32\n",
      " 2   Enough_for_percent_of_people:  207 non-null    float32\n",
      " 3   1차접종                           207 non-null    float32\n",
      " 4   2차접종                           207 non-null    float32\n",
      " 5   일별접종수                          207 non-null    float32\n",
      "dtypes: float32(5), object(1)\n",
      "memory usage: 7.3+ KB\n"
     ]
    }
   ],
   "source": [
    "dat_df.info()"
   ]
  },
  {
   "cell_type": "markdown",
   "metadata": {},
   "source": [
    "### 파일 만들기"
   ]
  },
  {
   "cell_type": "code",
   "execution_count": 90,
   "metadata": {},
   "outputs": [
    {
     "name": "stdout",
     "output_type": "stream",
     "text": [
      "28\n",
      "20210929_00\n"
     ]
    }
   ],
   "source": [
    "from datetime import datetime\n",
    "import os\n",
    "\n",
    "now = datetime.now()\n",
    "file_make_time = \"%04d%02d%02d_%02d\" % (now.year, now.month, now.day, now.hour)\n",
    "print(now.day - 1)\n",
    "now_day = now.day\n",
    "now_hour = now.hour\n",
    "\n",
    "print( file_make_time )"
   ]
  },
  {
   "cell_type": "code",
   "execution_count": 91,
   "metadata": {},
   "outputs": [
    {
     "name": "stdout",
     "output_type": "stream",
     "text": [
      "C:\\Users\\toto\\Documents\\Github\\corona_analysis\n",
      "C:\\Users\\toto\\Documents\\Github\\corona_analysis\\data\\\n",
      "C:\\Users\\toto\\Documents\\Github\\corona_analysis\\data\\20210929_00\n"
     ]
    }
   ],
   "source": [
    "print( os.getcwd() )\n",
    "path_dir = os.getcwd() + \"\\\\data\\\\\"\n",
    "path_file = path_dir + file_make_time\n",
    "print( path_dir,  path_file, sep=\"\\n\" )"
   ]
  },
  {
   "cell_type": "code",
   "execution_count": 92,
   "metadata": {},
   "outputs": [
    {
     "data": {
      "text/plain": [
       "['2021-08-07_corona.csv',\n",
       " '2021-08-07_corona.xlsx',\n",
       " '2021-09-19_corona.csv',\n",
       " '2021-09-19_corona.xlsx',\n",
       " '2021-09-20_corona.csv',\n",
       " '2021-09-20_corona.xlsx',\n",
       " '2021-09-28_corona.csv',\n",
       " '2021-09-28_corona.xlsx',\n",
       " '20210808_16datamerge.csv',\n",
       " '20210808_16datamerge.xlsx',\n",
       " '20210808_16_today_corona.csv',\n",
       " '20210808_16_today_corona.xlsx',\n",
       " '20210808_16_vaccine_bloomberg.csv',\n",
       " '20210808_16_vaccine_bloomberg.xlsx',\n",
       " '20210920_00_vaccine_bloomberg.csv',\n",
       " '20210920_00_vaccine_bloomberg.xlsx',\n",
       " '20210921_00_datamerge.csv',\n",
       " '20210921_00_datamerge.xlsx',\n",
       " '20210929_00_vaccine_bloomberg.csv',\n",
       " '20210929_00_vaccine_bloomberg.xlsx',\n",
       " 'country.csv',\n",
       " 'country.xlsx']"
      ]
     },
     "execution_count": 92,
     "metadata": {},
     "output_type": "execute_result"
    }
   ],
   "source": [
    "dat_df.to_csv( path_file + \"_vaccine_bloomberg.csv\", index=False)\n",
    "dat_df.to_excel( path_file + \"_vaccine_bloomberg.xlsx\", index=False)\n",
    "os.listdir(path_dir)"
   ]
  },
  {
   "cell_type": "markdown",
   "metadata": {},
   "source": [
    "* history \n",
    " * 2021.08.08 version 01\n",
    "* 출처를 밝히시고 위의 내용에 대해 자유롭게 사용 가능합니다."
   ]
  }
 ],
 "metadata": {
  "kernelspec": {
   "display_name": "Python 3",
   "language": "python",
   "name": "python3"
  },
  "language_info": {
   "codemirror_mode": {
    "name": "ipython",
    "version": 3
   },
   "file_extension": ".py",
   "mimetype": "text/x-python",
   "name": "python",
   "nbconvert_exporter": "python",
   "pygments_lexer": "ipython3",
   "version": "3.8.8"
  }
 },
 "nbformat": 4,
 "nbformat_minor": 4
}
