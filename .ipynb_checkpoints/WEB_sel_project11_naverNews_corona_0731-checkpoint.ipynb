{
 "cells": [
  {
   "cell_type": "markdown",
   "metadata": {},
   "source": [
    "### 네이버 뉴스 정보 가져오기"
   ]
  },
  {
   "cell_type": "markdown",
   "metadata": {},
   "source": [
    "### 학습 내용 \n",
    " * 네이버 뉴스 여러개 단어 검색\n",
    " * 페이지별 언론사, 뉴스기사, URL"
   ]
  },
  {
   "cell_type": "markdown",
   "metadata": {},
   "source": [
    "### 01. 웹 브라우저 띄우기"
   ]
  },
  {
   "cell_type": "code",
   "execution_count": 1,
   "metadata": {},
   "outputs": [],
   "source": [
    "from selenium import webdriver\n",
    "from bs4 import BeautifulSoup\n",
    "import pandas as pd"
   ]
  },
  {
   "cell_type": "markdown",
   "metadata": {},
   "source": [
    "### 네이버 뉴스 검색"
   ]
  },
  {
   "cell_type": "code",
   "execution_count": 2,
   "metadata": {},
   "outputs": [],
   "source": [
    "driver = webdriver.Chrome('chromedriver_91')\n",
    "\n",
    "url = 'https://search.naver.com/search.naver?query=apple&where=news'\n",
    "driver.get(url)\n",
    "\n",
    "import time\n",
    "time.sleep(3)  # 홈페이지 로딩 시간 3초"
   ]
  },
  {
   "cell_type": "code",
   "execution_count": 3,
   "metadata": {},
   "outputs": [],
   "source": [
    "# keyword_multi = ['이강덕 포항시장 백신', '태백시 류태호 백신', '허석 순천시장 백신', \n",
    "#                  '박영선 백신', '이강덕 시장 백신', '고3 백신', '최대호 안양시장 백신']\n",
    "\n",
    "keyword_multi = ['백신 부작용', '백신 사망', '해외 백신', '질병관리청',\n",
    "                 '백신 국민청원', '정부 백신대책']\n",
    "                 \n",
    "pages = 30"
   ]
  },
  {
   "cell_type": "code",
   "execution_count": 4,
   "metadata": {},
   "outputs": [],
   "source": [
    "### 뉴스 검색 : //*[@id=\"nx_query\"]\n",
    "### 검색 버튼 : //*[@id=\"lnb.searchForm\"]/fieldset/button"
   ]
  },
  {
   "cell_type": "code",
   "execution_count": 5,
   "metadata": {},
   "outputs": [
    {
     "name": "stdout",
     "output_type": "stream",
     "text": [
      "19\n"
     ]
    },
    {
     "data": {
      "text/plain": [
       "'2021_0920_00'"
      ]
     },
     "execution_count": 5,
     "metadata": {},
     "output_type": "execute_result"
    }
   ],
   "source": [
    "from datetime import datetime\n",
    "\n",
    "now = datetime.now()\n",
    "file_make_time = \"%04d_%02d%02d_%02d\" % (now.year, now.month, now.day, now.hour)\n",
    "print(now.day - 1)\n",
    "now_day = now.day\n",
    "now_hour = now.hour\n",
    "file_make_time"
   ]
  },
  {
   "cell_type": "code",
   "execution_count": 6,
   "metadata": {},
   "outputs": [],
   "source": [
    "import re\n",
    "from datetime import timedelta"
   ]
  },
  {
   "cell_type": "code",
   "execution_count": 7,
   "metadata": {},
   "outputs": [],
   "source": [
    "def date_cal(now_time):\n",
    "    now = datetime.now()\n",
    "\n",
    "    # 시간이 포함되어 있고,\n",
    "    chk_time = now_time.find(\"시간\")\n",
    "    chk_day = now_time.find(\"일\")\n",
    "    if chk_time>=0: \n",
    "        hour = int( re.findall(\"\\d+\", now_time)[0] )\n",
    "        \n",
    "        # 현재 시간 - 적힌 시간이 음수가 나오면 현재 날짜에 -1을 해 준다. \n",
    "        cal_hour = now.hour - hour\n",
    "        # print(cal_hour)\n",
    "        if cal_hour < 0:\n",
    "            news_date = timedelta(days = 1)\n",
    "            cal_now = now - news_date\n",
    "            #print(\"현재 날짜 :\",  cal_now )\n",
    "        else:\n",
    "            news_date = timedelta(days = 0)\n",
    "            cal_now = now - news_date\n",
    "            #print(\"현재 날짜 :\",  cal_now )\n",
    "            \n",
    "        cal_date_time = \"%04d-%02d-%02d\" % (cal_now.year, cal_now.month, cal_now.day)\n",
    "        print(\"뉴스 날짜 : \", cal_date_time)\n",
    "    \n",
    "    # 일이 포함되어 있고,\n",
    "    elif chk_day>=0: \n",
    "        news_day = int( re.findall(\"\\d+\", now_time)[0] )\n",
    "        # print(news_day)\n",
    "        \n",
    "        # 현재 날짜 -1일전을 계산한다.\n",
    "        news_date = timedelta(days = news_day)\n",
    "        cal_now = now - news_date\n",
    "        \n",
    "        cal_date_time = \"%04d-%02d-%02d\" % (cal_now.year, cal_now.month, cal_now.day)\n",
    "        # print(\"뉴스 날짜 : \", cal_date_time)\n",
    "    else:\n",
    "        cal_date_time = now_time\n",
    "    return cal_date_time    "
   ]
  },
  {
   "cell_type": "code",
   "execution_count": 8,
   "metadata": {},
   "outputs": [],
   "source": [
    "# date_cal(\"3일 전\")"
   ]
  },
  {
   "cell_type": "code",
   "execution_count": 9,
   "metadata": {},
   "outputs": [],
   "source": [
    "def keyword_news_n(keyword1, now_time):\n",
    "    now_page_num = 0\n",
    "    all_company1 = []\n",
    "    all_article1 = []\n",
    "    all_link1 = []\n",
    "    all_date1 = []\n",
    "    \n",
    "    for i in range(1,pages,1):\n",
    "        # 페이지 부분 정보 획득\n",
    "        sel_num = driver.find_element_by_class_name(\"sc_page_inner\")\n",
    "        sel_all = sel_num.find_elements_by_class_name(\"btn\")\n",
    "        \n",
    "        # 화면에 보이는 페이지 확인\n",
    "        print(\"현재 페이지 : \", now_page_num+1, \"키워드 : \", keyword1, \"작성시간: \", now_time)\n",
    "        len_all = len(sel_all)\n",
    "        \n",
    "        # 페이지 번호 확인 후, 해당되는 버튼 클릭\n",
    "        for i in range(1, len_all+1 ):\n",
    "            tmp_pre = '//*[@id=\"main_pack\"]/div[2]/div/div/a[' + str(i) + ']'\n",
    "            sel_num = driver.find_element_by_xpath(tmp_pre)\n",
    "            sel_page_num = int(sel_num.text)\n",
    "            if sel_page_num == (now_page_num+1):\n",
    "                # 정보를 가져와서 클릭\n",
    "                # 현재 페이지 입력\n",
    "                sel_num.click()\n",
    "                time.sleep(1)\n",
    "                now_page_num += 1 \n",
    "                print(now_page_num)\n",
    "                break\n",
    "\n",
    "        page = driver.page_source\n",
    "        soup = BeautifulSoup(page, 'html.parser')\n",
    "        all_ul = soup.find(\"ul\", class_=\"list_news\").find_all(\"li\", class_=\"bx\")\n",
    "\n",
    "        for one in all_ul:\n",
    "            # 언론사\n",
    "            com = one.find(\"a\", class_=\"info press\").text\n",
    "            com_a = com.replace(\"언론사 선정\", \"\")\n",
    "\n",
    "            # print(one)\n",
    "            tmp = one.find(\"a\", class_=\"news_tit\")\n",
    "\n",
    "            article_n = tmp.text\n",
    "            tmp_link = tmp.attrs['href']\n",
    "            \n",
    "            # 날짜\n",
    "            date_one = one.find('div', class_='info_group').find(\"span\", class_=\"info\").text\n",
    "            now_dates = date_cal(date_one)  # 날짜 계산\n",
    "            \n",
    "            print(article_n, com_a, now_dates)\n",
    "            print(\"url : \", tmp_link)\n",
    "\n",
    "            all_company1.append(com_a)\n",
    "            all_article1.append(article_n)\n",
    "            all_link1.append(tmp_link)\n",
    "            all_date1.append(now_dates)\n",
    "            \n",
    "        print(len(all_article))\n",
    "    return all_company1, all_article1, all_link1, all_date1"
   ]
  },
  {
   "cell_type": "code",
   "execution_count": 10,
   "metadata": {},
   "outputs": [],
   "source": [
    "import pandas as pd\n",
    "from datetime import datetime\n",
    "import os"
   ]
  },
  {
   "cell_type": "markdown",
   "metadata": {},
   "source": [
    "### 폴더 생성"
   ]
  },
  {
   "cell_type": "code",
   "execution_count": 11,
   "metadata": {},
   "outputs": [
    {
     "name": "stdout",
     "output_type": "stream",
     "text": [
      "folder creating ok\n"
     ]
    }
   ],
   "source": [
    "now = datetime.now()\n",
    "file_make_time = \"%04d_%02d%02d_%02d\" % (now.year, now.month, now.day, now.hour)\n",
    "\n",
    "try:\n",
    "    if not os.path.exists(file_make_time):\n",
    "        os.makedirs(file_make_time)\n",
    "        print(\"folder creating ok\")\n",
    "except OSError:\n",
    "    print(\"Error : Creating directory \", file_make_time)"
   ]
  },
  {
   "cell_type": "code",
   "execution_count": null,
   "metadata": {
    "scrolled": false
   },
   "outputs": [
    {
     "name": "stdout",
     "output_type": "stream",
     "text": [
      "현재 페이지 :  1 키워드 :  백신 부작용 작성시간:  2021_0920_00\n",
      "1\n",
      "뉴스 날짜 :  2021-09-19\n",
      "[단독]25세 여성 백신접종 후 '뇌출혈'…父 \"내가 접종 강요했는데\" 머니투데이 2021-09-19\n",
      "url :  http://news.mt.co.kr/mtview.php?no=2021091911065282299\n",
      "뉴스 날짜 :  2021-09-19\n",
      "또 백신 맞고 '소장 괴사'…\"건강했던 동생 살려달라\" 靑 청원 매일신문 2021-09-19\n",
      "url :  https://news.imaeil.com/page/view/2021091918465497771\n",
      "뉴스 날짜 :  2021-09-19\n",
      "백신접종 후 언제쯤? 진통제 먹었다면?…헌혈 A~Z 뉴시스 2021-09-19\n",
      "url :  http://www.newsis.com/view/?id=NISX20210919_0001588952&cID=10201&pID=10200\n",
      "뉴스 날짜 :  2021-09-19\n",
      "간미연, 백신 부작용?…\"모더나 맞고 허리 통증\" [TEN★] 텐아시아 2021-09-19\n",
      "url :  https://tenasia.hankyung.com/topic/article/2021091957214\n",
      "“친구가 백신 맞고 성불구”...美 팝스타 주장에 백악관도 ‘발칵’ 매일경제 2021-09-18\n",
      "url :  http://news.mk.co.kr/newsRead.php?no=897896&year=2021\n",
      "오늘부터 백신 미접종자 사전예약 실시…10월부터 접종 뉴스1 2021-09-19\n",
      "url :  https://www.news1.kr/articles/?4438805\n",
      "20대 女 두명, 화이자 접종 후 뇌출혈…\"백신 부작용 책임져야\" 데일리안 2021-09-19\n",
      "url :  https://www.dailian.co.kr/news/view/1034696/?sc=Naver\n",
      "美 FDA 위원회 \"화이자 부스터샷 반대…부작용·효능 대비 실익 안 커\" 한국경제 2021-09-19\n",
      "url :  https://www.hankyung.com/international/article/202109184644i\n",
      "“백신 접종 후 소장 괴사로 사경 헤매는 동생 살려주세요” 국민청원 헤럴드경제 2021-09-19\n",
      "url :  http://news.heraldcorp.com/view.php?ud=20210918000051\n",
      "美 FDA자문위, 부스터샷 거절한 이유...30세미만 男 부작용 우려 머니투데이 2021-09-19\n",
      "url :  http://news.mt.co.kr/mtview.php?no=2021091810550486489\n",
      "0\n",
      "현재 페이지 :  2 키워드 :  백신 부작용 작성시간:  2021_0920_00\n"
     ]
    }
   ],
   "source": [
    "now = datetime.now()\n",
    "file_make_time = \"%04d_%02d%02d_%02d\" % (now.year, now.month, now.day, now.hour)\n",
    "\n",
    "all_company = []\n",
    "all_article = []\n",
    "all_link = []\n",
    "all_date = []\n",
    "\n",
    "for one in keyword_multi:\n",
    "    url = 'https://search.naver.com/search.naver?query=' + one + '&where=news'\n",
    "    driver.get(url)\n",
    "    time.sleep(3)\n",
    "    \n",
    "    sel_search = driver.find_element_by_xpath('//*[@id=\"nx_query\"]') \n",
    "    sel_btn = driver.find_element_by_xpath('//*[@id=\"nx_search_form\"]/fieldset/button') \n",
    "    \n",
    "    sel_search.clear()\n",
    "    sel_search.send_keys(one)\n",
    "    sel_btn.click()\n",
    "    \n",
    "    all_company, all_article, all_link, all_date = keyword_news_n(one, \n",
    "                                                                  file_make_time)\n",
    "    \n",
    "    dict_dat = {\"언론사\": all_company, \"기사명\" : all_article, \n",
    "                \"날짜\":all_date, \"URL\":all_link}\n",
    "    \n",
    "    dat = pd.DataFrame(dict_dat)\n",
    "    dat['키워드'] = one\n",
    "    dat.columns = ['키워드', \"언론사\", \"기사명\", \"날짜\", \"URL\"]\n",
    "    \n",
    "    fname_csv = file_make_time + \"/\" + one + \"_\" + file_make_time +\".csv\"\n",
    "    fname_xlsx = file_make_time + \"/\" + one + \"_\" + file_make_time +\".xlsx\"\n",
    "    dat.to_csv(fname_csv, index=False)\n",
    "    dat.to_excel(fname_xlsx, index=False)"
   ]
  },
  {
   "cell_type": "code",
   "execution_count": null,
   "metadata": {},
   "outputs": [],
   "source": []
  },
  {
   "cell_type": "code",
   "execution_count": null,
   "metadata": {},
   "outputs": [],
   "source": []
  },
  {
   "cell_type": "code",
   "execution_count": null,
   "metadata": {},
   "outputs": [],
   "source": []
  }
 ],
 "metadata": {
  "kernelspec": {
   "display_name": "Python 3",
   "language": "python",
   "name": "python3"
  },
  "language_info": {
   "codemirror_mode": {
    "name": "ipython",
    "version": 3
   },
   "file_extension": ".py",
   "mimetype": "text/x-python",
   "name": "python",
   "nbconvert_exporter": "python",
   "pygments_lexer": "ipython3",
   "version": "3.8.8"
  }
 },
 "nbformat": 4,
 "nbformat_minor": 4
}
