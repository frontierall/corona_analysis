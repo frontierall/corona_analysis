{
 "cells": [
  {
   "cell_type": "markdown",
   "metadata": {},
   "source": [
    "### 국가별 백신 접종률 정보 가져오기"
   ]
  },
  {
   "cell_type": "markdown",
   "metadata": {},
   "source": [
    "### 정보 수집 사이트 \n",
    "* bloomberg.com\n",
    "  * https://www.bloomberg.com/graphics/covid-vaccine-tracker-global-distribution/\n",
    "\n",
    "### 기타 참고 통계 사이트\n",
    "* our world in data\n",
    "  * https://ourworldindata.org/covid-vaccinations\n"
   ]
  },
  {
   "cell_type": "code",
   "execution_count": 1,
   "metadata": {},
   "outputs": [],
   "source": [
    "from IPython.display import display, Image\n",
    "import os, warnings\n",
    "import re\n",
    "warnings.filterwarnings(action='ignore')"
   ]
  },
  {
   "cell_type": "markdown",
   "metadata": {},
   "source": [
    "### 01 웹 브라우저 띄우기\n",
    " *  만약 chrome 브라우저와 chromedirver의 버전이 안 맞을 경우, 버전을 맞는 것으로 변경해야 함.(가끔 이 부분에서 에러 발생)\n",
    "   * 'chrome driver download'로 검색 후, 사이트에 접근 후, 다운로드 가능(window, linux, mac 버전 있음)"
   ]
  },
  {
   "cell_type": "code",
   "execution_count": 4,
   "metadata": {},
   "outputs": [],
   "source": [
    "from selenium import webdriver\n",
    "from bs4 import BeautifulSoup\n",
    "\n",
    "driver = webdriver.Chrome('./chromedriver/chromedriver_91')\n",
    "\n",
    "url = 'https://www.bloomberg.com/graphics/covid-vaccine-tracker-global-distribution/'\n",
    "driver.get(url)"
   ]
  },
  {
   "cell_type": "code",
   "execution_count": 5,
   "metadata": {},
   "outputs": [],
   "source": [
    "import time\n",
    "time.sleep(3)  # 홈페이지 로딩 시간 3초"
   ]
  },
  {
   "cell_type": "markdown",
   "metadata": {},
   "source": [
    "### 전체 데이터 보기\n",
    " * 나라가 여러나라가 있어, 더 보기 버튼을 2번 정도 눌러준다."
   ]
  },
  {
   "cell_type": "code",
   "execution_count": 6,
   "metadata": {},
   "outputs": [],
   "source": [
    "# //*[@id=\"dvz-table-global-vaccination\"]/div[2]/div[2]/button\n",
    "# //*[@id=\"dvz-table-global-vaccination\"]/div[2]/div[2]/button\n",
    "sel_more1 = driver.find_element_by_xpath('//*[@id=\"dvz-table-global-vaccination\"]/div[2]/div[2]/button')\n",
    "sel_more1.click()\n",
    "time.sleep(1)"
   ]
  },
  {
   "cell_type": "code",
   "execution_count": 7,
   "metadata": {},
   "outputs": [],
   "source": [
    "# //*[@id=\"dvz-table-usa-vaccination\"]/div[2]/div[2]/button\n",
    "sel_more2 = driver.find_element_by_xpath('//*[@id=\"dvz-table-global-vaccination\"]/div[2]/div[2]/button')\n",
    "sel_more2.click()"
   ]
  },
  {
   "cell_type": "markdown",
   "metadata": {},
   "source": [
    "### TABLE 선택 후, 데이터 가져오기"
   ]
  },
  {
   "cell_type": "markdown",
   "metadata": {},
   "source": [
    "#### Countries and regions \n",
    " * //*[@id=\"dvz-table-global-vaccination\"]/div[2]/div[1]/table/tbody/tr[1]/td[1]\n",
    " * ..\n",
    " * //*[@id=\"dvz-table-global-vaccination\"]/div[2]/div[1]/table/tbody/tr[3]/td[1]\n",
    " \n",
    "#### Doses administered\n",
    " * //*[@id=\"dvz-table-global-vaccination\"]/div[2]/div[1]/table/tbody/tr[1]/td[2]\n",
    " \n",
    "#### Enough for % of people\n",
    " * //*[@id=\"dvz-table-global-vaccination\"]/div[2]/div[1]/table/tbody/tr[1]/td[3]\n",
    " \n",
    "#### given 1+ dose\n",
    " * //*[@id=\"dvz-table-global-vaccination\"]/div[2]/div[1]/table/tbody/tr[1]/td[4]\n",
    " \n",
    "#### fully vaccinated\n",
    " * //*[@id=\"dvz-table-global-vaccination\"]/div[2]/div[1]/table/tbody/tr[1]/td[5]\n",
    " \n",
    "#### Daily rate of doses administered\n",
    " * //*[@id=\"dvz-table-global-vaccination\"]/div[2]/div[1]/table/tbody/tr[1]/td[6]\n",
    " "
   ]
  },
  {
   "cell_type": "code",
   "execution_count": 8,
   "metadata": {},
   "outputs": [
    {
     "name": "stdout",
     "output_type": "stream",
     "text": [
      "['Global Total', 'Mainland China', 'India', 'EU', 'U.S.', 'Brazil', 'Japan', 'Germany', 'U.K.', '', '', '', '', '', 'France', 'Turkey', 'Indonesia', 'Italy', 'Mexico', 'Russia', 'Spain', 'Canada', '', '', '', '', '', '', '', '', '', '', '', '', '', 'Pakistan', 'Poland', 'Argentina', 'Colombia', 'Saudi Arabia', 'South Korea', 'Morocco', 'Chile', 'Malaysia', 'Netherlands', 'Philippines', 'Thailand', 'UAE', 'Belgium', 'Bangladesh', 'Peru', 'Australia', 'Sri Lanka', 'Cambodia', 'Portugal', 'Iran', 'Ecuador', 'Israel', 'Hungary', 'Sweden', 'Greece', 'Cuba', 'Czech Republic', 'Dominican Republic', 'Kazakhstan', 'Austria', 'Romania', 'Uzbekistan', 'Taiwan', 'Switzerland', '', 'Ukraine', 'South Africa', 'Vietnam', 'Singapore', 'Denmark', 'Nepal', 'Hong Kong', 'Ireland', 'Finland', 'Egypt', 'Norway', 'Serbia', 'Jordan', 'Azerbaijan', 'Uruguay', 'Bolivia', 'El Salvador', 'Slovakia', 'Mongolia', 'Qatar', 'Nigeria', 'Venezuela', 'Myanmar', 'Costa Rica', 'Croatia', 'Tunisia', 'Panama', 'Lithuania', 'Zimbabwe', 'Guatemala', 'Laos', 'Paraguay', 'Lebanon', 'Belarus', 'Kuwait', 'Bahrain', 'Ethiopia', 'Iraq', 'New Zealand', 'Honduras', 'Bulgaria', 'Oman', 'Kenya', 'Slovenia', 'Angola', 'Afghanistan', 'Latvia', 'Ghana', 'Albania', 'Mauritius', 'Senegal', 'Estonia', 'Uganda', 'Ivory Coast', 'Moldova', 'Cyprus', 'Bhutan', 'North Macedonia', 'Guinea', 'Rwanda', 'Sudan', 'Tajikistan', 'Malta', 'Libya', 'Luxembourg', 'Mozambique', 'Malawi', 'Kyrgyzstan', 'Fiji', 'Trinidad and Tobago', 'Georgia', 'Maldives', 'Macau', 'Kosovo', 'Zambia', 'Iceland', 'Togo', 'Nicaragua', 'Timor-Leste', 'Niger', 'Guyana', 'Botswana', 'Jamaica', 'Cameroon', 'Montenegro', 'Equatorial Guinea', 'Yemen', 'Somalia', 'Suriname', 'Namibia', 'Sierra Leone', 'Mauritania', 'Mali', 'Madagascar', 'Belize', 'Cape Verde', 'Brunei', 'Barbados', 'Curaçao', 'Armenia', 'Comoros', 'Jersey', 'Seychelles', 'Republic of the Congo', 'Aruba', 'Isle of Man', 'Bahamas', 'Gabon', 'Papua New Guinea', 'Cayman Islands', 'Guernsey', 'Liberia', 'Central African Republic', 'Greenland', 'Andorra', 'DR Congo', 'Samoa', 'Bermuda', 'Gibraltar', 'Eswatini', 'Algeria', 'Lesotho', 'Benin', 'Antigua and Barbuda', 'Faroe Islands', 'St. Lucia', 'Micronesia', 'South Sudan', 'Turks & Caicos', 'San Marino', 'Tonga', 'Sint Maarten', 'Monaco', 'Sao Tome and Principe', 'Saint Kitts and Nevis', 'Gambia', 'Turkmenistan', 'Dominica', 'Solomon Islands', 'Grenada', 'Burkina Faso', 'St. Vincent and the Grenadines', 'Djibouti', 'Chad', 'Guinea-Bissau', 'Anguilla', 'Nauru', 'St. Helena', 'Falkland Islands', 'Montserrat', 'Bosnia and Herzegovina']\n",
      "['4,414,063,632', '1,757,780,000', '506,218,296', '487,840,489', '350,627,188', '149,469,803', '99,651,092', '94,682,307', '86,207,851', '', '', '', '', '', '77,681,231', '75,907,222', '73,492,875', '71,240,657', '70,808,386', '66,216,817', '58,542,495', '50,419,136', '', '', '', '', '', '', '', '', '', '', '', '', '', '36,331,025', '34,925,459', '34,214,044', '30,011,575', '29,559,987', '28,468,856', '25,933,900', '25,688,833', '23,608,290', '21,344,541', '20,863,544', '19,632,537', '17,097,354', '14,987,130', '14,699,590', '14,357,462', '13,496,355', '13,456,322', '13,393,448', '12,621,877', '12,388,974', '12,384,109', '11,588,381', '11,122,088', '10,942,947', '10,806,193', '10,713,247', '10,631,138', '10,426,989', '10,004,227', '9,928,726', '9,613,156', '9,554,258', '9,154,501', '9,085,296', '', '8,761,526', '8,588,464', '8,528,267', '8,101,676', '7,697,063', '6,611,076', '6,124,627', '6,078,493', '5,880,854', '5,649,322', '5,623,984', '5,576,247', '5,515,152', '5,370,768', '4,880,810', '4,714,133', '4,664,353', '4,356,585', '4,198,321', '3,942,271', '3,938,945', '3,612,473', '3,500,000', '3,424,278', '3,118,842', '3,111,252', '2,943,308', '2,671,867', '2,604,265', '2,557,374', '2,479,026', '2,445,978', '2,441,010', '2,380,101', '2,380,000', '2,357,620', '2,250,893', '2,115,456', '2,108,567', '2,108,280', '2,088,021', '1,887,421', '1,793,520', '1,769,537', '1,680,590', '1,442,250', '1,383,196', '1,271,393', '1,238,036', '1,237,673', '1,204,245', '1,167,134', '1,152,874', '1,098,505', '1,093,742', '1,014,151', '963,652', '932,603', '904,845', '854,194', '819,035', '806,815', '773,225', '737,417', '726,230', '714,776', '636,522', '635,036', '628,823', '623,007', '606,988', '604,808', '523,029', '487,685', '478,129', '477,205', '474,776', '415,640', '402,962', '401,133', '396,997', '370,626', '369,960', '349,845', '346,493', '311,778', '311,483', '279,869', '255,396', '226,109', '225,380', '224,000', '206,562', '197,001', '186,813', '183,620', '177,628', '176,682', '174,397', '173,017', '162,450', '143,244', '141,435', '140,998', '136,962', '124,807', '108,596', '103,820', '100,409', '98,419', '95,738', '95,423', '94,811', '92,149', '90,547', '86,170', '84,413', '82,976', '78,489', '76,399', '75,000', '72,948', '70,323', '69,518', '67,049', '57,858', '57,098', '56,989', '47,263', '45,940', '45,549', '45,346', '44,060', '43,978', '43,726', '43,557', '41,993', '40,553', '40,404', '37,689', '35,402', '27,589', '26,796', '26,537', '25,225', '18,193', '14,784', '7,091', '4,407', '2,791', '–']\n",
      "['–', '62.8', '18.5', '54.9', '54.8', '36.6', '39.5', '57.0', '64.5', '', '', '', '', '', '59.9', '45.6', '13.8', '59.0', '27.8', '22.6', '63.0', '67.2', '', '', '', '', '', '', '', '', '', '', '', '', '', '8.9', '46.0', '38.1', '29.8', '43.4', '27.5', '36.4', '67.2', '36.2', '61.9', '9.7', '14.1', '79.5', '65.4', '4.4', '21.6', '26.4', '30.9', '40.6', '61.4', '7.4', '35.9', '64.0', '56.9', '53.0', '50.4', '47.3', '49.9', '50.3', '26.8', '56.0', '24.8', '14.4', '19.4', '53.2', '', '10.5', '8.9', '4.4', '71.0', '66.3', '11.6', '40.7', '61.4', '53.3', '2.8', '52.5', '40.0', '27.4', '26.9', '69.3', '20.4', '36.1', '40.0', '63.7', '70.5', '1.0', '6.5', '3.3', '33.7', '38.3', '13.2', '34.9', '48.0', '8.7', '7.3', '17.3', '17.1', '17.8', '12.6', '25.1', '79.4', '1.2', '2.7', '21.4', '10.8', '15.0', '22.5', '1.9', '43.8', '2.8', '1.9', '36.0', '2.1', '21.6', '48.8', '3.7', '44.0', '1.4', '2.1', '20.4', '57.9', '64.7', '22.4', '3.3', '3.4', '0.9', '4.3', '78.3', '5.6', '59.1', '1.1', '1.6', '5.0', '35.1', '22.3', '8.1', '81.3', '38.5', '13.5', '1.3', '66.8', '2.9', '3.2', '15.6', '0.9', '25.3', '7.8', '6.8', '0.7', '27.8', '11.5', '0.5', '0.9', '21.4', '4.6', '1.4', '2.8', '0.5', '0.4', '22.9', '16.7', '19.3', '30.8', '53.5', '2.9', '9.3', '–', '73.7', '1.5', '61.1', '73.4', '14.3', '2.5', '0.6', '75.7', '–', '1.0', '1.0', '80.8', '58.8', '<0.1', '21.0', '65.9', '115.4', '3.4', '0.1', '1.8', '0.3', '35.8', '68.4', '16.1', '27.5', '0.2', '62.2', '67.6', '22.8', '54.0', '56.5', '10.3', '38.4', '0.9', '0.4', '28.6', '3.2', '17.3', '0.1', '12.5', '1.2', '0.1', '0.7', '60.6', '56.9', '59.1', '73.5', '27.9', '–']\n",
      "['–', '44.4', '28.8', '60.9', '58.5', '52.0', '46.0', '62.4', '70.4', '', '', '', '', '', '68.9', '50.1', '18.7', '65.2', '39.2', '25.9', '71.3', '72.0', '', '', '', '', '', '', '', '', '', '', '', '', '', '14.1', '48.9', '57.8', '37.4', '58.2', '40.2', '42.3', '72.5', '47.1', '69.5', '10.9', '21.8', '73.7', '71.0', '6.1', '25.4', '34.9', '49.4', '48.1', '70.0', '11.5', '55.2', '64.1', '57.7', '63.0', '54.0', '40.6', '53.8', '54.1', '30.2', '60.3', '26.1', '19.4', '36.7', '55.1', '', '15.4', '11.7', '7.9', '77.7', '73.6', '15.5', '46.1', '68.9', '68.0', '3.9', '69.0', '41.0', '31.0', '31.4', '73.8', '26.5', '47.0', '42.1', '66.8', '76.1', '1.3', '13.0', '3.5', '50.7', '40.8', '16.3', '52.3', '53.3', '11.7', '12.5', '18.4', '30.0', '30.5', '14.8', '30.6', '75.2', '2.3', '2.1', '26.7', '18.5', '15.9', '37.0', '2.3', '45.4', '3.2', '2.1', '41.0', '2.9', '24.1', '54.0', '5.5', '50.0', '2.9', '4.2', '22.8', '62.1', '68.2', '25.2', '4.1', '3.6', '1.5', '8.1', '81.8', '10.4', '64.5', '1.3', '2.2', '7.9', '54.1', '29.5', '11.2', '87.7', '42.6', '17.9', '1.8', '77.1', '4.0', '3.9', '23.2', '1.5', '32.5', '10.2', '8.7', '1.2', '30.2', '13.3', '0.9', '1.2', '31.6', '7.1', '1.8', '5.1', '0.8', '0.7', '33.0', '29.4', '30.8', '34.8', '56.7', '4.1', '13.9', '–', '75.9', '1.7', '64.8', '76.4', '16.2', '3.0', '1.0', '76.7', '–', '1.9', '1.7', '113.3', '65.9', '0.1', '30.7', '66.5', '115.7', '3.9', '–', '2.0', '0.4', '39.8', '72.1', '18.1', '31.4', '0.4', '64.7', '70.3', '28.8', '57.7', '62.7', '15.1', '41.9', '1.3', '0.6', '29.4', '4.6', '19.7', '0.2', '14.8', '1.7', '0.1', '1.4', '62.9', '57.9', '59.4', '87.7', '29.1', '–']\n"
     ]
    },
    {
     "name": "stdout",
     "output_type": "stream",
     "text": [
      "['–', '15.9', '8.2', '52.5', '50.1', '21.1', '32.9', '54.6', '58.7', '', '', '', '', '', '57.3', '34.5', '8.8', '56.7', '21.0', '18.4', '60.8', '60.5', '', '', '', '', '', '', '', '', '', '', '', '', '', '3.6', '46.9', '18.3', '25.2', '28.5', '14.9', '30.6', '64.6', '25.3', '55.8', '8.5', '6.1', '66.0', '62.7', '2.7', '17.9', '17.1', '12.3', '33.9', '59.3', '3.3', '16.6', '59.6', '56.1', '43.0', '50.0', '–', '47.4', '43.8', '22.7', '54.1', '25.4', '4.0', '2.1', '49.3', '', '5.6', '6.1', '0.9', '66.5', '58.9', '7.8', '35.4', '58.4', '38.6', '1.8', '36.0', '39.1', '23.8', '22.5', '64.9', '15.5', '25.3', '37.3', '60.6', '64.9', '0.7', '0.8', '2.9', '16.8', '37.2', '9.6', '18.2', '46.5', '5.8', '2.1', '16.2', '4.2', '17.1', '10.4', '19.4', '71.6', '–', '1.3', '16.2', '3.0', '14.9', '8.0', '1.4', '40.2', '2.4', '1.8', '36.5', '1.3', '19.0', '43.7', '1.9', '43.6', '<0.1', '0.4', '19.8', '53.6', '–', '19.7', '2.5', '3.3', '0.4', '–', '79.9', '–', '53.8', '1.0', '0.7', '2.1', '16.1', '15.1', '5.1', '74.9', '34.5', '9.2', '1.0', '71.5', '1.9', '2.5', '–', '–', '18.1', '5.4', '4.9', '0.2', '25.4', '9.6', '–', '–', '11.2', '2.1', '0.2', '0.5', '0.3', '–', '12.8', '–', '7.8', '26.7', '50.3', '1.7', '–', '–', '71.4', '1.4', '57.4', '70.4', '12.3', '2.0', '0.2', '73.0', '–', '–', '0.2', '48.3', '52.7', '–', '–', '16.4', '115.1', '2.9', '–', '–', '–', '32.0', '64.7', '14.0', '–', '<0.1', '59.7', '69.1', '–', '50.2', '50.3', '5.6', '34.8', '0.5', '0.2', '27.7', '1.7', '14.9', '–', '10.2', '–', '0.1', '–', '18.9', '55.8', '58.8', '59.2', '26.7', '–']\n",
      "['42,600,503', '17,197,857', '5,565,503', '2,513,484', '712,389', '1,426,282', '2,269,209', '375,419', '181,407', '', '', '', '', '', '517,893', '396,358', '783,013', '403,547', '739,529', '579,461', '371,077', '199,512', '', '', '', '', '', '', '', '', '', '', '', '', '', '954,710', '84,457', '333,721', '420,774', '404,891', '301,333', '311,199', '46,786', '650,779', '129,195', '411,949', '401,677', '43,091', '102,425', '264,332', '206,339', '184,239', '315,166', '248,599', '133,167', '277,538', '329,924', '119,085', '11,178', '62,122', '47,182', '191,593', '45,313', '46,630', '284,670', '38,774', '74,356', '302,796', '152,233', '22,363', '', '176,424', '149,132', '370,984', '81,691', '46,292', '223,823', '65,920', '36,497', '37,987', '27,488', '46,502', '6,494', '53,344', '56,915', '13,448', '66,702', '99,207', '18,526', '14,662', '23,115', '15,212', '61,871', '3,666', '58,889', '7,169', '50,236', '63,456', '14,563', '46,085', '87,243', '89,743', '45,997', '16,639', '26,444', '12,990', '28,288', '8,178', '57,952', '40,138', '43,888', '9,011', '7,562', '12,220', '19,093', '3,533', '15,209', '5,104', '761', '6,741', '11,599', '42,527', '5,176', '1,997', '26,115', '7,301', '5,264', '67,826', '20,545', '15,820', '4,836', '565', '44,964', '2,139', '18,908', '3,502', '3,391', '4,004', '6,968', '8,350', '13,460', '17,914', '2,414', '1,897', '8,410', '6,672', '1,284', '1,469', '4,431', '5,670', '5,598', '2,561', '11,750', '5,312', '2,567', '2,361', '1,543', '880', '1,367', '2,295', '2,100', '12,253', '2,556', '441', '178', '2,219', '3,453', '4,082', '562', '187', '2,766', '4,054', '381', '58', '2,119', '216', '133', '809', '1,304', '1,341', '200', '401', '483', '113', '772', '424', '532', '1,483', '35', '12', '1,272', '6,248', '756', '1,382', '156', '631', '301', '269', '153', '153', '88', '863', '145', '245', '3', '57', '47', '–', '20', '910', '129', '173', '109', '247', '403', '27', '21', '38', '120', '202', '7', '–']\n"
     ]
    }
   ],
   "source": [
    "all_data = []\n",
    "\n",
    "for i in range(1, 7, 1):\n",
    "    data_col = []\n",
    "    xpath = '//*[@id=\"dvz-table-global-vaccination\"]/div[2]/div[1]/table/tbody/tr/td[%s]' % str(i) \n",
    "    sel_data = driver.find_elements_by_xpath(xpath)\n",
    "    \n",
    "    for dat in sel_data:\n",
    "        #print(dat)\n",
    "        data_col.append(dat.text)\n",
    "    print(data_col)\n",
    "    all_data.append(data_col)"
   ]
  },
  {
   "cell_type": "code",
   "execution_count": 9,
   "metadata": {},
   "outputs": [],
   "source": [
    "import pandas as pd"
   ]
  },
  {
   "cell_type": "markdown",
   "metadata": {},
   "source": [
    "### 데이터 확인 \n",
    " * Countries and regions : 나라 및 지역 / country 컬럼\n",
    " * Doses administered : 접종 수 / Doses_administered 컬럼\n",
    " * Enough for % of people : 접종률 / percent_of_people 컬럼\n",
    " * given 1+ dose : 1차 접종 / 1_percent 컬럼\n",
    " * fully vaccinated : 2차 접종 / 2_percent 컬럼\n",
    " * Daily_rate_of_doses_administered : 일일 투여 용량 / Daily_rate_of_doses 컬럼"
   ]
  },
  {
   "cell_type": "code",
   "execution_count": 10,
   "metadata": {
    "scrolled": false
   },
   "outputs": [
    {
     "data": {
      "text/html": [
       "<div>\n",
       "<style scoped>\n",
       "    .dataframe tbody tr th:only-of-type {\n",
       "        vertical-align: middle;\n",
       "    }\n",
       "\n",
       "    .dataframe tbody tr th {\n",
       "        vertical-align: top;\n",
       "    }\n",
       "\n",
       "    .dataframe thead th {\n",
       "        text-align: right;\n",
       "    }\n",
       "</style>\n",
       "<table border=\"1\" class=\"dataframe\">\n",
       "  <thead>\n",
       "    <tr style=\"text-align: right;\">\n",
       "      <th></th>\n",
       "      <th>country</th>\n",
       "      <th>Doses_administered</th>\n",
       "      <th>percent_of_people:</th>\n",
       "      <th>1_percent</th>\n",
       "      <th>2_percent</th>\n",
       "      <th>Daily_rate_of_doses</th>\n",
       "    </tr>\n",
       "  </thead>\n",
       "  <tbody>\n",
       "    <tr>\n",
       "      <th>0</th>\n",
       "      <td>Global Total</td>\n",
       "      <td>4,414,063,632</td>\n",
       "      <td>–</td>\n",
       "      <td>–</td>\n",
       "      <td>–</td>\n",
       "      <td>42,600,503</td>\n",
       "    </tr>\n",
       "    <tr>\n",
       "      <th>1</th>\n",
       "      <td>Mainland China</td>\n",
       "      <td>1,757,780,000</td>\n",
       "      <td>62.8</td>\n",
       "      <td>44.4</td>\n",
       "      <td>15.9</td>\n",
       "      <td>17,197,857</td>\n",
       "    </tr>\n",
       "    <tr>\n",
       "      <th>2</th>\n",
       "      <td>India</td>\n",
       "      <td>506,218,296</td>\n",
       "      <td>18.5</td>\n",
       "      <td>28.8</td>\n",
       "      <td>8.2</td>\n",
       "      <td>5,565,503</td>\n",
       "    </tr>\n",
       "    <tr>\n",
       "      <th>3</th>\n",
       "      <td>EU</td>\n",
       "      <td>487,840,489</td>\n",
       "      <td>54.9</td>\n",
       "      <td>60.9</td>\n",
       "      <td>52.5</td>\n",
       "      <td>2,513,484</td>\n",
       "    </tr>\n",
       "    <tr>\n",
       "      <th>4</th>\n",
       "      <td>U.S.</td>\n",
       "      <td>350,627,188</td>\n",
       "      <td>54.8</td>\n",
       "      <td>58.5</td>\n",
       "      <td>50.1</td>\n",
       "      <td>712,389</td>\n",
       "    </tr>\n",
       "    <tr>\n",
       "      <th>...</th>\n",
       "      <td>...</td>\n",
       "      <td>...</td>\n",
       "      <td>...</td>\n",
       "      <td>...</td>\n",
       "      <td>...</td>\n",
       "      <td>...</td>\n",
       "    </tr>\n",
       "    <tr>\n",
       "      <th>217</th>\n",
       "      <td>Nauru</td>\n",
       "      <td>14,784</td>\n",
       "      <td>56.9</td>\n",
       "      <td>57.9</td>\n",
       "      <td>55.8</td>\n",
       "      <td>38</td>\n",
       "    </tr>\n",
       "    <tr>\n",
       "      <th>218</th>\n",
       "      <td>St. Helena</td>\n",
       "      <td>7,091</td>\n",
       "      <td>59.1</td>\n",
       "      <td>59.4</td>\n",
       "      <td>58.8</td>\n",
       "      <td>120</td>\n",
       "    </tr>\n",
       "    <tr>\n",
       "      <th>219</th>\n",
       "      <td>Falkland Islands</td>\n",
       "      <td>4,407</td>\n",
       "      <td>73.5</td>\n",
       "      <td>87.7</td>\n",
       "      <td>59.2</td>\n",
       "      <td>202</td>\n",
       "    </tr>\n",
       "    <tr>\n",
       "      <th>220</th>\n",
       "      <td>Montserrat</td>\n",
       "      <td>2,791</td>\n",
       "      <td>27.9</td>\n",
       "      <td>29.1</td>\n",
       "      <td>26.7</td>\n",
       "      <td>7</td>\n",
       "    </tr>\n",
       "    <tr>\n",
       "      <th>221</th>\n",
       "      <td>Bosnia and Herzegovina</td>\n",
       "      <td>–</td>\n",
       "      <td>–</td>\n",
       "      <td>–</td>\n",
       "      <td>–</td>\n",
       "      <td>–</td>\n",
       "    </tr>\n",
       "  </tbody>\n",
       "</table>\n",
       "<p>222 rows × 6 columns</p>\n",
       "</div>"
      ],
      "text/plain": [
       "                    country Doses_administered percent_of_people: 1_percent  \\\n",
       "0              Global Total      4,414,063,632                  –         –   \n",
       "1            Mainland China      1,757,780,000               62.8      44.4   \n",
       "2                     India        506,218,296               18.5      28.8   \n",
       "3                        EU        487,840,489               54.9      60.9   \n",
       "4                      U.S.        350,627,188               54.8      58.5   \n",
       "..                      ...                ...                ...       ...   \n",
       "217                   Nauru             14,784               56.9      57.9   \n",
       "218              St. Helena              7,091               59.1      59.4   \n",
       "219        Falkland Islands              4,407               73.5      87.7   \n",
       "220              Montserrat              2,791               27.9      29.1   \n",
       "221  Bosnia and Herzegovina                  –                  –         –   \n",
       "\n",
       "    2_percent Daily_rate_of_doses  \n",
       "0           –          42,600,503  \n",
       "1        15.9          17,197,857  \n",
       "2         8.2           5,565,503  \n",
       "3        52.5           2,513,484  \n",
       "4        50.1             712,389  \n",
       "..        ...                 ...  \n",
       "217      55.8                  38  \n",
       "218      58.8                 120  \n",
       "219      59.2                 202  \n",
       "220      26.7                   7  \n",
       "221         –                   –  \n",
       "\n",
       "[222 rows x 6 columns]"
      ]
     },
     "execution_count": 10,
     "metadata": {},
     "output_type": "execute_result"
    }
   ],
   "source": [
    "pd.set_option(\"display.max_rows\", 40)\n",
    "\n",
    "dat_dict = {'country':all_data[0],\n",
    "            'Doses_administered':all_data[1],\n",
    "            'percent_of_people:':all_data[2],\n",
    "            '1_percent':all_data[3],\n",
    "            '2_percent':all_data[4],\n",
    "            'Daily_rate_of_doses':all_data[5]\n",
    "           }\n",
    "\n",
    "dat_df = pd.DataFrame(dat_dict)\n",
    "dat_df"
   ]
  },
  {
   "cell_type": "code",
   "execution_count": 11,
   "metadata": {},
   "outputs": [
    {
     "name": "stdout",
     "output_type": "stream",
     "text": [
      "<class 'pandas.core.frame.DataFrame'>\n",
      "RangeIndex: 222 entries, 0 to 221\n",
      "Data columns (total 6 columns):\n",
      " #   Column               Non-Null Count  Dtype \n",
      "---  ------               --------------  ----- \n",
      " 0   country              222 non-null    object\n",
      " 1   Doses_administered   222 non-null    object\n",
      " 2   percent_of_people:   222 non-null    object\n",
      " 3   1_percent            222 non-null    object\n",
      " 4   2_percent            222 non-null    object\n",
      " 5   Daily_rate_of_doses  222 non-null    object\n",
      "dtypes: object(6)\n",
      "memory usage: 10.5+ KB\n"
     ]
    }
   ],
   "source": [
    "dat_df.info()"
   ]
  },
  {
   "cell_type": "markdown",
   "metadata": {},
   "source": [
    "### 데이터 전처리\n",
    " * 데이터가 없거나 제대로 얻어지지 못한 부분. 그리고 추가 컬럼 등을 생성"
   ]
  },
  {
   "cell_type": "code",
   "execution_count": 12,
   "metadata": {},
   "outputs": [
    {
     "data": {
      "text/plain": [
       "0      12\n",
       "1      14\n",
       "2       5\n",
       "3       2\n",
       "4       4\n",
       "       ..\n",
       "217     5\n",
       "218    10\n",
       "219    16\n",
       "220    10\n",
       "221    22\n",
       "Name: country, Length: 222, dtype: int64"
      ]
     },
     "execution_count": 12,
     "metadata": {},
     "output_type": "execute_result"
    }
   ],
   "source": [
    "### 공백행을 삭제\n",
    "dat_df['country'].str.len()"
   ]
  },
  {
   "cell_type": "markdown",
   "metadata": {},
   "source": [
    "### 한나라의 중복 행의 존재로 이 부분은 정보 취득 못함"
   ]
  },
  {
   "cell_type": "code",
   "execution_count": 14,
   "metadata": {},
   "outputs": [
    {
     "data": {
      "text/html": [
       "<div>\n",
       "<style scoped>\n",
       "    .dataframe tbody tr th:only-of-type {\n",
       "        vertical-align: middle;\n",
       "    }\n",
       "\n",
       "    .dataframe tbody tr th {\n",
       "        vertical-align: top;\n",
       "    }\n",
       "\n",
       "    .dataframe thead th {\n",
       "        text-align: right;\n",
       "    }\n",
       "</style>\n",
       "<table border=\"1\" class=\"dataframe\">\n",
       "  <thead>\n",
       "    <tr style=\"text-align: right;\">\n",
       "      <th></th>\n",
       "      <th>country</th>\n",
       "      <th>Doses_administered</th>\n",
       "      <th>percent_of_people:</th>\n",
       "      <th>1_percent</th>\n",
       "      <th>2_percent</th>\n",
       "      <th>Daily_rate_of_doses</th>\n",
       "    </tr>\n",
       "  </thead>\n",
       "  <tbody>\n",
       "    <tr>\n",
       "      <th>9</th>\n",
       "      <td></td>\n",
       "      <td></td>\n",
       "      <td></td>\n",
       "      <td></td>\n",
       "      <td></td>\n",
       "      <td></td>\n",
       "    </tr>\n",
       "    <tr>\n",
       "      <th>10</th>\n",
       "      <td></td>\n",
       "      <td></td>\n",
       "      <td></td>\n",
       "      <td></td>\n",
       "      <td></td>\n",
       "      <td></td>\n",
       "    </tr>\n",
       "    <tr>\n",
       "      <th>11</th>\n",
       "      <td></td>\n",
       "      <td></td>\n",
       "      <td></td>\n",
       "      <td></td>\n",
       "      <td></td>\n",
       "      <td></td>\n",
       "    </tr>\n",
       "    <tr>\n",
       "      <th>12</th>\n",
       "      <td></td>\n",
       "      <td></td>\n",
       "      <td></td>\n",
       "      <td></td>\n",
       "      <td></td>\n",
       "      <td></td>\n",
       "    </tr>\n",
       "    <tr>\n",
       "      <th>13</th>\n",
       "      <td></td>\n",
       "      <td></td>\n",
       "      <td></td>\n",
       "      <td></td>\n",
       "      <td></td>\n",
       "      <td></td>\n",
       "    </tr>\n",
       "    <tr>\n",
       "      <th>22</th>\n",
       "      <td></td>\n",
       "      <td></td>\n",
       "      <td></td>\n",
       "      <td></td>\n",
       "      <td></td>\n",
       "      <td></td>\n",
       "    </tr>\n",
       "    <tr>\n",
       "      <th>23</th>\n",
       "      <td></td>\n",
       "      <td></td>\n",
       "      <td></td>\n",
       "      <td></td>\n",
       "      <td></td>\n",
       "      <td></td>\n",
       "    </tr>\n",
       "    <tr>\n",
       "      <th>24</th>\n",
       "      <td></td>\n",
       "      <td></td>\n",
       "      <td></td>\n",
       "      <td></td>\n",
       "      <td></td>\n",
       "      <td></td>\n",
       "    </tr>\n",
       "    <tr>\n",
       "      <th>25</th>\n",
       "      <td></td>\n",
       "      <td></td>\n",
       "      <td></td>\n",
       "      <td></td>\n",
       "      <td></td>\n",
       "      <td></td>\n",
       "    </tr>\n",
       "    <tr>\n",
       "      <th>26</th>\n",
       "      <td></td>\n",
       "      <td></td>\n",
       "      <td></td>\n",
       "      <td></td>\n",
       "      <td></td>\n",
       "      <td></td>\n",
       "    </tr>\n",
       "    <tr>\n",
       "      <th>27</th>\n",
       "      <td></td>\n",
       "      <td></td>\n",
       "      <td></td>\n",
       "      <td></td>\n",
       "      <td></td>\n",
       "      <td></td>\n",
       "    </tr>\n",
       "    <tr>\n",
       "      <th>28</th>\n",
       "      <td></td>\n",
       "      <td></td>\n",
       "      <td></td>\n",
       "      <td></td>\n",
       "      <td></td>\n",
       "      <td></td>\n",
       "    </tr>\n",
       "    <tr>\n",
       "      <th>29</th>\n",
       "      <td></td>\n",
       "      <td></td>\n",
       "      <td></td>\n",
       "      <td></td>\n",
       "      <td></td>\n",
       "      <td></td>\n",
       "    </tr>\n",
       "    <tr>\n",
       "      <th>30</th>\n",
       "      <td></td>\n",
       "      <td></td>\n",
       "      <td></td>\n",
       "      <td></td>\n",
       "      <td></td>\n",
       "      <td></td>\n",
       "    </tr>\n",
       "    <tr>\n",
       "      <th>31</th>\n",
       "      <td></td>\n",
       "      <td></td>\n",
       "      <td></td>\n",
       "      <td></td>\n",
       "      <td></td>\n",
       "      <td></td>\n",
       "    </tr>\n",
       "    <tr>\n",
       "      <th>32</th>\n",
       "      <td></td>\n",
       "      <td></td>\n",
       "      <td></td>\n",
       "      <td></td>\n",
       "      <td></td>\n",
       "      <td></td>\n",
       "    </tr>\n",
       "    <tr>\n",
       "      <th>33</th>\n",
       "      <td></td>\n",
       "      <td></td>\n",
       "      <td></td>\n",
       "      <td></td>\n",
       "      <td></td>\n",
       "      <td></td>\n",
       "    </tr>\n",
       "    <tr>\n",
       "      <th>34</th>\n",
       "      <td></td>\n",
       "      <td></td>\n",
       "      <td></td>\n",
       "      <td></td>\n",
       "      <td></td>\n",
       "      <td></td>\n",
       "    </tr>\n",
       "    <tr>\n",
       "      <th>70</th>\n",
       "      <td></td>\n",
       "      <td></td>\n",
       "      <td></td>\n",
       "      <td></td>\n",
       "      <td></td>\n",
       "      <td></td>\n",
       "    </tr>\n",
       "  </tbody>\n",
       "</table>\n",
       "</div>"
      ],
      "text/plain": [
       "   country Doses_administered percent_of_people: 1_percent 2_percent  \\\n",
       "9                                                                      \n",
       "10                                                                     \n",
       "11                                                                     \n",
       "12                                                                     \n",
       "13                                                                     \n",
       "22                                                                     \n",
       "23                                                                     \n",
       "24                                                                     \n",
       "25                                                                     \n",
       "26                                                                     \n",
       "27                                                                     \n",
       "28                                                                     \n",
       "29                                                                     \n",
       "30                                                                     \n",
       "31                                                                     \n",
       "32                                                                     \n",
       "33                                                                     \n",
       "34                                                                     \n",
       "70                                                                     \n",
       "\n",
       "   Daily_rate_of_doses  \n",
       "9                       \n",
       "10                      \n",
       "11                      \n",
       "12                      \n",
       "13                      \n",
       "22                      \n",
       "23                      \n",
       "24                      \n",
       "25                      \n",
       "26                      \n",
       "27                      \n",
       "28                      \n",
       "29                      \n",
       "30                      \n",
       "31                      \n",
       "32                      \n",
       "33                      \n",
       "34                      \n",
       "70                      "
      ]
     },
     "execution_count": 14,
     "metadata": {},
     "output_type": "execute_result"
    }
   ],
   "source": [
    "dat_df.loc[ dat_df['country'].str.len() <1, : ]"
   ]
  },
  {
   "cell_type": "code",
   "execution_count": 15,
   "metadata": {},
   "outputs": [
    {
     "name": "stdout",
     "output_type": "stream",
     "text": [
      "Int64Index([9, 10, 11, 12, 13, 22, 23, 24, 25, 26, 27, 28, 29, 30, 31, 32, 33,\n",
      "            34, 70],\n",
      "           dtype='int64')\n"
     ]
    }
   ],
   "source": [
    "sel_index = dat_df[ dat_df['country'].str.len() <1 ].index\n",
    "print(sel_index)\n",
    "dat_df.drop (sel_index, axis=0, inplace=True  )"
   ]
  },
  {
   "cell_type": "code",
   "execution_count": 16,
   "metadata": {},
   "outputs": [
    {
     "data": {
      "text/plain": [
       "(203, 6)"
      ]
     },
     "execution_count": 16,
     "metadata": {},
     "output_type": "execute_result"
    }
   ],
   "source": [
    "dat_df = dat_df.reindex()\n",
    "dat_df.shape"
   ]
  },
  {
   "cell_type": "code",
   "execution_count": 17,
   "metadata": {},
   "outputs": [
    {
     "data": {
      "text/html": [
       "<div>\n",
       "<style scoped>\n",
       "    .dataframe tbody tr th:only-of-type {\n",
       "        vertical-align: middle;\n",
       "    }\n",
       "\n",
       "    .dataframe tbody tr th {\n",
       "        vertical-align: top;\n",
       "    }\n",
       "\n",
       "    .dataframe thead th {\n",
       "        text-align: right;\n",
       "    }\n",
       "</style>\n",
       "<table border=\"1\" class=\"dataframe\">\n",
       "  <thead>\n",
       "    <tr style=\"text-align: right;\">\n",
       "      <th></th>\n",
       "      <th>country</th>\n",
       "      <th>Doses_administered</th>\n",
       "      <th>percent_of_people:</th>\n",
       "      <th>1_percent</th>\n",
       "      <th>2_percent</th>\n",
       "      <th>Daily_rate_of_doses</th>\n",
       "    </tr>\n",
       "  </thead>\n",
       "  <tbody>\n",
       "    <tr>\n",
       "      <th>221</th>\n",
       "      <td>Bosnia and Herzegovina</td>\n",
       "      <td>–</td>\n",
       "      <td>–</td>\n",
       "      <td>–</td>\n",
       "      <td>–</td>\n",
       "      <td>–</td>\n",
       "    </tr>\n",
       "  </tbody>\n",
       "</table>\n",
       "</div>"
      ],
      "text/plain": [
       "                    country Doses_administered percent_of_people: 1_percent  \\\n",
       "221  Bosnia and Herzegovina                  –                  –         –   \n",
       "\n",
       "    2_percent Daily_rate_of_doses  \n",
       "221         –                   –  "
      ]
     },
     "execution_count": 17,
     "metadata": {},
     "output_type": "execute_result"
    }
   ],
   "source": [
    "dat_df.loc[dat_df['Doses_administered'] == '–']"
   ]
  },
  {
   "cell_type": "code",
   "execution_count": 19,
   "metadata": {},
   "outputs": [
    {
     "data": {
      "text/html": [
       "<div>\n",
       "<style scoped>\n",
       "    .dataframe tbody tr th:only-of-type {\n",
       "        vertical-align: middle;\n",
       "    }\n",
       "\n",
       "    .dataframe tbody tr th {\n",
       "        vertical-align: top;\n",
       "    }\n",
       "\n",
       "    .dataframe thead th {\n",
       "        text-align: right;\n",
       "    }\n",
       "</style>\n",
       "<table border=\"1\" class=\"dataframe\">\n",
       "  <thead>\n",
       "    <tr style=\"text-align: right;\">\n",
       "      <th></th>\n",
       "      <th>country</th>\n",
       "      <th>Doses_administered</th>\n",
       "      <th>percent_of_people:</th>\n",
       "      <th>1_percent</th>\n",
       "      <th>2_percent</th>\n",
       "      <th>Daily_rate_of_doses</th>\n",
       "    </tr>\n",
       "  </thead>\n",
       "  <tbody>\n",
       "    <tr>\n",
       "      <th>207</th>\n",
       "      <td>Turkmenistan</td>\n",
       "      <td>41,993</td>\n",
       "      <td>0.4</td>\n",
       "      <td>0.6</td>\n",
       "      <td>0.2</td>\n",
       "      <td>–</td>\n",
       "    </tr>\n",
       "    <tr>\n",
       "      <th>221</th>\n",
       "      <td>Bosnia and Herzegovina</td>\n",
       "      <td>–</td>\n",
       "      <td>–</td>\n",
       "      <td>–</td>\n",
       "      <td>–</td>\n",
       "      <td>–</td>\n",
       "    </tr>\n",
       "  </tbody>\n",
       "</table>\n",
       "</div>"
      ],
      "text/plain": [
       "                    country Doses_administered percent_of_people: 1_percent  \\\n",
       "207            Turkmenistan             41,993                0.4       0.6   \n",
       "221  Bosnia and Herzegovina                  –                  –         –   \n",
       "\n",
       "    2_percent Daily_rate_of_doses  \n",
       "207       0.2                   –  \n",
       "221         –                   –  "
      ]
     },
     "execution_count": 19,
     "metadata": {},
     "output_type": "execute_result"
    }
   ],
   "source": [
    "dat_df.loc[dat_df['Daily_rate_of_doses'] == '–']"
   ]
  },
  {
   "cell_type": "code",
   "execution_count": 20,
   "metadata": {},
   "outputs": [
    {
     "data": {
      "text/plain": [
       "Index(['country', 'Doses_administered', 'percent_of_people:', '1_percent',\n",
       "       '2_percent', 'Daily_rate_of_doses'],\n",
       "      dtype='object')"
      ]
     },
     "execution_count": 20,
     "metadata": {},
     "output_type": "execute_result"
    }
   ],
   "source": [
    "dat_df.columns"
   ]
  },
  {
   "cell_type": "code",
   "execution_count": 21,
   "metadata": {},
   "outputs": [
    {
     "name": "stdout",
     "output_type": "stream",
     "text": [
      "col name :  country\n",
      "0\n",
      "\n",
      "\n",
      "col name :  Doses_administered\n",
      "1\n",
      "\n",
      "\n",
      "col name :  percent_of_people:\n",
      "4\n",
      "\n",
      "\n",
      "col name :  1_percent\n",
      "5\n",
      "\n",
      "\n",
      "col name :  2_percent\n",
      "27\n",
      "\n",
      "\n",
      "col name :  Daily_rate_of_doses\n",
      "2\n",
      "\n",
      "\n"
     ]
    }
   ],
   "source": [
    "col_all = dat_df.columns\n",
    "for one in col_all:\n",
    "    print(\"col name : \", one)\n",
    "    print( dat_df.loc[dat_df[one] == '–', one].count() )\n",
    "    print(\"\\n\")"
   ]
  },
  {
   "cell_type": "markdown",
   "metadata": {},
   "source": [
    "### 결측치(비어 있는 값)를 -999로 처리한다."
   ]
  },
  {
   "cell_type": "code",
   "execution_count": 22,
   "metadata": {},
   "outputs": [
    {
     "name": "stdout",
     "output_type": "stream",
     "text": [
      "col name :  country\n",
      "0\n",
      "\n",
      "\n",
      "col name :  Doses_administered\n",
      "1\n",
      "\n",
      "\n",
      "col name :  percent_of_people:\n",
      "4\n",
      "\n",
      "\n",
      "col name :  1_percent\n",
      "5\n",
      "\n",
      "\n",
      "col name :  2_percent\n",
      "27\n",
      "\n",
      "\n",
      "col name :  Daily_rate_of_doses\n",
      "2\n",
      "\n",
      "\n"
     ]
    }
   ],
   "source": [
    "col_all = dat_df.columns\n",
    "for one in col_all:\n",
    "    print(\"col name : \", one)\n",
    "    print( dat_df.loc[dat_df[one] == '–', one].count() )\n",
    "    dat_df.loc[dat_df[one] == '–', one] = \"-999\"      # -은 이상치 -999로 치환\n",
    "    dat_df.loc[dat_df[one] == '<0.1', one] = \"0.05\"   # <0.1은 0.05로 치환\n",
    "    \n",
    "    print(\"\\n\")"
   ]
  },
  {
   "cell_type": "markdown",
   "metadata": {},
   "source": [
    "### 확인"
   ]
  },
  {
   "cell_type": "code",
   "execution_count": 23,
   "metadata": {},
   "outputs": [
    {
     "name": "stdout",
     "output_type": "stream",
     "text": [
      "col name :  country\n",
      "0\n",
      "col name :  Doses_administered\n",
      "0\n",
      "col name :  percent_of_people:\n",
      "0\n",
      "col name :  1_percent\n",
      "0\n",
      "col name :  2_percent\n",
      "0\n",
      "col name :  Daily_rate_of_doses\n",
      "0\n"
     ]
    }
   ],
   "source": [
    "col_all = dat_df.columns\n",
    "for one in col_all:\n",
    "    print(\"col name : \", one)\n",
    "    print( dat_df.loc[dat_df[one] == '–', one].count() )"
   ]
  },
  {
   "cell_type": "markdown",
   "metadata": {},
   "source": [
    "### ','을 처리"
   ]
  },
  {
   "cell_type": "code",
   "execution_count": 25,
   "metadata": {},
   "outputs": [],
   "source": [
    "\n",
    "dat_df['Doses_administered'] = dat_df['Doses_administered'].str.replace(',', '')\n",
    "dat_df['Daily_rate_of_doses'] = dat_df['Daily_rate_of_doses'].str.replace(',', '')\n"
   ]
  },
  {
   "cell_type": "code",
   "execution_count": 26,
   "metadata": {},
   "outputs": [
    {
     "data": {
      "text/html": [
       "<div>\n",
       "<style scoped>\n",
       "    .dataframe tbody tr th:only-of-type {\n",
       "        vertical-align: middle;\n",
       "    }\n",
       "\n",
       "    .dataframe tbody tr th {\n",
       "        vertical-align: top;\n",
       "    }\n",
       "\n",
       "    .dataframe thead th {\n",
       "        text-align: right;\n",
       "    }\n",
       "</style>\n",
       "<table border=\"1\" class=\"dataframe\">\n",
       "  <thead>\n",
       "    <tr style=\"text-align: right;\">\n",
       "      <th></th>\n",
       "      <th>country</th>\n",
       "      <th>Doses_administered</th>\n",
       "      <th>percent_of_people:</th>\n",
       "      <th>1_percent</th>\n",
       "      <th>2_percent</th>\n",
       "      <th>Daily_rate_of_doses</th>\n",
       "    </tr>\n",
       "  </thead>\n",
       "  <tbody>\n",
       "    <tr>\n",
       "      <th>0</th>\n",
       "      <td>Global Total</td>\n",
       "      <td>4414063632</td>\n",
       "      <td>-999</td>\n",
       "      <td>-999</td>\n",
       "      <td>-999</td>\n",
       "      <td>42600503</td>\n",
       "    </tr>\n",
       "    <tr>\n",
       "      <th>1</th>\n",
       "      <td>Mainland China</td>\n",
       "      <td>1757780000</td>\n",
       "      <td>62.8</td>\n",
       "      <td>44.4</td>\n",
       "      <td>15.9</td>\n",
       "      <td>17197857</td>\n",
       "    </tr>\n",
       "    <tr>\n",
       "      <th>2</th>\n",
       "      <td>India</td>\n",
       "      <td>506218296</td>\n",
       "      <td>18.5</td>\n",
       "      <td>28.8</td>\n",
       "      <td>8.2</td>\n",
       "      <td>5565503</td>\n",
       "    </tr>\n",
       "    <tr>\n",
       "      <th>3</th>\n",
       "      <td>EU</td>\n",
       "      <td>487840489</td>\n",
       "      <td>54.9</td>\n",
       "      <td>60.9</td>\n",
       "      <td>52.5</td>\n",
       "      <td>2513484</td>\n",
       "    </tr>\n",
       "    <tr>\n",
       "      <th>4</th>\n",
       "      <td>U.S.</td>\n",
       "      <td>350627188</td>\n",
       "      <td>54.8</td>\n",
       "      <td>58.5</td>\n",
       "      <td>50.1</td>\n",
       "      <td>712389</td>\n",
       "    </tr>\n",
       "    <tr>\n",
       "      <th>5</th>\n",
       "      <td>Brazil</td>\n",
       "      <td>149469803</td>\n",
       "      <td>36.6</td>\n",
       "      <td>52.0</td>\n",
       "      <td>21.1</td>\n",
       "      <td>1426282</td>\n",
       "    </tr>\n",
       "    <tr>\n",
       "      <th>6</th>\n",
       "      <td>Japan</td>\n",
       "      <td>99651092</td>\n",
       "      <td>39.5</td>\n",
       "      <td>46.0</td>\n",
       "      <td>32.9</td>\n",
       "      <td>2269209</td>\n",
       "    </tr>\n",
       "    <tr>\n",
       "      <th>7</th>\n",
       "      <td>Germany</td>\n",
       "      <td>94682307</td>\n",
       "      <td>57.0</td>\n",
       "      <td>62.4</td>\n",
       "      <td>54.6</td>\n",
       "      <td>375419</td>\n",
       "    </tr>\n",
       "    <tr>\n",
       "      <th>8</th>\n",
       "      <td>U.K.</td>\n",
       "      <td>86207851</td>\n",
       "      <td>64.5</td>\n",
       "      <td>70.4</td>\n",
       "      <td>58.7</td>\n",
       "      <td>181407</td>\n",
       "    </tr>\n",
       "    <tr>\n",
       "      <th>14</th>\n",
       "      <td>France</td>\n",
       "      <td>77681231</td>\n",
       "      <td>59.9</td>\n",
       "      <td>68.9</td>\n",
       "      <td>57.3</td>\n",
       "      <td>517893</td>\n",
       "    </tr>\n",
       "  </tbody>\n",
       "</table>\n",
       "</div>"
      ],
      "text/plain": [
       "           country Doses_administered percent_of_people: 1_percent 2_percent  \\\n",
       "0     Global Total         4414063632               -999      -999      -999   \n",
       "1   Mainland China         1757780000               62.8      44.4      15.9   \n",
       "2            India          506218296               18.5      28.8       8.2   \n",
       "3               EU          487840489               54.9      60.9      52.5   \n",
       "4             U.S.          350627188               54.8      58.5      50.1   \n",
       "5           Brazil          149469803               36.6      52.0      21.1   \n",
       "6            Japan           99651092               39.5      46.0      32.9   \n",
       "7          Germany           94682307               57.0      62.4      54.6   \n",
       "8             U.K.           86207851               64.5      70.4      58.7   \n",
       "14          France           77681231               59.9      68.9      57.3   \n",
       "\n",
       "   Daily_rate_of_doses  \n",
       "0             42600503  \n",
       "1             17197857  \n",
       "2              5565503  \n",
       "3              2513484  \n",
       "4               712389  \n",
       "5              1426282  \n",
       "6              2269209  \n",
       "7               375419  \n",
       "8               181407  \n",
       "14              517893  "
      ]
     },
     "execution_count": 26,
     "metadata": {},
     "output_type": "execute_result"
    }
   ],
   "source": [
    "dat_df.head(10)"
   ]
  },
  {
   "cell_type": "markdown",
   "metadata": {},
   "source": [
    "### 데이터 전처리 후, 확인"
   ]
  },
  {
   "cell_type": "code",
   "execution_count": 27,
   "metadata": {},
   "outputs": [
    {
     "name": "stdout",
     "output_type": "stream",
     "text": [
      "<class 'pandas.core.frame.DataFrame'>\n",
      "Int64Index: 203 entries, 0 to 221\n",
      "Data columns (total 6 columns):\n",
      " #   Column               Non-Null Count  Dtype \n",
      "---  ------               --------------  ----- \n",
      " 0   country              203 non-null    object\n",
      " 1   Doses_administered   203 non-null    object\n",
      " 2   percent_of_people:   203 non-null    object\n",
      " 3   1_percent            203 non-null    object\n",
      " 4   2_percent            203 non-null    object\n",
      " 5   Daily_rate_of_doses  203 non-null    object\n",
      "dtypes: object(6)\n",
      "memory usage: 11.1+ KB\n"
     ]
    }
   ],
   "source": [
    "dat_df.info()"
   ]
  },
  {
   "cell_type": "code",
   "execution_count": 28,
   "metadata": {},
   "outputs": [
    {
     "data": {
      "text/plain": [
       "array(['4414063632', '1757780000', '506218296', '487840489', '350627188',\n",
       "       '149469803', '99651092', '94682307', '86207851', '77681231',\n",
       "       '75907222', '73492875', '71240657', '70808386', '66216817',\n",
       "       '58542495', '50419136', '36331025', '34925459', '34214044',\n",
       "       '30011575', '29559987', '28468856', '25933900', '25688833',\n",
       "       '23608290', '21344541', '20863544', '19632537', '17097354',\n",
       "       '14987130', '14699590', '14357462', '13496355', '13456322',\n",
       "       '13393448', '12621877', '12388974', '12384109', '11588381',\n",
       "       '11122088', '10942947', '10806193', '10713247', '10631138',\n",
       "       '10426989', '10004227', '9928726', '9613156', '9554258', '9154501',\n",
       "       '9085296', '8761526', '8588464', '8528267', '8101676', '7697063',\n",
       "       '6611076', '6124627', '6078493', '5880854', '5649322', '5623984',\n",
       "       '5576247', '5515152', '5370768', '4880810', '4714133', '4664353',\n",
       "       '4356585', '4198321', '3942271', '3938945', '3612473', '3500000',\n",
       "       '3424278', '3118842', '3111252', '2943308', '2671867', '2604265',\n",
       "       '2557374', '2479026', '2445978', '2441010', '2380101', '2380000',\n",
       "       '2357620', '2250893', '2115456', '2108567', '2108280', '2088021',\n",
       "       '1887421', '1793520', '1769537', '1680590', '1442250', '1383196',\n",
       "       '1271393', '1238036', '1237673', '1204245', '1167134', '1152874',\n",
       "       '1098505', '1093742', '1014151', '963652', '932603', '904845',\n",
       "       '854194', '819035', '806815', '773225', '737417', '726230',\n",
       "       '714776', '636522', '635036', '628823', '623007', '606988',\n",
       "       '604808', '523029', '487685', '478129', '477205', '474776',\n",
       "       '415640', '402962', '401133', '396997', '370626', '369960',\n",
       "       '349845', '346493', '311778', '311483', '279869', '255396',\n",
       "       '226109', '225380', '224000', '206562', '197001', '186813',\n",
       "       '183620', '177628', '176682', '174397', '173017', '162450',\n",
       "       '143244', '141435', '140998', '136962', '124807', '108596',\n",
       "       '103820', '100409', '98419', '95738', '95423', '94811', '92149',\n",
       "       '90547', '86170', '84413', '82976', '78489', '76399', '75000',\n",
       "       '72948', '70323', '69518', '67049', '57858', '57098', '56989',\n",
       "       '47263', '45940', '45549', '45346', '44060', '43978', '43726',\n",
       "       '43557', '41993', '40553', '40404', '37689', '35402', '27589',\n",
       "       '26796', '26537', '25225', '18193', '14784', '7091', '4407',\n",
       "       '2791', '-999'], dtype=object)"
      ]
     },
     "execution_count": 28,
     "metadata": {},
     "output_type": "execute_result"
    }
   ],
   "source": [
    "dat_df.Doses_administered.unique()"
   ]
  },
  {
   "cell_type": "code",
   "execution_count": 29,
   "metadata": {},
   "outputs": [
    {
     "data": {
      "text/plain": [
       "country                0\n",
       "Doses_administered     0\n",
       "percent_of_people:     0\n",
       "1_percent              0\n",
       "2_percent              0\n",
       "Daily_rate_of_doses    0\n",
       "dtype: int64"
      ]
     },
     "execution_count": 29,
     "metadata": {},
     "output_type": "execute_result"
    }
   ],
   "source": [
    "dat_df.isnull().sum()"
   ]
  },
  {
   "cell_type": "code",
   "execution_count": 30,
   "metadata": {},
   "outputs": [
    {
     "data": {
      "text/plain": [
       "array(['4414063632', '1757780000', '506218296', '487840489', '350627188',\n",
       "       '149469803', '99651092', '94682307', '86207851', '77681231',\n",
       "       '75907222', '73492875', '71240657', '70808386', '66216817',\n",
       "       '58542495', '50419136', '36331025', '34925459', '34214044',\n",
       "       '30011575', '29559987', '28468856', '25933900', '25688833',\n",
       "       '23608290', '21344541', '20863544', '19632537', '17097354',\n",
       "       '14987130', '14699590', '14357462', '13496355', '13456322',\n",
       "       '13393448', '12621877', '12388974', '12384109', '11588381',\n",
       "       '11122088', '10942947', '10806193', '10713247', '10631138',\n",
       "       '10426989', '10004227', '9928726', '9613156', '9554258', '9154501',\n",
       "       '9085296', '8761526', '8588464', '8528267', '8101676', '7697063',\n",
       "       '6611076', '6124627', '6078493', '5880854', '5649322', '5623984',\n",
       "       '5576247', '5515152', '5370768', '4880810', '4714133', '4664353',\n",
       "       '4356585', '4198321', '3942271', '3938945', '3612473', '3500000',\n",
       "       '3424278', '3118842', '3111252', '2943308', '2671867', '2604265',\n",
       "       '2557374', '2479026', '2445978', '2441010', '2380101', '2380000',\n",
       "       '2357620', '2250893', '2115456', '2108567', '2108280', '2088021',\n",
       "       '1887421', '1793520', '1769537', '1680590', '1442250', '1383196',\n",
       "       '1271393', '1238036', '1237673', '1204245', '1167134', '1152874',\n",
       "       '1098505', '1093742', '1014151', '963652', '932603', '904845',\n",
       "       '854194', '819035', '806815', '773225', '737417', '726230',\n",
       "       '714776', '636522', '635036', '628823', '623007', '606988',\n",
       "       '604808', '523029', '487685', '478129', '477205', '474776',\n",
       "       '415640', '402962', '401133', '396997', '370626', '369960',\n",
       "       '349845', '346493', '311778', '311483', '279869', '255396',\n",
       "       '226109', '225380', '224000', '206562', '197001', '186813',\n",
       "       '183620', '177628', '176682', '174397', '173017', '162450',\n",
       "       '143244', '141435', '140998', '136962', '124807', '108596',\n",
       "       '103820', '100409', '98419', '95738', '95423', '94811', '92149',\n",
       "       '90547', '86170', '84413', '82976', '78489', '76399', '75000',\n",
       "       '72948', '70323', '69518', '67049', '57858', '57098', '56989',\n",
       "       '47263', '45940', '45549', '45346', '44060', '43978', '43726',\n",
       "       '43557', '41993', '40553', '40404', '37689', '35402', '27589',\n",
       "       '26796', '26537', '25225', '18193', '14784', '7091', '4407',\n",
       "       '2791', '-999'], dtype=object)"
      ]
     },
     "execution_count": 30,
     "metadata": {},
     "output_type": "execute_result"
    }
   ],
   "source": [
    "dat_df['Doses_administered'].unique()"
   ]
  },
  {
   "cell_type": "code",
   "execution_count": 31,
   "metadata": {},
   "outputs": [
    {
     "data": {
      "text/plain": [
       "0     4414063632\n",
       "1     1757780000\n",
       "2      506218296\n",
       "3      487840489\n",
       "4      350627188\n",
       "5      149469803\n",
       "6       99651092\n",
       "7       94682307\n",
       "8       86207851\n",
       "14      77681231\n",
       "15      75907222\n",
       "16      73492875\n",
       "17      71240657\n",
       "18      70808386\n",
       "19      66216817\n",
       "20      58542495\n",
       "21      50419136\n",
       "35      36331025\n",
       "36      34925459\n",
       "37      34214044\n",
       "38      30011575\n",
       "39      29559987\n",
       "40      28468856\n",
       "41      25933900\n",
       "42      25688833\n",
       "43      23608290\n",
       "44      21344541\n",
       "45      20863544\n",
       "46      19632537\n",
       "47      17097354\n",
       "Name: Doses_administered, dtype: object"
      ]
     },
     "execution_count": 31,
     "metadata": {},
     "output_type": "execute_result"
    }
   ],
   "source": [
    "dat_df['Doses_administered'].head(30)"
   ]
  },
  {
   "cell_type": "code",
   "execution_count": 32,
   "metadata": {},
   "outputs": [
    {
     "data": {
      "text/html": [
       "<div>\n",
       "<style scoped>\n",
       "    .dataframe tbody tr th:only-of-type {\n",
       "        vertical-align: middle;\n",
       "    }\n",
       "\n",
       "    .dataframe tbody tr th {\n",
       "        vertical-align: top;\n",
       "    }\n",
       "\n",
       "    .dataframe thead th {\n",
       "        text-align: right;\n",
       "    }\n",
       "</style>\n",
       "<table border=\"1\" class=\"dataframe\">\n",
       "  <thead>\n",
       "    <tr style=\"text-align: right;\">\n",
       "      <th></th>\n",
       "      <th>country</th>\n",
       "      <th>Doses_administered</th>\n",
       "      <th>percent_of_people:</th>\n",
       "      <th>1_percent</th>\n",
       "      <th>2_percent</th>\n",
       "      <th>Daily_rate_of_doses</th>\n",
       "    </tr>\n",
       "  </thead>\n",
       "  <tbody>\n",
       "  </tbody>\n",
       "</table>\n",
       "</div>"
      ],
      "text/plain": [
       "Empty DataFrame\n",
       "Columns: [country, Doses_administered, percent_of_people:, 1_percent, 2_percent, Daily_rate_of_doses]\n",
       "Index: []"
      ]
     },
     "execution_count": 32,
     "metadata": {},
     "output_type": "execute_result"
    }
   ],
   "source": [
    "dat_df.loc[dat_df['Doses_administered'].isna() , : ] "
   ]
  },
  {
   "cell_type": "code",
   "execution_count": 33,
   "metadata": {},
   "outputs": [
    {
     "data": {
      "text/html": [
       "<div>\n",
       "<style scoped>\n",
       "    .dataframe tbody tr th:only-of-type {\n",
       "        vertical-align: middle;\n",
       "    }\n",
       "\n",
       "    .dataframe tbody tr th {\n",
       "        vertical-align: top;\n",
       "    }\n",
       "\n",
       "    .dataframe thead th {\n",
       "        text-align: right;\n",
       "    }\n",
       "</style>\n",
       "<table border=\"1\" class=\"dataframe\">\n",
       "  <thead>\n",
       "    <tr style=\"text-align: right;\">\n",
       "      <th></th>\n",
       "      <th>country</th>\n",
       "      <th>Doses_administered</th>\n",
       "      <th>percent_of_people:</th>\n",
       "      <th>1_percent</th>\n",
       "      <th>2_percent</th>\n",
       "      <th>Daily_rate_of_doses</th>\n",
       "    </tr>\n",
       "  </thead>\n",
       "  <tbody>\n",
       "    <tr>\n",
       "      <th>20</th>\n",
       "      <td>Spain</td>\n",
       "      <td>58542495</td>\n",
       "      <td>63.0</td>\n",
       "      <td>71.3</td>\n",
       "      <td>60.8</td>\n",
       "      <td>371077</td>\n",
       "    </tr>\n",
       "    <tr>\n",
       "      <th>21</th>\n",
       "      <td>Canada</td>\n",
       "      <td>50419136</td>\n",
       "      <td>67.2</td>\n",
       "      <td>72.0</td>\n",
       "      <td>60.5</td>\n",
       "      <td>199512</td>\n",
       "    </tr>\n",
       "    <tr>\n",
       "      <th>35</th>\n",
       "      <td>Pakistan</td>\n",
       "      <td>36331025</td>\n",
       "      <td>8.9</td>\n",
       "      <td>14.1</td>\n",
       "      <td>3.6</td>\n",
       "      <td>954710</td>\n",
       "    </tr>\n",
       "    <tr>\n",
       "      <th>36</th>\n",
       "      <td>Poland</td>\n",
       "      <td>34925459</td>\n",
       "      <td>46.0</td>\n",
       "      <td>48.9</td>\n",
       "      <td>46.9</td>\n",
       "      <td>84457</td>\n",
       "    </tr>\n",
       "    <tr>\n",
       "      <th>37</th>\n",
       "      <td>Argentina</td>\n",
       "      <td>34214044</td>\n",
       "      <td>38.1</td>\n",
       "      <td>57.8</td>\n",
       "      <td>18.3</td>\n",
       "      <td>333721</td>\n",
       "    </tr>\n",
       "    <tr>\n",
       "      <th>38</th>\n",
       "      <td>Colombia</td>\n",
       "      <td>30011575</td>\n",
       "      <td>29.8</td>\n",
       "      <td>37.4</td>\n",
       "      <td>25.2</td>\n",
       "      <td>420774</td>\n",
       "    </tr>\n",
       "    <tr>\n",
       "      <th>39</th>\n",
       "      <td>Saudi Arabia</td>\n",
       "      <td>29559987</td>\n",
       "      <td>43.4</td>\n",
       "      <td>58.2</td>\n",
       "      <td>28.5</td>\n",
       "      <td>404891</td>\n",
       "    </tr>\n",
       "    <tr>\n",
       "      <th>40</th>\n",
       "      <td>South Korea</td>\n",
       "      <td>28468856</td>\n",
       "      <td>27.5</td>\n",
       "      <td>40.2</td>\n",
       "      <td>14.9</td>\n",
       "      <td>301333</td>\n",
       "    </tr>\n",
       "    <tr>\n",
       "      <th>41</th>\n",
       "      <td>Morocco</td>\n",
       "      <td>25933900</td>\n",
       "      <td>36.4</td>\n",
       "      <td>42.3</td>\n",
       "      <td>30.6</td>\n",
       "      <td>311199</td>\n",
       "    </tr>\n",
       "    <tr>\n",
       "      <th>42</th>\n",
       "      <td>Chile</td>\n",
       "      <td>25688833</td>\n",
       "      <td>67.2</td>\n",
       "      <td>72.5</td>\n",
       "      <td>64.6</td>\n",
       "      <td>46786</td>\n",
       "    </tr>\n",
       "  </tbody>\n",
       "</table>\n",
       "</div>"
      ],
      "text/plain": [
       "         country Doses_administered percent_of_people: 1_percent 2_percent  \\\n",
       "20         Spain           58542495               63.0      71.3      60.8   \n",
       "21        Canada           50419136               67.2      72.0      60.5   \n",
       "35      Pakistan           36331025                8.9      14.1       3.6   \n",
       "36        Poland           34925459               46.0      48.9      46.9   \n",
       "37     Argentina           34214044               38.1      57.8      18.3   \n",
       "38      Colombia           30011575               29.8      37.4      25.2   \n",
       "39  Saudi Arabia           29559987               43.4      58.2      28.5   \n",
       "40   South Korea           28468856               27.5      40.2      14.9   \n",
       "41       Morocco           25933900               36.4      42.3      30.6   \n",
       "42         Chile           25688833               67.2      72.5      64.6   \n",
       "\n",
       "   Daily_rate_of_doses  \n",
       "20              371077  \n",
       "21              199512  \n",
       "35              954710  \n",
       "36               84457  \n",
       "37              333721  \n",
       "38              420774  \n",
       "39              404891  \n",
       "40              301333  \n",
       "41              311199  \n",
       "42               46786  "
      ]
     },
     "execution_count": 33,
     "metadata": {},
     "output_type": "execute_result"
    }
   ],
   "source": [
    "dat_df.iloc[ 15:25, :]"
   ]
  },
  {
   "cell_type": "code",
   "execution_count": 34,
   "metadata": {},
   "outputs": [
    {
     "data": {
      "text/plain": [
       "Index(['Doses_administered', 'percent_of_people:', '1_percent', '2_percent',\n",
       "       'Daily_rate_of_doses'],\n",
       "      dtype='object')"
      ]
     },
     "execution_count": 34,
     "metadata": {},
     "output_type": "execute_result"
    }
   ],
   "source": [
    "dat_df_num = dat_df.iloc[:, 1:]\n",
    "dat_df_num.columns"
   ]
  },
  {
   "cell_type": "code",
   "execution_count": 37,
   "metadata": {},
   "outputs": [
    {
     "name": "stdout",
     "output_type": "stream",
     "text": [
      "col name : Doses_administered\n",
      "col name : percent_of_people:\n",
      "col name : 1_percent\n",
      "col name : 2_percent\n",
      "col name : Daily_rate_of_doses\n",
      "<class 'pandas.core.frame.DataFrame'>\n",
      "Int64Index: 203 entries, 0 to 221\n",
      "Data columns (total 6 columns):\n",
      " #   Column               Non-Null Count  Dtype  \n",
      "---  ------               --------------  -----  \n",
      " 0   country              203 non-null    object \n",
      " 1   Doses_administered   203 non-null    float32\n",
      " 2   percent_of_people:   203 non-null    float32\n",
      " 3   1_percent            203 non-null    float32\n",
      " 4   2_percent            203 non-null    float32\n",
      " 5   Daily_rate_of_doses  203 non-null    float32\n",
      "dtypes: float32(5), object(1)\n",
      "memory usage: 7.1+ KB\n"
     ]
    }
   ],
   "source": [
    "sel_col = dat_df_num.columns\n",
    "for one in sel_col:\n",
    "    print(\"col name :\", one)\n",
    "    dat_df[one] = dat_df[one].astype('float32')\n",
    "    \n",
    "dat_df.info()"
   ]
  },
  {
   "cell_type": "markdown",
   "metadata": {},
   "source": [
    "### 파일 만들기"
   ]
  },
  {
   "cell_type": "code",
   "execution_count": 42,
   "metadata": {},
   "outputs": [
    {
     "name": "stdout",
     "output_type": "stream",
     "text": [
      "7\n",
      "20210808_16\n"
     ]
    }
   ],
   "source": [
    "from datetime import datetime\n",
    "import os\n",
    "\n",
    "now = datetime.now()\n",
    "file_make_time = \"%04d%02d%02d_%02d\" % (now.year, now.month, now.day, now.hour)\n",
    "print(now.day - 1)\n",
    "now_day = now.day\n",
    "now_hour = now.hour\n",
    "\n",
    "print( file_make_time )"
   ]
  },
  {
   "cell_type": "code",
   "execution_count": 47,
   "metadata": {},
   "outputs": [
    {
     "name": "stdout",
     "output_type": "stream",
     "text": [
      "C:\\Users\\toto\\Documents\\Github\\corona_analysis\n",
      "C:\\Users\\toto\\Documents\\Github\\corona_analysis\\data\\\n",
      "C:\\Users\\toto\\Documents\\Github\\corona_analysis\\data\\20210808_16\n"
     ]
    }
   ],
   "source": [
    "print( os.getcwd() )\n",
    "path_dir = os.getcwd() + \"\\\\data\\\\\"\n",
    "path_file = path_dir + file_make_time\n",
    "print( path_dir,  path_file, sep=\"\\n\" )"
   ]
  },
  {
   "cell_type": "code",
   "execution_count": 48,
   "metadata": {},
   "outputs": [
    {
     "data": {
      "text/plain": [
       "['20210808_16_vaccine_bloomberg.csv',\n",
       " '20210808_16_vaccine_bloomberg.xlsx',\n",
       " 'country.csv',\n",
       " 'country.xlsx']"
      ]
     },
     "execution_count": 48,
     "metadata": {},
     "output_type": "execute_result"
    }
   ],
   "source": [
    "dat_df.to_csv( path_file + \"_vaccine_bloomberg.csv\", index=False)\n",
    "dat_df.to_excel( path_file + \"_vaccine_bloomberg.xlsx\", index=False)\n",
    "os.listdir(path_dir)"
   ]
  },
  {
   "cell_type": "markdown",
   "metadata": {},
   "source": [
    "* history \n",
    " * 2021.08.08 version 01"
   ]
  }
 ],
 "metadata": {
  "kernelspec": {
   "display_name": "Python 3",
   "language": "python",
   "name": "python3"
  },
  "language_info": {
   "codemirror_mode": {
    "name": "ipython",
    "version": 3
   },
   "file_extension": ".py",
   "mimetype": "text/x-python",
   "name": "python",
   "nbconvert_exporter": "python",
   "pygments_lexer": "ipython3",
   "version": "3.8.5"
  }
 },
 "nbformat": 4,
 "nbformat_minor": 4
}
