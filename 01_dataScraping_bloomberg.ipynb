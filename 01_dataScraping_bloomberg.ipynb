{
 "cells": [
  {
   "cell_type": "markdown",
   "metadata": {},
   "source": [
    "### 국가별 백신 접종률 정보 가져오기"
   ]
  },
  {
   "cell_type": "markdown",
   "metadata": {},
   "source": [
    "### 참고 사이트 \n",
    "* our world in data\n",
    "  * https://ourworldindata.org/covid-vaccinations\n",
    "* bloomberg.com\n",
    "  * https://www.bloomberg.com/graphics/covid-vaccine-tracker-global-distribution/"
   ]
  },
  {
   "cell_type": "code",
   "execution_count": 1,
   "metadata": {},
   "outputs": [],
   "source": [
    "from IPython.display import display, Image\n",
    "import os, warnings\n",
    "import re\n",
    "warnings.filterwarnings(action='ignore')"
   ]
  },
  {
   "cell_type": "markdown",
   "metadata": {},
   "source": [
    "### 01 웹 브라우저 띄우기"
   ]
  },
  {
   "cell_type": "code",
   "execution_count": 2,
   "metadata": {},
   "outputs": [],
   "source": [
    "from selenium import webdriver\n",
    "from bs4 import BeautifulSoup\n",
    "\n",
    "driver = webdriver.Chrome('../chromedriver_90')\n",
    "\n",
    "url = 'https://www.bloomberg.com/graphics/covid-vaccine-tracker-global-distribution/'\n",
    "driver.get(url)"
   ]
  },
  {
   "cell_type": "code",
   "execution_count": 3,
   "metadata": {},
   "outputs": [],
   "source": [
    "import time\n",
    "time.sleep(3)  # 홈페이지 로딩 시간 3초"
   ]
  },
  {
   "cell_type": "markdown",
   "metadata": {},
   "source": [
    "### 전체 데이터 보기"
   ]
  },
  {
   "cell_type": "code",
   "execution_count": 4,
   "metadata": {},
   "outputs": [],
   "source": [
    "# //*[@id=\"dvz-table-global-vaccination\"]/div[2]/div[2]/button\n",
    "# //*[@id=\"dvz-table-global-vaccination\"]/div[2]/div[2]/button\n",
    "sel_more1 = driver.find_element_by_xpath('//*[@id=\"dvz-table-global-vaccination\"]/div[2]/div[2]/button')\n",
    "sel_more1.click()\n",
    "time.sleep(1)"
   ]
  },
  {
   "cell_type": "code",
   "execution_count": 5,
   "metadata": {},
   "outputs": [],
   "source": [
    "# //*[@id=\"dvz-table-usa-vaccination\"]/div[2]/div[2]/button\n",
    "sel_more2 = driver.find_element_by_xpath('//*[@id=\"dvz-table-global-vaccination\"]/div[2]/div[2]/button')\n",
    "sel_more2.click()"
   ]
  },
  {
   "cell_type": "markdown",
   "metadata": {},
   "source": [
    "### TABLE 선택 후, 데이터 가져오기"
   ]
  },
  {
   "cell_type": "markdown",
   "metadata": {},
   "source": [
    "#### Countries and regions \n",
    " * //*[@id=\"dvz-table-global-vaccination\"]/div[2]/div[1]/table/tbody/tr[1]/td[1]\n",
    " * ..\n",
    " * //*[@id=\"dvz-table-global-vaccination\"]/div[2]/div[1]/table/tbody/tr[3]/td[1]\n",
    " \n",
    "#### Doses administered\n",
    " * //*[@id=\"dvz-table-global-vaccination\"]/div[2]/div[1]/table/tbody/tr[1]/td[2]\n",
    " \n",
    "#### Enough for % of people\n",
    " * //*[@id=\"dvz-table-global-vaccination\"]/div[2]/div[1]/table/tbody/tr[1]/td[3]\n",
    " \n",
    "#### given 1+ dose\n",
    " * //*[@id=\"dvz-table-global-vaccination\"]/div[2]/div[1]/table/tbody/tr[1]/td[4]\n",
    " \n",
    "#### fully vaccinated\n",
    " * //*[@id=\"dvz-table-global-vaccination\"]/div[2]/div[1]/table/tbody/tr[1]/td[5]\n",
    " \n",
    "#### Daily rate of doses administered\n",
    " * //*[@id=\"dvz-table-global-vaccination\"]/div[2]/div[1]/table/tbody/tr[1]/td[6]\n",
    " "
   ]
  },
  {
   "cell_type": "code",
   "execution_count": 6,
   "metadata": {},
   "outputs": [
    {
     "name": "stdout",
     "output_type": "stream",
     "text": [
      "['Global Total', 'Mainland China', 'EU', 'India', 'U.S.', 'Brazil', 'Germany', 'U.K.', '', '', '', '', '', 'France', 'Turkey', 'Italy', 'Japan', 'Indonesia', 'Mexico', 'Spain', 'Russia', 'Canada', '', '', '', '', '', '', '', '', '', '', '', '', '', 'Poland', 'Argentina', 'Chile', 'South Korea', 'Colombia', 'Pakistan', 'Saudi Arabia', 'Morocco', 'Netherlands', 'UAE', 'Thailand', 'Belgium', 'Philippines', 'Malaysia', 'Israel', 'Hungary', 'Bangladesh', 'Portugal', 'Romania', 'Peru', 'Greece', 'Australia', 'Sweden', 'Czech Republic', 'Austria', 'Switzerland', '', 'Dominican Republic', 'Cuba', 'Cambodia', 'Singapore', 'Denmark', 'Iran', 'Serbia', 'Kazakhstan', 'Uzbekistan', 'Finland', 'Ireland', 'Ukraine', 'Norway', 'Egypt', 'Hong Kong', 'Sri Lanka', 'Uruguay', 'Jordan', 'South Africa', 'Ecuador', 'Azerbaijan', 'Vietnam', 'Slovakia', 'Nigeria', 'Mongolia', 'Qatar', 'Myanmar', 'Taiwan', 'Nepal', 'El Salvador', 'Croatia', 'Bolivia', 'Costa Rica', 'Lithuania', 'Lebanon', 'Tunisia', 'Bahrain', 'Ethiopia', 'Bulgaria', 'Panama', 'Angola', 'Slovenia', 'Oman', 'Venezuela', 'Kenya', 'Zimbabwe', 'New Zealand', 'Ghana', 'Latvia', 'Kuwait', 'Laos', 'Iraq', 'Belarus', 'Uganda', 'Guatemala', 'Albania', 'Estonia', 'Afghanistan', 'Paraguay', 'Cyprus', 'Honduras', 'Ivory Coast', 'Moldova', 'Senegal', 'Mauritius', 'Malta', 'Sudan', 'Luxembourg', 'North Macedonia', 'Rwanda', 'Guinea', 'Maldives', 'Mozambique', 'Malawi', 'Bhutan', 'Iceland', 'Niger', 'Macau', 'Libya', 'Togo', 'Guyana', 'Tajikistan', 'Fiji', 'Georgia', 'Trinidad and Tobago', 'Montenegro', 'Equatorial Guinea', 'Yemen', 'Kosovo', 'Jamaica', 'Timor-Leste', 'Somalia', 'Sierra Leone', 'Suriname', 'Madagascar', 'Mali', 'Mauritania', 'Curaçao', 'Nicaragua', 'Barbados', 'Namibia', 'Botswana', 'Zambia', 'Seychelles', 'Aruba', 'Jersey', 'Belize', 'Isle of Man', 'Cameroon', 'Cape Verde', 'Cayman Islands', 'Liberia', 'Bahamas', 'Comoros', 'Republic of the Congo', 'Guernsey', 'Bermuda', 'Armenia', 'Gibraltar', 'Central African Republic', 'Algeria', 'Brunei', 'Andorra', 'DR Congo', 'Antigua and Barbuda', 'Greenland', 'Gabon', 'Samoa', 'Lesotho', 'St. Lucia', 'Papua New Guinea', 'Faroe Islands', 'South Sudan', 'Micronesia', 'Benin', 'Turks & Caicos', 'San Marino', 'Turkmenistan', 'Saint Kitts and Nevis', 'Gambia', 'Dominica', 'Sint Maarten', 'Monaco', 'Eswatini', 'Grenada', 'Sao Tome and Principe', 'Tonga', 'Djibouti', 'Burkina Faso', 'St. Vincent and the Grenadines', 'Solomon Islands', 'Guinea-Bissau', 'Anguilla', 'Chad', 'Nauru', 'St. Helena', 'Falkland Islands', 'Montserrat', 'Kyrgyzstan', 'Bosnia and Herzegovina']\n",
      "['3,413,651,683', '1,374,162,000', '404,761,739', '379,297,150', '334,151,648', '114,247,771', '81,333,461', '80,646,232', '', '', '', '', '', '60,532,500', '57,775,772', '57,539,308', '57,350,224', '51,295,008', '50,362,218', '46,612,489', '45,000,000', '42,081,022', '', '', '', '', '', '', '', '', '', '', '', '', '', '31,258,249', '24,737,696', '23,695,994', '21,458,001', '21,435,448', '19,883,900', '19,786,145', '19,579,875', '17,794,736', '15,934,124', '12,375,904', '11,837,865', '11,708,029', '11,075,493', '10,921,087', '10,674,912', '10,215,638', '9,625,694', '9,344,093', '9,261,589', '9,228,699', '9,097,969', '9,086,607', '8,935,078', '8,577,511', '7,967,962', '', '7,842,179', '7,275,137', '6,616,277', '6,163,124', '5,988,697', '5,717,914', '5,146,241', '5,069,635', '4,857,947', '4,827,970', '4,707,181', '4,627,652', '4,617,380', '4,560,082', '4,396,625', '4,374,067', '4,274,130', '4,244,779', '4,225,021', '4,222,588', '4,107,950', '4,040,783', '3,836,635', '3,832,459', '3,672,268', '3,396,963', '3,368,042', '3,357,000', '3,232,604', '2,846,177', '2,814,234', '2,694,893', '2,450,127', '2,351,485', '2,140,110', '2,138,025', '2,104,071', '2,036,792', '1,850,490', '1,667,736', '1,565,612', '1,514,846', '1,480,949', '1,446,988', '1,417,100', '1,361,210', '1,270,719', '1,261,677', '1,234,988', '1,120,000', '1,100,013', '1,087,866', '1,068,413', '1,058,084', '1,028,399', '1,021,408', '1,018,922', '934,463', '927,336', '883,863', '822,516', '799,278', '793,281', '751,129', '706,948', '705,852', '677,957', '605,914', '588,315', '578,569', '578,437', '517,333', '508,184', '492,390', '486,126', '473,087', '423,335', '412,135', '393,688', '347,246', '344,466', '322,907', '310,385', '302,388', '302,348', '302,321', '277,042', '268,753', '253,858', '249,983', '244,497', '235,882', '225,380', '197,723', '197,001', '190,301', '171,733', '167,633', '167,500', '166,567', '161,524', '159,042', '158,786', '139,625', '126,979', '126,554', '115,628', '114,186', '110,324', '99,686', '93,652', '92,041', '91,067', '90,880', '90,880', '85,940', '79,854', '78,135', '78,125', '77,543', '75,000', '73,940', '72,255', '65,567', '64,617', '64,448', '64,161', '56,994', '56,322', '52,921', '51,170', '50,941', '48,461', '47,588', '46,108', '45,342', '44,659', '41,993', '41,850', '40,810', '39,938', '39,460', '38,849', '37,402', '34,331', '33,996', '29,270', '26,796', '25,833', '24,737', '23,634', '23,318', '16,460', '14,604', '10,556', '7,091', '4,407', '2,651', '937', '–']\n",
      "['–', '49.1', '45.6', '13.9', '52.2', '27.9', '48.9', '60.4', '', '', '', '', '', '46.7', '34.7', '47.7', '22.7', '9.6', '19.7', '50.1', '15.3', '56.1', '', '', '', '', '', '', '', '', '', '', '', '', '', '41.2', '27.5', '62.0', '20.7', '21.3', '4.9', '29.0', '27.5', '51.6', '74.1', '8.9', '51.7', '5.5', '17.0', '60.3', '54.6', '3.1', '46.8', '24.1', '14.0', '43.0', '17.8', '44.0', '41.9', '48.4', '46.6', '', '37.9', '32.1', '20.1', '54.0', '51.6', '3.4', '36.9', '13.6', '7.3', '43.7', '47.5', '5.5', '43.1', '2.3', '29.2', '10.0', '60.7', '21.1', '4.4', '12.2', '20.6', '2.1', '35.2', '1.0', '55.7', '60.8', '3.2', '7.1', '5.7', '22.0', '34.6', '11.7', '24.1', '42.2', '15.6', '9.1', '70.9', '1.1', '13.3', '19.8', '2.6', '37.6', '17.7', '2.6', '1.5', '4.6', '12.9', '2.1', '32.2', '11.8', '7.7', '1.4', '5.6', '1.3', '2.9', '17.8', '38.4', '1.3', '6.5', '50.4', '4.2', '1.5', '14.8', '2.3', '27.9', '71.4', '0.8', '49.3', '14.1', '2.3', '2.1', '69.5', '0.8', '1.2', '32.6', '66.3', '0.9', '30.3', '3.0', '2.1', '21.9', '1.7', '17.3', '4.1', '10.8', '24.3', '10.2', '0.4', '7.1', '4.6', '9.5', '0.8', '1.4', '16.6', '0.4', '0.5', '2.1', '51.4', '1.3', '29.0', '3.3', '3.3', '0.4', '72.7', '56.7', '–', '14.2', '67.2', '0.2', '9.1', '72.0', '1.0', '12.0', '5.2', '1.0', '–', '63.4', '1.3', '114.9', '0.8', '0.1', '8.0', '46.9', '<0.1', '33.3', '56.5', '1.5', '14.2', '1.4', '14.7', '0.3', '52.0', '0.2', '22.9', '0.2', '59.7', '65.7', '0.4', '36.7', '0.9', '28.1', '47.0', '49.8', '1.7', '15.7', '8.0', '14.6', '1.2', '0.1', '11.2', '1.8', '0.7', '54.9', '<0.1', '40.6', '59.1', '73.5', '26.5', '<0.1', '–']\n",
      "['–', '–', '54.0', '22.2', '55.5', '41.2', '58.3', '68.7', '', '', '', '', '', '55.2', '45.4', '59.3', '28.6', '13.6', '27.5', '59.2', '20.4', '68.8', '', '', '', '', '', '', '', '', '', '', '', '', '', '45.8', '43.9', '68.3', '30.1', '25.5', '7.8', '51.3', '29.1', '63.0', '69.4', '13.1', '65.7', '8.2', '23.5', '63.3', '56.6', '3.6', '57.6', '24.8', '17.0', '48.9', '26.0', '53.5', '49.1', '56.6', '53.0', '', '47.8', '26.8', '23.1', '68.3', '63.1', '4.9', '38.7', '17.0', '8.9', '63.1', '55.3', '8.3', '56.5', '3.6', '34.5', '14.2', '66.9', '25.9', '6.4', '16.5', '24.8', '3.9', '38.7', '1.2', '59.1', '66.2', '3.5', '13.9', '8.8', '26.4', '38.1', '17.0', '32.3', '45.9', '22.6', '12.9', '73.1', '2.1', '14.4', '25.1', '3.2', '41.0', '29.3', '4.4', '2.1', '5.3', '15.6', '2.9', '36.3', '–', '10.0', '1.8', '7.4', '2.2', '4.8', '20.5', '43.9', '2.0', '10.2', '54.7', '7.8', '2.7', '18.1', '3.4', '43.4', '75.2', '1.3', '59.5', '17.4', '2.8', '3.0', '85.4', '1.1', '1.9', '65.1', '74.2', '1.6', '38.4', '6.0', '3.3', '29.8', '3.3', '30.4', '4.9', '15.3', '25.4', '11.8', '0.8', '10.5', '6.3', '16.9', '1.0', '1.1', '27.1', '0.7', '0.7', '4.0', '54.5', '2.6', '33.2', '5.3', '6.7', '0.8', '74.5', '60.5', '–', '20.9', '75.5', '0.3', '16.3', '74.6', '1.9', '15.3', '4.9', '0.9', '–', '65.5', '2.2', '115.5', '–', '–', '13.3', '58.4', '0.1', '38.2', '84.2', '2.0', '25.2', '1.8', '17.2', '0.6', '62.0', '0.3', '27.0', '0.3', '62.8', '68.7', '0.6', '40.2', '1.3', '28.7', '51.5', '52.9', '3.4', '18.4', '10.5', '28.7', '1.9', '0.1', '–', '3.0', '1.2', '62.0', '0.1', '57.7', '59.4', '87.7', '28.4', '<0.1', '–']\n"
     ]
    },
    {
     "name": "stdout",
     "output_type": "stream",
     "text": [
      "['–', '–', '39.5', '5.3', '48.0', '14.5', '42.1', '52.0', '', '', '', '', '', '42.2', '20.7', '39.1', '16.9', '5.6', '16.2', '45.2', '10.2', '36.4', '', '', '', '', '', '', '', '', '', '', '', '', '', '39.3', '11.2', '58.1', '11.4', '16.5', '1.9', '6.7', '25.9', '37.9', '60.4', '4.7', '40.1', '2.7', '10.5', '57.4', '52.6', '2.6', '36.2', '24.0', '10.9', '39.7', '–', '34.5', '35.8', '41.8', '40.3', '', '27.9', '–', '17.1', '39.8', '40.1', '2.0', '35.2', '10.2', '–', '24.4', '42.5', '2.8', '29.7', '1.0', '24.0', '–', '54.5', '16.2', '2.3', '8.0', '16.4', '0.3', '31.7', '–', '52.3', '55.4', '2.3', '0.3', '2.6', '17.7', '31.1', '6.3', '16.0', '40.7', '14.7', '5.3', '68.7', '–', '12.4', '14.4', '2.0', '35.8', '6.0', '0.8', '–', '3.8', '10.2', '–', '31.9', '–', '5.4', '1.0', '3.9', '<0.1', '1.1', '15.1', '36.9', '0.5', '2.4', '46.2', '–', '0.3', '11.5', '1.2', '–', '70.8', '–', '41.5', '10.9', '1.8', '1.3', '53.7', '–', '–', '–', '67.1', '–', '22.4', '–', '–', '14.1', '–', '–', '3.2', '–', '23.1', '8.6', '–', '3.6', '–', '–', '–', '–', '–', '–', '–', '0.2', '48.3', '–', '24.8', '1.2', '–', '0.1', '71.0', '52.9', '–', '–', '58.9', '–', '–', '69.5', '–', '–', '–', '–', '–', '16.4', '0.4', '114.3', '–', '–', '2.8', '37.9', '–', '–', '28.9', '1.1', '–', '–', '12.2', '–', '41.9', '–', '–', '–', '56.6', '66.1', '0.2', '–', '–', '27.5', '42.4', '46.7', '–', '13.1', '–', '–', '–', '–', '–', '–', '–', '18.9', '<0.1', '23.5', '58.8', '59.2', '24.7', '–', '–']\n",
      "['31,963,811', '11,160,714', '3,628,874', '4,010,835', '506,771', '1,356,589', '750,689', '250,969', '', '', '', '', '', '566,156', '736,635', '400,450', '2,027,344', '750,243', '488,101', '828,465', '700,000', '504,808', '', '', '', '', '', '', '', '', '', '', '', '', '', '207,111', '365,395', '95,513', '112,979', '331,388', '356,222', '197,280', '49,977', '171,109', '57,131', '300,702', '134,477', '234,659', '324,970', '15,479', '54,158', '7,228', '158,734', '117,469', '198,108', '83,850', '128,086', '129,519', '62,064', '75,991', '69,500', '', '51,376', '100,354', '115,231', '76,487', '71,459', '93,659', '37,744', '42,759', '110,601', '45,165', '61,290', '126,478', '61,054', '34,352', '62,133', '97,254', '30,502', '46,100', '144,933', '60,704', '45,027', '24,768', '29,206', '62,141', '12,137', '21,100', '8,292', '170,617', '11,312', '37,094', '21,415', '46,557', '17,014', '10,008', '34,395', '27,942', '5,140', '6,742', '8,798', '17,296', '5,975', '24,456', '108,679', '20,571', '19,616', '19,530', '17,302', '2,057', '8,108', '40,000', '14,720', '127,106', '20,498', '9,234', '8,524', '5,198', '6,152', '8,877', '19,653', '7,282', '26,370', '9,697', '7,566', '12,329', '36,028', '3,303', '3,267', '6,743', '10,214', '4,576', '6,025', '1,586', '6,346', '168', '216', '11,184', '15,250', '6,311', '1,786', '9,527', '1,339', '12,407', '7,558', '4,850', '8,396', '1,212', '1,895', '2,481', '6,853', '3,976', '2,247', '1,779', '9,148', '1,877', '178', '970', '1,447', '298', '82', '787', '1,600', '313', '482', '130', '257', '453', '1,374', '695', '1,981', '2,462', '576', '1,404', '1,689', '241', '1,781', '575', '206', '2,822', '7', '3,878', '6,248', '1,328', '560', '875', '123', '1,741', '1,242', '883', '419', '153', '591', '581', '506', '306', '2,799', '517', '1', '–', '884', '1,458', '90', '167', '140', '36', '405', '859', '26', '247', '620', '110', '361', '62', '96', '686', '205', '120', '202', '2', '21', '–']\n"
     ]
    }
   ],
   "source": [
    "all_data = []\n",
    "\n",
    "for i in range(1, 7, 1):\n",
    "    data_col = []\n",
    "    xpath = '//*[@id=\"dvz-table-global-vaccination\"]/div[2]/div[1]/table/tbody/tr/td[%s]' % str(i) \n",
    "    sel_data = driver.find_elements_by_xpath(xpath)\n",
    "    \n",
    "    for dat in sel_data:\n",
    "        #print(dat)\n",
    "        data_col.append(dat.text)\n",
    "    print(data_col)\n",
    "    all_data.append(data_col)"
   ]
  },
  {
   "cell_type": "code",
   "execution_count": 7,
   "metadata": {},
   "outputs": [],
   "source": [
    "import pandas as pd"
   ]
  },
  {
   "cell_type": "code",
   "execution_count": 8,
   "metadata": {
    "scrolled": false
   },
   "outputs": [
    {
     "data": {
      "text/html": [
       "<div>\n",
       "<style scoped>\n",
       "    .dataframe tbody tr th:only-of-type {\n",
       "        vertical-align: middle;\n",
       "    }\n",
       "\n",
       "    .dataframe tbody tr th {\n",
       "        vertical-align: top;\n",
       "    }\n",
       "\n",
       "    .dataframe thead th {\n",
       "        text-align: right;\n",
       "    }\n",
       "</style>\n",
       "<table border=\"1\" class=\"dataframe\">\n",
       "  <thead>\n",
       "    <tr style=\"text-align: right;\">\n",
       "      <th></th>\n",
       "      <th>country</th>\n",
       "      <th>Doses_administered</th>\n",
       "      <th>percent_of_people:</th>\n",
       "      <th>1_per</th>\n",
       "      <th>2_per</th>\n",
       "      <th>Daily_rate_of_doses_administered</th>\n",
       "    </tr>\n",
       "  </thead>\n",
       "  <tbody>\n",
       "    <tr>\n",
       "      <th>0</th>\n",
       "      <td>Global Total</td>\n",
       "      <td>3,413,651,683</td>\n",
       "      <td>–</td>\n",
       "      <td>–</td>\n",
       "      <td>–</td>\n",
       "      <td>31,963,811</td>\n",
       "    </tr>\n",
       "    <tr>\n",
       "      <th>1</th>\n",
       "      <td>Mainland China</td>\n",
       "      <td>1,374,162,000</td>\n",
       "      <td>49.1</td>\n",
       "      <td>–</td>\n",
       "      <td>–</td>\n",
       "      <td>11,160,714</td>\n",
       "    </tr>\n",
       "    <tr>\n",
       "      <th>2</th>\n",
       "      <td>EU</td>\n",
       "      <td>404,761,739</td>\n",
       "      <td>45.6</td>\n",
       "      <td>54.0</td>\n",
       "      <td>39.5</td>\n",
       "      <td>3,628,874</td>\n",
       "    </tr>\n",
       "    <tr>\n",
       "      <th>3</th>\n",
       "      <td>India</td>\n",
       "      <td>379,297,150</td>\n",
       "      <td>13.9</td>\n",
       "      <td>22.2</td>\n",
       "      <td>5.3</td>\n",
       "      <td>4,010,835</td>\n",
       "    </tr>\n",
       "    <tr>\n",
       "      <th>4</th>\n",
       "      <td>U.S.</td>\n",
       "      <td>334,151,648</td>\n",
       "      <td>52.2</td>\n",
       "      <td>55.5</td>\n",
       "      <td>48.0</td>\n",
       "      <td>506,771</td>\n",
       "    </tr>\n",
       "    <tr>\n",
       "      <th>...</th>\n",
       "      <td>...</td>\n",
       "      <td>...</td>\n",
       "      <td>...</td>\n",
       "      <td>...</td>\n",
       "      <td>...</td>\n",
       "      <td>...</td>\n",
       "    </tr>\n",
       "    <tr>\n",
       "      <th>217</th>\n",
       "      <td>St. Helena</td>\n",
       "      <td>7,091</td>\n",
       "      <td>59.1</td>\n",
       "      <td>59.4</td>\n",
       "      <td>58.8</td>\n",
       "      <td>120</td>\n",
       "    </tr>\n",
       "    <tr>\n",
       "      <th>218</th>\n",
       "      <td>Falkland Islands</td>\n",
       "      <td>4,407</td>\n",
       "      <td>73.5</td>\n",
       "      <td>87.7</td>\n",
       "      <td>59.2</td>\n",
       "      <td>202</td>\n",
       "    </tr>\n",
       "    <tr>\n",
       "      <th>219</th>\n",
       "      <td>Montserrat</td>\n",
       "      <td>2,651</td>\n",
       "      <td>26.5</td>\n",
       "      <td>28.4</td>\n",
       "      <td>24.7</td>\n",
       "      <td>2</td>\n",
       "    </tr>\n",
       "    <tr>\n",
       "      <th>220</th>\n",
       "      <td>Kyrgyzstan</td>\n",
       "      <td>937</td>\n",
       "      <td>&lt;0.1</td>\n",
       "      <td>&lt;0.1</td>\n",
       "      <td>–</td>\n",
       "      <td>21</td>\n",
       "    </tr>\n",
       "    <tr>\n",
       "      <th>221</th>\n",
       "      <td>Bosnia and Herzegovina</td>\n",
       "      <td>–</td>\n",
       "      <td>–</td>\n",
       "      <td>–</td>\n",
       "      <td>–</td>\n",
       "      <td>–</td>\n",
       "    </tr>\n",
       "  </tbody>\n",
       "</table>\n",
       "<p>222 rows × 6 columns</p>\n",
       "</div>"
      ],
      "text/plain": [
       "                    country Doses_administered percent_of_people: 1_per 2_per  \\\n",
       "0              Global Total      3,413,651,683                  –     –     –   \n",
       "1            Mainland China      1,374,162,000               49.1     –     –   \n",
       "2                        EU        404,761,739               45.6  54.0  39.5   \n",
       "3                     India        379,297,150               13.9  22.2   5.3   \n",
       "4                      U.S.        334,151,648               52.2  55.5  48.0   \n",
       "..                      ...                ...                ...   ...   ...   \n",
       "217              St. Helena              7,091               59.1  59.4  58.8   \n",
       "218        Falkland Islands              4,407               73.5  87.7  59.2   \n",
       "219              Montserrat              2,651               26.5  28.4  24.7   \n",
       "220              Kyrgyzstan                937               <0.1  <0.1     –   \n",
       "221  Bosnia and Herzegovina                  –                  –     –     –   \n",
       "\n",
       "    Daily_rate_of_doses_administered  \n",
       "0                         31,963,811  \n",
       "1                         11,160,714  \n",
       "2                          3,628,874  \n",
       "3                          4,010,835  \n",
       "4                            506,771  \n",
       "..                               ...  \n",
       "217                              120  \n",
       "218                              202  \n",
       "219                                2  \n",
       "220                               21  \n",
       "221                                –  \n",
       "\n",
       "[222 rows x 6 columns]"
      ]
     },
     "execution_count": 8,
     "metadata": {},
     "output_type": "execute_result"
    }
   ],
   "source": [
    "pd.set_option(\"display.max_rows\", 40)\n",
    "\n",
    "dat_dict = {'country':all_data[0],\n",
    "            'Doses_administered':all_data[1],\n",
    "            'percent_of_people:':all_data[2],\n",
    "            '1_per':all_data[3],\n",
    "            '2_per':all_data[4],\n",
    "            'Daily_rate_of_doses_administered':all_data[5]\n",
    "           }\n",
    "\n",
    "dat_df = pd.DataFrame(dat_dict)\n",
    "dat_df"
   ]
  },
  {
   "cell_type": "code",
   "execution_count": 9,
   "metadata": {},
   "outputs": [
    {
     "name": "stdout",
     "output_type": "stream",
     "text": [
      "<class 'pandas.core.frame.DataFrame'>\n",
      "RangeIndex: 222 entries, 0 to 221\n",
      "Data columns (total 6 columns):\n",
      " #   Column                            Non-Null Count  Dtype \n",
      "---  ------                            --------------  ----- \n",
      " 0   country                           222 non-null    object\n",
      " 1   Doses_administered                222 non-null    object\n",
      " 2   percent_of_people:                222 non-null    object\n",
      " 3   1_per                             222 non-null    object\n",
      " 4   2_per                             222 non-null    object\n",
      " 5   Daily_rate_of_doses_administered  222 non-null    object\n",
      "dtypes: object(6)\n",
      "memory usage: 10.5+ KB\n"
     ]
    }
   ],
   "source": [
    "dat_df.info()"
   ]
  },
  {
   "cell_type": "markdown",
   "metadata": {},
   "source": [
    "### 데이터 전처리"
   ]
  },
  {
   "cell_type": "code",
   "execution_count": 10,
   "metadata": {},
   "outputs": [
    {
     "data": {
      "text/plain": [
       "0      12\n",
       "1      14\n",
       "2       2\n",
       "3       5\n",
       "4       4\n",
       "       ..\n",
       "217    10\n",
       "218    16\n",
       "219    10\n",
       "220    10\n",
       "221    22\n",
       "Name: country, Length: 222, dtype: int64"
      ]
     },
     "execution_count": 10,
     "metadata": {},
     "output_type": "execute_result"
    }
   ],
   "source": [
    "### 공백행을 삭제\n",
    "dat_df['country'].str.len()"
   ]
  },
  {
   "cell_type": "code",
   "execution_count": 11,
   "metadata": {},
   "outputs": [
    {
     "data": {
      "text/html": [
       "<div>\n",
       "<style scoped>\n",
       "    .dataframe tbody tr th:only-of-type {\n",
       "        vertical-align: middle;\n",
       "    }\n",
       "\n",
       "    .dataframe tbody tr th {\n",
       "        vertical-align: top;\n",
       "    }\n",
       "\n",
       "    .dataframe thead th {\n",
       "        text-align: right;\n",
       "    }\n",
       "</style>\n",
       "<table border=\"1\" class=\"dataframe\">\n",
       "  <thead>\n",
       "    <tr style=\"text-align: right;\">\n",
       "      <th></th>\n",
       "      <th>country</th>\n",
       "      <th>Doses_administered</th>\n",
       "      <th>percent_of_people:</th>\n",
       "      <th>1_per</th>\n",
       "      <th>2_per</th>\n",
       "      <th>Daily_rate_of_doses_administered</th>\n",
       "    </tr>\n",
       "  </thead>\n",
       "  <tbody>\n",
       "    <tr>\n",
       "      <th>8</th>\n",
       "      <td></td>\n",
       "      <td></td>\n",
       "      <td></td>\n",
       "      <td></td>\n",
       "      <td></td>\n",
       "      <td></td>\n",
       "    </tr>\n",
       "    <tr>\n",
       "      <th>9</th>\n",
       "      <td></td>\n",
       "      <td></td>\n",
       "      <td></td>\n",
       "      <td></td>\n",
       "      <td></td>\n",
       "      <td></td>\n",
       "    </tr>\n",
       "    <tr>\n",
       "      <th>10</th>\n",
       "      <td></td>\n",
       "      <td></td>\n",
       "      <td></td>\n",
       "      <td></td>\n",
       "      <td></td>\n",
       "      <td></td>\n",
       "    </tr>\n",
       "    <tr>\n",
       "      <th>11</th>\n",
       "      <td></td>\n",
       "      <td></td>\n",
       "      <td></td>\n",
       "      <td></td>\n",
       "      <td></td>\n",
       "      <td></td>\n",
       "    </tr>\n",
       "    <tr>\n",
       "      <th>12</th>\n",
       "      <td></td>\n",
       "      <td></td>\n",
       "      <td></td>\n",
       "      <td></td>\n",
       "      <td></td>\n",
       "      <td></td>\n",
       "    </tr>\n",
       "    <tr>\n",
       "      <th>22</th>\n",
       "      <td></td>\n",
       "      <td></td>\n",
       "      <td></td>\n",
       "      <td></td>\n",
       "      <td></td>\n",
       "      <td></td>\n",
       "    </tr>\n",
       "    <tr>\n",
       "      <th>23</th>\n",
       "      <td></td>\n",
       "      <td></td>\n",
       "      <td></td>\n",
       "      <td></td>\n",
       "      <td></td>\n",
       "      <td></td>\n",
       "    </tr>\n",
       "    <tr>\n",
       "      <th>24</th>\n",
       "      <td></td>\n",
       "      <td></td>\n",
       "      <td></td>\n",
       "      <td></td>\n",
       "      <td></td>\n",
       "      <td></td>\n",
       "    </tr>\n",
       "    <tr>\n",
       "      <th>25</th>\n",
       "      <td></td>\n",
       "      <td></td>\n",
       "      <td></td>\n",
       "      <td></td>\n",
       "      <td></td>\n",
       "      <td></td>\n",
       "    </tr>\n",
       "    <tr>\n",
       "      <th>26</th>\n",
       "      <td></td>\n",
       "      <td></td>\n",
       "      <td></td>\n",
       "      <td></td>\n",
       "      <td></td>\n",
       "      <td></td>\n",
       "    </tr>\n",
       "    <tr>\n",
       "      <th>27</th>\n",
       "      <td></td>\n",
       "      <td></td>\n",
       "      <td></td>\n",
       "      <td></td>\n",
       "      <td></td>\n",
       "      <td></td>\n",
       "    </tr>\n",
       "    <tr>\n",
       "      <th>28</th>\n",
       "      <td></td>\n",
       "      <td></td>\n",
       "      <td></td>\n",
       "      <td></td>\n",
       "      <td></td>\n",
       "      <td></td>\n",
       "    </tr>\n",
       "    <tr>\n",
       "      <th>29</th>\n",
       "      <td></td>\n",
       "      <td></td>\n",
       "      <td></td>\n",
       "      <td></td>\n",
       "      <td></td>\n",
       "      <td></td>\n",
       "    </tr>\n",
       "    <tr>\n",
       "      <th>30</th>\n",
       "      <td></td>\n",
       "      <td></td>\n",
       "      <td></td>\n",
       "      <td></td>\n",
       "      <td></td>\n",
       "      <td></td>\n",
       "    </tr>\n",
       "    <tr>\n",
       "      <th>31</th>\n",
       "      <td></td>\n",
       "      <td></td>\n",
       "      <td></td>\n",
       "      <td></td>\n",
       "      <td></td>\n",
       "      <td></td>\n",
       "    </tr>\n",
       "    <tr>\n",
       "      <th>32</th>\n",
       "      <td></td>\n",
       "      <td></td>\n",
       "      <td></td>\n",
       "      <td></td>\n",
       "      <td></td>\n",
       "      <td></td>\n",
       "    </tr>\n",
       "    <tr>\n",
       "      <th>33</th>\n",
       "      <td></td>\n",
       "      <td></td>\n",
       "      <td></td>\n",
       "      <td></td>\n",
       "      <td></td>\n",
       "      <td></td>\n",
       "    </tr>\n",
       "    <tr>\n",
       "      <th>34</th>\n",
       "      <td></td>\n",
       "      <td></td>\n",
       "      <td></td>\n",
       "      <td></td>\n",
       "      <td></td>\n",
       "      <td></td>\n",
       "    </tr>\n",
       "    <tr>\n",
       "      <th>61</th>\n",
       "      <td></td>\n",
       "      <td></td>\n",
       "      <td></td>\n",
       "      <td></td>\n",
       "      <td></td>\n",
       "      <td></td>\n",
       "    </tr>\n",
       "  </tbody>\n",
       "</table>\n",
       "</div>"
      ],
      "text/plain": [
       "   country Doses_administered percent_of_people: 1_per 2_per  \\\n",
       "8                                                              \n",
       "9                                                              \n",
       "10                                                             \n",
       "11                                                             \n",
       "12                                                             \n",
       "22                                                             \n",
       "23                                                             \n",
       "24                                                             \n",
       "25                                                             \n",
       "26                                                             \n",
       "27                                                             \n",
       "28                                                             \n",
       "29                                                             \n",
       "30                                                             \n",
       "31                                                             \n",
       "32                                                             \n",
       "33                                                             \n",
       "34                                                             \n",
       "61                                                             \n",
       "\n",
       "   Daily_rate_of_doses_administered  \n",
       "8                                    \n",
       "9                                    \n",
       "10                                   \n",
       "11                                   \n",
       "12                                   \n",
       "22                                   \n",
       "23                                   \n",
       "24                                   \n",
       "25                                   \n",
       "26                                   \n",
       "27                                   \n",
       "28                                   \n",
       "29                                   \n",
       "30                                   \n",
       "31                                   \n",
       "32                                   \n",
       "33                                   \n",
       "34                                   \n",
       "61                                   "
      ]
     },
     "execution_count": 11,
     "metadata": {},
     "output_type": "execute_result"
    }
   ],
   "source": [
    "dat_df.loc[ dat_df['country'].str.len() <1, : ]"
   ]
  },
  {
   "cell_type": "code",
   "execution_count": 12,
   "metadata": {},
   "outputs": [
    {
     "name": "stdout",
     "output_type": "stream",
     "text": [
      "Int64Index([8, 9, 10, 11, 12, 22, 23, 24, 25, 26, 27, 28, 29, 30, 31, 32, 33,\n",
      "            34, 61],\n",
      "           dtype='int64')\n"
     ]
    }
   ],
   "source": [
    "sel_index = dat_df[ dat_df['country'].str.len() <1 ].index\n",
    "print(sel_index)\n",
    "dat_df.drop (sel_index, axis=0, inplace=True  )"
   ]
  },
  {
   "cell_type": "code",
   "execution_count": 13,
   "metadata": {},
   "outputs": [
    {
     "data": {
      "text/plain": [
       "(203, 6)"
      ]
     },
     "execution_count": 13,
     "metadata": {},
     "output_type": "execute_result"
    }
   ],
   "source": [
    "dat_df = dat_df.reindex()\n",
    "dat_df.shape"
   ]
  },
  {
   "cell_type": "code",
   "execution_count": 14,
   "metadata": {},
   "outputs": [
    {
     "data": {
      "text/html": [
       "<div>\n",
       "<style scoped>\n",
       "    .dataframe tbody tr th:only-of-type {\n",
       "        vertical-align: middle;\n",
       "    }\n",
       "\n",
       "    .dataframe tbody tr th {\n",
       "        vertical-align: top;\n",
       "    }\n",
       "\n",
       "    .dataframe thead th {\n",
       "        text-align: right;\n",
       "    }\n",
       "</style>\n",
       "<table border=\"1\" class=\"dataframe\">\n",
       "  <thead>\n",
       "    <tr style=\"text-align: right;\">\n",
       "      <th></th>\n",
       "      <th>country</th>\n",
       "      <th>Doses_administered</th>\n",
       "      <th>percent_of_people:</th>\n",
       "      <th>1_per</th>\n",
       "      <th>2_per</th>\n",
       "      <th>Daily_rate_of_doses_administered</th>\n",
       "    </tr>\n",
       "  </thead>\n",
       "  <tbody>\n",
       "    <tr>\n",
       "      <th>221</th>\n",
       "      <td>Bosnia and Herzegovina</td>\n",
       "      <td>–</td>\n",
       "      <td>–</td>\n",
       "      <td>–</td>\n",
       "      <td>–</td>\n",
       "      <td>–</td>\n",
       "    </tr>\n",
       "  </tbody>\n",
       "</table>\n",
       "</div>"
      ],
      "text/plain": [
       "                    country Doses_administered percent_of_people: 1_per 2_per  \\\n",
       "221  Bosnia and Herzegovina                  –                  –     –     –   \n",
       "\n",
       "    Daily_rate_of_doses_administered  \n",
       "221                                –  "
      ]
     },
     "execution_count": 14,
     "metadata": {},
     "output_type": "execute_result"
    }
   ],
   "source": [
    "dat_df.loc[dat_df['Doses_administered'] == '–']"
   ]
  },
  {
   "cell_type": "code",
   "execution_count": 15,
   "metadata": {},
   "outputs": [
    {
     "data": {
      "text/html": [
       "<div>\n",
       "<style scoped>\n",
       "    .dataframe tbody tr th:only-of-type {\n",
       "        vertical-align: middle;\n",
       "    }\n",
       "\n",
       "    .dataframe tbody tr th {\n",
       "        vertical-align: top;\n",
       "    }\n",
       "\n",
       "    .dataframe thead th {\n",
       "        text-align: right;\n",
       "    }\n",
       "</style>\n",
       "<table border=\"1\" class=\"dataframe\">\n",
       "  <thead>\n",
       "    <tr style=\"text-align: right;\">\n",
       "      <th></th>\n",
       "      <th>country</th>\n",
       "      <th>Doses_administered</th>\n",
       "      <th>percent_of_people:</th>\n",
       "      <th>1_per</th>\n",
       "      <th>2_per</th>\n",
       "      <th>Daily_rate_of_doses_administered</th>\n",
       "    </tr>\n",
       "  </thead>\n",
       "  <tbody>\n",
       "    <tr>\n",
       "      <th>199</th>\n",
       "      <td>Turkmenistan</td>\n",
       "      <td>41,993</td>\n",
       "      <td>0.4</td>\n",
       "      <td>0.6</td>\n",
       "      <td>0.2</td>\n",
       "      <td>–</td>\n",
       "    </tr>\n",
       "    <tr>\n",
       "      <th>221</th>\n",
       "      <td>Bosnia and Herzegovina</td>\n",
       "      <td>–</td>\n",
       "      <td>–</td>\n",
       "      <td>–</td>\n",
       "      <td>–</td>\n",
       "      <td>–</td>\n",
       "    </tr>\n",
       "  </tbody>\n",
       "</table>\n",
       "</div>"
      ],
      "text/plain": [
       "                    country Doses_administered percent_of_people: 1_per 2_per  \\\n",
       "199            Turkmenistan             41,993                0.4   0.6   0.2   \n",
       "221  Bosnia and Herzegovina                  –                  –     –     –   \n",
       "\n",
       "    Daily_rate_of_doses_administered  \n",
       "199                                –  \n",
       "221                                –  "
      ]
     },
     "execution_count": 15,
     "metadata": {},
     "output_type": "execute_result"
    }
   ],
   "source": [
    "dat_df.loc[dat_df['Daily_rate_of_doses_administered'] == '–']"
   ]
  },
  {
   "cell_type": "code",
   "execution_count": 16,
   "metadata": {},
   "outputs": [
    {
     "data": {
      "text/plain": [
       "Index(['country', 'Doses_administered', 'percent_of_people:', '1_per', '2_per',\n",
       "       'Daily_rate_of_doses_administered'],\n",
       "      dtype='object')"
      ]
     },
     "execution_count": 16,
     "metadata": {},
     "output_type": "execute_result"
    }
   ],
   "source": [
    "dat_df.columns"
   ]
  },
  {
   "cell_type": "code",
   "execution_count": 17,
   "metadata": {},
   "outputs": [
    {
     "name": "stdout",
     "output_type": "stream",
     "text": [
      "col name :  country\n",
      "0\n",
      "\n",
      "\n",
      "col name :  Doses_administered\n",
      "1\n",
      "\n",
      "\n",
      "col name :  percent_of_people:\n",
      "4\n",
      "\n",
      "\n",
      "col name :  1_per\n",
      "9\n",
      "\n",
      "\n",
      "col name :  2_per\n",
      "64\n",
      "\n",
      "\n",
      "col name :  Daily_rate_of_doses_administered\n",
      "2\n",
      "\n",
      "\n"
     ]
    }
   ],
   "source": [
    "col_all = dat_df.columns\n",
    "for one in col_all:\n",
    "    print(\"col name : \", one)\n",
    "    print( dat_df.loc[dat_df[one] == '–', one].count() )\n",
    "    print(\"\\n\")"
   ]
  },
  {
   "cell_type": "markdown",
   "metadata": {},
   "source": [
    "### 결측치를 -999로 처리한다."
   ]
  },
  {
   "cell_type": "code",
   "execution_count": 18,
   "metadata": {},
   "outputs": [
    {
     "name": "stdout",
     "output_type": "stream",
     "text": [
      "col name :  country\n",
      "0\n",
      "\n",
      "\n",
      "col name :  Doses_administered\n",
      "1\n",
      "\n",
      "\n",
      "col name :  percent_of_people:\n",
      "4\n",
      "\n",
      "\n",
      "col name :  1_per\n",
      "9\n",
      "\n",
      "\n",
      "col name :  2_per\n",
      "64\n",
      "\n",
      "\n",
      "col name :  Daily_rate_of_doses_administered\n",
      "2\n",
      "\n",
      "\n"
     ]
    }
   ],
   "source": [
    "col_all = dat_df.columns\n",
    "for one in col_all:\n",
    "    print(\"col name : \", one)\n",
    "    print( dat_df.loc[dat_df[one] == '–', one].count() )\n",
    "    dat_df.loc[dat_df[one] == '–', one] = \"-999\"      # -은 이상치 -999로 치환\n",
    "    dat_df.loc[dat_df[one] == '<0.1', one] = \"0.05\"   # <0.1은 0.05로 치환\n",
    "    \n",
    "    print(\"\\n\")"
   ]
  },
  {
   "cell_type": "markdown",
   "metadata": {},
   "source": [
    "### 확인"
   ]
  },
  {
   "cell_type": "code",
   "execution_count": 19,
   "metadata": {},
   "outputs": [
    {
     "name": "stdout",
     "output_type": "stream",
     "text": [
      "col name :  country\n",
      "0\n",
      "col name :  Doses_administered\n",
      "0\n",
      "col name :  percent_of_people:\n",
      "0\n",
      "col name :  1_per\n",
      "0\n",
      "col name :  2_per\n",
      "0\n",
      "col name :  Daily_rate_of_doses_administered\n",
      "0\n"
     ]
    }
   ],
   "source": [
    "col_all = dat_df.columns\n",
    "for one in col_all:\n",
    "    print(\"col name : \", one)\n",
    "    print( dat_df.loc[dat_df[one] == '–', one].count() )"
   ]
  },
  {
   "cell_type": "markdown",
   "metadata": {},
   "source": [
    "### ','을 처리"
   ]
  },
  {
   "cell_type": "code",
   "execution_count": 20,
   "metadata": {},
   "outputs": [],
   "source": [
    "dat_df['Doses_administered'] = dat_df['Doses_administered'].str.replace(',', '')\n",
    "dat_df['Daily_rate_of_doses_administered'] = dat_df['Daily_rate_of_doses_administered'].str.replace(',', '')"
   ]
  },
  {
   "cell_type": "code",
   "execution_count": 21,
   "metadata": {},
   "outputs": [
    {
     "data": {
      "text/html": [
       "<div>\n",
       "<style scoped>\n",
       "    .dataframe tbody tr th:only-of-type {\n",
       "        vertical-align: middle;\n",
       "    }\n",
       "\n",
       "    .dataframe tbody tr th {\n",
       "        vertical-align: top;\n",
       "    }\n",
       "\n",
       "    .dataframe thead th {\n",
       "        text-align: right;\n",
       "    }\n",
       "</style>\n",
       "<table border=\"1\" class=\"dataframe\">\n",
       "  <thead>\n",
       "    <tr style=\"text-align: right;\">\n",
       "      <th></th>\n",
       "      <th>country</th>\n",
       "      <th>Doses_administered</th>\n",
       "      <th>percent_of_people:</th>\n",
       "      <th>1_per</th>\n",
       "      <th>2_per</th>\n",
       "      <th>Daily_rate_of_doses_administered</th>\n",
       "    </tr>\n",
       "  </thead>\n",
       "  <tbody>\n",
       "    <tr>\n",
       "      <th>0</th>\n",
       "      <td>Global Total</td>\n",
       "      <td>3413651683</td>\n",
       "      <td>-999</td>\n",
       "      <td>-999</td>\n",
       "      <td>-999</td>\n",
       "      <td>31963811</td>\n",
       "    </tr>\n",
       "    <tr>\n",
       "      <th>1</th>\n",
       "      <td>Mainland China</td>\n",
       "      <td>1374162000</td>\n",
       "      <td>49.1</td>\n",
       "      <td>-999</td>\n",
       "      <td>-999</td>\n",
       "      <td>11160714</td>\n",
       "    </tr>\n",
       "    <tr>\n",
       "      <th>2</th>\n",
       "      <td>EU</td>\n",
       "      <td>404761739</td>\n",
       "      <td>45.6</td>\n",
       "      <td>54.0</td>\n",
       "      <td>39.5</td>\n",
       "      <td>3628874</td>\n",
       "    </tr>\n",
       "    <tr>\n",
       "      <th>3</th>\n",
       "      <td>India</td>\n",
       "      <td>379297150</td>\n",
       "      <td>13.9</td>\n",
       "      <td>22.2</td>\n",
       "      <td>5.3</td>\n",
       "      <td>4010835</td>\n",
       "    </tr>\n",
       "    <tr>\n",
       "      <th>4</th>\n",
       "      <td>U.S.</td>\n",
       "      <td>334151648</td>\n",
       "      <td>52.2</td>\n",
       "      <td>55.5</td>\n",
       "      <td>48.0</td>\n",
       "      <td>506771</td>\n",
       "    </tr>\n",
       "    <tr>\n",
       "      <th>5</th>\n",
       "      <td>Brazil</td>\n",
       "      <td>114247771</td>\n",
       "      <td>27.9</td>\n",
       "      <td>41.2</td>\n",
       "      <td>14.5</td>\n",
       "      <td>1356589</td>\n",
       "    </tr>\n",
       "    <tr>\n",
       "      <th>6</th>\n",
       "      <td>Germany</td>\n",
       "      <td>81333461</td>\n",
       "      <td>48.9</td>\n",
       "      <td>58.3</td>\n",
       "      <td>42.1</td>\n",
       "      <td>750689</td>\n",
       "    </tr>\n",
       "    <tr>\n",
       "      <th>7</th>\n",
       "      <td>U.K.</td>\n",
       "      <td>80646232</td>\n",
       "      <td>60.4</td>\n",
       "      <td>68.7</td>\n",
       "      <td>52.0</td>\n",
       "      <td>250969</td>\n",
       "    </tr>\n",
       "    <tr>\n",
       "      <th>13</th>\n",
       "      <td>France</td>\n",
       "      <td>60532500</td>\n",
       "      <td>46.7</td>\n",
       "      <td>55.2</td>\n",
       "      <td>42.2</td>\n",
       "      <td>566156</td>\n",
       "    </tr>\n",
       "    <tr>\n",
       "      <th>14</th>\n",
       "      <td>Turkey</td>\n",
       "      <td>57775772</td>\n",
       "      <td>34.7</td>\n",
       "      <td>45.4</td>\n",
       "      <td>20.7</td>\n",
       "      <td>736635</td>\n",
       "    </tr>\n",
       "  </tbody>\n",
       "</table>\n",
       "</div>"
      ],
      "text/plain": [
       "           country Doses_administered percent_of_people: 1_per 2_per  \\\n",
       "0     Global Total         3413651683               -999  -999  -999   \n",
       "1   Mainland China         1374162000               49.1  -999  -999   \n",
       "2               EU          404761739               45.6  54.0  39.5   \n",
       "3            India          379297150               13.9  22.2   5.3   \n",
       "4             U.S.          334151648               52.2  55.5  48.0   \n",
       "5           Brazil          114247771               27.9  41.2  14.5   \n",
       "6          Germany           81333461               48.9  58.3  42.1   \n",
       "7             U.K.           80646232               60.4  68.7  52.0   \n",
       "13          France           60532500               46.7  55.2  42.2   \n",
       "14          Turkey           57775772               34.7  45.4  20.7   \n",
       "\n",
       "   Daily_rate_of_doses_administered  \n",
       "0                          31963811  \n",
       "1                          11160714  \n",
       "2                           3628874  \n",
       "3                           4010835  \n",
       "4                            506771  \n",
       "5                           1356589  \n",
       "6                            750689  \n",
       "7                            250969  \n",
       "13                           566156  \n",
       "14                           736635  "
      ]
     },
     "execution_count": 21,
     "metadata": {},
     "output_type": "execute_result"
    }
   ],
   "source": [
    "dat_df.head(10)"
   ]
  },
  {
   "cell_type": "code",
   "execution_count": 22,
   "metadata": {},
   "outputs": [
    {
     "name": "stdout",
     "output_type": "stream",
     "text": [
      "<class 'pandas.core.frame.DataFrame'>\n",
      "Int64Index: 203 entries, 0 to 221\n",
      "Data columns (total 6 columns):\n",
      " #   Column                            Non-Null Count  Dtype \n",
      "---  ------                            --------------  ----- \n",
      " 0   country                           203 non-null    object\n",
      " 1   Doses_administered                203 non-null    object\n",
      " 2   percent_of_people:                203 non-null    object\n",
      " 3   1_per                             203 non-null    object\n",
      " 4   2_per                             203 non-null    object\n",
      " 5   Daily_rate_of_doses_administered  203 non-null    object\n",
      "dtypes: object(6)\n",
      "memory usage: 11.1+ KB\n"
     ]
    }
   ],
   "source": [
    "dat_df.info()"
   ]
  },
  {
   "cell_type": "code",
   "execution_count": 23,
   "metadata": {},
   "outputs": [
    {
     "data": {
      "text/plain": [
       "array(['3413651683', '1374162000', '404761739', '379297150', '334151648',\n",
       "       '114247771', '81333461', '80646232', '60532500', '57775772',\n",
       "       '57539308', '57350224', '51295008', '50362218', '46612489',\n",
       "       '45000000', '42081022', '31258249', '24737696', '23695994',\n",
       "       '21458001', '21435448', '19883900', '19786145', '19579875',\n",
       "       '17794736', '15934124', '12375904', '11837865', '11708029',\n",
       "       '11075493', '10921087', '10674912', '10215638', '9625694',\n",
       "       '9344093', '9261589', '9228699', '9097969', '9086607', '8935078',\n",
       "       '8577511', '7967962', '7842179', '7275137', '6616277', '6163124',\n",
       "       '5988697', '5717914', '5146241', '5069635', '4857947', '4827970',\n",
       "       '4707181', '4627652', '4617380', '4560082', '4396625', '4374067',\n",
       "       '4274130', '4244779', '4225021', '4222588', '4107950', '4040783',\n",
       "       '3836635', '3832459', '3672268', '3396963', '3368042', '3357000',\n",
       "       '3232604', '2846177', '2814234', '2694893', '2450127', '2351485',\n",
       "       '2140110', '2138025', '2104071', '2036792', '1850490', '1667736',\n",
       "       '1565612', '1514846', '1480949', '1446988', '1417100', '1361210',\n",
       "       '1270719', '1261677', '1234988', '1120000', '1100013', '1087866',\n",
       "       '1068413', '1058084', '1028399', '1021408', '1018922', '934463',\n",
       "       '927336', '883863', '822516', '799278', '793281', '751129',\n",
       "       '706948', '705852', '677957', '605914', '588315', '578569',\n",
       "       '578437', '517333', '508184', '492390', '486126', '473087',\n",
       "       '423335', '412135', '393688', '347246', '344466', '322907',\n",
       "       '310385', '302388', '302348', '302321', '277042', '268753',\n",
       "       '253858', '249983', '244497', '235882', '225380', '197723',\n",
       "       '197001', '190301', '171733', '167633', '167500', '166567',\n",
       "       '161524', '159042', '158786', '139625', '126979', '126554',\n",
       "       '115628', '114186', '110324', '99686', '93652', '92041', '91067',\n",
       "       '90880', '85940', '79854', '78135', '78125', '77543', '75000',\n",
       "       '73940', '72255', '65567', '64617', '64448', '64161', '56994',\n",
       "       '56322', '52921', '51170', '50941', '48461', '47588', '46108',\n",
       "       '45342', '44659', '41993', '41850', '40810', '39938', '39460',\n",
       "       '38849', '37402', '34331', '33996', '29270', '26796', '25833',\n",
       "       '24737', '23634', '23318', '16460', '14604', '10556', '7091',\n",
       "       '4407', '2651', '937', '-999'], dtype=object)"
      ]
     },
     "execution_count": 23,
     "metadata": {},
     "output_type": "execute_result"
    }
   ],
   "source": [
    "dat_df.Doses_administered.unique()"
   ]
  },
  {
   "cell_type": "code",
   "execution_count": 24,
   "metadata": {},
   "outputs": [
    {
     "data": {
      "text/plain": [
       "country                             0\n",
       "Doses_administered                  0\n",
       "percent_of_people:                  0\n",
       "1_per                               0\n",
       "2_per                               0\n",
       "Daily_rate_of_doses_administered    0\n",
       "dtype: int64"
      ]
     },
     "execution_count": 24,
     "metadata": {},
     "output_type": "execute_result"
    }
   ],
   "source": [
    "dat_df.isnull().sum()"
   ]
  },
  {
   "cell_type": "code",
   "execution_count": 25,
   "metadata": {},
   "outputs": [
    {
     "data": {
      "text/plain": [
       "array(['3413651683', '1374162000', '404761739', '379297150', '334151648',\n",
       "       '114247771', '81333461', '80646232', '60532500', '57775772',\n",
       "       '57539308', '57350224', '51295008', '50362218', '46612489',\n",
       "       '45000000', '42081022', '31258249', '24737696', '23695994',\n",
       "       '21458001', '21435448', '19883900', '19786145', '19579875',\n",
       "       '17794736', '15934124', '12375904', '11837865', '11708029',\n",
       "       '11075493', '10921087', '10674912', '10215638', '9625694',\n",
       "       '9344093', '9261589', '9228699', '9097969', '9086607', '8935078',\n",
       "       '8577511', '7967962', '7842179', '7275137', '6616277', '6163124',\n",
       "       '5988697', '5717914', '5146241', '5069635', '4857947', '4827970',\n",
       "       '4707181', '4627652', '4617380', '4560082', '4396625', '4374067',\n",
       "       '4274130', '4244779', '4225021', '4222588', '4107950', '4040783',\n",
       "       '3836635', '3832459', '3672268', '3396963', '3368042', '3357000',\n",
       "       '3232604', '2846177', '2814234', '2694893', '2450127', '2351485',\n",
       "       '2140110', '2138025', '2104071', '2036792', '1850490', '1667736',\n",
       "       '1565612', '1514846', '1480949', '1446988', '1417100', '1361210',\n",
       "       '1270719', '1261677', '1234988', '1120000', '1100013', '1087866',\n",
       "       '1068413', '1058084', '1028399', '1021408', '1018922', '934463',\n",
       "       '927336', '883863', '822516', '799278', '793281', '751129',\n",
       "       '706948', '705852', '677957', '605914', '588315', '578569',\n",
       "       '578437', '517333', '508184', '492390', '486126', '473087',\n",
       "       '423335', '412135', '393688', '347246', '344466', '322907',\n",
       "       '310385', '302388', '302348', '302321', '277042', '268753',\n",
       "       '253858', '249983', '244497', '235882', '225380', '197723',\n",
       "       '197001', '190301', '171733', '167633', '167500', '166567',\n",
       "       '161524', '159042', '158786', '139625', '126979', '126554',\n",
       "       '115628', '114186', '110324', '99686', '93652', '92041', '91067',\n",
       "       '90880', '85940', '79854', '78135', '78125', '77543', '75000',\n",
       "       '73940', '72255', '65567', '64617', '64448', '64161', '56994',\n",
       "       '56322', '52921', '51170', '50941', '48461', '47588', '46108',\n",
       "       '45342', '44659', '41993', '41850', '40810', '39938', '39460',\n",
       "       '38849', '37402', '34331', '33996', '29270', '26796', '25833',\n",
       "       '24737', '23634', '23318', '16460', '14604', '10556', '7091',\n",
       "       '4407', '2651', '937', '-999'], dtype=object)"
      ]
     },
     "execution_count": 25,
     "metadata": {},
     "output_type": "execute_result"
    }
   ],
   "source": [
    "dat_df['Doses_administered'].unique()"
   ]
  },
  {
   "cell_type": "code",
   "execution_count": 26,
   "metadata": {},
   "outputs": [
    {
     "data": {
      "text/plain": [
       "0     3413651683\n",
       "1     1374162000\n",
       "2      404761739\n",
       "3      379297150\n",
       "4      334151648\n",
       "5      114247771\n",
       "6       81333461\n",
       "7       80646232\n",
       "13      60532500\n",
       "14      57775772\n",
       "15      57539308\n",
       "16      57350224\n",
       "17      51295008\n",
       "18      50362218\n",
       "19      46612489\n",
       "20      45000000\n",
       "21      42081022\n",
       "35      31258249\n",
       "36      24737696\n",
       "37      23695994\n",
       "38      21458001\n",
       "39      21435448\n",
       "40      19883900\n",
       "41      19786145\n",
       "42      19579875\n",
       "43      17794736\n",
       "44      15934124\n",
       "45      12375904\n",
       "46      11837865\n",
       "47      11708029\n",
       "Name: Doses_administered, dtype: object"
      ]
     },
     "execution_count": 26,
     "metadata": {},
     "output_type": "execute_result"
    }
   ],
   "source": [
    "dat_df['Doses_administered'].head(30)"
   ]
  },
  {
   "cell_type": "code",
   "execution_count": 27,
   "metadata": {},
   "outputs": [
    {
     "data": {
      "text/html": [
       "<div>\n",
       "<style scoped>\n",
       "    .dataframe tbody tr th:only-of-type {\n",
       "        vertical-align: middle;\n",
       "    }\n",
       "\n",
       "    .dataframe tbody tr th {\n",
       "        vertical-align: top;\n",
       "    }\n",
       "\n",
       "    .dataframe thead th {\n",
       "        text-align: right;\n",
       "    }\n",
       "</style>\n",
       "<table border=\"1\" class=\"dataframe\">\n",
       "  <thead>\n",
       "    <tr style=\"text-align: right;\">\n",
       "      <th></th>\n",
       "      <th>country</th>\n",
       "      <th>Doses_administered</th>\n",
       "      <th>percent_of_people:</th>\n",
       "      <th>1_per</th>\n",
       "      <th>2_per</th>\n",
       "      <th>Daily_rate_of_doses_administered</th>\n",
       "    </tr>\n",
       "  </thead>\n",
       "  <tbody>\n",
       "  </tbody>\n",
       "</table>\n",
       "</div>"
      ],
      "text/plain": [
       "Empty DataFrame\n",
       "Columns: [country, Doses_administered, percent_of_people:, 1_per, 2_per, Daily_rate_of_doses_administered]\n",
       "Index: []"
      ]
     },
     "execution_count": 27,
     "metadata": {},
     "output_type": "execute_result"
    }
   ],
   "source": [
    "dat_df.loc[dat_df['Doses_administered'].isna() , : ] "
   ]
  },
  {
   "cell_type": "code",
   "execution_count": 28,
   "metadata": {},
   "outputs": [
    {
     "data": {
      "text/html": [
       "<div>\n",
       "<style scoped>\n",
       "    .dataframe tbody tr th:only-of-type {\n",
       "        vertical-align: middle;\n",
       "    }\n",
       "\n",
       "    .dataframe tbody tr th {\n",
       "        vertical-align: top;\n",
       "    }\n",
       "\n",
       "    .dataframe thead th {\n",
       "        text-align: right;\n",
       "    }\n",
       "</style>\n",
       "<table border=\"1\" class=\"dataframe\">\n",
       "  <thead>\n",
       "    <tr style=\"text-align: right;\">\n",
       "      <th></th>\n",
       "      <th>country</th>\n",
       "      <th>Doses_administered</th>\n",
       "      <th>percent_of_people:</th>\n",
       "      <th>1_per</th>\n",
       "      <th>2_per</th>\n",
       "      <th>Daily_rate_of_doses_administered</th>\n",
       "    </tr>\n",
       "  </thead>\n",
       "  <tbody>\n",
       "    <tr>\n",
       "      <th>20</th>\n",
       "      <td>Russia</td>\n",
       "      <td>45000000</td>\n",
       "      <td>15.3</td>\n",
       "      <td>20.4</td>\n",
       "      <td>10.2</td>\n",
       "      <td>700000</td>\n",
       "    </tr>\n",
       "    <tr>\n",
       "      <th>21</th>\n",
       "      <td>Canada</td>\n",
       "      <td>42081022</td>\n",
       "      <td>56.1</td>\n",
       "      <td>68.8</td>\n",
       "      <td>36.4</td>\n",
       "      <td>504808</td>\n",
       "    </tr>\n",
       "    <tr>\n",
       "      <th>35</th>\n",
       "      <td>Poland</td>\n",
       "      <td>31258249</td>\n",
       "      <td>41.2</td>\n",
       "      <td>45.8</td>\n",
       "      <td>39.3</td>\n",
       "      <td>207111</td>\n",
       "    </tr>\n",
       "    <tr>\n",
       "      <th>36</th>\n",
       "      <td>Argentina</td>\n",
       "      <td>24737696</td>\n",
       "      <td>27.5</td>\n",
       "      <td>43.9</td>\n",
       "      <td>11.2</td>\n",
       "      <td>365395</td>\n",
       "    </tr>\n",
       "    <tr>\n",
       "      <th>37</th>\n",
       "      <td>Chile</td>\n",
       "      <td>23695994</td>\n",
       "      <td>62.0</td>\n",
       "      <td>68.3</td>\n",
       "      <td>58.1</td>\n",
       "      <td>95513</td>\n",
       "    </tr>\n",
       "    <tr>\n",
       "      <th>38</th>\n",
       "      <td>South Korea</td>\n",
       "      <td>21458001</td>\n",
       "      <td>20.7</td>\n",
       "      <td>30.1</td>\n",
       "      <td>11.4</td>\n",
       "      <td>112979</td>\n",
       "    </tr>\n",
       "    <tr>\n",
       "      <th>39</th>\n",
       "      <td>Colombia</td>\n",
       "      <td>21435448</td>\n",
       "      <td>21.3</td>\n",
       "      <td>25.5</td>\n",
       "      <td>16.5</td>\n",
       "      <td>331388</td>\n",
       "    </tr>\n",
       "    <tr>\n",
       "      <th>40</th>\n",
       "      <td>Pakistan</td>\n",
       "      <td>19883900</td>\n",
       "      <td>4.9</td>\n",
       "      <td>7.8</td>\n",
       "      <td>1.9</td>\n",
       "      <td>356222</td>\n",
       "    </tr>\n",
       "    <tr>\n",
       "      <th>41</th>\n",
       "      <td>Saudi Arabia</td>\n",
       "      <td>19786145</td>\n",
       "      <td>29.0</td>\n",
       "      <td>51.3</td>\n",
       "      <td>6.7</td>\n",
       "      <td>197280</td>\n",
       "    </tr>\n",
       "    <tr>\n",
       "      <th>42</th>\n",
       "      <td>Morocco</td>\n",
       "      <td>19579875</td>\n",
       "      <td>27.5</td>\n",
       "      <td>29.1</td>\n",
       "      <td>25.9</td>\n",
       "      <td>49977</td>\n",
       "    </tr>\n",
       "  </tbody>\n",
       "</table>\n",
       "</div>"
      ],
      "text/plain": [
       "         country Doses_administered percent_of_people: 1_per 2_per  \\\n",
       "20        Russia           45000000               15.3  20.4  10.2   \n",
       "21        Canada           42081022               56.1  68.8  36.4   \n",
       "35        Poland           31258249               41.2  45.8  39.3   \n",
       "36     Argentina           24737696               27.5  43.9  11.2   \n",
       "37         Chile           23695994               62.0  68.3  58.1   \n",
       "38   South Korea           21458001               20.7  30.1  11.4   \n",
       "39      Colombia           21435448               21.3  25.5  16.5   \n",
       "40      Pakistan           19883900                4.9   7.8   1.9   \n",
       "41  Saudi Arabia           19786145               29.0  51.3   6.7   \n",
       "42       Morocco           19579875               27.5  29.1  25.9   \n",
       "\n",
       "   Daily_rate_of_doses_administered  \n",
       "20                           700000  \n",
       "21                           504808  \n",
       "35                           207111  \n",
       "36                           365395  \n",
       "37                            95513  \n",
       "38                           112979  \n",
       "39                           331388  \n",
       "40                           356222  \n",
       "41                           197280  \n",
       "42                            49977  "
      ]
     },
     "execution_count": 28,
     "metadata": {},
     "output_type": "execute_result"
    }
   ],
   "source": [
    "dat_df.iloc[ 15:25, :]"
   ]
  },
  {
   "cell_type": "code",
   "execution_count": 29,
   "metadata": {},
   "outputs": [
    {
     "data": {
      "text/plain": [
       "Index(['Doses_administered', 'percent_of_people:', '1_per', '2_per',\n",
       "       'Daily_rate_of_doses_administered'],\n",
       "      dtype='object')"
      ]
     },
     "execution_count": 29,
     "metadata": {},
     "output_type": "execute_result"
    }
   ],
   "source": [
    "dat_df_num = dat_df.iloc[:, 1:]\n",
    "dat_df_num.columns"
   ]
  },
  {
   "cell_type": "code",
   "execution_count": 30,
   "metadata": {},
   "outputs": [
    {
     "name": "stdout",
     "output_type": "stream",
     "text": [
      "col name : Doses_administered\n",
      "col name : percent_of_people:\n",
      "col name : 1_per\n",
      "col name : 2_per\n",
      "col name : Daily_rate_of_doses_administered\n",
      "<class 'pandas.core.frame.DataFrame'>\n",
      "Int64Index: 203 entries, 0 to 221\n",
      "Data columns (total 6 columns):\n",
      " #   Column                            Non-Null Count  Dtype  \n",
      "---  ------                            --------------  -----  \n",
      " 0   country                           203 non-null    object \n",
      " 1   Doses_administered                203 non-null    float32\n",
      " 2   percent_of_people:                203 non-null    float32\n",
      " 3   1_per                             203 non-null    float32\n",
      " 4   2_per                             203 non-null    float32\n",
      " 5   Daily_rate_of_doses_administered  203 non-null    float32\n",
      "dtypes: float32(5), object(1)\n",
      "memory usage: 7.1+ KB\n"
     ]
    }
   ],
   "source": [
    "sel_col = dat_df_num.columns\n",
    "for one in sel_col:\n",
    "    print(\"col name :\", one)\n",
    "    dat_df[one] = dat_df[one].astype('float32')\n",
    "    \n",
    "dat_df.info()"
   ]
  },
  {
   "cell_type": "code",
   "execution_count": 31,
   "metadata": {},
   "outputs": [
    {
     "name": "stdout",
     "output_type": "stream",
     "text": [
      "12\n",
      "2021_0713_02\n"
     ]
    }
   ],
   "source": [
    "from datetime import datetime\n",
    "import os\n",
    "\n",
    "now = datetime.now()\n",
    "file_make_time = \"%04d_%02d%02d_%02d\" % (now.year, now.month, now.day, now.hour)\n",
    "print(now.day - 1)\n",
    "now_day = now.day\n",
    "now_hour = now.hour\n",
    "\n",
    "print( file_make_time )"
   ]
  },
  {
   "cell_type": "code",
   "execution_count": 32,
   "metadata": {},
   "outputs": [
    {
     "data": {
      "text/plain": [
       "['.ipynb_checkpoints',\n",
       " '2021-07-02_corona_pre.csv',\n",
       " '2021-07-06_corona_pre.csv',\n",
       " '2021-07-07_corona_pre.csv',\n",
       " '2021-07-11_corona_pre.csv',\n",
       " '2021-07-12_corona_pre.csv',\n",
       " '2021-07-12_corona_pre.xlsx',\n",
       " '2021-07-12_corona_데이터.csv',\n",
       " '2021-07-12_corona_데이터.xlsx',\n",
       " '2021_0703_01_vaccine_bloomberg.csv',\n",
       " '2021_0707_23_vaccine_bloomberg.csv',\n",
       " '2021_0708_09_vaccine_bloomberg.csv',\n",
       " '2021_0712_19_vaccine_bloomberg.csv',\n",
       " '2021_0713_02_vaccine_bloomberg.csv',\n",
       " '2021_0713_02_vaccine_bloomberg.xlsx',\n",
       " 'corona_0712.zip',\n",
       " 'country.csv',\n",
       " 'country.xlsx',\n",
       " 'debug.log',\n",
       " 'today_corona.csv',\n",
       " 'today_corona_pre.csv',\n",
       " 'unit12_corona_01_today.html',\n",
       " 'unit12_corona_01_today.ipynb',\n",
       " 'unit12_corona_02_today.html',\n",
       " 'unit12_corona_02_today.ipynb',\n",
       " 'unit12_corona_02_today.pdf',\n",
       " 'unit12_corona_03_vaccine.html',\n",
       " 'unit12_corona_03_vaccine.ipynb',\n",
       " 'unit12_corona_04_vaccine_bloomberg.html',\n",
       " 'unit12_corona_04_vaccine_bloomberg.ipynb',\n",
       " 'unit12_corona_04_vaccine_bloomberg.pdf',\n",
       " 'unit12_corona_05_vaccine_corona.html',\n",
       " 'unit12_corona_05_vaccine_corona.ipynb',\n",
       " 'unit12_corona_05_vaccine_corona.pdf',\n",
       " 'vaccine_2021_06_21.csv',\n",
       " 'vaccine_2021_06_22.csv',\n",
       " '데이터전체_0712.csv']"
      ]
     },
     "execution_count": 32,
     "metadata": {},
     "output_type": "execute_result"
    }
   ],
   "source": [
    "dat_df.to_csv( file_make_time + \"_vaccine_bloomberg.csv\", index=False)\n",
    "dat_df.to_excel( file_make_time + \"_vaccine_bloomberg.xlsx\", index=False)\n",
    "os.listdir(os.getcwd())"
   ]
  },
  {
   "cell_type": "code",
   "execution_count": null,
   "metadata": {},
   "outputs": [],
   "source": []
  }
 ],
 "metadata": {
  "kernelspec": {
   "display_name": "Python 3",
   "language": "python",
   "name": "python3"
  },
  "language_info": {
   "codemirror_mode": {
    "name": "ipython",
    "version": 3
   },
   "file_extension": ".py",
   "mimetype": "text/x-python",
   "name": "python",
   "nbconvert_exporter": "python",
   "pygments_lexer": "ipython3",
   "version": "3.8.5"
  }
 },
 "nbformat": 4,
 "nbformat_minor": 4
}
